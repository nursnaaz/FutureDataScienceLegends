{
 "cells": [
  {
   "cell_type": "code",
   "execution_count": null,
   "metadata": {
    "id": "LSNStbDos0Fh"
   },
   "outputs": [],
   "source": [
    "!pip install -q transformers"
   ]
  },
  {
   "cell_type": "code",
   "execution_count": null,
   "metadata": {
    "id": "AJ8pBIAi-8eJ"
   },
   "outputs": [],
   "source": [
    "from transformers import pipeline"
   ]
  },
  {
   "cell_type": "markdown",
   "metadata": {
    "id": "rR5OqVISeoio"
   },
   "source": []
  },
  {
   "cell_type": "code",
   "execution_count": null,
   "metadata": {
    "colab": {
     "base_uri": "https://localhost:8080/",
     "height": 356,
     "referenced_widgets": [
      "894abe59b79046d6a485f3c56394e667",
      "ca65749432bc4275890968b3c7c831b7",
      "68120b52e05a46bfbe4062ddd36b49b0",
      "10b8327d20784212939ad31accc33613",
      "24e690b98b3b4fa19968d09caa7f6e42",
      "e69022a077f64a9093d2a3e1040c6704",
      "3f7f5ea07735423ead257717300818f6",
      "1bccebeda22f4e53822fb7aae0c81019",
      "55dd6c80669e42a08b8a276689ef7636",
      "76219b98ea034b908957f3876f9331fd",
      "46b8e5e3b9e54dfbadd5bfb3cccef6bd",
      "341a1b918fac4f029919e052f287a827",
      "d27b75a35d2641fd9ddc5b6f06d3305d",
      "d8f94b1823f0489b90577d96faa7550f",
      "7f2eda990bda4e41b686212cb7753674",
      "b5d1dade35fc48bc9a04fb6bcdd7083c",
      "bac27639ab814eeabb2d81779cbfa01a",
      "8b6d27344c3b4e3294ffb0c5ae9e574e",
      "9b77fa81eb584fdcba1dc32f0e166de2",
      "89754942afd1438f87ac40e2271d5b25",
      "d4a0a72c3539439fb5c9a7279a13a031",
      "9929b8ea97ce40a696dd331fef82e83d",
      "b859284c4b4d41dbad3a1eb3808627f8",
      "2d951af6fec14448953ed50b054f4929",
      "24fc04ce9e384ee88055ec8a75322e39",
      "9f944c88a2894a83843331ece8f986cf",
      "3d459a26cbc34a43bed40a43bc7da5fe",
      "144a147c472c439989ac172d15e36147",
      "ec788c4707f44a1184ad5fd1226492f5",
      "41603f715f7241fb9c08695188da2dcf",
      "68d4bf2b89834f9dbbc84979ba7d7e73",
      "1fb04da5d7d4413c8f77b6325f654417",
      "625d88225a244b038e478e53c694322c",
      "ceeb71e7b6d247cab6907a2d6ecbf5a0",
      "bd466a72f7204067905093298efd6961",
      "df30dce4fade4cf38e6ca6936b06773e",
      "e407bb44795c46ebae3c50802c12ec48",
      "427911f5faec400aa433652410402c71",
      "398930c0fa53451d89c2eb9479e59e29",
      "022802ef94b94a588af91f8ccbf535ed",
      "b32dfdd67e93422486b44ed988e192b9",
      "7a441a9e1bb749b6948fd8a0c8479bf8",
      "53e4a7e7caba471d951972e987dda3b8",
      "742bb37b261341228f97d4bdbd9a77b0",
      "c96585cd6ae0463d861e2d913040f911",
      "088edd5dbfbc4e1a8961d36bc483214a",
      "5f927832d62842a281086c340ced60f6",
      "8df482106bc249c2aa549654151578ba",
      "511acb785afc4563ab63aa008d704dc9",
      "49e1495068574d6f9c348c1d8349e80c",
      "ad461d4a35a843e4a965dbca2075f306",
      "ac3b1f42fcb64c88b5ec0c3f0ec535ad",
      "a008964868bd4ac38e2f953c10febedc",
      "27ab7fff2912451e82935cc071914fe6",
      "76a77ae410bf4c0d80a97b230cb6831e",
      "cf7e873dae0e41748b43530543912d3c",
      "da212580173a4675acaf0fc1b3365977",
      "68e709149ff8447d887d20a1ee6e9a43",
      "8aaaff6c27ad4fa19c25107323ff75ed",
      "b8dd3deb3a254246979a58b3ee55d10c",
      "b122f6a76819477caeec0dfcd786390c",
      "84eab9a99e034ca690698a164c03ed64",
      "d50e6bb54f4047e7b32b6bae936383af",
      "f543f2ca68d24b3bab6ad330a3db95c0",
      "88b52e1f5ca1417da1c3537b909e6fc3",
      "4293e7467a3545c490ec4d301dd9f47c"
     ]
    },
    "id": "Bt-sjHiq_l9H",
    "outputId": "0d4b93e0-845e-4956-9fcc-6518e42adbec"
   },
   "outputs": [],
   "source": [
    "model = pipeline(\"summarization\", model=\"facebook/bart-large-cnn\")"
   ]
  },
  {
   "cell_type": "code",
   "execution_count": null,
   "metadata": {
    "id": "YNiktTg6BZaH"
   },
   "outputs": [],
   "source": [
    "ARTICLE = \"\"\" New York (CNN)When Liana Barrientos was 23 years old, she got married in Westchester County, New York.\n",
    "A year later, she got married again in Westchester County, but to a different man and without divorcing her first husband.\n",
    "Only 18 days after that marriage, she got hitched yet again. Then, Barrientos declared \"I do\" five more times, sometimes only within two weeks of each other.\n",
    "In 2010, she married once more, this time in the Bronx. In an application for a marriage license, she stated it was her \"first and only\" marriage.\n",
    "Barrientos, now 39, is facing two criminal counts of \"offering a false instrument for filing in the first degree,\" referring to her false statements on the\n",
    "2010 marriage license application, according to court documents.\n",
    "Prosecutors said the marriages were part of an immigration scam.\n",
    "On Friday, she pleaded not guilty at State Supreme Court in the Bronx, according to her attorney, Christopher Wright, who declined to comment further.\n",
    "After leaving court, Barrientos was arrested and charged with theft of service and criminal trespass for allegedly sneaking into the New York subway through an emergency exit, said Detective\n",
    "Annette Markowski, a police spokeswoman. In total, Barrientos has been married 10 times, with nine of her marriages occurring between 1999 and 2002.\n",
    "All occurred either in Westchester County, Long Island, New Jersey or the Bronx. She is believed to still be married to four men, and at one time, she was married to eight men at once, prosecutors say.\n",
    "Prosecutors said the immigration scam involved some of her husbands, who filed for permanent residence status shortly after the marriages.\n",
    "Any divorces happened only after such filings were approved. It was unclear whether any of the men will be prosecuted.\n",
    "The case was referred to the Bronx District Attorney\\'s Office by Immigration and Customs Enforcement and the Department of Homeland Security\\'s\n",
    "Investigation Division. Seven of the men are from so-called \"red-flagged\" countries, including Egypt, Turkey, Georgia, Pakistan and Mali.\n",
    "Her eighth husband, Rashid Rajput, was deported in 2006 to his native Pakistan after an investigation by the Joint Terrorism Task Force.\n",
    "If convicted, Barrientos faces up to four years in prison.  Her next court appearance is scheduled for May 18.\n",
    "\"\"\""
   ]
  },
  {
   "cell_type": "code",
   "execution_count": null,
   "metadata": {
    "id": "eWd0CUR0Bky5"
   },
   "outputs": [],
   "source": [
    "ouput = model(ARTICLE, max_length=130, min_length=30, do_sample=False)"
   ]
  },
  {
   "cell_type": "code",
   "execution_count": null,
   "metadata": {
    "colab": {
     "base_uri": "https://localhost:8080/",
     "height": 72
    },
    "id": "OSHgflD-CocE",
    "outputId": "7bb63fd4-361a-4715-816c-fa814cadac7d"
   },
   "outputs": [],
   "source": [
    "display(ouput[0]['summary_text'])"
   ]
  },
  {
   "cell_type": "code",
   "execution_count": null,
   "metadata": {
    "id": "ASPOvsqiDXnF"
   },
   "outputs": [],
   "source": [
    "!pip install -q datasets"
   ]
  },
  {
   "cell_type": "code",
   "execution_count": null,
   "metadata": {
    "colab": {
     "base_uri": "https://localhost:8080/",
     "height": 241,
     "referenced_widgets": [
      "e0fa78811e3847bb9799aa17a883281e",
      "f44ae7a7146b43aab30c73e07430b57d",
      "ef4859ce249549a4b5ec21d64a84a69b",
      "bbd6a584548149cf924ce9e3376bb013",
      "b49ba289595f499fb2f60b8936c69a35",
      "290ad969e51f48ca9c2e887fbde0de66",
      "c46e1f3276d9481999dcb8be7794d86d",
      "9d969bc804114196bb7301cc63b8d38a",
      "1b7d78c80cf34817bea7e0c31861e593",
      "e16e96b75e5545d6a11d771c59c950f1",
      "adfde1d84fca4d7b80d561025f76ef35",
      "cae0e3163a9b4bd3b86a85cbcda875ee",
      "6843660fbe9d41768e1a775189a4705c",
      "97862ace4c034973a3fb19f38c59da97",
      "d5f035a290404612a61c119678fb9d71",
      "368afe18a317466aa1043308aa987435",
      "615a1e5b4c5d454bb130dbda66353a13",
      "a64a66aa4c9448699e7774645861413b",
      "214a55428d134bf3bdbd986dbdf68b9d",
      "d950eba407a24ff7ac4a9e51eae402cc",
      "c34c4d06f3df45668339cb67672629e4",
      "904cb94fb6be4682947c483d93a10785",
      "3870f9b7bbf140ff94a9c4315cd6da9e",
      "a34ced4f871549599fb4af368966dc67",
      "264150dec04d458687a303ec6e770f83",
      "3c356206a2414638844ab1a7e07681d0",
      "424a7b1d7efc46d38d617d6bad265378",
      "eb8a17a365824647b31b9af42e3f5755",
      "db6039e796ac43c2a3c52db09e6399ba",
      "2f5aef3e10d6446eaca0b4538c1fb61c",
      "2b3cd819c1734b4d92d8e4fc06d8a437",
      "d0b99e14f902433d8a016513a10b5801",
      "53ba0b2c5d874f029a0db5b99ae27390",
      "30e5f6740f524785bc1e2b5aa950c2c8",
      "92511cc5d2d44aefa30e4a20459dd50d",
      "ef00c0073ca8419baac3c5dcca180a87",
      "5e268298bf0b4237bfd654f900df8ff3",
      "2427dc2572e44f2292ba2b65f8d53474",
      "c9cf823d41f442d58470aafed1a0740c",
      "d34f236827024a1dbbf74dacd4b1ec9e",
      "34e1d11ccd2d4b09b3af9efe2e6ff336",
      "0cd430640f0d45b48469abd9d47ea669",
      "ebac6da2208542b29842c327b347a960",
      "036902e442514dd8abc48c582dda0d35",
      "84f54afa82b447aea0693090f54ed729",
      "944c67cee4274fce964af0ab16f4d4c5",
      "678b05095138497d835c5c972c6680ce",
      "b0a28970ade4456b9a9bffce749e7870",
      "e145b0ccec2b425e85696d52d687e2f6",
      "63f5e3ea2862427eb52cc956ae8951bd",
      "59875bab8e31492b98eb7d4bd1099dcf",
      "b1daf9fda1a444fbb88dbfb98b3d8866",
      "c6ecbe75c8b5472abc870d84ad28e4f9",
      "feb2a54b46914173a4843547561a40a3",
      "dba55f15d8244702a8dca6c90e501951",
      "b2c5e28434ed4711a93f6e9412262af2",
      "aa6dca35ab884e619e814ba9a291013c",
      "ca75ed963f664e65998dba13e2f5e50f",
      "90c53edaf75845d8b46e5da94948c033",
      "19d3c183bb70478e84ced343e5670caf",
      "f4f4546c8b4947729feffeec0f06f59e",
      "b9f544aa5ce64665bece928f90ee4364",
      "9780833e025743ef8530097ce9b30e5b",
      "6941e64fb63949668d4dce07ddcbaded",
      "3737563f270d4482b51d0e771a9b77ba",
      "84630b62a62b440485d4e880f80b845f",
      "5a97b909da0c40bdbd1f28303510bf5e",
      "17d886f526094bc086b8b7f0ff21e6c3",
      "ac37cac3402644f384d9634d5d122862",
      "6f1ade1986f640f6afddb0d4e46c87ae",
      "da4a5762aace4f5fa4a15b9f7ead948b",
      "da553e3d7a59497f84e345bce0cad3b2",
      "92dddac7c6be43e4819264da5646d24a",
      "2c3b85edd26845c6a5f76461991016f4",
      "2761dd0d8fd74c89b17e650dc9642e06",
      "3ec4f7e1f8254620b79820bff2fbd068",
      "9f7f0c77006c4c74a21da0b9289bd7a0"
     ]
    },
    "id": "A8cKKFMTDh6Z",
    "outputId": "54e4166e-238b-4f47-c14c-8d8a62b7410e"
   },
   "outputs": [],
   "source": [
    "from datasets import load_dataset\n",
    "\n",
    "ds = load_dataset(\"knkarthick/dialogsum\")"
   ]
  },
  {
   "cell_type": "code",
   "execution_count": null,
   "metadata": {
    "colab": {
     "base_uri": "https://localhost:8080/"
    },
    "id": "cY6j83I-EDEE",
    "outputId": "088760eb-bacb-4d2e-e929-792aad423a78"
   },
   "outputs": [],
   "source": [
    "ds"
   ]
  },
  {
   "cell_type": "code",
   "execution_count": null,
   "metadata": {
    "id": "iFFer0SJEViT"
   },
   "outputs": [],
   "source": [
    "import pandas as pd\n",
    "pd.set_option('display.max_colwidth', None)"
   ]
  },
  {
   "cell_type": "code",
   "execution_count": null,
   "metadata": {
    "id": "2bL9hxcIEvRX"
   },
   "outputs": [],
   "source": [
    "dataset = pd.read_csv(\"train.csv\")"
   ]
  },
  {
   "cell_type": "code",
   "execution_count": null,
   "metadata": {
    "colab": {
     "base_uri": "https://localhost:8080/",
     "height": 424
    },
    "id": "k3w2-vC9E9yo",
    "outputId": "c6763add-b1fa-40f7-d05e-02536a22f5c3"
   },
   "outputs": [],
   "source": [
    "dataset.head(2)"
   ]
  },
  {
   "cell_type": "code",
   "execution_count": null,
   "metadata": {
    "colab": {
     "base_uri": "https://localhost:8080/"
    },
    "id": "gUry-jrGFNBL",
    "outputId": "11901876-ee7f-4927-885d-9521e9f2d047"
   },
   "outputs": [],
   "source": [
    "dataset.shape"
   ]
  },
  {
   "cell_type": "code",
   "execution_count": null,
   "metadata": {
    "colab": {
     "base_uri": "https://localhost:8080/",
     "height": 219
    },
    "id": "GxNqNdIAFPRG",
    "outputId": "f6568c33-1648-45a6-b665-fdadcefe19af"
   },
   "outputs": [],
   "source": [
    "display(dataset[['dialogue', 'summary']].iloc[0:1])"
   ]
  },
  {
   "cell_type": "code",
   "execution_count": null,
   "metadata": {
    "id": "EOluI_MYFetn"
   },
   "outputs": [],
   "source": [
    "dialogue_1 = dataset['dialogue'].iloc[0:1].values[0]\n",
    "summary_1 = dataset['summary'].iloc[0:1].values[0]"
   ]
  },
  {
   "cell_type": "code",
   "execution_count": null,
   "metadata": {
    "colab": {
     "base_uri": "https://localhost:8080/",
     "height": 54
    },
    "id": "eJ4uqgLsF0sL",
    "outputId": "8611cb13-f18c-4eab-ccf6-be74e6ab6410"
   },
   "outputs": [],
   "source": [
    "ouput = model(dialogue_1, max_length=130, min_length=30, do_sample=False)\n",
    "display(ouput[0]['summary_text'])"
   ]
  },
  {
   "cell_type": "markdown",
   "metadata": {
    "id": "Z4MCDHFOFqdN"
   },
   "source": []
  },
  {
   "cell_type": "code",
   "execution_count": null,
   "metadata": {
    "colab": {
     "base_uri": "https://localhost:8080/",
     "height": 54
    },
    "id": "a6AmybD5F_3A",
    "outputId": "86e07282-3325-4d13-87d7-41d228b0703b"
   },
   "outputs": [],
   "source": [
    "display(summary_1)"
   ]
  },
  {
   "cell_type": "markdown",
   "metadata": {
    "id": "KYIhlX1uGPXj"
   },
   "source": [
    "# Fine Tuning"
   ]
  },
  {
   "cell_type": "code",
   "execution_count": null,
   "metadata": {
    "id": "9mExcRGVGKWp"
   },
   "outputs": [],
   "source": [
    "# Load model directly\n",
    "from transformers import AutoTokenizer, AutoModelForSeq2SeqLM\n",
    "\n",
    "tokenizer = AutoTokenizer.from_pretrained(\"facebook/bart-large-cnn\")\n",
    "model = AutoModelForSeq2SeqLM.from_pretrained(\"facebook/bart-large-cnn\")"
   ]
  },
  {
   "cell_type": "code",
   "execution_count": null,
   "metadata": {
    "colab": {
     "base_uri": "https://localhost:8080/"
    },
    "id": "Gm1W7xu0Kua-",
    "outputId": "cca3cfb1-d0ce-461b-8530-c2dbb5f42df7"
   },
   "outputs": [],
   "source": [
    "print(tokenizer)"
   ]
  },
  {
   "cell_type": "code",
   "execution_count": null,
   "metadata": {
    "colab": {
     "base_uri": "https://localhost:8080/"
    },
    "id": "crq6ass0LOZi",
    "outputId": "66c02ffd-5bd2-4895-ddf0-97128cd98cd6"
   },
   "outputs": [],
   "source": [
    "print(model)"
   ]
  },
  {
   "cell_type": "code",
   "execution_count": null,
   "metadata": {
    "id": "l27O8FiON_ta"
   },
   "outputs": [],
   "source": [
    "def text_preprocessing(ds):\n",
    "  source = ds['dialogue']\n",
    "  target = ds['summary']\n",
    "\n",
    "  source_tokenized = tokenizer(source, padding='max_length', truncation=True, max_length=512)\n",
    "  target_tokenized = tokenizer(target, padding='max_length', truncation=True, max_length=128)\n",
    "\n",
    "  labels = target_tokenized['input_ids']\n",
    "  labels = [[(l if l != tokenizer.pad_token_id else -100) for l in label] for label in labels]\n",
    "\n",
    "  model_inputs = {\n",
    "      'input_ids': source_tokenized['input_ids'],\n",
    "      'attention_mask': source_tokenized['attention_mask'],\n",
    "      'labels': labels\n",
    "  }\n",
    "\n",
    "  return model_inputs"
   ]
  },
  {
   "cell_type": "code",
   "execution_count": null,
   "metadata": {
    "id": "1n4Ls1cYO52m"
   },
   "outputs": [],
   "source": [
    "from datasets import Dataset\n",
    "dataset_hf = Dataset.from_pandas(dataset)"
   ]
  },
  {
   "cell_type": "code",
   "execution_count": null,
   "metadata": {
    "colab": {
     "base_uri": "https://localhost:8080/"
    },
    "id": "OdR3veaTQAz_",
    "outputId": "b065465b-a997-402f-b981-be37500b6918"
   },
   "outputs": [],
   "source": [
    "dataset_hf"
   ]
  },
  {
   "cell_type": "code",
   "execution_count": null,
   "metadata": {
    "colab": {
     "base_uri": "https://localhost:8080/",
     "height": 49,
     "referenced_widgets": [
      "05b025b9ff764b97a4ce53a6669316a3",
      "331b2e6fe8ad45a5b383fece34d7c31d",
      "6bfa3e930e3b495599ea073bcaf34072",
      "4714c20d45d7439aaa879c3b0740efdc",
      "6475936c37a1469a82a3aed18608c0c1",
      "2da39ae2fd554b5987ad886c47fc5ba3",
      "2f4d7b5c1e30475ca7229f43d5545f64",
      "8d2569cca5994e5590decea01a8a4f5e",
      "4e73abcbceb44c748ea1129a81dd2fe7",
      "7c428e938a3749da925242826e85ade4",
      "9803933b24204bab89b71a88abc7febf"
     ]
    },
    "id": "bPemXdg5PGUd",
    "outputId": "1c44a458-8ec2-4a9a-8308-6fd90b961a8a"
   },
   "outputs": [],
   "source": [
    "df_source = dataset_hf.map(text_preprocessing, batched=True, batch_size=1, remove_columns=['id', 'topic'])"
   ]
  },
  {
   "cell_type": "code",
   "execution_count": null,
   "metadata": {
    "colab": {
     "base_uri": "https://localhost:8080/"
    },
    "id": "f9MI98eFSPDW",
    "outputId": "d5bac58f-c04c-4df2-c2c9-76dd5d8a1f01"
   },
   "outputs": [],
   "source": [
    "df_source"
   ]
  },
  {
   "cell_type": "code",
   "execution_count": null,
   "metadata": {
    "colab": {
     "base_uri": "https://localhost:8080/"
    },
    "id": "ftTe5xtfSbJZ",
    "outputId": "c8128db4-4115-4b21-de06-fe8f35f93b52"
   },
   "outputs": [],
   "source": [
    "df_source[0]['labels']"
   ]
  },
  {
   "cell_type": "code",
   "execution_count": null,
   "metadata": {
    "id": "Cf5PXYh_Ugpy"
   },
   "outputs": [],
   "source": [
    "dataset_t = pd.read_csv(\"train_new.csv\")\n",
    "dataset_hft = Dataset.from_pandas(dataset_t)"
   ]
  },
  {
   "cell_type": "code",
   "execution_count": null,
   "metadata": {
    "id": "ecQNVW1kVEHh"
   },
   "outputs": [],
   "source": [
    "dataset_tst = pd.read_csv(\"test_new.csv\")\n",
    "dataset_hfts = Dataset.from_pandas(dataset_tst)"
   ]
  },
  {
   "cell_type": "code",
   "execution_count": null,
   "metadata": {
    "colab": {
     "base_uri": "https://localhost:8080/",
     "height": 81,
     "referenced_widgets": [
      "32ba1963fdbf4964aec2cb7000ce96c9",
      "ab0d04239a9f478c962669580864643e",
      "fc933a0f34c14995869e50a3fd5f01c2",
      "fbf0d54bfde8418ba7afcf43d546737b",
      "3291b71098734c7b8c78e1de6cc6d73a",
      "1061c8c1e88c4c5aa561fc6e75b7c8f3",
      "9972190b873b421289954735f5cf0850",
      "f149f0025bb448788113a4ac0c97d96e",
      "cb797fc7ca0c4afd93e2c9d53fe63ab9",
      "c5d970cc1b91482fbad0095c0dc6e997",
      "b4867603a34c4ea1bb0fb6ee9be6c5da",
      "655251a609d64cfa9e4bc51022e779c3",
      "9fcdbfa6ade947ee9ab5a26ad980e646",
      "12f6a8aeb3064b0eb0ca1251a726e7ea",
      "a1b074b43aff4be092e89d8a5aeb1f6c",
      "1aad3247c1274400b60632782f92ccc0",
      "d2e330bb44de44df8cdae66c47a85e6a",
      "fcb90c5657c84091be324ff4e6e8ce85",
      "b707923be09543909ba56166cc9f6902",
      "45d56ea5d9fe4b52a26a5cd7d016214d",
      "80fa79c26e9847e0a5c0fe280bc60014",
      "2f66596d4eba4594a1e7444136331e33"
     ]
    },
    "id": "O3szyiwhVNGC",
    "outputId": "7b683b46-7159-4723-a398-bb228aa54408"
   },
   "outputs": [],
   "source": [
    "df_source_train = dataset_hft.map(text_preprocessing, batched=True, batch_size=1, remove_columns=['id', 'topic'])\n",
    "df_source_test = dataset_hfts.map(text_preprocessing, batched=True, batch_size=1, remove_columns=['id', 'topic'])"
   ]
  },
  {
   "cell_type": "code",
   "execution_count": null,
   "metadata": {
    "colab": {
     "base_uri": "https://localhost:8080/"
    },
    "id": "2fMz6vAMVX22",
    "outputId": "aa155d38-fd84-4774-fa68-62b474bf33fb"
   },
   "outputs": [],
   "source": [
    "df_source_test"
   ]
  },
  {
   "cell_type": "markdown",
   "metadata": {
    "id": "KvmnpYxzVkNh"
   },
   "source": [
    "# Fine Tuning"
   ]
  },
  {
   "cell_type": "code",
   "execution_count": null,
   "metadata": {
    "id": "PXZtl8RzVjZ0"
   },
   "outputs": [],
   "source": [
    "from transformers import TrainingArguments, Trainer\n",
    "\n",
    "training_args = TrainingArguments(\n",
    "    output_dir='./results',          # output directory\n",
    "    num_train_epochs=1,              # total number of training epochs\n",
    "    per_device_train_batch_size=1,  # batch size per device during training\n",
    "    per_device_eval_batch_size=1,   # batch size for evaluation\n",
    "    logging_dir='./logs',            # directory for storing logs\n",
    "    report_to='wandb'\n",
    ")"
   ]
  },
  {
   "cell_type": "code",
   "execution_count": null,
   "metadata": {
    "colab": {
     "base_uri": "https://localhost:8080/",
     "height": 218
    },
    "id": "kRUeiL3qVay6",
    "outputId": "2020d1af-94e3-48b2-ae82-36b8421ef231"
   },
   "outputs": [],
   "source": [
    "trainer = Trainer(\n",
    "    model=model,                         # the instantiated 🤗 Transformers model to be trained\n",
    "    args=training_args,                  # training arguments, defined above\n",
    "    train_dataset=df_source_train,       # training dataset\n",
    "    eval_dataset=df_source_test          # evaluation dataset\n",
    ")"
   ]
  },
  {
   "cell_type": "code",
   "execution_count": null,
   "metadata": {
    "colab": {
     "base_uri": "https://localhost:8080/",
     "height": 435
    },
    "id": "Cf3VbWgBXMLZ",
    "outputId": "3175a0c7-54f0-4f94-8503-ff4afe243276"
   },
   "outputs": [],
   "source": [
    "trainer.train()"
   ]
  },
  {
   "cell_type": "code",
   "execution_count": null,
   "metadata": {
    "colab": {
     "base_uri": "https://localhost:8080/",
     "height": 127
    },
    "id": "wakN37W0ZTMn",
    "outputId": "20d15c0e-8aff-4f0f-836d-c9e5cbf77a9b"
   },
   "outputs": [],
   "source": [
    "eval_result = trainer.evaluate()\n",
    "eval_result"
   ]
  },
  {
   "cell_type": "markdown",
   "metadata": {
    "id": "Q5DJjKweZvA_"
   },
   "source": [
    "# Save the model"
   ]
  },
  {
   "cell_type": "code",
   "execution_count": null,
   "metadata": {
    "colab": {
     "base_uri": "https://localhost:8080/"
    },
    "id": "kSshaY96ZuJx",
    "outputId": "a17bfd4f-e808-4c5b-907f-8bb5c7a8b961"
   },
   "outputs": [],
   "source": [
    "model.save_pretrained(\"./saved_model\")\n",
    "tokenizer.save_pretrained(\"./saved_tokenizer\")"
   ]
  },
  {
   "cell_type": "code",
   "execution_count": null,
   "metadata": {
    "id": "_0f09SsGZsfQ"
   },
   "outputs": [],
   "source": [
    "def new_summarizer(input_text):\n",
    "  input = tokenizer(input_text, return_tensors='pt', max_length=512, truncation=True)\n",
    "\n",
    "  summary = model.generate(input['input_ids'], num_beams=4, max_length=128, min_length=50, early_stopping=True)\n",
    "\n",
    "  output = tokenizer.decode(summary[0], skip_special_tokens=True)\n",
    "\n",
    "  return output"
   ]
  },
  {
   "cell_type": "code",
   "execution_count": null,
   "metadata": {
    "colab": {
     "base_uri": "https://localhost:8080/"
    },
    "id": "6O9iQzKgctMY",
    "outputId": "44118fa0-31b4-4fcf-f47b-800ced94254c"
   },
   "outputs": [],
   "source": [
    "tokenizer = AutoTokenizer.from_pretrained(\"/content/saved_tokenizer\")\n",
    "model = AutoModelForSeq2SeqLM.from_pretrained(\"/content/saved_model\")"
   ]
  },
  {
   "cell_type": "code",
   "execution_count": null,
   "metadata": {
    "colab": {
     "base_uri": "https://localhost:8080/",
     "height": 110
    },
    "id": "PKOGCOg1cins",
    "outputId": "3c2ed78a-b6d6-4901-d3dd-243e71fec8c6"
   },
   "outputs": [],
   "source": [
    "new_summarizer(ARTICLE)"
   ]
  }
 ],
 "metadata": {
  "accelerator": "GPU",
  "colab": {
   "gpuType": "T4",
   "provenance": []
  },
  "kernelspec": {
   "display_name": "Python 3",
   "name": "python3"
  },
  "language_info": {
   "name": "python"
  }
 },
 "nbformat": 4,
 "nbformat_minor": 0
}
