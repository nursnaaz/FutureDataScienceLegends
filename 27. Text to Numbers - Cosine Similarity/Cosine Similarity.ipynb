{
 "cells": [
  {
   "cell_type": "markdown",
   "metadata": {},
   "source": [
    "Let’s compare two different measures of distance in a vector space, and why either has its function under different circumstances. Starting off with quite a straight-forward example, we have our vector space X, that contains instances with animals. They are measured by their length, and weight. They have also been labelled by their stage of aging (young = 0, mid = 1, adult = 2). Here’s some random data:\n",
    "\n"
   ]
  },
  {
   "cell_type": "code",
   "execution_count": 1,
   "metadata": {},
   "outputs": [],
   "source": [
    "import numpy as np\n",
    "\n",
    "X = np.array([[6.6, 6.2, 1],\n",
    "              [9.7, 9.9, 2],\n",
    "              [8.0, 8.3, 2],\n",
    "              [6.3, 5.4, 1],\n",
    "              [1.3, 2.7, 0],\n",
    "              [2.3, 3.1, 0],\n",
    "              [6.6, 6.0, 1],\n",
    "              [6.5, 6.4, 1],\n",
    "              [6.3, 5.8, 1],\n",
    "              [9.5, 9.9, 2],\n",
    "              [8.9, 8.9, 2],\n",
    "              [8.7, 9.5, 2],\n",
    "              [2.5, 3.8, 0],\n",
    "              [2.0, 3.1, 0],\n",
    "              [1.3, 1.3, 0]])"
   ]
  },
  {
   "cell_type": "markdown",
   "metadata": {},
   "source": [
    "Preparing the Data\n",
    "We’ll first put our data in a DataFrame table format, and assign the correct labels per column:\n",
    "\n"
   ]
  },
  {
   "cell_type": "code",
   "execution_count": 2,
   "metadata": {},
   "outputs": [
    {
     "data": {
      "text/html": [
       "<div>\n",
       "<style scoped>\n",
       "    .dataframe tbody tr th:only-of-type {\n",
       "        vertical-align: middle;\n",
       "    }\n",
       "\n",
       "    .dataframe tbody tr th {\n",
       "        vertical-align: top;\n",
       "    }\n",
       "\n",
       "    .dataframe thead th {\n",
       "        text-align: right;\n",
       "    }\n",
       "</style>\n",
       "<table border=\"1\" class=\"dataframe\">\n",
       "  <thead>\n",
       "    <tr style=\"text-align: right;\">\n",
       "      <th></th>\n",
       "      <th>weight</th>\n",
       "      <th>length</th>\n",
       "      <th>label</th>\n",
       "    </tr>\n",
       "  </thead>\n",
       "  <tbody>\n",
       "    <tr>\n",
       "      <th>0</th>\n",
       "      <td>6.6</td>\n",
       "      <td>6.2</td>\n",
       "      <td>1.0</td>\n",
       "    </tr>\n",
       "    <tr>\n",
       "      <th>1</th>\n",
       "      <td>9.7</td>\n",
       "      <td>9.9</td>\n",
       "      <td>2.0</td>\n",
       "    </tr>\n",
       "    <tr>\n",
       "      <th>2</th>\n",
       "      <td>8.0</td>\n",
       "      <td>8.3</td>\n",
       "      <td>2.0</td>\n",
       "    </tr>\n",
       "    <tr>\n",
       "      <th>3</th>\n",
       "      <td>6.3</td>\n",
       "      <td>5.4</td>\n",
       "      <td>1.0</td>\n",
       "    </tr>\n",
       "    <tr>\n",
       "      <th>4</th>\n",
       "      <td>1.3</td>\n",
       "      <td>2.7</td>\n",
       "      <td>0.0</td>\n",
       "    </tr>\n",
       "    <tr>\n",
       "      <th>5</th>\n",
       "      <td>2.3</td>\n",
       "      <td>3.1</td>\n",
       "      <td>0.0</td>\n",
       "    </tr>\n",
       "    <tr>\n",
       "      <th>6</th>\n",
       "      <td>6.6</td>\n",
       "      <td>6.0</td>\n",
       "      <td>1.0</td>\n",
       "    </tr>\n",
       "    <tr>\n",
       "      <th>7</th>\n",
       "      <td>6.5</td>\n",
       "      <td>6.4</td>\n",
       "      <td>1.0</td>\n",
       "    </tr>\n",
       "    <tr>\n",
       "      <th>8</th>\n",
       "      <td>6.3</td>\n",
       "      <td>5.8</td>\n",
       "      <td>1.0</td>\n",
       "    </tr>\n",
       "    <tr>\n",
       "      <th>9</th>\n",
       "      <td>9.5</td>\n",
       "      <td>9.9</td>\n",
       "      <td>2.0</td>\n",
       "    </tr>\n",
       "    <tr>\n",
       "      <th>10</th>\n",
       "      <td>8.9</td>\n",
       "      <td>8.9</td>\n",
       "      <td>2.0</td>\n",
       "    </tr>\n",
       "    <tr>\n",
       "      <th>11</th>\n",
       "      <td>8.7</td>\n",
       "      <td>9.5</td>\n",
       "      <td>2.0</td>\n",
       "    </tr>\n",
       "    <tr>\n",
       "      <th>12</th>\n",
       "      <td>2.5</td>\n",
       "      <td>3.8</td>\n",
       "      <td>0.0</td>\n",
       "    </tr>\n",
       "    <tr>\n",
       "      <th>13</th>\n",
       "      <td>2.0</td>\n",
       "      <td>3.1</td>\n",
       "      <td>0.0</td>\n",
       "    </tr>\n",
       "    <tr>\n",
       "      <th>14</th>\n",
       "      <td>1.3</td>\n",
       "      <td>1.3</td>\n",
       "      <td>0.0</td>\n",
       "    </tr>\n",
       "  </tbody>\n",
       "</table>\n",
       "</div>"
      ],
      "text/plain": [
       "    weight  length  label\n",
       "0      6.6     6.2    1.0\n",
       "1      9.7     9.9    2.0\n",
       "2      8.0     8.3    2.0\n",
       "3      6.3     5.4    1.0\n",
       "4      1.3     2.7    0.0\n",
       "5      2.3     3.1    0.0\n",
       "6      6.6     6.0    1.0\n",
       "7      6.5     6.4    1.0\n",
       "8      6.3     5.8    1.0\n",
       "9      9.5     9.9    2.0\n",
       "10     8.9     8.9    2.0\n",
       "11     8.7     9.5    2.0\n",
       "12     2.5     3.8    0.0\n",
       "13     2.0     3.1    0.0\n",
       "14     1.3     1.3    0.0"
      ]
     },
     "execution_count": 2,
     "metadata": {},
     "output_type": "execute_result"
    }
   ],
   "source": [
    "import pandas as pd\n",
    "\n",
    "df = pd.DataFrame(X, columns=['weight', 'length', 'label'])\n",
    "df"
   ]
  },
  {
   "cell_type": "markdown",
   "metadata": {},
   "source": [
    "Now the data can be plotted to visualize the three different groups. They are subsetted by their label, assigned a different colour and label, and by repeating this they form different layers in the scatter plot"
   ]
  },
  {
   "cell_type": "code",
   "execution_count": 3,
   "metadata": {},
   "outputs": [
    {
     "data": {
      "text/plain": [
       "<matplotlib.axes._subplots.AxesSubplot at 0x11b77c550>"
      ]
     },
     "execution_count": 3,
     "metadata": {},
     "output_type": "execute_result"
    },
    {
     "data": {
      "image/png": "[encoded data removed]",
      "text/plain": [
       "<Figure size 432x288 with 1 Axes>"
      ]
     },
     "metadata": {},
     "output_type": "display_data"
    }
   ],
   "source": [
    "%matplotlib inline\n",
    "\n",
    "ax = df[df['label'] == 0].plot.scatter(x='weight', y='length', c='blue', label='young')\n",
    "ax = df[df['label'] == 1].plot.scatter(x='weight', y='length', c='orange', label='mid', ax=ax)\n",
    "ax = df[df['label'] == 2].plot.scatter(x='weight', y='length', c='red', label='adult', ax=ax)\n",
    "ax"
   ]
  },
  {
   "cell_type": "markdown",
   "metadata": {},
   "source": [
    "Looking at the plot above, we can see that the three classes are pretty well distinguishable by these two features that we have. Say that we apply k-NN to our data that will learn to classify new instances based on their distance to our known instances (and their labels). The algorithm needs a distance metric to determine which of the known instances are closest to the new one. Let’s try to choose between either euclidean or cosine for this example."
   ]
  },
  {
   "cell_type": "code",
   "execution_count": 4,
   "metadata": {},
   "outputs": [
    {
     "data": {
      "text/plain": [
       "<matplotlib.axes._subplots.AxesSubplot at 0x11affb400>"
      ]
     },
     "execution_count": 4,
     "metadata": {},
     "output_type": "execute_result"
    },
    {
     "data": {
      "image/png": "[encoded data removed]",
      "text/plain": [
       "<Figure size 432x288 with 1 Axes>"
      ]
     },
     "metadata": {},
     "output_type": "display_data"
    }
   ],
   "source": [
    "#Picking our Metric\n",
    "#Considering instance #0, #1, and #4 to be our known instances, we assume that we don’t know the label of #14. Plotting this will look as follows:\n",
    "\n",
    "df2 = pd.DataFrame([df.iloc[0], df.iloc[1], df.iloc[4]], columns=['weight', 'length', 'label'])\n",
    "df3 = pd.DataFrame([df.iloc[14]], columns=['weight', 'length', 'label'])\n",
    "\n",
    "ax = df2[df2['label'] == 0].plot.scatter(x='weight', y='length', c='blue', label='young')\n",
    "ax = df2[df2['label'] == 1].plot.scatter(x='weight', y='length', c='orange', label='mid', ax=ax)\n",
    "ax = df2[df2['label'] == 2].plot.scatter(x='weight', y='length', c='red', label='adult', ax=ax)\n",
    "ax = df3.plot.scatter(x='weight', y='length', c='gray', label='?', ax=ax)\n",
    "ax"
   ]
  },
  {
   "cell_type": "markdown",
   "metadata": {},
   "source": [
    "\\sqrt{\\sum^n_{i=1} (x_i - y_i)^2}"
   ]
  },
  {
   "cell_type": "raw",
   "metadata": {},
   "source": [
    "Our euclidean distance function can be defined as follows:\n",
    "\n",
    "Where  and  are two vectors. Or:"
   ]
  },
  {
   "cell_type": "code",
   "execution_count": 5,
   "metadata": {},
   "outputs": [],
   "source": [
    "def euclidean_distance(x, y):   \n",
    "    return np.sqrt(np.sum((x - y) ** 2))"
   ]
  },
  {
   "cell_type": "code",
   "execution_count": 6,
   "metadata": {},
   "outputs": [
    {
     "name": "stdout",
     "output_type": "stream",
     "text": [
      " x0: [6.6 6.2] \n",
      " x1: [9.7 9.9] \n",
      " x4: [1.3 2.7] \n",
      "x14: [1.3 1.3]\n"
     ]
    }
   ],
   "source": [
    "x0 = X[0][:-1]\n",
    "x1 = X[1][:-1]\n",
    "x4 = X[4][:-1]\n",
    "x14 = X[14][:-1]\n",
    "print(\" x0:\", x0, \"\\n x1:\", x1, \"\\n x4:\", x4, \"\\nx14:\", x14)\n"
   ]
  },
  {
   "cell_type": "code",
   "execution_count": 7,
   "metadata": {},
   "outputs": [
    {
     "name": "stdout",
     "output_type": "stream",
     "text": [
      " x14 and x0: 7.218032973047436 \n",
      " x14 and x1: 12.021647141718974 \n",
      " x14 and x4: 1.4000000000000001\n"
     ]
    }
   ],
   "source": [
    "#Doing the calculations:\n",
    "\n",
    "print(\" x14 and x0:\", euclidean_distance(x14, x0), \"\\n\",\n",
    "      \"x14 and x1:\", euclidean_distance(x14, x1), \"\\n\",\n",
    "      \"x14 and x4:\", euclidean_distance(x14, x4))\n"
   ]
  },
  {
   "cell_type": "markdown",
   "metadata": {},
   "source": [
    "According to euclidean distance, instance #14 is closest to #4. Our 4th instance had the label:"
   ]
  },
  {
   "cell_type": "code",
   "execution_count": 8,
   "metadata": {},
   "outputs": [
    {
     "data": {
      "text/plain": [
       "array([1.3, 2.7, 0. ])"
      ]
     },
     "execution_count": 8,
     "metadata": {},
     "output_type": "execute_result"
    }
   ],
   "source": [
    "X[4]\n"
   ]
  },
  {
   "cell_type": "markdown",
   "metadata": {},
   "source": [
    "\n",
    "0 = young, which is what we would visually also deem the correct label for this instance.\n",
    "\n",
    "Now let’s see what happens when we use Cosine similarity.\n",
    "\n"
   ]
  },
  {
   "cell_type": "markdown",
   "metadata": {},
   "source": [
    "#### Cosine"
   ]
  },
  {
   "cell_type": "code",
   "execution_count": 9,
   "metadata": {},
   "outputs": [
    {
     "ename": "SyntaxError",
     "evalue": "invalid syntax (<ipython-input-9-0b60f65fcb12>, line 1)",
     "output_type": "error",
     "traceback": [
      "\u001b[0;36m  File \u001b[0;32m\"<ipython-input-9-0b60f65fcb12>\"\u001b[0;36m, line \u001b[0;32m1\u001b[0m\n\u001b[0;31m    Our cosine similarity function can be defined as follows:\u001b[0m\n\u001b[0m             ^\u001b[0m\n\u001b[0;31mSyntaxError\u001b[0m\u001b[0;31m:\u001b[0m invalid syntax\n"
     ]
    }
   ],
   "source": [
    "Our cosine similarity function can be defined as follows:\n",
    "\n"
   ]
  },
  {
   "attachments": {
    "cosine%20similarity.png": {
     "image/png": "[encoded data removed]"
    }
   },
   "cell_type": "markdown",
   "metadata": {},
   "source": [
    "![cosine%20similarity.png](attachment:cosine%20similarity.png)"
   ]
  },
  {
   "cell_type": "code",
   "execution_count": 10,
   "metadata": {},
   "outputs": [],
   "source": [
    "def cosine_similarity(x, y):\n",
    "    return np.dot(x, y) / (np.sqrt(np.dot(x, x)) * np.sqrt(np.dot(y, y)))\n"
   ]
  },
  {
   "cell_type": "code",
   "execution_count": 11,
   "metadata": {},
   "outputs": [
    {
     "name": "stdout",
     "output_type": "stream",
     "text": [
      " x14 and x0: 0.9995120760870786 \n",
      " x14 and x1: 0.9999479424242859 \n",
      " x14 and x4: 0.9438583563660174\n"
     ]
    }
   ],
   "source": [
    "#Let’s see these calculations for all our vectors:\n",
    "\n",
    "print(\" x14 and x0:\", cosine_similarity(x14, x0), \"\\n\",\n",
    "      \"x14 and x1:\", cosine_similarity(x14, x1), \"\\n\",\n",
    "      \"x14 and x4:\", cosine_similarity(x14, x4))"
   ]
  },
  {
   "cell_type": "code",
   "execution_count": 12,
   "metadata": {},
   "outputs": [
    {
     "data": {
      "text/plain": [
       "array([9.7, 9.9, 2. ])"
      ]
     },
     "execution_count": 12,
     "metadata": {},
     "output_type": "execute_result"
    }
   ],
   "source": [
    "#According to cosine similarity, instance #14 is closest to #1. However, our 1st instance had the label:\n",
    "\n",
    "X[1]\n"
   ]
  },
  {
   "cell_type": "markdown",
   "metadata": {},
   "source": [
    "2 = adult, which is definitely NOT what we would deem the correct label!"
   ]
  },
  {
   "cell_type": "markdown",
   "metadata": {},
   "source": [
    "So What Happened?\n",
    "Consider the following picture:"
   ]
  },
  {
   "attachments": {
    "cosine%20graph.png": {
     "image/png": "[encoded data removed]"
    }
   },
   "cell_type": "markdown",
   "metadata": {},
   "source": [
    "![cosine%20graph.png](attachment:cosine%20graph.png)"
   ]
  },
  {
   "cell_type": "markdown",
   "metadata": {},
   "source": [
    "This is a visual representation of euclidean distance (d) and cosine similarity (θ). While cosine looks at the angle between vectors (thus not taking into regard their weight or magnitude), euclidean distance is similar to using a ruler to actually measure the distance. In our example the angle between x14 and x4 was larger than those of the other vectors, even though they were further away.\n",
    "\n"
   ]
  },
  {
   "cell_type": "markdown",
   "metadata": {},
   "source": [
    "## When to Use Cosine?\n",
    "Cosine similarity is generally used as a metric for measuring distance **when the magnitude of the vectors does not matter.** This happens for example when working with text data represented by word counts. We could assume that when a word (e.g. science) occurs more frequent in document 1 than it does in document 2, that document 1 is more related to the topic of science. However, it could also be the case that we are working with documents of uneven lengths (Wikipedia articles for example). Then, science probably occurred more in document 1 just because it was way longer than document 2. Cosine similarity corrects for this.\n",
    "\n",
    "Text data is the most typical example for when to use this metric. However, you might also want to apply cosine similarity for other cases where some properties of the instances make so that the weights might be larger without meaning anything different. Sensor values that were captured in various lengths (in time) between instances could be such an example."
   ]
  },
  {
   "cell_type": "markdown",
   "metadata": {},
   "source": [
    "How do Euclidean Distance and Cosine Similarity Relate?\n",
    "Let’s consider two of our vectors, their euclidean distance, as well as their cosine similarity.\n",
    "\n"
   ]
  },
  {
   "cell_type": "code",
   "execution_count": 13,
   "metadata": {},
   "outputs": [
    {
     "name": "stdout",
     "output_type": "stream",
     "text": [
      "vectors \t [6.6 6.2] [9.7 9.9] \n",
      "euclidean \t 4.827007354458868 \n",
      "cosine \t\t 0.9991413385403556\n"
     ]
    }
   ],
   "source": [
    "print(\"vectors \\t\", x0, x1, \"\\n\"\n",
    "      \"euclidean \\t\", euclidean_distance(x0, x1), \"\\n\"\n",
    "      \"cosine \\t\\t\", cosine_similarity(x0, x1))"
   ]
  },
  {
   "cell_type": "markdown",
   "metadata": {},
   "source": [
    "Cosine similarity takes a unit length vector to calculate dot products. However, what happens if we do the same for the vectors we’re calculating the euclidian distance for (i.e. normalize them)? For this, we can for example use the L1 norm:\n",
    "\n",
    "∑ixi\n",
    "Or the L2 norm:\n",
    "\n",
    "√\n",
    "∑ix\n",
    "2\n",
    "i\n",
    "In functions:"
   ]
  },
  {
   "cell_type": "code",
   "execution_count": 14,
   "metadata": {},
   "outputs": [],
   "source": [
    "def l1_normalize(v):\n",
    "    norm = np.sum(v)\n",
    "    return v / norm\n",
    "\n",
    "def l2_normalize(v):\n",
    "    norm = np.sqrt(np.sum(np.square(v)))\n",
    "    return v / norm"
   ]
  },
  {
   "cell_type": "markdown",
   "metadata": {},
   "source": [
    "We divide the values of our vector by these norms to get a normalized vector.\n",
    "\n",
    "Applying the L1 norm to our vectors will make them sum up to 1 respectively, as such:\n",
    "\n"
   ]
  },
  {
   "cell_type": "code",
   "execution_count": 15,
   "metadata": {},
   "outputs": [
    {
     "name": "stdout",
     "output_type": "stream",
     "text": [
      "[0.5 0.5] [0.325 0.675]\n"
     ]
    }
   ],
   "source": [
    "x14_n = l1_normalize(x14)\n",
    "x4_n = l1_normalize(x4)\n",
    "print(x14_n, x4_n)"
   ]
  },
  {
   "cell_type": "code",
   "execution_count": 16,
   "metadata": {},
   "outputs": [
    {
     "name": "stdout",
     "output_type": "stream",
     "text": [
      "vectors \t [0.5 0.5] [0.325 0.675] \n",
      "euclidean \t 0.24748737341529167 \n",
      "cosine \t\t 0.9438583563660174\n"
     ]
    }
   ],
   "source": [
    "#Let’s compare the result we had before against these normalized vectors:\n",
    "\n",
    "print(\"vectors \\t\", x14_n, x4_n, \"\\n\"\n",
    "      \"euclidean \\t\", euclidean_distance(x14_n, x4_n), \"\\n\"\n",
    "      \"cosine \\t\\t\", cosine_similarity(x14_n, x4_n))\n"
   ]
  },
  {
   "cell_type": "markdown",
   "metadata": {},
   "source": [
    "As we can see, before, the distance was pretty big, but the cosine similarity very high. Now that we normalized our vectors, it turns out that the distance is now very small. The same pattern occurs when we compare it against vector 4. Unnormalized:\n",
    "\n"
   ]
  },
  {
   "cell_type": "markdown",
   "metadata": {},
   "source": [
    "# Cosine in Action\n",
    "So when is cosine handy? Let’s consider four articles from Wikipedia. We use the Wikipedia API to extract them, after which we can access their text with the .content method.\n",
    "\n"
   ]
  },
  {
   "cell_type": "code",
   "execution_count": 17,
   "metadata": {},
   "outputs": [],
   "source": [
    "#!pip install wikipedia"
   ]
  },
  {
   "cell_type": "code",
   "execution_count": 18,
   "metadata": {},
   "outputs": [],
   "source": [
    "import wikipedia\n",
    "\n",
    "q1 = wikipedia.page('Machine Learning')\n",
    "q2 = wikipedia.page('Artifical Intelligence')\n",
    "q3 = wikipedia.page('Soccer')\n",
    "q4 = wikipedia.page('Tennis')"
   ]
  },
  {
   "cell_type": "code",
   "execution_count": 19,
   "metadata": {},
   "outputs": [
    {
     "data": {
      "text/plain": [
       "'Association football, more commonly known as football or soccer, is a team sport played with a spherical ball between two teams of eleven players. It is played by 250 million players in over 200 countries and dependencies, making it the world\\'s most popular sport. The game is played on a rectangular field called a pitch with a goal at each end. The object of the game is to score by moving the ball beyond the goal line into the opposing goal.\\nAssociation football is one of a family of football codes, which emerged from various ball games played worldwide since antiquity. The modern game traces its origins to 1863 when the Laws of the Game were originally codified in England by The Football Association.\\nPlayers are not allowed to touch the ball with hands or arms while it is in play, except for the goalkeepers within the penalty area. Other players mainly use their feet to strike or pass the ball, but may also use any other part of their body except the hands and the arms. The team that scores most goals by the end of the match wins. If the score is level at the end of the game, either a draw is declared or the game goes into extra time or a penalty shootout depending on the format of the competition. Association football is governed internationally by the International Federation of Association Football (FIFA; French: Fédération Internationale de Football Association), which organises World Cups for both men and women every four years.\\n\\n\\n== Name ==\\n\\nThe rules of association football were codified in England by the Football Association in 1863 and the name association football was coined to distinguish the game from the other forms of football played at the time, specifically rugby football. The first written \"reference to the inflated ball used in the game\" was in the mid-14th century: \"Þe heued fro þe body went, Als it were a foteballe\". The Online Etymology Dictionary states that the \"rules of the game\" were made in 1848, before the \"split off in 1863\". The term soccer comes from a slang or jocular abbreviation of the word \"association\", with the suffix \"-er\" appended to it. The word soccer (which arrived at its final form in 1895) was first recorded in 1889 in the earlier form of socca.Within the English-speaking world, association football is now usually called \"football\" in the United Kingdom and mainly \"soccer\" in Canada and the United States. People in countries where other codes of football are prevalent (Australia, Ireland, Wales, South Africa and New Zealand) may use either term, although national associations in Australia and New Zealand now primarily use \"football\" for the formal name.\\n\\n\\n== History ==\\n\\nAccording to FIFA, the Chinese competitive game cuju (蹴鞠, literally \"kick ball\") is the earliest form of football for which there is evidence. Cuju players could use any part of the body apart from hands and the intent was kicking a ball through an opening into a net. It was remarkably similar to modern football, though similarities to rugby occurred. During the Han Dynasty (206 BC – 220 AD), cuju games were standardised and rules were established.Phaininda and episkyros were Greek ball games. An image of an episkyros player depicted in low relief on a vase at the National Archaeological Museum of Athens appears on the UEFA European Championship Cup. Athenaeus, writing in 228 AD, referenced the Roman ball game harpastum. Phaininda, episkyros and harpastum were played involving hands and violence. They all appear to have resembled rugby football, wrestling and volleyball more than what is recognizable as modern football. As with pre-codified \"mob football\", the antecedent of all modern football codes, these three games involved more handling the ball than kicking. Other games included kemari in Japan and chuk-guk in Korea.Association football in itself does not have a classical history. Notwithstanding any similarities to other ball games played around the world FIFA has recognised that no historical connection exists with any game played in antiquity outside Europe. The modern rules of association football are based on the mid-19th century efforts to standardise the widely varying forms of football played in the public schools of England. The history of football in England dates back to at least the eighth century AD.The Cambridge Rules, first drawn up at Cambridge University in 1848, were particularly influential in the development of subsequent codes, including association football. The Cambridge Rules were written at Trinity College, Cambridge, at a meeting attended by representatives from Eton, Harrow, Rugby, Winchester and Shrewsbury schools. They were not universally adopted. During the 1850s, many clubs unconnected to schools or universities were formed throughout the English-speaking world, to play various forms of football. Some came up with their own distinct codes of rules, most notably the Sheffield Football Club, formed by former public school pupils in 1857, which led to formation of a Sheffield FA in 1867. In 1862, John Charles Thring of Uppingham School also devised an influential set of rules.These ongoing efforts contributed to the formation of The Football Association (The FA) in 1863, which first met on the morning of 26 October 1863 at the Freemasons\\' Tavern in Great Queen Street, London. The only school to be represented on this occasion was Charterhouse. The Freemason\\'s Tavern was the setting for five more meetings between October and December, which eventually produced the first comprehensive set of rules. At the final meeting, the first FA treasurer, the representative from Blackheath, withdrew his club from the FA over the removal of two draft rules at the previous meeting: the first allowed for running with the ball in hand; the second for obstructing such a run by hacking (kicking an opponent in the shins), tripping and holding. Other English rugby clubs followed this lead and did not join the FA and instead in 1871 formed the Rugby Football Union. The eleven remaining clubs, under the charge of Ebenezer Cobb Morley, went on to ratify the original thirteen laws of the game. These rules included handling of the ball by \"marks\" and the lack of a crossbar, rules which made it remarkably similar to Victorian rules football being developed at that time in Australia. The Sheffield FA played by its own rules until the 1870s with the FA absorbing some of its rules until there was little difference between the games.The world\\'s oldest football competition is the FA Cup, which was founded by C.W. Alcock and has been contested by English teams since 1872. The first official international football match also took place in 1872, between Scotland and England in Glasgow, again at the instigation of C.W. Alcock. England is also home to the world\\'s first football league, which was founded in Birmingham in 1888 by Aston Villa director William McGregor. The original format contained 12 clubs from the Midlands and Northern England.\\n\\nThe laws of the game are determined by the International Football Association Board (IFAB). The board was formed in 1886 after a meeting in Manchester of The Football Association, the Scottish Football Association, the Football Association of Wales, and the Irish Football Association. FIFA, the international football body, was formed in Paris in 1904 and declared that they would adhere to Laws of the Game of the Football Association. The growing popularity of the international game led to the admittance of FIFA representatives to the International Football Association Board in 1913. The board consists of four representatives from FIFA and one representative from each of the four British associations.Today, football is played at a professional level all over the world. Millions of people regularly go to football stadiums to follow their favourite teams, while billions more watch the game on television or on the internet. A very large number of people also play football at an amateur level. According to a survey conducted by FIFA published in 2001, over 240 million people from more than 200 countries regularly play football. Football has the highest global television audience in sport.In many parts of the world football evokes great passions and plays an important role in the life of individual fans, local communities, and even nations. R. Kapuscinski says that Europeans who are polite, modest, or humble fall easily into rage when playing or watching football games. The Ivory Coast national football team helped secure a truce to the nation\\'s civil war in 2006 and it helped further reduce tensions between government and rebel forces in 2007 by playing a match in the rebel capital of Bouaké, an occasion that brought both armies together peacefully for the first time. By contrast, football is widely considered to have been the final proximate cause for the Football War in June 1969 between El Salvador and Honduras. The sport also exacerbated tensions at the beginning of the Yugoslav Wars of the 1990s, when a match between Dinamo Zagreb and Red Star Belgrade degenerated into rioting in May 1990.\\n\\n\\n=== Women\\'s association football ===\\n\\n\\n==== Early women\\'s football ====\\nWomen may have been playing \"football\" for as long as the game has existed. Evidence shows that an ancient version of the game (Tsu Chu) was played by women during the Han Dynasty (25–220 CE). Two female figures are depicted in Han Dynasty (25–220 CE) frescoes, playing Tsu Chu. There are, however, a number of opinions about the accuracy of dates, the earliest estimates at 5000 BCE.Association football, the modern game, also has documented early involvement of women. An annual competition in Mid-Lothian, Scotland during the 1790s is reported, too. In 1863, football governing bodies introduced standardised rules to prohibit violence on the pitch, making it more socially acceptable for women to play. The first match recorded by the Scottish Football Association took place in 1892 in Glasgow. In England, the first recorded game of football between women took place in 1895.The most well-documented early European team was founded by activist Nettie Honeyball in England in 1894. It was named the British Ladies\\' Football Club. Nettie Honeyball is quoted, \"I founded the association late last year [1894], with the fixed resolve of proving to the world that women are not the \\'ornamental and useless\\' creatures men have pictured. I must confess, my convictions on all matters where the sexes are so widely divided are all on the side of emancipation, and I look forward to the time when ladies may sit in Parliament and have a voice in the direction of affairs, especially those which concern them most.\" Honeyball and those like her paved the way for women\\'s football. However, the women\\'s game was frowned upon by the British football associations, and continued without their support. It has been suggested that this was motivated by a perceived threat to the \\'masculinity\\' of the game.\\n\\nWomen\\'s football became popular on a large scale at the time of the First World War, when employment in heavy industry spurred the growth of the game, much as it had done for men fifty years earlier. The most successful team of the era was Dick, Kerr\\'s Ladies of Preston, England. The team played in the first women\\'s international matches in 1920, against a team from Paris, France, in April, and also made up most of the England team against a Scottish Ladies XI in 1920, and winning 22–0.Despite being more popular than some men\\'s football events (one match saw a 53,000 strong crowd), women\\'s football in England suffered a blow in 1921 when The Football Association outlawed the playing of the game on Association members\\' pitches, on the grounds that the game (as played by women) was distasteful. Some speculated that this may have also been due to envy of the large crowds that women\\'s matches attracted. This led to the formation of the English Ladies Football Association and play moved to rugby grounds.Association football has been played by women since at least the time of the first recorded women\\'s games in the late 19th century. It has traditionally been associated with charity games and physical exercise, particularly in the United Kingdom. In the late 1960s and early 1970s, women\\'s association football was organised in the United Kingdom, eventually becoming the most prominent team sport for British women.\\n\\n\\n==== 20th and 21st century ====\\nThe growth in women\\'s football has seen major competitions being launched at both national and international level mirroring the male competitions. Women\\'s football has faced many struggles. It had a \"golden age\" in the United Kingdom in the early 1920s when crowds reached 50,000 at some matches; this was stopped on 5 December 1921 when England\\'s Football Association voted to ban the game from grounds used by its member clubs. The FA\\'s ban was rescinded in December 1969 with UEFA voting to officially recognise women\\'s football in 1971. The FIFA Women\\'s World Cup was inaugurated in 1991 and has been held every four years since, while women\\'s football has been an Olympic event since 1996.\\n\\n\\n== Gameplay ==\\n\\nAssociation football is played in accordance with a set of rules known as the Laws of the Game. The game is played using a spherical ball of 68–70 cm (27–28 in) circumference, known as the football (or soccer ball). Two teams of eleven players each compete to get the ball into the other team\\'s goal (between the posts and under the bar), thereby scoring a goal. The team that has scored more goals at the end of the game is the winner; if both teams have scored an equal number of goals then the game is a draw. Each team is led by a captain who has only one official responsibility as mandated by the Laws of the Game: to represent their team in the coin toss prior to kick-off or penalty kicks.The primary law is that players other than goalkeepers may not deliberately handle the ball with their hands or arms during play, though they must use both their hands during a throw-in restart. Although players usually use their feet to move the ball around they may use any part of their body (notably, \"heading\" with the forehead) other than their hands or arms. Within normal play, all players are free to play the ball in any direction and move throughout the pitch, though players may not pass to teammates who are in an offside position.\\n\\nDuring gameplay, players attempt to create goal-scoring opportunities through individual control of the ball, such as by dribbling, passing the ball to a teammate, and by taking shots at the goal, which is guarded by the opposing goalkeeper. Opposing players may try to regain control of the ball by intercepting a pass or through tackling the opponent in possession of the ball; however, physical contact between opponents is restricted. Football is generally a free-flowing game, with play stopping only when the ball has left the field of play or when play is stopped by the referee for an infringement of the rules. After a stoppage, play recommences with a specified restart.At a professional level, most matches produce only a few goals. For example, the 2005–06 season of the English Premier League produced an average of 2.48 goals per match. The Laws of the Game do not specify any player positions other than goalkeeper, but a number of specialised roles have evolved. Broadly, these include three main categories: strikers, or forwards, whose main task is to score goals; defenders, who specialise in preventing their opponents from scoring; and midfielders, who dispossess the opposition and keep possession of the ball to pass it to the forwards on their team. Players in these positions are referred to as outfield players, to distinguish them from the goalkeeper. These positions are further subdivided according to the area of the field in which the player spends most time. For example, there are central defenders, and left and right midfielders. The ten outfield players may be arranged in any combination. The number of players in each position determines the style of the team\\'s play; more forwards and fewer defenders creates a more aggressive and offensive-minded game, while the reverse creates a slower, more defensive style of play. While players typically spend most of the game in a specific position, there are few restrictions on player movement, and players can switch positions at any time. The layout of a team\\'s players is known as a formation. Defining the team\\'s formation and tactics is usually the prerogative of the team\\'s manager.\\n\\n\\n== Laws ==\\n\\nThere are 17 laws in the official Laws of the Game, each containing a collection of stipulation and guidelines. The same laws are designed to apply to all levels of football, although certain modifications for groups such as juniors, seniors, women and people with physical disabilities are permitted. The laws are often framed in broad terms, which allow flexibility in their application depending on the nature of the game. The Laws of the Game are published by FIFA, but are maintained by the International Football Association Board (IFAB). In addition to the seventeen laws, numerous IFAB decisions and other directives contribute to the regulation of football.\\n\\n\\n=== Players, equipment, and officials ===\\n\\nEach team consists of a maximum of eleven players (excluding substitutes), one of whom must be the goalkeeper. Competition rules may state a minimum number of players required to constitute a team, which is usually seven. Goalkeepers are the only players allowed to play the ball with their hands or arms, provided they do so within the penalty area in front of their own goal. Though there are a variety of positions in which the outfield (non-goalkeeper) players are strategically placed by a coach, these positions are not defined or required by the Laws.The basic equipment or kit players are required to wear includes a shirt, shorts, socks, footwear and adequate shin guards. An athletic supporter and protective cup is highly recommended for male players by medical experts and professionals. Headgear is not a required piece of basic equipment, but players today may choose to wear it to protect themselves from head injury. Players are forbidden to wear or use anything that is dangerous to themselves or another player, such as jewellery or watches. The goalkeeper must wear clothing that is easily distinguishable from that worn by the other players and the match officials.A number of players may be replaced by substitutes during the course of the game. The maximum number of substitutions permitted in most competitive international and domestic league games is three in ninety minutes with each team being allowed one more if the game should go into extra-time, though the permitted number may vary in other competitions or in friendly matches. Common reasons for a substitution include injury, tiredness, ineffectiveness, a tactical switch, or timewasting at the end of a finely poised game. In standard adult matches, a player who has been substituted may not take further part in a match. IFAB recommends \"that a match should not continue if there are fewer than seven players in either team.\" Any decision regarding points awarded for abandoned games is left to the individual football associations.\\nA game is officiated by a referee, who has \"full authority to enforce the Laws of the Game in connection with the match to which he has been appointed\" (Law 5), and whose decisions are final. The referee is assisted by two assistant referees. In many high-level games there is also a fourth official who assists the referee and may replace another official should the need arise.Goal line technology is used to measure if the whole ball has crossed the goal-line thereby determining if a goal has or hasn\\'t been scored, this was brought in to prevent there being controversy. Video assistant referee (VAR) has also been increasingly introduced to assist officials through video replay to correct clear and obvious mistakes. There are four types of calls that can be reviewed: mistaken identity in awarding a red or yellow card, goals and whether there was a violation during the buildup, direct red card decisions, and penalty decisions.\\n\\n\\n=== Ball ===\\n\\nThe ball is spherical with a circumference of between 68 and 70 centimetres (27 and 28 in), a weight in the range of 410 to 450 grams (14 to 16 oz), and a pressure between 0.6 and 1.1 bars (8.5 and 15.6 pounds per square inch)  at sea level. In the past the ball was made up of leather panels sewn together, with a latex bladder for pressurisation but modern balls at all levels of the game are now synthetic.\\n\\n\\n=== Pitch ===\\n\\nAs the Laws were formulated in England, and were initially administered solely by the four British football associations within IFAB, the standard dimensions of a football pitch were originally expressed in imperial units. The Laws now express dimensions with approximate metric equivalents (followed by traditional units in brackets), though use of imperial units remains popular in English-speaking countries with a relatively recent history of metrication (or only partial metrication), such as Britain.The length of the pitch, or field, for international adult matches is in the range of 100–110 m (110–120 yd) and the width is in the range of 64–75 m (70–80 yd). Fields for non-international matches may be 90–120 m (100–130 yd) length and 45–90 m (50–100 yd) in width, provided that the pitch does not become square. In 2008, the IFAB initially approved a fixed size of 105 m (115 yd) long and 68 m (74 yd) wide as a standard pitch dimension for international matches; however, this decision was later put on hold and was never actually implemented.The longer boundary lines are touchlines, while the shorter boundaries (on which the goals are placed) are goal lines. A rectangular goal is positioned at the middle of each goal line. The inner edges of the vertical goal posts must be 24 feet (7.3 m) apart, and the lower edge of the horizontal crossbar supported by the goal posts must be 8 feet (2.4 m) above the ground. Nets are usually placed behind the goal, but are not required by the Laws.In front of the goal is the penalty area. This area is marked by the goal line, two lines starting on the goal line 16.5 m (18 yd) from the goalposts and extending 16.5 m (18 yd) into the pitch perpendicular to the goal line, and a line joining them. This area has a number of functions, the most prominent being to mark where the goalkeeper may handle the ball and where a penalty foul by a member of the defending team becomes punishable by a penalty kick. Other markings define the position of the ball or players at kick-offs, goal kicks, penalty kicks and corner kicks.\\n\\n\\n=== Duration and tie-breaking methods ===\\n\\n\\n==== 90-minute ordinary time ====\\nA standard adult football match consists of two halves of 45 minutes each. Each half runs continuously, meaning that the clock is not stopped when the ball is out of play. There is usually a 15-minute half-time break between halves. The end of the match is known as full-time. The referee is the official timekeeper for the match, and may make an allowance for time lost through substitutions, injured players requiring attention, or other stoppages. This added time is called additional time in FIFA documents, but is most commonly referred to as stoppage time or injury time, while lost time can also be used as a synonym. The duration of stoppage time is at the sole discretion of the referee. Stoppage time does not fully compensate for the time in which the ball is out of play, and a 90-minute game typically involves about an hour of \"effective playing time\". The referee alone signals the end of the match. In matches where a fourth official is appointed, towards the end of the half the referee signals how many minutes of stoppage time they intend to add. The fourth official then informs the players and spectators by holding up a board showing this number. The signalled stoppage time may be further extended by the referee. Added time was introduced because of an incident which happened in 1891 during a match between Stoke and Aston Villa. Trailing 1–0 and with just two minutes remaining, Stoke were awarded a penalty. Villa\\'s goalkeeper kicked the ball out of the ground, and by the time the ball had been recovered, the 90 minutes had elapsed and the game was over. The same law also states that the duration of either half is extended until the penalty kick to be taken or retaken is completed, thus no game shall end with a penalty to be taken.\\n\\n\\n==== Tie-breaking ====\\n\\nIn league competitions, games may end in a draw. In knockout competitions where a winner is required various methods may be employed to break such a deadlock; some competitions may invoke replays. A game tied at the end of regulation time may go into extra time, which consists of two further 15-minute periods. If the score is still tied after extra time, some competitions allow the use of penalty shootouts (known officially in the Laws of the Game as \"kicks from the penalty mark\") to determine which team will progress to the next stage of the tournament. Goals scored during extra time periods count towards the final score of the game, but kicks from the penalty mark are only used to decide the team that progresses to the next part of the tournament (with goals scored in a penalty shootout not making up part of the final score).In competitions using two-legged matches, each team competes at home once, with an aggregate score from the two matches deciding which team progresses. Where aggregates are equal, the away goals rule may be used to determine the winners, in which case the winner is the team that scored the most goals in the leg they played away from home. If the result is still equal, extra time and potentially a penalty shootout are required.\\n\\n\\n=== Ball in and out of play ===\\n\\nUnder the Laws, the two basic states of play during a game are ball in play and ball out of play. From the beginning of each playing period with a kick-off until the end of the playing period, the ball is in play at all times, except when either the ball leaves the field of play, or play is stopped by the referee. When the ball becomes out of play, play is restarted by one of eight restart methods depending on how it went out of play:\\n\\nKick-off: following a goal by the opposing team, or to begin each period of play.\\nThrow-in: when the ball has crossed the touchline; awarded to the opposing team to that which last touched the ball.\\nGoal kick: when the ball has wholly crossed the goal line without a goal having been scored and having last been touched by a player of the attacking team; awarded to defending team.\\nCorner kick: when the ball has wholly crossed the goal line without a goal having been scored and having last been touched by a player of the defending team; awarded to attacking team.\\nIndirect free kick: awarded to the opposing team following \"non-penal\" fouls, certain technical infringements, or when play is stopped to caution or dismiss an opponent without a specific foul having occurred. A goal may not be scored directly (without the ball first touching another player) from an indirect free kick.\\nDirect free kick: awarded to fouled team following certain listed \"penal\" fouls. A goal may be scored directly from a direct free kick.\\nPenalty kick: awarded to the fouled team following a foul usually punishable by a direct free kick but that has occurred within their opponent\\'s penalty area.\\nDropped-ball: occurs when the referee has stopped play for any other reason, such as a serious injury to a player, interference by an external party, or a ball becoming defective.\\n\\n\\n=== Misconduct ===\\n\\n\\n==== On-field ====\\n\\nA foul occurs when a player commits an offence listed in the Laws of the Game while the ball is in play. The offences that constitute a foul are listed in Law 12. Handling the ball deliberately, tripping an opponent, or pushing an opponent, are examples of \"penal fouls\", punishable by a direct free kick or penalty kick depending on where the offence occurred. Other fouls are punishable by an indirect free kick.The referee may punish a player\\'s or substitute\\'s misconduct by a caution (yellow card) or dismissal (red card). A second yellow card in the same game leads to a red card, which results in a dismissal. A player given a yellow card is said to have been \"booked\", the referee writing the player\\'s name in their official notebook. If a player has been dismissed, no substitute can be brought on in their place and the player may not participate in further play. Misconduct may occur at any time, and while the offences that constitute misconduct are listed, the definitions are broad. In particular, the offence of \"unsporting behaviour\" may be used to deal with most events that violate the spirit of the game, even if they are not listed as specific offences. A referee can show a yellow or red card to a player, substitute or substituted player. Non-players such as managers and support staff cannot be shown the yellow or red card, but may be expelled from the technical area if they fail to conduct themselves in a responsible manner.Rather than stopping play, the referee may allow play to continue if doing so will benefit the team against which an offence has been committed. This is known as \"playing an advantage\". The referee may \"call back\" play and penalise the original offence if the anticipated advantage does not ensue within \"a few seconds\". Even if an offence is not penalised due to advantage being played, the offender may still be sanctioned for misconduct at the next stoppage of play.The referee\\'s decision in all on-pitch matters is considered final. The score of a match cannot be altered after the game, even if later evidence shows that decisions (including awards/non-awards of goals) were incorrect.\\n\\n\\n==== Off-field ====\\n\\nAlong with the general administration of the sport, football associations and competition organisers also enforce good conduct in wider aspects of the game, dealing with issues such as comments to the press, clubs\\' financial management, doping, age fraud and match fixing. Most competitions enforce mandatory suspensions for players who are sent off in a game. Some on-field incidents, if considered very serious (such as allegations of racial abuse), may result in competitions deciding to impose heavier sanctions than those normally associated with a red card. Some associations allow for appeals against player suspensions incurred on-field if clubs feel a referee was incorrect or unduly harsh.Sanctions for such infractions may be levied on individuals or on to clubs as a whole. Penalties may include fines, points deductions (in league competitions) or even expulsion from competitions. For example, the English Football League deduct 12 points from any team that enters financial administration. Among other administrative sanctions are penalties against game forfeiture. Teams that had forfeited a game or had been forfeited against would be awarded a technical loss or win.\\n\\n\\n== Governing bodies ==\\n\\nThe recognised international governing body of football (and associated games, such as futsal and beach soccer) is FIFA. The FIFA headquarters are located in Zürich, Switzerland. Six regional confederations are associated with FIFA; these are:\\nAsia: Asian Football Confederation (AFC)\\nAfrica: Confederation of African Football (CAF)\\nEurope: Union of European Football Associations (UEFA)\\nNorth/Central America & Caribbean: Confederation of North, Central American and Caribbean Association Football (CONCACAF)\\nOceania: Oceania Football Confederation (OFC)\\nSouth America: Confederación Sudamericana de Fútbol (South American Football Confederation; CONMEBOL)National associations oversee football within individual countries. These are generally synonymous with sovereign states, (for example: the Cameroonian Football Federation in Cameroon) but also include a smaller number of associations responsible for sub-national entities or autonomous regions (for example the Scottish Football Association in Scotland). 209 national associations are affiliated both with FIFA and with their respective continental confederations.While FIFA is responsible for arranging competitions and most rules related to international competition, the actual Laws of the Game are set by the International Football Association Board, where each of the UK Associations has one vote, while FIFA collectively has four votes.\\n\\n\\n== International competitions ==\\n\\nInternational competitions in association football principally consist of two varieties: competitions involving representative national teams or those involving clubs based in multiple nations and national leagues. International football, without qualification, most often refers to the former. In the case of international club competition, it is the country of origin of the clubs involved, not the nationalities of their players, that renders the competition international in nature.\\nThe major international competition in football is the World Cup, organised by FIFA. This competition takes place every four years since 1930 with the exception of 1942 and 1946 tournaments, which were cancelled due to World War II. Approximately 190–200 national teams compete in qualifying tournaments within the scope of continental confederations for a place in the finals. The finals tournament, which is held every four years, involves 32 national teams competing over a four-week period. The World Cup is the most prestigious association football tournament in the world as well as the most widely viewed and followed sporting event in the world, exceeding even the Olympic Games; the cumulative audience of all matches of the 2006 FIFA World Cup was estimated to be 26.29 billion with an estimated 715.1 million people watching the final match, a ninth of the entire population of the planet. The current champion is France, which won its second title at the 2018 tournament in Russia. FIFA Women\\'s World Cup has been held every four years since 1991. Under the tournament\\'s current format, national teams vie for 23 slots in a three-year qualification phase. (The host nation\\'s team is automatically entered as the 24th slot.) The current champion is the United States, after winning their fourth title in the 2019 FIFA Women\\'s World Cup.\\nThere has been a football tournament at every Summer Olympic Games since 1900, except at the 1932 games in Los Angeles. Before the inception of the World Cup, the Olympics (especially during the 1920s) were the most prestigious international event. Originally, the tournament was for amateurs only. As professionalism spread around the world, the gap in quality between the World Cup and the Olympics widened. The countries that benefited most were the Soviet Bloc countries of Eastern Europe, where top athletes were state-sponsored while retaining their status as amateurs. Between 1948 and 1980, 23 out of 27 Olympic medals were won by Eastern Europe, with only Sweden (gold in 1948 and bronze in 1952), Denmark (bronze in 1948 and silver in 1960) and Japan (bronze in 1968) breaking their dominance. For the 1984 Los Angeles Games, the IOC decided to admit professional players. FIFA still did not want the Olympics to rival the World Cup, so a compromise was struck that allowed teams from Africa, Asia, Oceania and CONCACAF to field their strongest professional sides, while restricting UEFA and CONMEBOL teams to players who had not played in a World Cup. Since 1992 male competitors must be under 23 years old, and since 1996, players under 23 years old, with three over-23-year-old players, are allowed per squad. A women\\'s tournament was added in 1996; in contrast to the men\\'s event, full international sides without age restrictions play the women\\'s Olympic tournament.\\n\\nAfter the World Cup, the most important international football competitions are the continental championships, which are organised by each continental confederation and contested between national teams. These are the European Championship (UEFA), the Copa América (CONMEBOL), African Cup of Nations (CAF), the Asian Cup (AFC), the CONCACAF Gold Cup (CONCACAF) and the OFC Nations Cup (OFC). The FIFA Confederations Cup is contested by the winners of all six continental championships, the current FIFA World Cup champions and the country which is hosting the Confederations Cup. This is generally regarded as a warm-up tournament for the upcoming FIFA World Cup and does not carry the same prestige as the World Cup itself.\\nThe most prestigious competitions in club football are the respective continental championships, which are generally contested between national champions, for example the UEFA Champions League in Europe and the Copa Libertadores in South America. The winners of each continental competition contest the FIFA Club World Cup.\\n\\n\\n== Domestic competitions ==\\n\\nThe governing bodies in each country operate league systems in a domestic season, normally comprising several divisions, in which the teams gain points throughout the season depending on results. Teams are placed into tables, placing them in order according to points accrued. Most commonly, each team plays every other team in its league at home and away in each season, in a round-robin tournament. At the end of a season, the top team is declared the champion. The top few teams may be promoted to a higher division, and one or more of the teams finishing at the bottom are relegated to a lower division.The teams finishing at the top of a country\\'s league may be eligible also to play in international club competitions in the following season. The main exceptions to this system occur in some Latin American leagues, which divide football championships into two sections named Apertura and Clausura (Spanish for Opening and Closing), awarding a champion for each. The majority of countries supplement the league system with one or more \"cup\" competitions organised on a knock-out basis.\\nSome countries\\' top divisions feature highly paid star players; in smaller countries, lower divisions, and most of women\\'s clubs, players may be part-timers with a second job, or amateurs. The five top European leagues – the Bundesliga (Germany), Premier League (England), La Liga (Spain), Serie A (Italy), and Ligue 1 (France) – attract most of the world\\'s best players and each of the leagues has a total wage cost in excess of £600 million/€763 million/US$1.185 billion.\\n\\n\\n== Professionalism ==\\n\\nClubs first started to pay their players in 1885.\\n\\n\\n== Hooliganism ==\\n\\nFootball hooliganism is disorderly, violent, or destructive behaviour perpetrated by spectators at football events.\\n\\n\\n== Variants and casual play ==\\n\\nVariants of football have been codified for reduced-sized teams (i.e. five-a-side football) play in non-field environments (i.e. beach soccer, indoor soccer, and futsal) and for teams with disabilities (i.e. paralympic association football).\\nCasual games can be played with only minimal equipment – a basic game can be played on almost any open area of reasonable size with just a ball and items to mark the positions of two sets of goalposts. Such games can have team sizes that vary from eleven-a-side, can use a limited or modified subset of the official rules, and can be self-officiated by the players.\\n\\n\\n== See also ==\\n Association football portal\\n Women\\'s association football portal\\nAssociation football culture\\nAssociation football tactics and skills\\nList of association football competitions\\nList of association football clubs\\nList of association football stadiums by country\\nList of men\\'s national association football teams\\nList of women\\'s national association football teams\\nList of top association football goal scorers\\nList of women\\'s association football clubs\\nLists of association football players\\n\\n\\n== Notes ==\\n\\n\\n== References ==\\n\\n\\n== External links ==\\n\\nFederation Internationale de Football Association (FIFA)\\nAssociation football at Curlie'"
      ]
     },
     "execution_count": 19,
     "metadata": {},
     "output_type": "execute_result"
    }
   ],
   "source": [
    "q3.content"
   ]
  },
  {
   "cell_type": "markdown",
   "metadata": {},
   "source": [
    "We represent these by their frequency vectors. Each instance is a document, and each word will be a feature. The feature values will then represent how many times a word occurs in a certain document. So the feature ball, will probably be 0 for both machine learning and AI, but definitely not 0 for soccer and tennis. For this example I’ll use sklearn:"
   ]
  },
  {
   "cell_type": "code",
   "execution_count": 20,
   "metadata": {},
   "outputs": [],
   "source": [
    "from sklearn.feature_extraction.text import CountVectorizer\n",
    "\n",
    "cv = CountVectorizer()\n",
    "X = np.array(cv.fit_transform([q1.content, q2.content, q3.content, q4.content]).todense())\n"
   ]
  },
  {
   "cell_type": "markdown",
   "metadata": {},
   "source": [
    "The CountVectorizer by default splits up the text into words using white spaces. We can do the same to see how many words are in each article. Like this:\n",
    "\n"
   ]
  },
  {
   "cell_type": "code",
   "execution_count": 21,
   "metadata": {},
   "outputs": [
    {
     "name": "stdout",
     "output_type": "stream",
     "text": [
      "ML \t 5847 \n",
      "AI \t 14185 \n",
      "soccer \t 6554 \n",
      "tennis \t 10480\n"
     ]
    }
   ],
   "source": [
    "print(\"ML \\t\", len(q1.content.split()), \"\\n\"\n",
    "      \"AI \\t\", len(q2.content.split()), \"\\n\"\n",
    "      \"soccer \\t\", len(q3.content.split()), \"\\n\"\n",
    "      \"tennis \\t\", len(q4.content.split()))"
   ]
  },
  {
   "cell_type": "markdown",
   "metadata": {},
   "source": [
    "AI is a much larger article than Machine Learning (ML). This would mean that if we do not normalize our vectors, AI will be much further away from ML just because it has many more words. ML will probably be closer to an article with less words. Let’s try it out:\n",
    "\n"
   ]
  },
  {
   "cell_type": "code",
   "execution_count": 22,
   "metadata": {},
   "outputs": [
    {
     "name": "stdout",
     "output_type": "stream",
     "text": [
      "ML - AI \t 768.1256407645822 \n",
      "ML - soccer \t 436.9164679890196 \n",
      "ML - tennis \t 764.6986334498055\n"
     ]
    }
   ],
   "source": [
    "print(\"ML - AI \\t\", euclidean_distance(X[0], X[1]), \"\\n\"\n",
    "      \"ML - soccer \\t\", euclidean_distance(X[0], X[2]), \"\\n\"\n",
    "      \"ML - tennis \\t\", euclidean_distance(X[0], X[3]))"
   ]
  },
  {
   "cell_type": "markdown",
   "metadata": {},
   "source": [
    "Here we can see pretty clearly that our prior assumptions have been confirmed. ML seems to be closest to soccer, which doesn’t make a lot of sense intuitively. So, what happens if we look at cosine similairty (thus normalising our vectors)?"
   ]
  },
  {
   "cell_type": "code",
   "execution_count": 23,
   "metadata": {},
   "outputs": [
    {
     "name": "stdout",
     "output_type": "stream",
     "text": [
      "ML - AI \t 0.8975497082672841 \n",
      "ML - soccer \t 0.7993832986338533 \n",
      "ML - tennis \t 0.8069138616062094\n"
     ]
    }
   ],
   "source": [
    "print(\"ML - AI \\t\", cosine_similarity(X[0], X[1]), \"\\n\"\n",
    "      \"ML - soccer \\t\", cosine_similarity(X[0], X[2]), \"\\n\"\n",
    "      \"ML - tennis \\t\", cosine_similarity(X[0], X[3]))"
   ]
  },
  {
   "cell_type": "markdown",
   "metadata": {},
   "source": [
    "ML is closer to AI! Granted, it still seems pretty close to soccer an tennis judging from these scores, but please note that word frequency is not that great of a representation for texts with such rich content"
   ]
  },
  {
   "cell_type": "markdown",
   "metadata": {},
   "source": [
    "# Categorize a Tweet\n",
    "Now, just for fun, let’s see how this plays out for the following tweet by OpenAI:\n",
    "\n"
   ]
  },
  {
   "cell_type": "code",
   "execution_count": 24,
   "metadata": {},
   "outputs": [],
   "source": [
    "ml_tweet = \"New research release: overcoming many of Reinforcement Learning's limitations with Evolution Strategies.\"\n",
    "x = np.array(cv.transform([ml_tweet]).todense())"
   ]
  },
  {
   "cell_type": "code",
   "execution_count": 25,
   "metadata": {},
   "outputs": [
    {
     "data": {
      "text/plain": [
       "array([[0, 0, 0, ..., 0, 0, 0]])"
      ]
     },
     "execution_count": 25,
     "metadata": {},
     "output_type": "execute_result"
    }
   ],
   "source": [
    "x"
   ]
  },
  {
   "cell_type": "markdown",
   "metadata": {},
   "source": [
    "Again we represent this tweet as a word vector, and we try to measure the distance between the tweet and our four wikipedia documents:"
   ]
  },
  {
   "cell_type": "code",
   "execution_count": 26,
   "metadata": {},
   "outputs": [
    {
     "name": "stdout",
     "output_type": "stream",
     "text": [
      "tweet - ML \t 538.0780612513392 \n",
      "tweet - AI \t 1213.4887720947402 \n",
      "tweet - soccer \t 723.7610102789456 \n",
      "tweet - tennis \t 1129.759266392624\n"
     ]
    }
   ],
   "source": [
    "print(\"tweet - ML \\t\", euclidean_distance(x[0], X[0]), \"\\n\"\n",
    "      \"tweet - AI \\t\", euclidean_distance(x[0], X[1]), \"\\n\"\n",
    "      \"tweet - soccer \\t\", euclidean_distance(x[0], X[2]), \"\\n\"\n",
    "      \"tweet - tennis \\t\", euclidean_distance(x[0], X[3]))\n"
   ]
  },
  {
   "cell_type": "markdown",
   "metadata": {},
   "source": [
    "Well, that worked out pretty well at first glance, it’s closest to ML. However, see how it’s also closer to soccer than AI? There’s so many dimensions that come into play here that it’s hard to say why this is the case. However, soccer being our second smallest document might have something to do with it. Now we’ll do the same for cosine:\n",
    "\n"
   ]
  },
  {
   "cell_type": "code",
   "execution_count": 28,
   "metadata": {},
   "outputs": [
    {
     "data": {
      "text/plain": [
       "0"
      ]
     },
     "execution_count": 28,
     "metadata": {},
     "output_type": "execute_result"
    }
   ],
   "source": [
    "x[0][1]"
   ]
  },
  {
   "cell_type": "code",
   "execution_count": 30,
   "metadata": {},
   "outputs": [
    {
     "name": "stdout",
     "output_type": "stream",
     "text": [
      "tweet - ML \t 0.24413633209373656 \n",
      "tweet - AI \t 0.19352429997357212 \n",
      "tweet - soccer \t 0.1222742398883129 \n",
      "tweet - tennis \t 0.11360664106563792\n"
     ]
    }
   ],
   "source": [
    "print(\"tweet - ML \\t\", cosine_similarity(x[0], X[0]), \"\\n\"\n",
    "      \"tweet - AI \\t\", cosine_similarity(x[0], X[1]), \"\\n\"\n",
    "      \"tweet - soccer \\t\", cosine_similarity(x[0], X[2]), \"\\n\"\n",
    "      \"tweet - tennis \\t\", cosine_similarity(x[0], X[3]))\n"
   ]
  },
  {
   "cell_type": "markdown",
   "metadata": {},
   "source": [
    "There we go! This seems definitely more in line with our intuitions. So, remember how euclidean distance in this example seemed to slightly relate to the length of the document? Let’s try the same for a soccer tweet, by Manchester United:\n",
    "\n"
   ]
  },
  {
   "cell_type": "code",
   "execution_count": 35,
   "metadata": {},
   "outputs": [],
   "source": [
    "so_tweet = \"#LegendsDownUnder The Reds are out for the warm up at the @nibStadium. Not long now until kick-off in Perth.\"\n",
    "x2 = np.array(cv.transform([so_tweet]).todense())\n"
   ]
  },
  {
   "cell_type": "code",
   "execution_count": 36,
   "metadata": {},
   "outputs": [
    {
     "name": "stdout",
     "output_type": "stream",
     "text": [
      "tweet - ML \t 536.7028973277487 \n",
      "tweet - AI \t 1211.9393549183887 \n",
      "tweet - soccer \t 721.2905101275074 \n",
      "tweet - tennis \t 1127.3136209591366\n"
     ]
    }
   ],
   "source": [
    "#Same trick, different tweet:\n",
    "\n",
    "print(\"tweet - ML \\t\", euclidean_distance(x2, X[0]), \"\\n\"\n",
    "      \"tweet - AI \\t\", euclidean_distance(x2, X[1]), \"\\n\"\n",
    "      \"tweet - soccer \\t\", euclidean_distance(x2, X[2]), \"\\n\"\n",
    "      \"tweet - tennis \\t\", euclidean_distance(x2, X[3]))\n"
   ]
  },
  {
   "cell_type": "markdown",
   "metadata": {},
   "source": [
    "See how awfully similar these distances are to that of our previous tweet, even though there’s very little overlap? Now let’s try the same with cosine similarity:\n",
    "\n"
   ]
  },
  {
   "cell_type": "code",
   "execution_count": 37,
   "metadata": {},
   "outputs": [
    {
     "name": "stdout",
     "output_type": "stream",
     "text": [
      "tweet - ML \t 0.4593671808763891 \n",
      "tweet - AI \t 0.46148831801635926 \n",
      "tweet - soccer \t 0.6097414214528444 \n",
      "tweet - tennis \t 0.5984109394346961\n"
     ]
    }
   ],
   "source": [
    "print(\"tweet - ML \\t\", cosine_similarity(x2[0], X[0]), \"\\n\"\n",
    "      \"tweet - AI \\t\", cosine_similarity(x2[0], X[1]), \"\\n\"\n",
    "      \"tweet - soccer \\t\", cosine_similarity(x2[0], X[2]), \"\\n\"\n",
    "      \"tweet - tennis \\t\", cosine_similarity(x2[0], X[3]))\n"
   ]
  },
  {
   "cell_type": "markdown",
   "metadata": {},
   "source": [
    "Nailed it!\n",
    "\n",
    "Hopefully this, by example, proves why for text data normalizing your vectors can make all the difference!"
   ]
  },
  {
   "cell_type": "code",
   "execution_count": null,
   "metadata": {},
   "outputs": [],
   "source": []
  }
 ],
 "metadata": {
  "kernelspec": {
   "display_name": "Python 3",
   "language": "python",
   "name": "python3"
  },
  "language_info": {
   "codemirror_mode": {
    "name": "ipython",
    "version": 3
   },
   "file_extension": ".py",
   "mimetype": "text/x-python",
   "name": "python",
   "nbconvert_exporter": "python",
   "pygments_lexer": "ipython3",
   "version": "3.6.4"
  }
 },
 "nbformat": 4,
 "nbformat_minor": 2
}
