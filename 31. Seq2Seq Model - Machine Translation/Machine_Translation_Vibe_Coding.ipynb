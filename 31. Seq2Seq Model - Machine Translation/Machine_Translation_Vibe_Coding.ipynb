{
  "nbformat": 4,
  "nbformat_minor": 0,
  "metadata": {
    "colab": {
      "provenance": [],
      "gpuType": "T4"
    },
    "kernelspec": {
      "name": "python3",
      "display_name": "Python 3"
    },
    "language_info": {
      "name": "python"
    },
    "accelerator": "GPU"
  },
  "cells": [
    {
      "cell_type": "markdown",
      "source": [
        "New Neural Network Architecture\n",
        "\n",
        "Two components\n",
        "\n",
        "Encoder (RNN, LSTM, GRU) - Takes the input sequence ('Hello World') and compress it into the fixed size vector that captures the entire sequence\n",
        "\n",
        "Decoder (RNN, LSTM, GRU) - Based on the fixed size vector from the encoder it generates the output sequence with different language (Bonjour) . takes one token at a time,\n",
        "                           continue until it produces the stop signal\n",
        "\n",
        "How it works: The encoder process input sequentially using (RNN/LST/GRU) creating a context vector. The decoder uses this context vector to generate\n",
        "             the output step by step, with each output depending on the context and previous outputs\n",
        "\n",
        "This is Called: Seq2Seq Architecture.\n",
        "\n",
        "Common uses of Seq2Seq:\n",
        "\n",
        "1. Machine Translation\n",
        "2. Text Summarization\n",
        "3. chatbots\n",
        "4. any task requiring sequence treansformation with different input/output lengths\n"
      ],
      "metadata": {
        "id": "sbtsGkrXcehv"
      }
    },
    {
      "cell_type": "code",
      "source": [
        "\n",
        "\n",
        "from IPython.display import Image\n",
        "Image(url='https://cdn.analyticsvidhya.com/wp-content/uploads/2024/10/seq2seq-1-1.gif')"
      ],
      "metadata": {
        "colab": {
          "base_uri": "https://localhost:8080/",
          "height": 353
        },
        "id": "B6Ov9o0P207L",
        "outputId": "9ffdb5ba-4d23-4590-8a42-667b4337809b"
      },
      "execution_count": null,
      "outputs": [
        {
          "output_type": "execute_result",
          "data": {
            "text/html": [
              "<img src=\"https://cdn.analyticsvidhya.com/wp-content/uploads/2024/10/seq2seq-1-1.gif\"/>"
            ],
            "text/plain": [
              "<IPython.core.display.Image object>"
            ]
          },
          "metadata": {},
          "execution_count": 2
        }
      ]
    },
    {
      "cell_type": "markdown",
      "source": [
        "Neural Network Architecture\n",
        "\n",
        "\n",
        "input  - outputs\n",
        "\n",
        "word - word\n",
        "\n",
        "\n",
        "one word in english - one word in french\n",
        "\n",
        "hello - bonjour\n",
        "travel - voyage\n"
      ],
      "metadata": {
        "id": "2vNr5iyHchLx"
      }
    },
    {
      "cell_type": "code",
      "source": [
        "\n"
      ],
      "metadata": {
        "id": "Xhl1SdZJ3jzz"
      },
      "execution_count": null,
      "outputs": []
    },
    {
      "cell_type": "markdown",
      "source": [],
      "metadata": {
        "id": "IsKXauzv-6kJ"
      }
    },
    {
      "cell_type": "markdown",
      "source": [
        "Dataset for MAchine Translation\n",
        "\n",
        "https://www.manythings.org/anki/\n",
        "\n",
        "https://www.manythings.org/anki/fra-eng.zip\n",
        "\n",
        "\n",
        "\n"
      ],
      "metadata": {
        "id": "WEjyoD8T--9X"
      }
    },
    {
      "cell_type": "code",
      "source": [
        "!wget https://www.manythings.org/anki/fra-eng.zip"
      ],
      "metadata": {
        "colab": {
          "base_uri": "https://localhost:8080/"
        },
        "id": "lWU-c9bu-9gD",
        "outputId": "2cfe692d-c6ba-4be8-fcf6-1b940adeb685"
      },
      "execution_count": null,
      "outputs": [
        {
          "output_type": "stream",
          "name": "stdout",
          "text": [
            "--2025-07-06 06:45:36--  https://www.manythings.org/anki/fra-eng.zip\n",
            "Resolving www.manythings.org (www.manythings.org)... 173.254.30.110\n",
            "Connecting to www.manythings.org (www.manythings.org)|173.254.30.110|:443... connected.\n",
            "HTTP request sent, awaiting response... 200 OK\n",
            "Length: 8143096 (7.8M) [application/zip]\n",
            "Saving to: ‘fra-eng.zip.3’\n",
            "\n",
            "fra-eng.zip.3       100%[===================>]   7.77M  4.51MB/s    in 1.7s    \n",
            "\n",
            "2025-07-06 06:45:39 (4.51 MB/s) - ‘fra-eng.zip.3’ saved [8143096/8143096]\n",
            "\n"
          ]
        }
      ]
    },
    {
      "cell_type": "code",
      "source": [
        "#!unzip fra-eng.zip"
      ],
      "metadata": {
        "colab": {
          "base_uri": "https://localhost:8080/"
        },
        "id": "tsRHGdkd_Khs",
        "outputId": "1b7c6683-271e-4198-d37a-5e19dd41ee72"
      },
      "execution_count": null,
      "outputs": [
        {
          "output_type": "stream",
          "name": "stdout",
          "text": [
            "Archive:  fra-eng.zip\n",
            "replace _about.txt? [y]es, [n]o, [A]ll, [N]one, [r]ename: n\n",
            "replace fra.txt? [y]es, [n]o, [A]ll, [N]one, [r]ename: n\n"
          ]
        }
      ]
    },
    {
      "cell_type": "code",
      "source": [
        "!ls -a"
      ],
      "metadata": {
        "colab": {
          "base_uri": "https://localhost:8080/"
        },
        "id": "I0fWSR6T_Oa6",
        "outputId": "60ddb967-0f8c-498e-cbb3-f4893734ab12"
      },
      "execution_count": null,
      "outputs": [
        {
          "output_type": "stream",
          "name": "stdout",
          "text": [
            ".   _about.txt\t   .config\tfra-eng.zip.1  fra-eng.zip.3  sample_data\n",
            "..  best_model.h5  fra-eng.zip\tfra-eng.zip.2  fra.txt\n"
          ]
        }
      ]
    },
    {
      "cell_type": "code",
      "source": [
        "# prompt: display first 10 lines in fra.txt\n"
      ],
      "metadata": {
        "id": "5xEkAN1__e3F"
      },
      "execution_count": null,
      "outputs": []
    },
    {
      "cell_type": "code",
      "source": [
        "# prompt: print how many records in fra.txt\n"
      ],
      "metadata": {
        "id": "_5oD4wyr_tjc"
      },
      "execution_count": null,
      "outputs": []
    },
    {
      "cell_type": "code",
      "source": [
        "!head -n 10 fra.txt"
      ],
      "metadata": {
        "colab": {
          "base_uri": "https://localhost:8080/"
        },
        "id": "3etI9TBj_RzF",
        "outputId": "67d40672-768c-42c1-d8f0-99ddd2151edf"
      },
      "execution_count": null,
      "outputs": [
        {
          "output_type": "stream",
          "name": "stdout",
          "text": [
            "Go.\tVa !\tCC-BY 2.0 (France) Attribution: tatoeba.org #2877272 (CM) & #1158250 (Wittydev)\n",
            "Go.\tMarche.\tCC-BY 2.0 (France) Attribution: tatoeba.org #2877272 (CM) & #8090732 (Micsmithel)\n",
            "Go.\tEn route !\tCC-BY 2.0 (France) Attribution: tatoeba.org #2877272 (CM) & #8267435 (felix63)\n",
            "Go.\tBouge !\tCC-BY 2.0 (France) Attribution: tatoeba.org #2877272 (CM) & #9022935 (Micsmithel)\n",
            "Hi.\tSalut !\tCC-BY 2.0 (France) Attribution: tatoeba.org #538123 (CM) & #509819 (Aiji)\n",
            "Hi.\tSalut.\tCC-BY 2.0 (France) Attribution: tatoeba.org #538123 (CM) & #4320462 (gillux)\n",
            "Run!\tCours !\tCC-BY 2.0 (France) Attribution: tatoeba.org #906328 (papabear) & #906331 (sacredceltic)\n",
            "Run!\tCourez !\tCC-BY 2.0 (France) Attribution: tatoeba.org #906328 (papabear) & #906332 (sacredceltic)\n",
            "Run!\tPrenez vos jambes à vos cous !\tCC-BY 2.0 (France) Attribution: tatoeba.org #906328 (papabear) & #2077449 (sacredceltic)\n",
            "Run!\tFile !\tCC-BY 2.0 (France) Attribution: tatoeba.org #906328 (papabear) & #2077454 (sacredceltic)\n"
          ]
        }
      ]
    },
    {
      "cell_type": "code",
      "source": [
        "!wc -l fra.txt"
      ],
      "metadata": {
        "colab": {
          "base_uri": "https://localhost:8080/"
        },
        "id": "D9YpLhhR_Wd7",
        "outputId": "fbc87a35-9f4c-467b-dd12-28e00412a343"
      },
      "execution_count": null,
      "outputs": [
        {
          "output_type": "stream",
          "name": "stdout",
          "text": [
            "237838 fra.txt\n"
          ]
        }
      ]
    },
    {
      "cell_type": "markdown",
      "source": [
        "# Load the Data"
      ],
      "metadata": {
        "id": "5SgETyqsFJ9J"
      }
    },
    {
      "cell_type": "code",
      "source": [
        "# prompt: Go.\tVa !\tCC-BY 2.0 (France) Attribution: tatoeba.org #2877272 (CM) & #1158250 (Wittydev)\n",
        "# Go.\tMarche.\tCC-BY 2.0 (France) Attribution: tatoeba.org #2877272 (CM) & #8090732 (Micsmithel)\n",
        "# Go.\tEn route !\tCC-BY 2.0 (France) Attribution: tatoeba.org #2877272 (CM) & #8267435 (felix63)\n",
        "# Go.\tBouge !\tCC-BY 2.0 (France) Attribution: tatoeba.org #2877272 (CM) & #9022935 (Micsmithel)\n",
        "# Hi.\tSalut !\tCC-BY 2.0 (France) Attribution: tatoeba.org #538123 (CM) & #509819 (Aiji)\n",
        "# Hi.\tSalut.\tCC-BY 2.0 (France) Attribution: tatoeba.org #538123 (CM) & #4320462 (gillux)\n",
        "# Run!\tCours !\tCC-BY 2.0 (France) Attribution: tatoeba.org #906328 (papabear) & #906331 (sacredceltic)\n",
        "# Run!\tCourez !\tCC-BY 2.0 (France) Attribution: tatoeba.org #906328 (papabear) & #906332 (sacredceltic)\n",
        "# Run!\tPrenez vos jambes à vos cous !\tCC-BY 2.0 (France) Attribution: tatoeba.org #906328 (papabear) & #2077449 (sacredceltic)\n",
        "# Run!\tFile !\tCC-BY 2.0 (France) Attribution: tatoeba.org #906328 (papabear) & #2077454 (sacredceltic)\n",
        "# i need to read the fra.txt and i need to create two variable\n",
        "# 1. fr\n",
        "# 2. eng\n",
        "# where each variable should have a array of respective language from the txt where index 0 is inglish and index 1 is french\n",
        "\n",
        "eng = []\n",
        "fr = []\n",
        "\n",
        "with open('fra.txt', 'r', encoding='utf-8') as f:\n",
        "  for line in f:\n",
        "    # Split the line by the tab character to separate English and French\n",
        "    parts = line.strip().split('\\t')\n",
        "    if len(parts) >= 2:\n",
        "      eng.append(parts[0])\n",
        "      fr.append(parts[1])\n",
        "\n",
        "# You can verify by printing the first few elements\n",
        "# print(eng[:10])\n",
        "# print(fr[:10])"
      ],
      "metadata": {
        "id": "PtWKGcBB_zQM"
      },
      "execution_count": null,
      "outputs": []
    },
    {
      "cell_type": "code",
      "source": [
        "eng[:10], fr[:10]"
      ],
      "metadata": {
        "colab": {
          "base_uri": "https://localhost:8080/"
        },
        "id": "tfnnpAyAELyt",
        "outputId": "94f37607-9041-4d02-87b6-e0f86a1b1cda"
      },
      "execution_count": null,
      "outputs": [
        {
          "output_type": "execute_result",
          "data": {
            "text/plain": [
              "(['Go.', 'Go.', 'Go.', 'Go.', 'Hi.', 'Hi.', 'Run!', 'Run!', 'Run!', 'Run!'],\n",
              " ['Va !',\n",
              "  'Marche.',\n",
              "  'En route !',\n",
              "  'Bouge !',\n",
              "  'Salut !',\n",
              "  'Salut.',\n",
              "  'Cours\\u202f!',\n",
              "  'Courez\\u202f!',\n",
              "  'Prenez vos jambes à vos cous !',\n",
              "  'File !'])"
            ]
          },
          "metadata": {},
          "execution_count": 11
        }
      ]
    },
    {
      "cell_type": "markdown",
      "source": [
        "# Preprocess the Data"
      ],
      "metadata": {
        "id": "6yxHD9VuFO5h"
      }
    },
    {
      "cell_type": "code",
      "source": [
        "# prompt: can you write a simple text preprocessing like punctuation, make it in lower case and also remove uncessary space\n",
        "\n",
        "import re\n",
        "\n",
        "def preprocess_text(text):\n",
        "  text = text.lower()  # Convert to lowercase\n",
        "  text = re.sub(r'[^\\w\\s]', '', text)  # Remove punctuation\n",
        "  text = re.sub(r'\\s+', ' ', text).strip()  # Remove unnecessary spaces and strip\n",
        "  return text\n",
        "\n",
        "# Apply preprocessing to the lists\n",
        "eng_processed = [preprocess_text(text) for text in eng]\n",
        "fr_processed = [preprocess_text(text) for text in fr]\n",
        "\n",
        "print(\"Processed English:\")\n",
        "print(eng_processed[:10])\n",
        "print(\"\\nProcessed French:\")\n",
        "print(fr_processed[:10])\n"
      ],
      "metadata": {
        "colab": {
          "base_uri": "https://localhost:8080/"
        },
        "id": "VXfV13mcENgg",
        "outputId": "006e3019-5a2c-473a-a8ca-0d9b5bece45a"
      },
      "execution_count": null,
      "outputs": [
        {
          "output_type": "stream",
          "name": "stdout",
          "text": [
            "Processed English:\n",
            "['go', 'go', 'go', 'go', 'hi', 'hi', 'run', 'run', 'run', 'run']\n",
            "\n",
            "Processed French:\n",
            "['va', 'marche', 'en route', 'bouge', 'salut', 'salut', 'cours', 'courez', 'prenez vos jambes à vos cous', 'file']\n"
          ]
        }
      ]
    },
    {
      "cell_type": "markdown",
      "source": [
        "# Viewing sentence length"
      ],
      "metadata": {
        "id": "fk1Mxgg_FR2X"
      }
    },
    {
      "cell_type": "code",
      "source": [
        "# prompt: can you print the min and max size of both english and french variable separately\n",
        "\n",
        "# Find the length of each sentence in the English and French processed lists\n",
        "eng_lengths = [len(sentence.split()) for sentence in eng_processed]\n",
        "fr_lengths = [len(sentence.split()) for sentence in fr_processed]\n",
        "\n",
        "# Print the minimum and maximum lengths for English\n",
        "print(f\"English - Minimum sentence length: {min(eng_lengths)}, Maximum sentence length: {max(eng_lengths)}\")\n",
        "\n",
        "# Print the minimum and maximum lengths for French\n",
        "print(f\"French - Minimum sentence length: {min(fr_lengths)}, Maximum sentence length: {max(fr_lengths)}\")"
      ],
      "metadata": {
        "colab": {
          "base_uri": "https://localhost:8080/"
        },
        "id": "eYhsUgUmFRge",
        "outputId": "9942af83-9bf1-43d3-8145-122960345486"
      },
      "execution_count": null,
      "outputs": [
        {
          "output_type": "stream",
          "name": "stdout",
          "text": [
            "English - Minimum sentence length: 1, Maximum sentence length: 55\n",
            "French - Minimum sentence length: 1, Maximum sentence length: 56\n"
          ]
        }
      ]
    },
    {
      "cell_type": "code",
      "source": [
        "# prompt: can you draw the size distribution of both english and french\n",
        "\n",
        "import matplotlib.pyplot as plt\n",
        "\n",
        "# Plot the size distribution\n",
        "plt.figure(figsize=(12, 6))\n",
        "\n",
        "plt.subplot(1, 2, 1)\n",
        "plt.hist(eng_lengths, bins=50, color='skyblue', edgecolor='black')\n",
        "plt.title('English Sentence Length Distribution')\n",
        "plt.xlabel('Sentence Length (words)')\n",
        "plt.ylabel('Frequency')\n",
        "\n",
        "plt.subplot(1, 2, 2)\n",
        "plt.hist(fr_lengths, bins=50, color='lightcoral', edgecolor='black')\n",
        "plt.title('French Sentence Length Distribution')\n",
        "plt.xlabel('Sentence Length (words)')\n",
        "plt.ylabel('Frequency')\n",
        "\n",
        "plt.tight_layout()\n",
        "plt.show()"
      ],
      "metadata": {
        "colab": {
          "base_uri": "https://localhost:8080/",
          "height": 607
        },
        "id": "A1xWdoX4E8Ak",
        "outputId": "caaa7b69-3fc4-4b7c-8ef9-b5ffe6fcd7eb"
      },
      "execution_count": null,
      "outputs": [
        {
          "output_type": "display_data",
          "data": {
            "text/plain": [
              "<Figure size 1200x600 with 2 Axes>"
            ],
            "image/png": "[encoded data removed]"
          },
          "metadata": {}
        }
      ]
    },
    {
      "cell_type": "code",
      "source": [
        "# prompt: can you check how many sentences are there with less than 20 words in english\n",
        "\n",
        "# Count the number of English sentences with less than 20 words\n",
        "short_eng_sentences_count = sum(1 for length in eng_lengths if length > 20)\n",
        "\n",
        "print(f\"Number of English sentences with less than 20 words: {short_eng_sentences_count}\")"
      ],
      "metadata": {
        "colab": {
          "base_uri": "https://localhost:8080/"
        },
        "id": "Vn7U_bKgF5yF",
        "outputId": "888a6371-0789-40bf-ec45-413284b12d8e"
      },
      "execution_count": null,
      "outputs": [
        {
          "output_type": "stream",
          "name": "stdout",
          "text": [
            "Number of English sentences with less than 20 words: 170\n"
          ]
        }
      ]
    },
    {
      "cell_type": "code",
      "source": [
        "# Lets Keep as it is!"
      ],
      "metadata": {
        "id": "c5Ad_24gG-3e"
      },
      "execution_count": null,
      "outputs": []
    },
    {
      "cell_type": "markdown",
      "source": [
        "# Coverting the Text to Sequence of Numbers"
      ],
      "metadata": {
        "id": "4XwdzZj2JNRF"
      }
    },
    {
      "cell_type": "code",
      "source": [
        "# prompt: Convert the text to sequence of numbers\n",
        "# 1. use the keras  tokenizer o fitontext and also print the vocab size both in english and french separately\n",
        "\n",
        "import tensorflow as tf\n",
        "from tensorflow.keras.preprocessing.text import Tokenizer\n",
        "from tensorflow.keras.preprocessing.sequence import pad_sequences\n",
        "\n",
        "# Tokenize English sentences\n",
        "eng_tokenizer = Tokenizer()\n",
        "eng_tokenizer.fit_on_texts(eng_processed)\n",
        "eng_sequences = eng_tokenizer.texts_to_sequences(eng_processed)\n",
        "\n",
        "# Tokenize French sentences\n",
        "fr_tokenizer = Tokenizer()\n",
        "fr_tokenizer.fit_on_texts(fr_processed)\n",
        "fr_sequences = fr_tokenizer.texts_to_sequences(fr_processed)\n",
        "\n",
        "# Print vocabulary sizes\n",
        "print(\"English Vocabulary Size:\", len(eng_tokenizer.word_index))\n",
        "print(\"French Vocabulary Size:\", len(fr_tokenizer.word_index))\n",
        "\n",
        "# You can optionally pad the sequences to have uniform length\n",
        "# eng_padded_sequences = pad_sequences(eng_sequences, padding='post')\n",
        "# fr_padded_sequences = pad_sequences(fr_sequences, padding='post')"
      ],
      "metadata": {
        "colab": {
          "base_uri": "https://localhost:8080/"
        },
        "id": "nGs0tgUoGlCG",
        "outputId": "eedb76d9-6d8c-424b-b043-06d90bedf590"
      },
      "execution_count": null,
      "outputs": [
        {
          "output_type": "stream",
          "name": "stdout",
          "text": [
            "English Vocabulary Size: 17220\n",
            "French Vocabulary Size: 33608\n"
          ]
        }
      ]
    },
    {
      "cell_type": "code",
      "source": [
        "eng_processed[:10]"
      ],
      "metadata": {
        "colab": {
          "base_uri": "https://localhost:8080/"
        },
        "id": "Z_f6brP7Hy-I",
        "outputId": "7d1cecf7-c8ef-4221-9dcf-3fe506632216"
      },
      "execution_count": null,
      "outputs": [
        {
          "output_type": "execute_result",
          "data": {
            "text/plain": [
              "['go', 'go', 'go', 'go', 'hi', 'hi', 'run', 'run', 'run', 'run']"
            ]
          },
          "metadata": {},
          "execution_count": 18
        }
      ]
    },
    {
      "cell_type": "code",
      "source": [
        "eng_sequences[:10]"
      ],
      "metadata": {
        "colab": {
          "base_uri": "https://localhost:8080/"
        },
        "id": "aM3gEQB9Hc1G",
        "outputId": "a2dc13df-fd1d-4d1d-94a1-b8d3c2e9d64d"
      },
      "execution_count": null,
      "outputs": [
        {
          "output_type": "execute_result",
          "data": {
            "text/plain": [
              "[[44], [44], [44], [44], [2640], [2640], [417], [417], [417], [417]]"
            ]
          },
          "metadata": {},
          "execution_count": 19
        }
      ]
    },
    {
      "cell_type": "code",
      "source": [
        "fr_processed[:10]"
      ],
      "metadata": {
        "colab": {
          "base_uri": "https://localhost:8080/"
        },
        "id": "LKQXhcQHH7ZN",
        "outputId": "75b28647-90b3-4aa8-c420-dff94797d924"
      },
      "execution_count": null,
      "outputs": [
        {
          "output_type": "execute_result",
          "data": {
            "text/plain": [
              "['va',\n",
              " 'marche',\n",
              " 'en route',\n",
              " 'bouge',\n",
              " 'salut',\n",
              " 'salut',\n",
              " 'cours',\n",
              " 'courez',\n",
              " 'prenez vos jambes à vos cous',\n",
              " 'file']"
            ]
          },
          "metadata": {},
          "execution_count": 20
        }
      ]
    },
    {
      "cell_type": "code",
      "source": [
        "fr_sequences[:10]"
      ],
      "metadata": {
        "colab": {
          "base_uri": "https://localhost:8080/"
        },
        "id": "q7WlPDiaHrD0",
        "outputId": "5a3b09e9-ca0a-44b7-e44e-f00d2ec1ef60"
      },
      "execution_count": null,
      "outputs": [
        {
          "output_type": "execute_result",
          "data": {
            "text/plain": [
              "[[99],\n",
              " [764],\n",
              " [20, 609],\n",
              " [2718],\n",
              " [4021],\n",
              " [4021],\n",
              " [523],\n",
              " [6781],\n",
              " [672, 198, 1822, 6, 198, 13206],\n",
              " [2682]]"
            ]
          },
          "metadata": {},
          "execution_count": 21
        }
      ]
    },
    {
      "cell_type": "markdown",
      "source": [
        "# Train test split"
      ],
      "metadata": {
        "id": "eV4_7SFXJZEC"
      }
    },
    {
      "cell_type": "code",
      "source": [
        "# prompt: can you split the english and french data with first 10000 record and train and remaining as test on eng_sequences and fr_sequences\n",
        "\n",
        "# Define the split point\n",
        "split_point = 10000\n",
        "\n",
        "# Split the data into training and testing sets\n",
        "eng_sequences_train = eng_sequences[:split_point]\n",
        "eng_sequences_test = eng_sequences[split_point:]\n",
        "\n",
        "fr_sequences_train = fr_sequences[:split_point]\n",
        "fr_sequences_test = fr_sequences[split_point:]\n",
        "\n",
        "print(f\"English Training set size: {len(eng_sequences_train)}\")\n",
        "print(f\"English Testing set size: {len(eng_sequences_test)}\")\n",
        "print(f\"French Training set size: {len(fr_sequences_train)}\")\n",
        "print(f\"French Testing set size: {len(fr_sequences_test)}\")"
      ],
      "metadata": {
        "colab": {
          "base_uri": "https://localhost:8080/"
        },
        "id": "sedpj3TXHw2j",
        "outputId": "4be9ebe4-29f7-4c60-9831-4441000f7195"
      },
      "execution_count": null,
      "outputs": [
        {
          "output_type": "stream",
          "name": "stdout",
          "text": [
            "English Training set size: 10000\n",
            "English Testing set size: 227838\n",
            "French Training set size: 10000\n",
            "French Testing set size: 227838\n"
          ]
        }
      ]
    },
    {
      "cell_type": "code",
      "source": [
        "eng_sequences_train[700:900]"
      ],
      "metadata": {
        "colab": {
          "base_uri": "https://localhost:8080/"
        },
        "id": "LoIsYme7NfPM",
        "outputId": "7ff1f9c2-64ea-4afe-d85d-59161efcb0fd"
      },
      "execution_count": null,
      "outputs": [
        {
          "output_type": "execute_result",
          "data": {
            "text/plain": [
              "[[19, 1099],\n",
              " [19, 1977],\n",
              " [19, 1977],\n",
              " [19, 174],\n",
              " [19, 1109],\n",
              " [19, 1109],\n",
              " [19, 1109],\n",
              " [19, 469],\n",
              " [19, 763],\n",
              " [19, 763],\n",
              " [19, 763],\n",
              " [19, 466],\n",
              " [19, 466],\n",
              " [19, 466],\n",
              " [19, 560],\n",
              " [19, 560],\n",
              " [19, 522],\n",
              " [19, 522],\n",
              " [19, 310],\n",
              " [19, 72],\n",
              " [19, 72],\n",
              " [19, 114],\n",
              " [19, 224],\n",
              " [19, 1353],\n",
              " [19, 1353],\n",
              " [19, 1353],\n",
              " [19, 1353],\n",
              " [19, 254],\n",
              " [19, 254],\n",
              " [19, 2010],\n",
              " [19, 2010],\n",
              " [19, 598],\n",
              " [19, 483],\n",
              " [19, 421],\n",
              " [19, 119],\n",
              " [19, 119],\n",
              " [19, 119],\n",
              " [19, 119],\n",
              " [19, 764],\n",
              " [19, 1887],\n",
              " [19, 3762],\n",
              " [19, 3762],\n",
              " [19, 1641],\n",
              " [19, 1641],\n",
              " [19, 1641],\n",
              " [19, 1686],\n",
              " [19, 109],\n",
              " [19, 109],\n",
              " [74, 816],\n",
              " [74, 816],\n",
              " [11, 1978],\n",
              " [11, 1373],\n",
              " [11, 568],\n",
              " [11, 568],\n",
              " [42, 6],\n",
              " [42, 350],\n",
              " [42, 350],\n",
              " [42, 43],\n",
              " [42, 43],\n",
              " [42, 468],\n",
              " [42, 159],\n",
              " [42, 159],\n",
              " [42, 1868],\n",
              " [42, 558],\n",
              " [42, 790],\n",
              " [202, 64],\n",
              " [202, 64],\n",
              " [693, 6],\n",
              " [693, 6],\n",
              " [804, 6],\n",
              " [153, 11],\n",
              " [153, 11],\n",
              " [153, 11],\n",
              " [153, 11],\n",
              " [153, 11],\n",
              " [153, 15],\n",
              " [153, 87],\n",
              " [153, 87],\n",
              " [133, 44],\n",
              " [133, 44],\n",
              " [133, 44],\n",
              " [133, 44],\n",
              " [133, 44],\n",
              " [124, 64],\n",
              " [124, 64],\n",
              " [124, 64],\n",
              " [124, 64],\n",
              " [124, 64],\n",
              " [124, 64],\n",
              " [124, 64],\n",
              " [124, 64],\n",
              " [124, 64],\n",
              " [124, 64],\n",
              " [1123, 15],\n",
              " [1123, 15],\n",
              " [181, 1, 44],\n",
              " [181, 1, 44],\n",
              " [181, 1, 44],\n",
              " [306, 199],\n",
              " [1642],\n",
              " [1642],\n",
              " [1642],\n",
              " [1642],\n",
              " [1642],\n",
              " [1642],\n",
              " [1642],\n",
              " [1642],\n",
              " [1642],\n",
              " [1642],\n",
              " [1642],\n",
              " [1642],\n",
              " [96, 183],\n",
              " [96, 183],\n",
              " [1282, 11],\n",
              " [1282, 11],\n",
              " [417, 215],\n",
              " [417, 215],\n",
              " [417, 215],\n",
              " [417, 215],\n",
              " [828, 6],\n",
              " [828, 6],\n",
              " [121, 25],\n",
              " [33, 245],\n",
              " [33, 395],\n",
              " [33, 169],\n",
              " [33, 1623],\n",
              " [459, 158],\n",
              " [459, 158],\n",
              " [459, 158],\n",
              " [459, 158],\n",
              " [459, 158],\n",
              " [459, 47],\n",
              " [459, 47],\n",
              " [179, 58],\n",
              " [179, 58],\n",
              " [179, 58],\n",
              " [1804, 58],\n",
              " [1804, 58],\n",
              " [517, 58],\n",
              " [183, 6],\n",
              " [183, 6],\n",
              " [90, 6],\n",
              " [1272, 11],\n",
              " [1272, 11],\n",
              " [1272, 11],\n",
              " [1272, 11],\n",
              " [82, 6],\n",
              " [82, 6],\n",
              " [2354],\n",
              " [2354],\n",
              " [2354],\n",
              " [2354],\n",
              " [2354],\n",
              " [2354],\n",
              " [2354],\n",
              " [2354],\n",
              " [2354],\n",
              " [2354],\n",
              " [2354],\n",
              " [2354],\n",
              " [2354],\n",
              " [2354],\n",
              " [2354],\n",
              " [2354],\n",
              " [2354],\n",
              " [45, 816],\n",
              " [45, 816],\n",
              " [45, 816],\n",
              " [45, 816],\n",
              " [6, 245],\n",
              " [6, 395],\n",
              " [6, 236],\n",
              " [6, 169],\n",
              " [6, 169],\n",
              " [6, 974],\n",
              " [6, 1725],\n",
              " [6, 254],\n",
              " [6, 583],\n",
              " [6, 583],\n",
              " [6, 155],\n",
              " [207, 58],\n",
              " [100, 224],\n",
              " [678, 11],\n",
              " [678, 11],\n",
              " [678, 11],\n",
              " [678, 11],\n",
              " [414, 15],\n",
              " [414, 15],\n",
              " [414, 15],\n",
              " [414, 15],\n",
              " [414, 15],\n",
              " [199, 102],\n",
              " [199, 102],\n",
              " [199, 102],\n",
              " [199, 12],\n",
              " [199, 12],\n",
              " [199, 12],\n",
              " [279, 12],\n",
              " [279, 12],\n",
              " [279, 12]]"
            ]
          },
          "metadata": {},
          "execution_count": 23
        }
      ]
    },
    {
      "cell_type": "markdown",
      "source": [
        "# Pad the sequence of text to make sure they are uniform in length"
      ],
      "metadata": {
        "id": "5RXemLZyKml0"
      }
    },
    {
      "cell_type": "code",
      "source": [
        "# prompt: # Pad the sequence of text to make sure they are uniform in length based on max length of the data set accordingly\n",
        "# use the keras padsquence with post padding\n",
        "# use the max length of respective variable in padding and do the padding for train and test for both english and french\n",
        "# the max length should be found from whole data set rather than finding it separately in train and test\n",
        "# note: we have already found the max lenth from below code\n",
        "# # Find the length of each sentence in the English and French processed lists\n",
        "# eng_lengths = [len(sentence.split()) for sentence in eng_processed]\n",
        "# fr_lengths = [len(sentence.split()) for sentence in fr_processed]\n",
        "\n",
        "# Determine the overall maximum length for English and French sequences\n",
        "max_eng_length = max(eng_lengths)\n",
        "max_fr_length = max(fr_lengths)\n",
        "\n",
        "print(f\"Overall Max English Sequence Length: {max_eng_length}\")\n",
        "print(f\"Overall Max French Sequence Length: {max_fr_length}\")\n",
        "\n",
        "# Pad the train and test sequences using the overall max lengths and post padding\n",
        "eng_train_padded = pad_sequences(eng_sequences_train, maxlen=max_eng_length, padding='post')\n",
        "fr_train_padded = pad_sequences(fr_sequences_train, maxlen=max_fr_length, padding='post')\n",
        "eng_test_padded = pad_sequences(eng_sequences_test, maxlen=max_eng_length, padding='post')\n",
        "fr_test_padded = pad_sequences(fr_sequences_test, maxlen=max_fr_length, padding='post')\n",
        "\n",
        "print(\"\\nShape of padded English train data:\", eng_train_padded.shape)\n",
        "print(\"Shape of padded French train data:\", fr_train_padded.shape)\n",
        "print(\"Shape of padded English test data:\", eng_test_padded.shape)\n",
        "print(\"Shape of padded French test data:\", fr_test_padded.shape)"
      ],
      "metadata": {
        "colab": {
          "base_uri": "https://localhost:8080/"
        },
        "id": "S741VcytJ6La",
        "outputId": "5f1d6843-a050-4552-8864-51fc7909b7d1"
      },
      "execution_count": null,
      "outputs": [
        {
          "output_type": "stream",
          "name": "stdout",
          "text": [
            "Overall Max English Sequence Length: 55\n",
            "Overall Max French Sequence Length: 56\n",
            "\n",
            "Shape of padded English train data: (10000, 55)\n",
            "Shape of padded French train data: (10000, 56)\n",
            "Shape of padded English test data: (227838, 55)\n",
            "Shape of padded French test data: (227838, 56)\n"
          ]
        }
      ]
    },
    {
      "cell_type": "code",
      "source": [
        "eng_train_padded[:1]"
      ],
      "metadata": {
        "colab": {
          "base_uri": "https://localhost:8080/"
        },
        "id": "SYCxrKR7LBoO",
        "outputId": "9b539ae0-1111-429f-d06d-2c0943647c7f"
      },
      "execution_count": null,
      "outputs": [
        {
          "output_type": "execute_result",
          "data": {
            "text/plain": [
              "array([[44,  0,  0,  0,  0,  0,  0,  0,  0,  0,  0,  0,  0,  0,  0,  0,\n",
              "         0,  0,  0,  0,  0,  0,  0,  0,  0,  0,  0,  0,  0,  0,  0,  0,\n",
              "         0,  0,  0,  0,  0,  0,  0,  0,  0,  0,  0,  0,  0,  0,  0,  0,\n",
              "         0,  0,  0,  0,  0,  0,  0]], dtype=int32)"
            ]
          },
          "metadata": {},
          "execution_count": 25
        }
      ]
    },
    {
      "cell_type": "code",
      "source": [
        "fr_train_padded[:1]"
      ],
      "metadata": {
        "colab": {
          "base_uri": "https://localhost:8080/"
        },
        "id": "6detB1jFMPZ6",
        "outputId": "cd502094-e666-475d-904d-e6d467964f35"
      },
      "execution_count": null,
      "outputs": [
        {
          "output_type": "execute_result",
          "data": {
            "text/plain": [
              "array([[99,  0,  0,  0,  0,  0,  0,  0,  0,  0,  0,  0,  0,  0,  0,  0,\n",
              "         0,  0,  0,  0,  0,  0,  0,  0,  0,  0,  0,  0,  0,  0,  0,  0,\n",
              "         0,  0,  0,  0,  0,  0,  0,  0,  0,  0,  0,  0,  0,  0,  0,  0,\n",
              "         0,  0,  0,  0,  0,  0,  0,  0]], dtype=int32)"
            ]
          },
          "metadata": {},
          "execution_count": 26
        }
      ]
    },
    {
      "cell_type": "code",
      "source": [],
      "metadata": {
        "id": "6E5gzpFGOW8d"
      },
      "execution_count": null,
      "outputs": []
    },
    {
      "cell_type": "markdown",
      "source": [
        "# Build the seq2seq Model Architecture"
      ],
      "metadata": {
        "id": "MXJ_6NKqOePo"
      }
    },
    {
      "cell_type": "code",
      "source": [
        "# prompt: I want you to create a seq2seq amodel architecture for machine tranlsation where my input is english and output is french\n",
        "# 1. Input is english and it should be embedded with an embedding length of 512 dimension\n",
        "# 2. Encode to be with LSTM layer with LSTM units of 512\n",
        "# 3. have a repeat vector vector to pass it on to the decoding layer\n",
        "# 4. Decoding layer as LSTM with 512 units\n",
        "# 5.i want the dense layer with eng vocab size with softmax activstion and compile it with best optimizer and lass function\n",
        "# can you write the simple straight forward keras function for seq2seq model\n",
        "\n",
        "import tensorflow as tf\n",
        "from tensorflow.keras.models import Model\n",
        "from tensorflow.keras.layers import Input, LSTM, Embedding, Dense, RepeatVector\n",
        "\n",
        "def build_seq2seq_model(english_vocab_size, french_vocab_size, embedding_dim=512, lstm_units=512, eng_max_len=None, fr_max_len=None):\n",
        "    # Encoder\n",
        "    encoder_inputs = Input(shape=(eng_max_len,), name=\"encoder_input\")\n",
        "    encoder_embedding = Embedding(input_dim=english_vocab_size, output_dim=embedding_dim, name=\"embedding\")(encoder_inputs)\n",
        "    encoder_output = LSTM(units=lstm_units, name=\"encoder_lstm\")(encoder_embedding)\n",
        "\n",
        "    # Repeat vector\n",
        "    repeated = RepeatVector(fr_max_len, name=\"repeat_vector\")(encoder_output)\n",
        "\n",
        "    # Decoder\n",
        "    decoder_lstm = LSTM(units=lstm_units, return_sequences=True, name=\"decoder_lstm\")(repeated)\n",
        "    decoder_dense = Dense(units=french_vocab_size, activation=\"softmax\", name=\"output\")(decoder_lstm)\n",
        "\n",
        "    # Model\n",
        "    model = Model(inputs=encoder_inputs, outputs=decoder_dense)\n",
        "\n",
        "    # Compile\n",
        "    model.compile(optimizer='adam', loss='sparse_categorical_crossentropy', metrics=['accuracy'])\n",
        "\n",
        "    return model\n",
        "\n",
        "# Example usage (assuming you have calculated vocab sizes and max lengths)\n",
        "english_vocab_size = len(eng_tokenizer.word_index) + 1  # Add 1 for padding\n",
        "french_vocab_size = len(fr_tokenizer.word_index) + 1    # Add 1 for padding\n",
        "# Use the max lengths determined from the data\n",
        "eng_max_len = max_eng_length\n",
        "fr_max_len = max_fr_length\n",
        "\n",
        "model = build_seq2seq_model(english_vocab_size, french_vocab_size, eng_max_len=eng_max_len, fr_max_len=fr_max_len)\n",
        "model.summary()"
      ],
      "metadata": {
        "colab": {
          "base_uri": "https://localhost:8080/",
          "height": 331
        },
        "id": "rrQnS6AaTUGR",
        "outputId": "70e51dd9-a222-4a25-c974-7469562e3a56"
      },
      "execution_count": null,
      "outputs": [
        {
          "output_type": "display_data",
          "data": {
            "text/plain": [
              "\u001b[1mModel: \"functional\"\u001b[0m\n"
            ],
            "text/html": [
              "<pre style=\"white-space:pre;overflow-x:auto;line-height:normal;font-family:Menlo,'DejaVu Sans Mono',consolas,'Courier New',monospace\"><span style=\"font-weight: bold\">Model: \"functional\"</span>\n",
              "</pre>\n"
            ]
          },
          "metadata": {}
        },
        {
          "output_type": "display_data",
          "data": {
            "text/plain": [
              "┏━━━━━━━━━━━━━━━━━━━━━━━━━━━━━━━━━┳━━━━━━━━━━━━━━━━━━━━━━━━┳━━━━━━━━━━━━━━━┓\n",
              "┃\u001b[1m \u001b[0m\u001b[1mLayer (type)                   \u001b[0m\u001b[1m \u001b[0m┃\u001b[1m \u001b[0m\u001b[1mOutput Shape          \u001b[0m\u001b[1m \u001b[0m┃\u001b[1m \u001b[0m\u001b[1m      Param #\u001b[0m\u001b[1m \u001b[0m┃\n",
              "┡━━━━━━━━━━━━━━━━━━━━━━━━━━━━━━━━━╇━━━━━━━━━━━━━━━━━━━━━━━━╇━━━━━━━━━━━━━━━┩\n",
              "│ encoder_input (\u001b[38;5;33mInputLayer\u001b[0m)      │ (\u001b[38;5;45mNone\u001b[0m, \u001b[38;5;34m55\u001b[0m)             │             \u001b[38;5;34m0\u001b[0m │\n",
              "├─────────────────────────────────┼────────────────────────┼───────────────┤\n",
              "│ embedding (\u001b[38;5;33mEmbedding\u001b[0m)           │ (\u001b[38;5;45mNone\u001b[0m, \u001b[38;5;34m55\u001b[0m, \u001b[38;5;34m512\u001b[0m)        │     \u001b[38;5;34m8,817,152\u001b[0m │\n",
              "├─────────────────────────────────┼────────────────────────┼───────────────┤\n",
              "│ encoder_lstm (\u001b[38;5;33mLSTM\u001b[0m)             │ (\u001b[38;5;45mNone\u001b[0m, \u001b[38;5;34m512\u001b[0m)            │     \u001b[38;5;34m2,099,200\u001b[0m │\n",
              "├─────────────────────────────────┼────────────────────────┼───────────────┤\n",
              "│ repeat_vector (\u001b[38;5;33mRepeatVector\u001b[0m)    │ (\u001b[38;5;45mNone\u001b[0m, \u001b[38;5;34m56\u001b[0m, \u001b[38;5;34m512\u001b[0m)        │             \u001b[38;5;34m0\u001b[0m │\n",
              "├─────────────────────────────────┼────────────────────────┼───────────────┤\n",
              "│ decoder_lstm (\u001b[38;5;33mLSTM\u001b[0m)             │ (\u001b[38;5;45mNone\u001b[0m, \u001b[38;5;34m56\u001b[0m, \u001b[38;5;34m512\u001b[0m)        │     \u001b[38;5;34m2,099,200\u001b[0m │\n",
              "├─────────────────────────────────┼────────────────────────┼───────────────┤\n",
              "│ output (\u001b[38;5;33mDense\u001b[0m)                  │ (\u001b[38;5;45mNone\u001b[0m, \u001b[38;5;34m56\u001b[0m, \u001b[38;5;34m33609\u001b[0m)      │    \u001b[38;5;34m17,241,417\u001b[0m │\n",
              "└─────────────────────────────────┴────────────────────────┴───────────────┘\n"
            ],
            "text/html": [
              "<pre style=\"white-space:pre;overflow-x:auto;line-height:normal;font-family:Menlo,'DejaVu Sans Mono',consolas,'Courier New',monospace\">┏━━━━━━━━━━━━━━━━━━━━━━━━━━━━━━━━━┳━━━━━━━━━━━━━━━━━━━━━━━━┳━━━━━━━━━━━━━━━┓\n",
              "┃<span style=\"font-weight: bold\"> Layer (type)                    </span>┃<span style=\"font-weight: bold\"> Output Shape           </span>┃<span style=\"font-weight: bold\">       Param # </span>┃\n",
              "┡━━━━━━━━━━━━━━━━━━━━━━━━━━━━━━━━━╇━━━━━━━━━━━━━━━━━━━━━━━━╇━━━━━━━━━━━━━━━┩\n",
              "│ encoder_input (<span style=\"color: #0087ff; text-decoration-color: #0087ff\">InputLayer</span>)      │ (<span style=\"color: #00d7ff; text-decoration-color: #00d7ff\">None</span>, <span style=\"color: #00af00; text-decoration-color: #00af00\">55</span>)             │             <span style=\"color: #00af00; text-decoration-color: #00af00\">0</span> │\n",
              "├─────────────────────────────────┼────────────────────────┼───────────────┤\n",
              "│ embedding (<span style=\"color: #0087ff; text-decoration-color: #0087ff\">Embedding</span>)           │ (<span style=\"color: #00d7ff; text-decoration-color: #00d7ff\">None</span>, <span style=\"color: #00af00; text-decoration-color: #00af00\">55</span>, <span style=\"color: #00af00; text-decoration-color: #00af00\">512</span>)        │     <span style=\"color: #00af00; text-decoration-color: #00af00\">8,817,152</span> │\n",
              "├─────────────────────────────────┼────────────────────────┼───────────────┤\n",
              "│ encoder_lstm (<span style=\"color: #0087ff; text-decoration-color: #0087ff\">LSTM</span>)             │ (<span style=\"color: #00d7ff; text-decoration-color: #00d7ff\">None</span>, <span style=\"color: #00af00; text-decoration-color: #00af00\">512</span>)            │     <span style=\"color: #00af00; text-decoration-color: #00af00\">2,099,200</span> │\n",
              "├─────────────────────────────────┼────────────────────────┼───────────────┤\n",
              "│ repeat_vector (<span style=\"color: #0087ff; text-decoration-color: #0087ff\">RepeatVector</span>)    │ (<span style=\"color: #00d7ff; text-decoration-color: #00d7ff\">None</span>, <span style=\"color: #00af00; text-decoration-color: #00af00\">56</span>, <span style=\"color: #00af00; text-decoration-color: #00af00\">512</span>)        │             <span style=\"color: #00af00; text-decoration-color: #00af00\">0</span> │\n",
              "├─────────────────────────────────┼────────────────────────┼───────────────┤\n",
              "│ decoder_lstm (<span style=\"color: #0087ff; text-decoration-color: #0087ff\">LSTM</span>)             │ (<span style=\"color: #00d7ff; text-decoration-color: #00d7ff\">None</span>, <span style=\"color: #00af00; text-decoration-color: #00af00\">56</span>, <span style=\"color: #00af00; text-decoration-color: #00af00\">512</span>)        │     <span style=\"color: #00af00; text-decoration-color: #00af00\">2,099,200</span> │\n",
              "├─────────────────────────────────┼────────────────────────┼───────────────┤\n",
              "│ output (<span style=\"color: #0087ff; text-decoration-color: #0087ff\">Dense</span>)                  │ (<span style=\"color: #00d7ff; text-decoration-color: #00d7ff\">None</span>, <span style=\"color: #00af00; text-decoration-color: #00af00\">56</span>, <span style=\"color: #00af00; text-decoration-color: #00af00\">33609</span>)      │    <span style=\"color: #00af00; text-decoration-color: #00af00\">17,241,417</span> │\n",
              "└─────────────────────────────────┴────────────────────────┴───────────────┘\n",
              "</pre>\n"
            ]
          },
          "metadata": {}
        },
        {
          "output_type": "display_data",
          "data": {
            "text/plain": [
              "\u001b[1m Total params: \u001b[0m\u001b[38;5;34m30,256,969\u001b[0m (115.42 MB)\n"
            ],
            "text/html": [
              "<pre style=\"white-space:pre;overflow-x:auto;line-height:normal;font-family:Menlo,'DejaVu Sans Mono',consolas,'Courier New',monospace\"><span style=\"font-weight: bold\"> Total params: </span><span style=\"color: #00af00; text-decoration-color: #00af00\">30,256,969</span> (115.42 MB)\n",
              "</pre>\n"
            ]
          },
          "metadata": {}
        },
        {
          "output_type": "display_data",
          "data": {
            "text/plain": [
              "\u001b[1m Trainable params: \u001b[0m\u001b[38;5;34m30,256,969\u001b[0m (115.42 MB)\n"
            ],
            "text/html": [
              "<pre style=\"white-space:pre;overflow-x:auto;line-height:normal;font-family:Menlo,'DejaVu Sans Mono',consolas,'Courier New',monospace\"><span style=\"font-weight: bold\"> Trainable params: </span><span style=\"color: #00af00; text-decoration-color: #00af00\">30,256,969</span> (115.42 MB)\n",
              "</pre>\n"
            ]
          },
          "metadata": {}
        },
        {
          "output_type": "display_data",
          "data": {
            "text/plain": [
              "\u001b[1m Non-trainable params: \u001b[0m\u001b[38;5;34m0\u001b[0m (0.00 B)\n"
            ],
            "text/html": [
              "<pre style=\"white-space:pre;overflow-x:auto;line-height:normal;font-family:Menlo,'DejaVu Sans Mono',consolas,'Courier New',monospace\"><span style=\"font-weight: bold\"> Non-trainable params: </span><span style=\"color: #00af00; text-decoration-color: #00af00\">0</span> (0.00 B)\n",
              "</pre>\n"
            ]
          },
          "metadata": {}
        }
      ]
    },
    {
      "cell_type": "code",
      "source": [
        "tf.config.list_physical_devices('GPU')"
      ],
      "metadata": {
        "colab": {
          "base_uri": "https://localhost:8080/"
        },
        "id": "8RdOf60kWYcx",
        "outputId": "038a9ff7-80ac-4198-bae2-4787fdf98780"
      },
      "execution_count": null,
      "outputs": [
        {
          "output_type": "execute_result",
          "data": {
            "text/plain": [
              "[PhysicalDevice(name='/physical_device:GPU:0', device_type='GPU')]"
            ]
          },
          "metadata": {},
          "execution_count": 28
        }
      ]
    },
    {
      "cell_type": "code",
      "source": [
        "print(\"Is GPU available:\", tf.test.is_gpu_available())\n"
      ],
      "metadata": {
        "colab": {
          "base_uri": "https://localhost:8080/"
        },
        "id": "GCU6uLTcWgwp",
        "outputId": "677f3310-7dff-40e3-f3b8-e254bfde333e"
      },
      "execution_count": null,
      "outputs": [
        {
          "output_type": "stream",
          "name": "stderr",
          "text": [
            "WARNING:tensorflow:From /tmp/ipython-input-29-3216581623.py:1: is_gpu_available (from tensorflow.python.framework.test_util) is deprecated and will be removed in a future version.\n",
            "Instructions for updating:\n",
            "Use `tf.config.list_physical_devices('GPU')` instead.\n"
          ]
        },
        {
          "output_type": "stream",
          "name": "stdout",
          "text": [
            "Is GPU available: True\n"
          ]
        }
      ]
    },
    {
      "cell_type": "markdown",
      "source": [
        "# Train the model"
      ],
      "metadata": {
        "id": "UYl_uZHxWz8y"
      }
    },
    {
      "cell_type": "code",
      "source": [
        "# prompt: can you fit the model with appropriate input and output with train and test for validation and add callback with model checkpoint on save the best model and early stopping if necessary and make the batch size of 512 and epoch of 50, validation split of 0.1 and verbose of 1\n",
        "\n",
        "callbacks = [\n",
        "    tf.keras.callbacks.ModelCheckpoint(\n",
        "        filepath='best_model.h5',\n",
        "        monitor='val_loss',\n",
        "        save_best_only=True,\n",
        "        mode='min',\n",
        "        verbose=1\n",
        "    )\n",
        "    # tf.keras.callbacks.EarlyStopping(\n",
        "    #     monitor='val_loss',\n",
        "    #     patience=3,  # Number of epochs with no improvement after which training will be stopped.\n",
        "    #     mode='min',\n",
        "    #     verbose=1\n",
        "    # )\n",
        "]\n",
        "\n",
        "history = model.fit(\n",
        "    eng_train_padded,\n",
        "    fr_train_padded,\n",
        "    epochs=100,\n",
        "    batch_size=32,\n",
        "    validation_split=0.1,\n",
        "    verbose=1,\n",
        "    callbacks=callbacks\n",
        ")"
      ],
      "metadata": {
        "colab": {
          "base_uri": "https://localhost:8080/"
        },
        "id": "OaoSA2w7Wi_f",
        "outputId": "5a01aab6-7509-42ea-9701-8eff0d9c2547"
      },
      "execution_count": null,
      "outputs": [
        {
          "output_type": "stream",
          "name": "stdout",
          "text": [
            "Epoch 1/5\n",
            "\u001b[1m282/282\u001b[0m \u001b[32m━━━━━━━━━━━━━━━━━━━━\u001b[0m\u001b[37m\u001b[0m \u001b[1m0s\u001b[0m 166ms/step - accuracy: 0.9274 - loss: 1.5119\n",
            "Epoch 1: val_loss improved from inf to 0.44968, saving model to best_model.h5\n"
          ]
        },
        {
          "output_type": "stream",
          "name": "stderr",
          "text": [
            "WARNING:absl:You are saving your model as an HDF5 file via `model.save()` or `keras.saving.save_model(model)`. This file format is considered legacy. We recommend using instead the native Keras format, e.g. `model.save('my_model.keras')` or `keras.saving.save_model(model, 'my_model.keras')`. \n"
          ]
        },
        {
          "output_type": "stream",
          "name": "stdout",
          "text": [
            "\b\b\b\b\b\b\b\b\b\b\b\b\b\b\b\b\b\b\b\b\b\b\b\b\b\b\b\b\b\b\b\b\b\b\b\b\b\b\b\b\b\b\b\b\b\b\b\b\b\b\b\b\b\b\b\b\b\b\b\b\b\b\b\b\b\b\b\b\b\b\b\b\b\b\b\b\r\u001b[1m282/282\u001b[0m \u001b[32m━━━━━━━━━━━━━━━━━━━━\u001b[0m\u001b[37m\u001b[0m \u001b[1m57s\u001b[0m 187ms/step - accuracy: 0.9275 - loss: 1.5089 - val_accuracy: 0.9404 - val_loss: 0.4497\n",
            "Epoch 2/5\n",
            "\u001b[1m282/282\u001b[0m \u001b[32m━━━━━━━━━━━━━━━━━━━━\u001b[0m\u001b[37m\u001b[0m \u001b[1m0s\u001b[0m 177ms/step - accuracy: 0.9509 - loss: 0.3644\n",
            "Epoch 2: val_loss improved from 0.44968 to 0.44119, saving model to best_model.h5\n"
          ]
        },
        {
          "output_type": "stream",
          "name": "stderr",
          "text": [
            "WARNING:absl:You are saving your model as an HDF5 file via `model.save()` or `keras.saving.save_model(model)`. This file format is considered legacy. We recommend using instead the native Keras format, e.g. `model.save('my_model.keras')` or `keras.saving.save_model(model, 'my_model.keras')`. \n"
          ]
        },
        {
          "output_type": "stream",
          "name": "stdout",
          "text": [
            "\b\b\b\b\b\b\b\b\b\b\b\b\b\b\b\b\b\b\b\b\b\b\b\b\b\b\b\b\b\b\b\b\b\b\b\b\b\b\b\b\b\b\b\b\b\b\b\b\b\b\b\b\b\b\b\b\b\b\b\b\b\b\b\b\b\b\b\b\b\b\b\b\b\b\b\b\r\u001b[1m282/282\u001b[0m \u001b[32m━━━━━━━━━━━━━━━━━━━━\u001b[0m\u001b[37m\u001b[0m \u001b[1m59s\u001b[0m 211ms/step - accuracy: 0.9509 - loss: 0.3644 - val_accuracy: 0.9404 - val_loss: 0.4412\n",
            "Epoch 3/5\n",
            "\u001b[1m282/282\u001b[0m \u001b[32m━━━━━━━━━━━━━━━━━━━━\u001b[0m\u001b[37m\u001b[0m \u001b[1m0s\u001b[0m 179ms/step - accuracy: 0.9508 - loss: 0.3544\n",
            "Epoch 3: val_loss did not improve from 0.44119\n",
            "\u001b[1m282/282\u001b[0m \u001b[32m━━━━━━━━━━━━━━━━━━━━\u001b[0m\u001b[37m\u001b[0m \u001b[1m76s\u001b[0m 188ms/step - accuracy: 0.9508 - loss: 0.3544 - val_accuracy: 0.9404 - val_loss: 0.4420\n",
            "Epoch 4/5\n",
            "\u001b[1m282/282\u001b[0m \u001b[32m━━━━━━━━━━━━━━━━━━━━\u001b[0m\u001b[37m\u001b[0m \u001b[1m0s\u001b[0m 177ms/step - accuracy: 0.9505 - loss: 0.3489\n",
            "Epoch 4: val_loss improved from 0.44119 to 0.43620, saving model to best_model.h5\n"
          ]
        },
        {
          "output_type": "stream",
          "name": "stderr",
          "text": [
            "WARNING:absl:You are saving your model as an HDF5 file via `model.save()` or `keras.saving.save_model(model)`. This file format is considered legacy. We recommend using instead the native Keras format, e.g. `model.save('my_model.keras')` or `keras.saving.save_model(model, 'my_model.keras')`. \n"
          ]
        },
        {
          "output_type": "stream",
          "name": "stdout",
          "text": [
            "\b\b\b\b\b\b\b\b\b\b\b\b\b\b\b\b\b\b\b\b\b\b\b\b\b\b\b\b\b\b\b\b\b\b\b\b\b\b\b\b\b\b\b\b\b\b\b\b\b\b\b\b\b\b\b\b\b\b\b\b\b\b\b\b\b\b\b\b\b\b\b\b\b\b\b\b\r\u001b[1m282/282\u001b[0m \u001b[32m━━━━━━━━━━━━━━━━━━━━\u001b[0m\u001b[37m\u001b[0m \u001b[1m54s\u001b[0m 191ms/step - accuracy: 0.9505 - loss: 0.3489 - val_accuracy: 0.9400 - val_loss: 0.4362\n",
            "Epoch 5/5\n",
            "\u001b[1m282/282\u001b[0m \u001b[32m━━━━━━━━━━━━━━━━━━━━\u001b[0m\u001b[37m\u001b[0m \u001b[1m0s\u001b[0m 180ms/step - accuracy: 0.9506 - loss: 0.3440\n",
            "Epoch 5: val_loss did not improve from 0.43620\n",
            "\u001b[1m282/282\u001b[0m \u001b[32m━━━━━━━━━━━━━━━━━━━━\u001b[0m\u001b[37m\u001b[0m \u001b[1m81s\u001b[0m 189ms/step - accuracy: 0.9506 - loss: 0.3440 - val_accuracy: 0.9404 - val_loss: 0.4407\n"
          ]
        }
      ]
    },
    {
      "cell_type": "code",
      "source": [
        "history"
      ],
      "metadata": {
        "colab": {
          "base_uri": "https://localhost:8080/"
        },
        "id": "_mdEn9p_XcTj",
        "outputId": "49d63215-54ab-4ad5-dfcd-bf665d72633d"
      },
      "execution_count": null,
      "outputs": [
        {
          "output_type": "execute_result",
          "data": {
            "text/plain": [
              "<keras.src.callbacks.history.History at 0x79d3f9e6d250>"
            ]
          },
          "metadata": {},
          "execution_count": 31
        }
      ]
    },
    {
      "cell_type": "code",
      "source": [
        "# prompt: draw the plot for history\n",
        "\n",
        "import matplotlib.pyplot as plt\n",
        "plt.figure(figsize=(12, 6))\n",
        "\n",
        "# Plot training and validation loss\n",
        "plt.subplot(1, 2, 1)\n",
        "plt.plot(history.history['loss'], label='Training Loss')\n",
        "plt.plot(history.history['val_loss'], label='Validation Loss')\n",
        "plt.title('Loss over Epochs')\n",
        "plt.xlabel('Epoch')\n",
        "plt.ylabel('Loss')\n",
        "plt.legend()\n",
        "plt.grid(True)\n",
        "\n",
        "# Plot training and validation accuracy\n",
        "plt.subplot(1, 2, 2)\n",
        "plt.plot(history.history['accuracy'], label='Training Accuracy')\n",
        "plt.plot(history.history['val_accuracy'], label='Validation Accuracy')\n",
        "plt.title('Accuracy over Epochs')\n",
        "plt.xlabel('Epoch')\n",
        "plt.ylabel('Accuracy')\n",
        "plt.legend()\n",
        "plt.grid(True)\n",
        "\n",
        "plt.tight_layout()\n",
        "plt.show()"
      ],
      "metadata": {
        "colab": {
          "base_uri": "https://localhost:8080/",
          "height": 607
        },
        "id": "SsCvLJypaMzi",
        "outputId": "2225ee01-8d17-4ddd-d1e3-a6e0d44ee2b6"
      },
      "execution_count": null,
      "outputs": [
        {
          "output_type": "display_data",
          "data": {
            "text/plain": [
              "<Figure size 1200x600 with 2 Axes>"
            ],
            "image/png": "[encoded data removed]"
          },
          "metadata": {}
        }
      ]
    },
    {
      "cell_type": "markdown",
      "source": [
        "# Text Generator"
      ],
      "metadata": {
        "id": "VMWAqd5GbVgF"
      }
    },
    {
      "cell_type": "code",
      "source": [
        "# prompt: now we have a model can you write a utility function to generate the text sequence based on the output prediction sequence\n",
        "\n",
        "def sequence_to_text(sequence, tokenizer):\n",
        "  \"\"\"\n",
        "    Converts a sequence of token IDs back to text.\n",
        "\n",
        "    Args:\n",
        "        sequence (list): A list or numpy array of token IDs.\n",
        "        tokenizer (Tokenizer): The Keras Tokenizer object used for text tokenization.\n",
        "\n",
        "    Returns:\n",
        "        str: The reconstructed text sequence.\n",
        "  \"\"\"\n",
        "  reverse_word_index = dict([(id, word) for word, id in tokenizer.word_index.items()])\n",
        "  # Filter out padding (0) if it's in the sequence\n",
        "  text = ' '.join([reverse_word_index.get(i, '') for i in sequence if i > 0])\n",
        "  return text"
      ],
      "metadata": {
        "id": "NA2ena83a4Db"
      },
      "execution_count": null,
      "outputs": []
    },
    {
      "cell_type": "code",
      "source": [
        "# prompt: can you predict using the model on train first 100 data and validate using Bleu score\n",
        "\n",
        "!pip install sacrebleu\n",
        "\n",
        "from sacrebleu.metrics import BLEU\n",
        "\n",
        "# Predict on the first 100 samples of the training data\n",
        "train_predictions = model.predict(eng_train_padded[:100])\n",
        "\n",
        "# Convert predictions (numerical sequences) to text\n",
        "# The predictions are probability distributions over the vocabulary for each time step.\n",
        "# We need to find the index with the highest probability for each step to get the predicted token ID.\n",
        "predicted_sequences = [tf.argmax(pred, axis=-1).numpy() for pred in train_predictions]\n",
        "predicted_text = [sequence_to_text(seq, fr_tokenizer) for seq in predicted_sequences]\n",
        "\n",
        "# Get the actual target text for the first 100 samples of the training data\n",
        "actual_sequences = fr_train_padded[:100]\n",
        "actual_text = [sequence_to_text(seq, fr_tokenizer) for seq in actual_sequences]\n",
        "\n",
        "# Calculate BLEU score\n",
        "# sacrebleu expects a list of references for each hypothesis.\n",
        "# Since we have one reference per prediction, we wrap the actual_text list in another list.\n",
        "bleu = BLEU()\n",
        "bleu_score = bleu.corpus_score(predicted_text, [actual_text])\n",
        "\n",
        "print(\"Predicted Text (first 10 samples):\")\n",
        "for i in range(100):\n",
        "    print(f\"Input: {sequence_to_text(eng_train_padded[i], eng_tokenizer)}\")\n",
        "    print(f\"Actual: {actual_text[i]}\")\n",
        "    print(f\"Predicted: {predicted_text[i]}\\n\")\n",
        "\n",
        "print(f\"BLEU score on the first 100 training samples: {bleu_score.score}\")\n",
        "print(f\"BLEU score details: {bleu_score}\")"
      ],
      "metadata": {
        "colab": {
          "base_uri": "https://localhost:8080/"
        },
        "id": "PU2ySdWhbuUi",
        "outputId": "dacbdb79-57fb-4f70-c03d-7e78a546b023"
      },
      "execution_count": null,
      "outputs": [
        {
          "output_type": "stream",
          "name": "stdout",
          "text": [
            "Requirement already satisfied: sacrebleu in /usr/local/lib/python3.11/dist-packages (2.5.1)\n",
            "Requirement already satisfied: portalocker in /usr/local/lib/python3.11/dist-packages (from sacrebleu) (3.2.0)\n",
            "Requirement already satisfied: regex in /usr/local/lib/python3.11/dist-packages (from sacrebleu) (2024.11.6)\n",
            "Requirement already satisfied: tabulate>=0.8.9 in /usr/local/lib/python3.11/dist-packages (from sacrebleu) (0.9.0)\n",
            "Requirement already satisfied: numpy>=1.17 in /usr/local/lib/python3.11/dist-packages (from sacrebleu) (2.0.2)\n",
            "Requirement already satisfied: colorama in /usr/local/lib/python3.11/dist-packages (from sacrebleu) (0.4.6)\n",
            "Requirement already satisfied: lxml in /usr/local/lib/python3.11/dist-packages (from sacrebleu) (5.4.0)\n",
            "\u001b[1m4/4\u001b[0m \u001b[32m━━━━━━━━━━━━━━━━━━━━\u001b[0m\u001b[37m\u001b[0m \u001b[1m1s\u001b[0m 156ms/step\n",
            "Predicted Text (first 10 samples):\n",
            "Input: go\n",
            "Actual: va\n",
            "Predicted: je\n",
            "\n",
            "Input: go\n",
            "Actual: marche\n",
            "Predicted: je\n",
            "\n",
            "Input: go\n",
            "Actual: en route\n",
            "Predicted: je\n",
            "\n",
            "Input: go\n",
            "Actual: bouge\n",
            "Predicted: je\n",
            "\n",
            "Input: hi\n",
            "Actual: salut\n",
            "Predicted: je\n",
            "\n",
            "Input: hi\n",
            "Actual: salut\n",
            "Predicted: je\n",
            "\n",
            "Input: run\n",
            "Actual: cours\n",
            "Predicted: je\n",
            "\n",
            "Input: run\n",
            "Actual: courez\n",
            "Predicted: je\n",
            "\n",
            "Input: run\n",
            "Actual: prenez vos jambes à vos cous\n",
            "Predicted: je\n",
            "\n",
            "Input: run\n",
            "Actual: file\n",
            "Predicted: je\n",
            "\n",
            "Input: run\n",
            "Actual: filez\n",
            "Predicted: je\n",
            "\n",
            "Input: run\n",
            "Actual: cours\n",
            "Predicted: je\n",
            "\n",
            "Input: run\n",
            "Actual: fuyez\n",
            "Predicted: je\n",
            "\n",
            "Input: run\n",
            "Actual: fuyons\n",
            "Predicted: je\n",
            "\n",
            "Input: run\n",
            "Actual: cours\n",
            "Predicted: je\n",
            "\n",
            "Input: run\n",
            "Actual: courez\n",
            "Predicted: je\n",
            "\n",
            "Input: run\n",
            "Actual: prenez vos jambes à vos cous\n",
            "Predicted: je\n",
            "\n",
            "Input: run\n",
            "Actual: file\n",
            "Predicted: je\n",
            "\n",
            "Input: run\n",
            "Actual: filez\n",
            "Predicted: je\n",
            "\n",
            "Input: run\n",
            "Actual: cours\n",
            "Predicted: je\n",
            "\n",
            "Input: run\n",
            "Actual: fuyez\n",
            "Predicted: je\n",
            "\n",
            "Input: run\n",
            "Actual: fuyons\n",
            "Predicted: je\n",
            "\n",
            "Input: who\n",
            "Actual: qui\n",
            "Predicted: je\n",
            "\n",
            "Input: wow\n",
            "Actual: ça alors\n",
            "Predicted: je\n",
            "\n",
            "Input: wow\n",
            "Actual: waouh\n",
            "Predicted: je\n",
            "\n",
            "Input: wow\n",
            "Actual: wah\n",
            "Predicted: je\n",
            "\n",
            "Input: duck\n",
            "Actual: à terre\n",
            "Predicted: je\n",
            "\n",
            "Input: duck\n",
            "Actual: baissetoi\n",
            "Predicted: je\n",
            "\n",
            "Input: duck\n",
            "Actual: baissezvous\n",
            "Predicted: je\n",
            "\n",
            "Input: fire\n",
            "Actual: au feu\n",
            "Predicted: je\n",
            "\n",
            "Input: help\n",
            "Actual: à laide\n",
            "Predicted: je\n",
            "\n",
            "Input: hide\n",
            "Actual: cachetoi\n",
            "Predicted: je\n",
            "\n",
            "Input: hide\n",
            "Actual: cachezvous\n",
            "Predicted: je\n",
            "\n",
            "Input: jump\n",
            "Actual: saute\n",
            "Predicted: je\n",
            "\n",
            "Input: jump\n",
            "Actual: saute\n",
            "Predicted: je\n",
            "\n",
            "Input: stop\n",
            "Actual: ça suffit\n",
            "Predicted: je\n",
            "\n",
            "Input: stop\n",
            "Actual: stop\n",
            "Predicted: je\n",
            "\n",
            "Input: stop\n",
            "Actual: arrêtetoi\n",
            "Predicted: je\n",
            "\n",
            "Input: wait\n",
            "Actual: attends\n",
            "Predicted: je\n",
            "\n",
            "Input: wait\n",
            "Actual: attendez\n",
            "Predicted: je\n",
            "\n",
            "Input: wait\n",
            "Actual: attendez\n",
            "Predicted: je\n",
            "\n",
            "Input: wait\n",
            "Actual: attends\n",
            "Predicted: je\n",
            "\n",
            "Input: wait\n",
            "Actual: attendez\n",
            "Predicted: je\n",
            "\n",
            "Input: wait\n",
            "Actual: attends\n",
            "Predicted: je\n",
            "\n",
            "Input: wait\n",
            "Actual: attendez\n",
            "Predicted: je\n",
            "\n",
            "Input: begin\n",
            "Actual: commencez\n",
            "Predicted: je\n",
            "\n",
            "Input: begin\n",
            "Actual: commence\n",
            "Predicted: je\n",
            "\n",
            "Input: go on\n",
            "Actual: poursuis\n",
            "Predicted: je\n",
            "\n",
            "Input: go on\n",
            "Actual: continuez\n",
            "Predicted: je\n",
            "\n",
            "Input: go on\n",
            "Actual: poursuivez\n",
            "Predicted: je\n",
            "\n",
            "Input: hello\n",
            "Actual: bonjour\n",
            "Predicted: je\n",
            "\n",
            "Input: hello\n",
            "Actual: salut\n",
            "Predicted: je\n",
            "\n",
            "Input: hello\n",
            "Actual: bonjour\n",
            "Predicted: je\n",
            "\n",
            "Input: hello\n",
            "Actual: salut\n",
            "Predicted: je\n",
            "\n",
            "Input: hello\n",
            "Actual: bonjour\n",
            "Predicted: je\n",
            "\n",
            "Input: hello\n",
            "Actual: salut\n",
            "Predicted: je\n",
            "\n",
            "Input: i see\n",
            "Actual: je comprends\n",
            "Predicted: je\n",
            "\n",
            "Input: i see\n",
            "Actual: aha\n",
            "Predicted: je\n",
            "\n",
            "Input: i try\n",
            "Actual: jessaye\n",
            "Predicted: je\n",
            "\n",
            "Input: i won\n",
            "Actual: jai gagné\n",
            "Predicted: je\n",
            "\n",
            "Input: i won\n",
            "Actual: je lai emporté\n",
            "Predicted: je\n",
            "\n",
            "Input: i won\n",
            "Actual: jai gagné\n",
            "Predicted: je\n",
            "\n",
            "Input: oh no\n",
            "Actual: oh non\n",
            "Predicted: je\n",
            "\n",
            "Input: relax\n",
            "Actual: calmetoi\n",
            "Predicted: je\n",
            "\n",
            "Input: relax\n",
            "Actual: détendstoi\n",
            "Predicted: je\n",
            "\n",
            "Input: relax\n",
            "Actual: détendezvous\n",
            "Predicted: je\n",
            "\n",
            "Input: relax\n",
            "Actual: relaxe max\n",
            "Predicted: je\n",
            "\n",
            "Input: relax\n",
            "Actual: cool raoul\n",
            "Predicted: je\n",
            "\n",
            "Input: relax\n",
            "Actual: du calme\n",
            "Predicted: je\n",
            "\n",
            "Input: relax\n",
            "Actual: relaxe\n",
            "Predicted: je\n",
            "\n",
            "Input: relax\n",
            "Actual: calmezvous\n",
            "Predicted: je\n",
            "\n",
            "Input: relax\n",
            "Actual: détendstoi\n",
            "Predicted: je\n",
            "\n",
            "Input: relax\n",
            "Actual: détendstoi\n",
            "Predicted: je\n",
            "\n",
            "Input: relax\n",
            "Actual: du calme\n",
            "Predicted: je\n",
            "\n",
            "Input: relax\n",
            "Actual: tranquille\n",
            "Predicted: je\n",
            "\n",
            "Input: shoot\n",
            "Actual: tire\n",
            "Predicted: je\n",
            "\n",
            "Input: shoot\n",
            "Actual: tirez\n",
            "Predicted: je\n",
            "\n",
            "Input: smile\n",
            "Actual: souriez\n",
            "Predicted: je\n",
            "\n",
            "Input: smile\n",
            "Actual: souris pour la caméra\n",
            "Predicted: je\n",
            "\n",
            "Input: smile\n",
            "Actual: souriez\n",
            "Predicted: je\n",
            "\n",
            "Input: sorry\n",
            "Actual: pardon\n",
            "Predicted: je\n",
            "\n",
            "Input: attack\n",
            "Actual: attaque\n",
            "Predicted: je\n",
            "\n",
            "Input: attack\n",
            "Actual: attaquez\n",
            "Predicted: je\n",
            "\n",
            "Input: attack\n",
            "Actual: à lattaque\n",
            "Predicted: je\n",
            "\n",
            "Input: attack\n",
            "Actual: à lattaque\n",
            "Predicted: je\n",
            "\n",
            "Input: buy it\n",
            "Actual: achetezla\n",
            "Predicted: je\n",
            "\n",
            "Input: buy it\n",
            "Actual: achètele\n",
            "Predicted: je\n",
            "\n",
            "Input: buy it\n",
            "Actual: achetezle\n",
            "Predicted: je\n",
            "\n",
            "Input: buy it\n",
            "Actual: achètela\n",
            "Predicted: je\n",
            "\n",
            "Input: cheers\n",
            "Actual: santé\n",
            "Predicted: je\n",
            "\n",
            "Input: cheers\n",
            "Actual: à votre santé\n",
            "Predicted: je\n",
            "\n",
            "Input: cheers\n",
            "Actual: merci\n",
            "Predicted: je\n",
            "\n",
            "Input: cheers\n",
            "Actual: tchintchin\n",
            "Predicted: je\n",
            "\n",
            "Input: eat it\n",
            "Actual: mangezle\n",
            "Predicted: je\n",
            "\n",
            "Input: eat it\n",
            "Actual: mangele\n",
            "Predicted: je\n",
            "\n",
            "Input: exhale\n",
            "Actual: expire\n",
            "Predicted: je\n",
            "\n",
            "Input: get up\n",
            "Actual: lèvetoi\n",
            "Predicted: je\n",
            "\n",
            "Input: get up\n",
            "Actual: lèvetoi\n",
            "Predicted: je\n",
            "\n",
            "Input: get up\n",
            "Actual: debout\n",
            "Predicted: je\n",
            "\n",
            "Input: go now\n",
            "Actual: va maintenant\n",
            "Predicted: je\n",
            "\n",
            "BLEU score on the first 100 training samples: 0.0\n",
            "BLEU score details: BLEU = 0.00 2.0/0.0/0.0/0.0 (BP = 0.712 ratio = 0.746 hyp_len = 100 ref_len = 134)\n"
          ]
        }
      ]
    },
    {
      "cell_type": "code",
      "source": [
        "len(predictions)\n",
        "\n",
        "#we have predicted for first 10 train input = len(predictions)\n",
        "#each sentence french length = 56 = len(predictions[0])\n",
        "#french vocabulary length = 33609 = len(predictions[0][0])"
      ],
      "metadata": {
        "colab": {
          "base_uri": "https://localhost:8080/"
        },
        "id": "-o8eKkV1hair",
        "outputId": "9520f155-ba57-4917-ae80-3debe7047799"
      },
      "execution_count": null,
      "outputs": [
        {
          "output_type": "execute_result",
          "data": {
            "text/plain": [
              "10"
            ]
          },
          "metadata": {},
          "execution_count": 43
        }
      ]
    },
    {
      "cell_type": "code",
      "source": [
        "predicted_sequences, predicted_texts"
      ],
      "metadata": {
        "colab": {
          "base_uri": "https://localhost:8080/"
        },
        "id": "Z-9CGdKziK31",
        "outputId": "40c00b3d-3469-41e0-f9e8-84af5027f319"
      },
      "execution_count": null,
      "outputs": [
        {
          "output_type": "execute_result",
          "data": {
            "text/plain": [
              "(array([[1, 0, 0, 0, 0, 0, 0, 0, 0, 0, 0, 0, 0, 0, 0, 0, 0, 0, 0, 0, 0, 0,\n",
              "         0, 0, 0, 0, 0, 0, 0, 0, 0, 0, 0, 0, 0, 0, 0, 0, 0, 0, 0, 0, 0, 0,\n",
              "         0, 0, 0, 0, 0, 0, 0, 0, 0, 0, 0, 0],\n",
              "        [1, 0, 0, 0, 0, 0, 0, 0, 0, 0, 0, 0, 0, 0, 0, 0, 0, 0, 0, 0, 0, 0,\n",
              "         0, 0, 0, 0, 0, 0, 0, 0, 0, 0, 0, 0, 0, 0, 0, 0, 0, 0, 0, 0, 0, 0,\n",
              "         0, 0, 0, 0, 0, 0, 0, 0, 0, 0, 0, 0],\n",
              "        [1, 0, 0, 0, 0, 0, 0, 0, 0, 0, 0, 0, 0, 0, 0, 0, 0, 0, 0, 0, 0, 0,\n",
              "         0, 0, 0, 0, 0, 0, 0, 0, 0, 0, 0, 0, 0, 0, 0, 0, 0, 0, 0, 0, 0, 0,\n",
              "         0, 0, 0, 0, 0, 0, 0, 0, 0, 0, 0, 0],\n",
              "        [1, 0, 0, 0, 0, 0, 0, 0, 0, 0, 0, 0, 0, 0, 0, 0, 0, 0, 0, 0, 0, 0,\n",
              "         0, 0, 0, 0, 0, 0, 0, 0, 0, 0, 0, 0, 0, 0, 0, 0, 0, 0, 0, 0, 0, 0,\n",
              "         0, 0, 0, 0, 0, 0, 0, 0, 0, 0, 0, 0],\n",
              "        [1, 0, 0, 0, 0, 0, 0, 0, 0, 0, 0, 0, 0, 0, 0, 0, 0, 0, 0, 0, 0, 0,\n",
              "         0, 0, 0, 0, 0, 0, 0, 0, 0, 0, 0, 0, 0, 0, 0, 0, 0, 0, 0, 0, 0, 0,\n",
              "         0, 0, 0, 0, 0, 0, 0, 0, 0, 0, 0, 0],\n",
              "        [1, 0, 0, 0, 0, 0, 0, 0, 0, 0, 0, 0, 0, 0, 0, 0, 0, 0, 0, 0, 0, 0,\n",
              "         0, 0, 0, 0, 0, 0, 0, 0, 0, 0, 0, 0, 0, 0, 0, 0, 0, 0, 0, 0, 0, 0,\n",
              "         0, 0, 0, 0, 0, 0, 0, 0, 0, 0, 0, 0],\n",
              "        [1, 0, 0, 0, 0, 0, 0, 0, 0, 0, 0, 0, 0, 0, 0, 0, 0, 0, 0, 0, 0, 0,\n",
              "         0, 0, 0, 0, 0, 0, 0, 0, 0, 0, 0, 0, 0, 0, 0, 0, 0, 0, 0, 0, 0, 0,\n",
              "         0, 0, 0, 0, 0, 0, 0, 0, 0, 0, 0, 0],\n",
              "        [1, 0, 0, 0, 0, 0, 0, 0, 0, 0, 0, 0, 0, 0, 0, 0, 0, 0, 0, 0, 0, 0,\n",
              "         0, 0, 0, 0, 0, 0, 0, 0, 0, 0, 0, 0, 0, 0, 0, 0, 0, 0, 0, 0, 0, 0,\n",
              "         0, 0, 0, 0, 0, 0, 0, 0, 0, 0, 0, 0],\n",
              "        [1, 0, 0, 0, 0, 0, 0, 0, 0, 0, 0, 0, 0, 0, 0, 0, 0, 0, 0, 0, 0, 0,\n",
              "         0, 0, 0, 0, 0, 0, 0, 0, 0, 0, 0, 0, 0, 0, 0, 0, 0, 0, 0, 0, 0, 0,\n",
              "         0, 0, 0, 0, 0, 0, 0, 0, 0, 0, 0, 0],\n",
              "        [1, 0, 0, 0, 0, 0, 0, 0, 0, 0, 0, 0, 0, 0, 0, 0, 0, 0, 0, 0, 0, 0,\n",
              "         0, 0, 0, 0, 0, 0, 0, 0, 0, 0, 0, 0, 0, 0, 0, 0, 0, 0, 0, 0, 0, 0,\n",
              "         0, 0, 0, 0, 0, 0, 0, 0, 0, 0, 0, 0]]),\n",
              " ['je', 'je', 'je', 'je', 'je', 'je', 'je', 'je', 'je', 'je'])"
            ]
          },
          "metadata": {},
          "execution_count": 45
        }
      ]
    },
    {
      "cell_type": "code",
      "source": [
        "\n",
        "## 🔤 What is BLEU Score?\n",
        "\n",
        "The **BLEU score** is a metric to **evaluate the quality of machine-translated text** by comparing it to one or more **reference translations** (i.e., human-translated sentences).\n",
        "\n",
        "Think of it like asking:\n",
        "**\"How close is the machine’s translation to a human’s?\"**\n",
        "\n",
        "---\n",
        "\n",
        "## 🧠 Simple Idea\n",
        "\n",
        "It checks:\n",
        "\n",
        "* **How many words or phrases (n-grams)** from the machine translation also appear in the human reference.\n",
        "* And penalizes if the machine translation is **too short**.\n",
        "\n",
        "---\n",
        "\n",
        "## 🧩 Step-by-Step Explanation\n",
        "\n",
        "### 🔹 Step 1: Tokenize the Sentences\n",
        "\n",
        "Break both the **candidate translation** (machine output) and **reference translation** (human translation) into tokens (words).\n",
        "\n",
        "---\n",
        "\n",
        "### 🔹 Step 2: Match n-grams\n",
        "\n",
        "For **n = 1 to 4**:\n",
        "\n",
        "* Extract n-grams (e.g., unigrams, bigrams, trigrams, 4-grams).\n",
        "* Count how many n-grams from the candidate match those in the reference.\n",
        "\n",
        "🔸 Example:\n",
        "\n",
        "* Reference: `\"the cat is on the mat\"`\n",
        "* Candidate: `\"the cat the cat on the mat\"`\n",
        "\n",
        "Unigrams (n=1) in candidate:\n",
        "`[\"the\", \"cat\", \"the\", \"cat\", \"on\", \"the\", \"mat\"]`\n",
        "\n",
        "Unigrams in reference:\n",
        "`[\"the\", \"cat\", \"is\", \"on\", \"the\", \"mat\"]`\n",
        "\n",
        "Matched unigrams = `[\"the\", \"cat\", \"on\", \"the\", \"mat\"]`\n",
        "\n",
        "Apply **clipping**: you count each matching word **only as many times** as it appears in the reference.\n",
        "\n",
        "---\n",
        "\n",
        "### 🔹 Step 3: Calculate Precision for Each n-gram\n",
        "\n",
        "For each n (1 to 4):\n",
        "\n",
        "$$\n",
        "P_n = \\frac{\\text{Number of matched n-grams}}{\\text{Total n-grams in candidate}}\n",
        "$$\n",
        "\n",
        "These are **modified precisions**.\n",
        "\n",
        "---\n",
        "\n",
        "### 🔹 Step 4: Geometric Mean of Precisions\n",
        "\n",
        "Combine the n-gram precisions using the **geometric mean**:\n",
        "\n",
        "$$\n",
        "\\text{BLEU}_{\\text{no BP}} = \\exp\\left( \\sum_{n=1}^{N} w_n \\log P_n \\right)\n",
        "$$\n",
        "\n",
        "Usually, $w_n = \\frac{1}{4}$ for n = 1 to 4 (equal weights).\n",
        "\n",
        "---\n",
        "\n",
        "### 🔹 Step 5: Brevity Penalty (BP)\n",
        "\n",
        "To prevent short translations from cheating by matching fewer words.\n",
        "\n",
        "$$\n",
        "BP = \\begin{cases}\n",
        "1 & \\text{if } c > r \\\\\n",
        "e^{(1 - \\frac{r}{c})} & \\text{if } c \\le r\n",
        "\\end{cases}\n",
        "$$\n",
        "\n",
        "Where:\n",
        "\n",
        "* $c$ = length of candidate\n",
        "* $r$ = length of reference\n",
        "\n",
        "If the machine's output is **too short**, BLEU is **penalized**.\n",
        "\n",
        "---\n",
        "\n",
        "### 🔹 Step 6: Final BLEU Score\n",
        "\n",
        "$$\n",
        "\\text{BLEU} = BP \\times \\exp\\left( \\sum_{n=1}^{N} w_n \\log P_n \\right)\n",
        "$$\n",
        "\n",
        "---\n",
        "\n",
        "## 🧪 Example Calculation\n",
        "\n",
        "Let’s say:\n",
        "\n",
        "* Reference: `\"the cat is on the mat\"`\n",
        "* Candidate: `\"the cat on mat\"`\n",
        "\n",
        "#### Step 1: Tokenize\n",
        "\n",
        "* Candidate length $c = 4$\n",
        "* Reference length $r = 6$\n",
        "\n",
        "#### Step 2: 1-gram match = `[\"the\", \"cat\", \"on\", \"mat\"]` → 4/4 = 1.0\n",
        "\n",
        "2-gram match = `[\"the cat\", \"cat on\", \"on mat\"]` → Only `[\"on mat\"]` matches → 1/3 = 0.33\n",
        "\n",
        "#### Step 3: Modified Precisions:\n",
        "\n",
        "* $P_1 = 1.0$\n",
        "* $P_2 = 1/3$\n",
        "\n",
        "#### Step 4: Brevity Penalty:\n",
        "\n",
        "Since $c < r$,\n",
        "\n",
        "$$\n",
        "BP = \\exp(1 - \\frac{6}{4}) = \\exp(-0.5) \\approx 0.606\n",
        "$$\n",
        "\n",
        "#### Step 5: Final BLEU Score (simplified for 1-2 grams only):\n",
        "\n",
        "$$\n",
        "\\text{BLEU} = 0.606 \\times \\exp\\left( \\frac{1}{2}(\\log(1) + \\log(1/3)) \\right)\n",
        "= 0.606 \\times \\exp\\left( \\frac{1}{2} (0 - 1.0986) \\right)\n",
        "= 0.606 \\times \\exp(-0.5493) \\approx 0.606 \\times 0.577 = 0.349\n",
        "$$\n",
        "\n",
        "✅ BLEU Score ≈ **0.35**\n",
        "\n",
        "---\n",
        "\n",
        "## ✅ Summary Table\n",
        "\n",
        "| Component        | What it does                                     |\n",
        "| ---------------- | ------------------------------------------------ |\n",
        "| n-gram precision | Measures exact match of 1–4 word phrases         |\n",
        "| Clipping         | Prevents word overcounting                       |\n",
        "| Geometric mean   | Combines all precisions fairly                   |\n",
        "| Brevity penalty  | Punishes very short translations                 |\n",
        "| Final BLEU       | Combines precision and brevity for overall score |\n",
        "\n",
        "---\n",
        "\n",
        "## 🧠 When is BLEU useful?\n",
        "\n",
        "* Comparing models (higher is better)\n",
        "* Evaluating MT systems automatically\n",
        "* Benchmarking against human translation quality\n",
        "\n",
        "---\n",
        "\n"
      ],
      "metadata": {
        "id": "-rQKAzr_eofe"
      },
      "execution_count": null,
      "outputs": []
    }
  ]
}