{
 "cells": [
  {
   "cell_type": "code",
   "execution_count": 2,
   "id": "d8843376-67c8-4123-81c8-ce316ea87b99",
   "metadata": {},
   "outputs": [],
   "source": [
    "import numpy as np"
   ]
  },
  {
   "cell_type": "code",
   "execution_count": 6,
   "id": "f3c2e14a-ef3e-4ddf-8d63-61d63d2acee4",
   "metadata": {},
   "outputs": [],
   "source": [
    "X = np.array([[1,1],\n",
    "          [1,2],\n",
    "           [1,3]])"
   ]
  },
  {
   "cell_type": "code",
   "execution_count": 8,
   "id": "34e53824-2f69-4cc7-b962-3c07476db37c",
   "metadata": {},
   "outputs": [
    {
     "data": {
      "text/plain": [
       "array([[1, 1],\n",
       "       [1, 2],\n",
       "       [1, 3]])"
      ]
     },
     "execution_count": 8,
     "metadata": {},
     "output_type": "execute_result"
    }
   ],
   "source": [
    "X"
   ]
  },
  {
   "cell_type": "code",
   "execution_count": 14,
   "id": "e45b22a6-1ceb-4b53-b807-c834c24798a3",
   "metadata": {},
   "outputs": [
    {
     "data": {
      "text/plain": [
       "(3, 2)"
      ]
     },
     "execution_count": 14,
     "metadata": {},
     "output_type": "execute_result"
    }
   ],
   "source": [
    "X.shape"
   ]
  },
  {
   "cell_type": "code",
   "execution_count": 10,
   "id": "c2464088-6fe7-489f-973f-fce104e6d193",
   "metadata": {},
   "outputs": [],
   "source": [
    "y = np.array([2,3,5])"
   ]
  },
  {
   "cell_type": "code",
   "execution_count": 12,
   "id": "ff7552c2-c869-48e5-9a26-34bed0e3578a",
   "metadata": {},
   "outputs": [
    {
     "data": {
      "text/plain": [
       "array([2, 3, 5])"
      ]
     },
     "execution_count": 12,
     "metadata": {},
     "output_type": "execute_result"
    }
   ],
   "source": [
    "y"
   ]
  },
  {
   "cell_type": "code",
   "execution_count": 16,
   "id": "20cb7447-7231-43e0-9e56-b9e34d723411",
   "metadata": {},
   "outputs": [
    {
     "data": {
      "text/plain": [
       "(3,)"
      ]
     },
     "execution_count": 16,
     "metadata": {},
     "output_type": "execute_result"
    }
   ],
   "source": [
    "y.shape"
   ]
  },
  {
   "cell_type": "code",
   "execution_count": 18,
   "id": "8bade323-f65d-484a-b4cc-5cfd2ace398f",
   "metadata": {},
   "outputs": [],
   "source": [
    "#((X^T).X)^-1.((X^T).y)"
   ]
  },
  {
   "cell_type": "code",
   "execution_count": 20,
   "id": "28b126b0-de32-44d5-b9f5-f532b7815b21",
   "metadata": {},
   "outputs": [
    {
     "data": {
      "text/plain": [
       "array([[1, 1, 1],\n",
       "       [1, 2, 3]])"
      ]
     },
     "execution_count": 20,
     "metadata": {},
     "output_type": "execute_result"
    }
   ],
   "source": [
    "X.T"
   ]
  },
  {
   "cell_type": "code",
   "execution_count": 22,
   "id": "9f7331cb-f28e-46c1-8e9b-414721f4aabb",
   "metadata": {},
   "outputs": [
    {
     "data": {
      "text/plain": [
       "array([[ 3,  6],\n",
       "       [ 6, 14]])"
      ]
     },
     "execution_count": 22,
     "metadata": {},
     "output_type": "execute_result"
    }
   ],
   "source": [
    "X.T @ X"
   ]
  },
  {
   "cell_type": "code",
   "execution_count": 24,
   "id": "89fea5bd-d897-4411-8a8d-9c8152b34c42",
   "metadata": {},
   "outputs": [
    {
     "data": {
      "text/plain": [
       "array([[ 2.33333333, -1.        ],\n",
       "       [-1.        ,  0.5       ]])"
      ]
     },
     "execution_count": 24,
     "metadata": {},
     "output_type": "execute_result"
    }
   ],
   "source": [
    "np.linalg.inv(X.T @ X)"
   ]
  },
  {
   "cell_type": "code",
   "execution_count": 30,
   "id": "bff7d9c4-651e-4287-94a4-e50c8d6fd6fd",
   "metadata": {},
   "outputs": [
    {
     "data": {
      "text/plain": [
       "array([10, 23])"
      ]
     },
     "execution_count": 30,
     "metadata": {},
     "output_type": "execute_result"
    }
   ],
   "source": [
    "(X.T @ y)"
   ]
  },
  {
   "cell_type": "code",
   "execution_count": 26,
   "id": "48757156-fe94-40fc-8dc4-85e6e0773d25",
   "metadata": {},
   "outputs": [
    {
     "data": {
      "text/plain": [
       "array([0.33333333, 1.5       ])"
      ]
     },
     "execution_count": 26,
     "metadata": {},
     "output_type": "execute_result"
    }
   ],
   "source": [
    "np.linalg.inv(X.T @ X) @ (X.T @ y)"
   ]
  },
  {
   "cell_type": "code",
   "execution_count": null,
   "id": "4dec95bc-26ca-48a5-b5e7-0f3b6ad3e7cd",
   "metadata": {},
   "outputs": [],
   "source": [
    "# b = 0.33\n",
    "# m = 1.5"
   ]
  },
  {
   "cell_type": "code",
   "execution_count": 40,
   "id": "7c17a7ee-8018-43f4-9abc-c0536e152e1c",
   "metadata": {},
   "outputs": [],
   "source": [
    "no_of_scoop = 15"
   ]
  },
  {
   "cell_type": "code",
   "execution_count": 42,
   "id": "205e8981-9276-45bf-86e7-a260e2954426",
   "metadata": {},
   "outputs": [],
   "source": [
    "price_of_icecream = 1.5*(no_of_scoop)+0.33"
   ]
  },
  {
   "cell_type": "code",
   "execution_count": 44,
   "id": "35ecf372-5d3b-434c-b822-5acdf06604ba",
   "metadata": {},
   "outputs": [
    {
     "data": {
      "text/plain": [
       "22.83"
      ]
     },
     "execution_count": 44,
     "metadata": {},
     "output_type": "execute_result"
    }
   ],
   "source": [
    "price_of_icecream"
   ]
  },
  {
   "cell_type": "code",
   "execution_count": null,
   "id": "a6e763bc-292e-4a2c-9b7d-27cd8b770beb",
   "metadata": {},
   "outputs": [],
   "source": []
  }
 ],
 "metadata": {
  "kernelspec": {
   "display_name": "Python 3 (ipykernel)",
   "language": "python",
   "name": "python3"
  },
  "language_info": {
   "codemirror_mode": {
    "name": "ipython",
    "version": 3
   },
   "file_extension": ".py",
   "mimetype": "text/x-python",
   "name": "python",
   "nbconvert_exporter": "python",
   "pygments_lexer": "ipython3",
   "version": "3.11.0"
  }
 },
 "nbformat": 4,
 "nbformat_minor": 5
}
