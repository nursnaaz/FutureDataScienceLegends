{
 "cells": [
  {
   "cell_type": "code",
   "execution_count": 2,
   "id": "53765dd5-276c-4252-9b4c-e036f5d67f79",
   "metadata": {},
   "outputs": [
    {
     "name": "stdout",
     "output_type": "stream",
     "text": [
      "Linear Algebra Approach Coefficients:\n",
      "Intercept (b0): 0.3333333333333286, Slope (b1): 1.5\n"
     ]
    }
   ],
   "source": [
    "import numpy as np\n",
    "\n",
    "# Define the data points\n",
    "X = np.array([[1, 1],  # x = 1\n",
    "              [1, 2],  # x = 2\n",
    "              [1, 3]]) # x = 3\n",
    "y = np.array([2, 3, 5])  # Corresponding y values\n",
    "\n",
    "# Calculate coefficients using the Normal Equation\n",
    "b = np.linalg.inv(X.T @ X) @ (X.T @ y)\n",
    "\n",
    "# Output the coefficients\n",
    "print(\"Linear Algebra Approach Coefficients:\")\n",
    "print(f\"Intercept (b0): {b[0]}, Slope (b1): {b[1]}\")"
   ]
  },
  {
   "cell_type": "code",
   "execution_count": 24,
   "id": "d5effb0e-9ea0-4994-89db-ebf95448f43e",
   "metadata": {},
   "outputs": [
    {
     "data": {
      "text/plain": [
       "array([0.33333333, 1.5       ])"
      ]
     },
     "execution_count": 24,
     "metadata": {},
     "output_type": "execute_result"
    }
   ],
   "source": [
    "np.linalg.inv(X.T @ X)@(X.T@y)"
   ]
  },
  {
   "cell_type": "code",
   "execution_count": 8,
   "id": "db68d6b3-a585-4bf2-8ab6-bf801c634938",
   "metadata": {},
   "outputs": [
    {
     "name": "stdout",
     "output_type": "stream",
     "text": [
      "Gradient Descent Approach Coefficients:\n",
      "Intercept (b): 0.33333496966431675, Slope (m): 1.499999280175192\n"
     ]
    }
   ],
   "source": [
    "# Parameters for Gradient Descent\n",
    "learning_rate = 0.01\n",
    "iterations = 10000\n",
    "m, b = 0, 0  # Initializing slope (m) and intercept (b)\n",
    "n = len(y)    # Number of data points\n",
    "\n",
    "# Gradient Descent Loop\n",
    "for _ in range(iterations):\n",
    "    y_pred = m * X[:, 1] + b  # Predicted values\n",
    "    error = y_pred - y         # Error calculation\n",
    "    m_gradient = (1/n) * np.dot(X[:, 1], error)  # Gradient for m\n",
    "    b_gradient = (1/n) * np.sum(error)            # Gradient for b\n",
    "    m -= learning_rate * m_gradient  # Update m\n",
    "    b -= learning_rate * b_gradient  # Update b\n",
    "\n",
    "# Output the coefficients\n",
    "print(\"Gradient Descent Approach Coefficients:\")\n",
    "print(f\"Intercept (b): {b}, Slope (m): {m}\")"
   ]
  },
  {
   "cell_type": "code",
   "execution_count": 6,
   "id": "ea3fba7b-88fa-4ed9-98cf-6ea1e3aea1c7",
   "metadata": {},
   "outputs": [
    {
     "name": "stdout",
     "output_type": "stream",
     "text": [
      "Scikit-learn Approach Coefficients:\n",
      "Intercept (b): 0.3333333333333348, Slope (m): 1.4999999999999993\n"
     ]
    }
   ],
   "source": [
    "from sklearn.linear_model import LinearRegression\n",
    "\n",
    "# Reshape X for sklearn\n",
    "X_sklearn = np.array([[1], [2], [3]])  # Reshape to a 2D array\n",
    "y_sklearn = np.array([2, 3, 5])\n",
    "\n",
    "# Create and fit the model\n",
    "model = LinearRegression()\n",
    "model.fit(X_sklearn, y_sklearn)\n",
    "\n",
    "# Output the coefficients\n",
    "print(\"Scikit-learn Approach Coefficients:\")\n",
    "print(f\"Intercept (b): {model.intercept_}, Slope (m): {model.coef_[0]}\")"
   ]
  },
  {
   "cell_type": "code",
   "execution_count": null,
   "id": "62fefe38-a52b-466c-8d66-1a7d03f5b6d5",
   "metadata": {},
   "outputs": [],
   "source": []
  }
 ],
 "metadata": {
  "kernelspec": {
   "display_name": "Python 3 (ipykernel)",
   "language": "python",
   "name": "python3"
  },
  "language_info": {
   "codemirror_mode": {
    "name": "ipython",
    "version": 3
   },
   "file_extension": ".py",
   "mimetype": "text/x-python",
   "name": "python",
   "nbconvert_exporter": "python",
   "pygments_lexer": "ipython3",
   "version": "3.11.0"
  }
 },
 "nbformat": 4,
 "nbformat_minor": 5
}
