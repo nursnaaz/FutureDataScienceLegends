{
 "cells": [
  {
   "cell_type": "code",
   "execution_count": 56,
   "id": "d8843376-67c8-4123-81c8-ce316ea87b99",
   "metadata": {},
   "outputs": [],
   "source": [
    "import numpy as np"
   ]
  },
  {
   "cell_type": "code",
   "execution_count": 82,
   "id": "f3c2e14a-ef3e-4ddf-8d63-61d63d2acee4",
   "metadata": {},
   "outputs": [],
   "source": [
    "X = np.array([[1, 10, 5, 2],\n",
    "              [1, 20, 2, 1],\n",
    "              [1, 5,  1, 1]])"
   ]
  },
  {
   "cell_type": "code",
   "execution_count": 84,
   "id": "34e53824-2f69-4cc7-b962-3c07476db37c",
   "metadata": {},
   "outputs": [
    {
     "data": {
      "text/plain": [
       "array([[ 1, 10,  5,  2],\n",
       "       [ 1, 20,  2,  1],\n",
       "       [ 1,  5,  1,  1]])"
      ]
     },
     "execution_count": 84,
     "metadata": {},
     "output_type": "execute_result"
    }
   ],
   "source": [
    "X"
   ]
  },
  {
   "cell_type": "code",
   "execution_count": 86,
   "id": "e45b22a6-1ceb-4b53-b807-c834c24798a3",
   "metadata": {},
   "outputs": [
    {
     "data": {
      "text/plain": [
       "(3, 4)"
      ]
     },
     "execution_count": 86,
     "metadata": {},
     "output_type": "execute_result"
    }
   ],
   "source": [
    "X.shape"
   ]
  },
  {
   "cell_type": "code",
   "execution_count": 88,
   "id": "c2464088-6fe7-489f-973f-fce104e6d193",
   "metadata": {},
   "outputs": [],
   "source": [
    "y = np.array([5,2,1])"
   ]
  },
  {
   "cell_type": "code",
   "execution_count": 90,
   "id": "ff7552c2-c869-48e5-9a26-34bed0e3578a",
   "metadata": {},
   "outputs": [
    {
     "data": {
      "text/plain": [
       "array([5, 2, 1])"
      ]
     },
     "execution_count": 90,
     "metadata": {},
     "output_type": "execute_result"
    }
   ],
   "source": [
    "y"
   ]
  },
  {
   "cell_type": "code",
   "execution_count": 92,
   "id": "20cb7447-7231-43e0-9e56-b9e34d723411",
   "metadata": {},
   "outputs": [
    {
     "data": {
      "text/plain": [
       "(3,)"
      ]
     },
     "execution_count": 92,
     "metadata": {},
     "output_type": "execute_result"
    }
   ],
   "source": [
    "y.shape"
   ]
  },
  {
   "cell_type": "code",
   "execution_count": 94,
   "id": "8bade323-f65d-484a-b4cc-5cfd2ace398f",
   "metadata": {},
   "outputs": [],
   "source": [
    "#((X^T).X)^-1.((X^T).y)"
   ]
  },
  {
   "cell_type": "code",
   "execution_count": 96,
   "id": "28b126b0-de32-44d5-b9f5-f532b7815b21",
   "metadata": {},
   "outputs": [
    {
     "data": {
      "text/plain": [
       "array([[ 1,  1,  1],\n",
       "       [10, 20,  5],\n",
       "       [ 5,  2,  1],\n",
       "       [ 2,  1,  1]])"
      ]
     },
     "execution_count": 96,
     "metadata": {},
     "output_type": "execute_result"
    }
   ],
   "source": [
    "X.T"
   ]
  },
  {
   "cell_type": "code",
   "execution_count": 98,
   "id": "9f7331cb-f28e-46c1-8e9b-414721f4aabb",
   "metadata": {},
   "outputs": [
    {
     "data": {
      "text/plain": [
       "array([[  3,  35,   8,   4],\n",
       "       [ 35, 525,  95,  45],\n",
       "       [  8,  95,  30,  13],\n",
       "       [  4,  45,  13,   6]])"
      ]
     },
     "execution_count": 98,
     "metadata": {},
     "output_type": "execute_result"
    }
   ],
   "source": [
    "X.T @ X"
   ]
  },
  {
   "cell_type": "code",
   "execution_count": 100,
   "id": "89fea5bd-d897-4411-8a8d-9c8152b34c42",
   "metadata": {},
   "outputs": [
    {
     "data": {
      "text/plain": [
       "array([[ 2.23211625e+16, -4.96025833e+14,  7.44038750e+15,\n",
       "        -2.72814208e+16],\n",
       "       [-4.96025833e+14,  1.10227963e+13, -1.65341944e+14,\n",
       "         6.06253796e+14],\n",
       "       [ 7.44038750e+15, -1.65341944e+14,  2.48012917e+15,\n",
       "        -9.09380694e+15],\n",
       "       [-2.72814208e+16,  6.06253796e+14, -9.09380694e+15,\n",
       "         3.33439588e+16]])"
      ]
     },
     "execution_count": 100,
     "metadata": {},
     "output_type": "execute_result"
    }
   ],
   "source": [
    "np.linalg.inv(X.T @ X)"
   ]
  },
  {
   "cell_type": "code",
   "execution_count": 102,
   "id": "bff7d9c4-651e-4287-94a4-e50c8d6fd6fd",
   "metadata": {},
   "outputs": [
    {
     "data": {
      "text/plain": [
       "array([ 8, 95, 30, 13])"
      ]
     },
     "execution_count": 102,
     "metadata": {},
     "output_type": "execute_result"
    }
   ],
   "source": [
    "(X.T @ y)"
   ]
  },
  {
   "cell_type": "code",
   "execution_count": 104,
   "id": "48757156-fe94-40fc-8dc4-85e6e0773d25",
   "metadata": {},
   "outputs": [
    {
     "data": {
      "text/plain": [
       "array([-128.,    8.,   32.,  -64.])"
      ]
     },
     "execution_count": 104,
     "metadata": {},
     "output_type": "execute_result"
    }
   ],
   "source": [
    "np.linalg.inv(X.T @ X) @ (X.T @ y)"
   ]
  },
  {
   "cell_type": "code",
   "execution_count": 106,
   "id": "4dec95bc-26ca-48a5-b5e7-0f3b6ad3e7cd",
   "metadata": {},
   "outputs": [],
   "source": [
    "# b = -128\n",
    "# bill = 8\n",
    "# no_of_customer = 32\n",
    "# no_of_server = -64"
   ]
  },
  {
   "cell_type": "code",
   "execution_count": null,
   "id": "354b7a1d-63d0-4e9a-9f9f-9d15270db21c",
   "metadata": {},
   "outputs": [],
   "source": [
    "tip_amount = -128 + 8*Bill_amount + \n",
    "             32*no_of_customers - 64*no_hotel_servers"
   ]
  },
  {
   "cell_type": "code",
   "execution_count": null,
   "id": "2e0c3f1e-bd56-4142-9c23-8fff958b4979",
   "metadata": {},
   "outputs": [],
   "source": []
  },
  {
   "cell_type": "code",
   "execution_count": null,
   "id": "a6e763bc-292e-4a2c-9b7d-27cd8b770beb",
   "metadata": {},
   "outputs": [],
   "source": [
    "y = house_price\n",
    "x1 = square_feet\n",
    "\n",
    "y = 6000 + 5.5*square_feet"
   ]
  },
  {
   "cell_type": "code",
   "execution_count": null,
   "id": "d4fc245f-82bb-4251-b8cd-ec78ae5c233c",
   "metadata": {},
   "outputs": [],
   "source": [
    "y = target data\n",
    "\n",
    "x1, x2, x3, ...\n",
    "\n",
    "x1, x3"
   ]
  },
  {
   "cell_type": "code",
   "execution_count": null,
   "id": "47a20eaf-f4fb-4ec8-8e15-a667c2b96cff",
   "metadata": {},
   "outputs": [],
   "source": [
    "["
   ]
  }
 ],
 "metadata": {
  "kernelspec": {
   "display_name": "Python 3 (ipykernel)",
   "language": "python",
   "name": "python3"
  },
  "language_info": {
   "codemirror_mode": {
    "name": "ipython",
    "version": 3
   },
   "file_extension": ".py",
   "mimetype": "text/x-python",
   "name": "python",
   "nbconvert_exporter": "python",
   "pygments_lexer": "ipython3",
   "version": "3.11.0"
  }
 },
 "nbformat": 4,
 "nbformat_minor": 5
}
