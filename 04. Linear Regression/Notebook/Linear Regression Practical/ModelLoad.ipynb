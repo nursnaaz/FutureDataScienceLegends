{
 "cells": [
  {
   "cell_type": "code",
   "execution_count": 16,
   "id": "55341254-a464-49fe-9c8f-c3d5c8730a2c",
   "metadata": {},
   "outputs": [],
   "source": [
    "import joblib\n",
    "import pandas as pd\n",
    "import numpy as np"
   ]
  },
  {
   "cell_type": "code",
   "execution_count": 4,
   "id": "0aa057ac-c0a9-4fbd-8000-17378ad04fe5",
   "metadata": {},
   "outputs": [],
   "source": [
    "model_pipeline = joblib.load('houseprice_pieline_lr.pkl')"
   ]
  },
  {
   "cell_type": "code",
   "execution_count": 18,
   "id": "f5cc6f57-4d8b-4dfd-80dc-c96645cc8ac1",
   "metadata": {},
   "outputs": [],
   "source": [
    "data = pd.DataFrame([[2000, 2,1,1,np.NAN]], columns=['Size', 'Bedrooms', 'Bathrooms', 'LuxuryRating',\n",
    "       'ProximityToCityCenter'])"
   ]
  },
  {
   "cell_type": "code",
   "execution_count": 20,
   "id": "b73d8831-419f-4e7c-968f-8f092b3bf6c1",
   "metadata": {},
   "outputs": [
    {
     "data": {
      "text/plain": [
       "array([525493.31031908])"
      ]
     },
     "execution_count": 20,
     "metadata": {},
     "output_type": "execute_result"
    }
   ],
   "source": [
    "model_pipeline.predict(data)"
   ]
  },
  {
   "cell_type": "code",
   "execution_count": null,
   "id": "a702ac6b-ae27-4cad-8274-4273af27b096",
   "metadata": {},
   "outputs": [],
   "source": []
  },
  {
   "cell_type": "code",
   "execution_count": null,
   "id": "fe431a4c-1a11-42c8-82cb-a94a8712d882",
   "metadata": {},
   "outputs": [],
   "source": []
  }
 ],
 "metadata": {
  "kernelspec": {
   "display_name": "Python 3 (ipykernel)",
   "language": "python",
   "name": "python3"
  },
  "language_info": {
   "codemirror_mode": {
    "name": "ipython",
    "version": 3
   },
   "file_extension": ".py",
   "mimetype": "text/x-python",
   "name": "python",
   "nbconvert_exporter": "python",
   "pygments_lexer": "ipython3",
   "version": "3.11.0"
  }
 },
 "nbformat": 4,
 "nbformat_minor": 5
}
