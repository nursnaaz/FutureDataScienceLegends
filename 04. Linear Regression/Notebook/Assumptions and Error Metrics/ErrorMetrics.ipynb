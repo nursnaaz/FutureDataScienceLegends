{
 "cells": [
  {
   "cell_type": "markdown",
   "id": "775ddc29-feaf-4bc3-8a39-5acebbfa8135",
   "metadata": {},
   "source": [
    "# Error Metrics - Unit of measurement of the model validity\n",
    "\n",
    "## 1. Mean Squared Error (MSE) - low as possible\n",
    "\n",
    "## 2. Mean Absolute Error (MAE) - low as possible\n",
    "\n",
    "## 3. Root Mean Square Error (RMSE) - low as possible\n",
    "\n",
    "## 4. Mean Absolute Percentage Error (MAPE) - low as possible\n",
    "\n",
    "## 5. R^2 - high as possible\n",
    "\n",
    "R^2 = 1 - (unexplained variation/total variation)\n",
    "\n",
    "Given a input data how much model can explain about the target\n"
   ]
  },
  {
   "cell_type": "code",
   "execution_count": 8,
   "id": "7f7cad9b-f033-453a-8c90-254cc8483ef1",
   "metadata": {},
   "outputs": [],
   "source": [
    "# Assignment - Write an Article in Medium: \n",
    "\n",
    "# 1. Explain each error metrics with formala\n",
    "# 2. Explain when to use what error metrics\n",
    "# 3. Advantage and Disadvantages of each error metric\n"
   ]
  },
  {
   "cell_type": "code",
   "execution_count": 6,
   "id": "9d677e44-ee04-4a5d-ba76-5428c9bedb0b",
   "metadata": {},
   "outputs": [],
   "source": [
    "# # Create the account on the following sites\n",
    "# 1. GitHub Account\n",
    "# 2. Medium Account \n",
    "# 3. Kaggle Account\n",
    "# 4. Analytics Vidhya\n",
    "# 5. MachineHack\n",
    "# 6. Hackerrank\n"
   ]
  },
  {
   "cell_type": "code",
   "execution_count": null,
   "id": "5ae23187-a4f4-4182-bd40-af1ecef2d3a0",
   "metadata": {},
   "outputs": [],
   "source": []
  }
 ],
 "metadata": {
  "kernelspec": {
   "display_name": "Python 3 (ipykernel)",
   "language": "python",
   "name": "python3"
  },
  "language_info": {
   "codemirror_mode": {
    "name": "ipython",
    "version": 3
   },
   "file_extension": ".py",
   "mimetype": "text/x-python",
   "name": "python",
   "nbconvert_exporter": "python",
   "pygments_lexer": "ipython3",
   "version": "3.11.0"
  }
 },
 "nbformat": 4,
 "nbformat_minor": 5
}
