{
 "cells": [
  {
   "cell_type": "code",
   "execution_count": 2,
   "id": "2a76cd58-b842-47f5-a8fa-5f6d1c607185",
   "metadata": {},
   "outputs": [
    {
     "name": "stdout",
     "output_type": "stream",
     "text": [
      "          X         y\n",
      "0  0.749080  6.334288\n",
      "1  1.901429  9.405278\n",
      "2  1.463988  8.483724\n",
      "3  1.197317  5.604382\n",
      "4  0.312037  4.716440\n"
     ]
    }
   ],
   "source": [
    "import numpy as np\n",
    "import pandas as pd\n",
    "\n",
    "# Parameters\n",
    "n_samples = 100\n",
    "np.random.seed(42)\n",
    "\n",
    "# Generate random data for X\n",
    "X = 2 * np.random.rand(n_samples, 1)\n",
    "\n",
    "# Generate linear data for y with some noise\n",
    "y = 4 + 3 * X + np.random.randn(n_samples, 1)\n",
    "\n",
    "# Create a DataFrame\n",
    "data = pd.DataFrame(data=np.hstack((X, y)), columns=['X', 'y'])\n",
    "\n",
    "# Save to CSV (optional)\n",
    "data.to_csv('linear_regression_data.csv', index=False)\n",
    "\n",
    "print(data.head())\n"
   ]
  },
  {
   "cell_type": "code",
   "execution_count": 4,
   "id": "5a9a1064-96a3-44ab-a0f2-80d4486b314f",
   "metadata": {},
   "outputs": [
    {
     "data": {
      "text/html": [
       "<div>\n",
       "<style scoped>\n",
       "    .dataframe tbody tr th:only-of-type {\n",
       "        vertical-align: middle;\n",
       "    }\n",
       "\n",
       "    .dataframe tbody tr th {\n",
       "        vertical-align: top;\n",
       "    }\n",
       "\n",
       "    .dataframe thead th {\n",
       "        text-align: right;\n",
       "    }\n",
       "</style>\n",
       "<table border=\"1\" class=\"dataframe\">\n",
       "  <thead>\n",
       "    <tr style=\"text-align: right;\">\n",
       "      <th></th>\n",
       "      <th>X</th>\n",
       "      <th>y</th>\n",
       "    </tr>\n",
       "  </thead>\n",
       "  <tbody>\n",
       "    <tr>\n",
       "      <th>0</th>\n",
       "      <td>0.749080</td>\n",
       "      <td>6.334288</td>\n",
       "    </tr>\n",
       "    <tr>\n",
       "      <th>1</th>\n",
       "      <td>1.901429</td>\n",
       "      <td>9.405278</td>\n",
       "    </tr>\n",
       "    <tr>\n",
       "      <th>2</th>\n",
       "      <td>1.463988</td>\n",
       "      <td>8.483724</td>\n",
       "    </tr>\n",
       "    <tr>\n",
       "      <th>3</th>\n",
       "      <td>1.197317</td>\n",
       "      <td>5.604382</td>\n",
       "    </tr>\n",
       "    <tr>\n",
       "      <th>4</th>\n",
       "      <td>0.312037</td>\n",
       "      <td>4.716440</td>\n",
       "    </tr>\n",
       "    <tr>\n",
       "      <th>...</th>\n",
       "      <td>...</td>\n",
       "      <td>...</td>\n",
       "    </tr>\n",
       "    <tr>\n",
       "      <th>95</th>\n",
       "      <td>0.987591</td>\n",
       "      <td>6.146963</td>\n",
       "    </tr>\n",
       "    <tr>\n",
       "      <th>96</th>\n",
       "      <td>1.045466</td>\n",
       "      <td>7.059295</td>\n",
       "    </tr>\n",
       "    <tr>\n",
       "      <th>97</th>\n",
       "      <td>0.855082</td>\n",
       "      <td>6.906398</td>\n",
       "    </tr>\n",
       "    <tr>\n",
       "      <th>98</th>\n",
       "      <td>0.050838</td>\n",
       "      <td>4.429206</td>\n",
       "    </tr>\n",
       "    <tr>\n",
       "      <th>99</th>\n",
       "      <td>0.215783</td>\n",
       "      <td>5.474532</td>\n",
       "    </tr>\n",
       "  </tbody>\n",
       "</table>\n",
       "<p>100 rows × 2 columns</p>\n",
       "</div>"
      ],
      "text/plain": [
       "           X         y\n",
       "0   0.749080  6.334288\n",
       "1   1.901429  9.405278\n",
       "2   1.463988  8.483724\n",
       "3   1.197317  5.604382\n",
       "4   0.312037  4.716440\n",
       "..       ...       ...\n",
       "95  0.987591  6.146963\n",
       "96  1.045466  7.059295\n",
       "97  0.855082  6.906398\n",
       "98  0.050838  4.429206\n",
       "99  0.215783  5.474532\n",
       "\n",
       "[100 rows x 2 columns]"
      ]
     },
     "execution_count": 4,
     "metadata": {},
     "output_type": "execute_result"
    }
   ],
   "source": [
    "data"
   ]
  },
  {
   "cell_type": "code",
   "execution_count": null,
   "id": "d828c5c6-4ec1-48a9-ab94-6e9187eb65d5",
   "metadata": {},
   "outputs": [],
   "source": []
  }
 ],
 "metadata": {
  "kernelspec": {
   "display_name": "Python 3 (ipykernel)",
   "language": "python",
   "name": "python3"
  },
  "language_info": {
   "codemirror_mode": {
    "name": "ipython",
    "version": 3
   },
   "file_extension": ".py",
   "mimetype": "text/x-python",
   "name": "python",
   "nbconvert_exporter": "python",
   "pygments_lexer": "ipython3",
   "version": "3.11.0"
  }
 },
 "nbformat": 4,
 "nbformat_minor": 5
}
