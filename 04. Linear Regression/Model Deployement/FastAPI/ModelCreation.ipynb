{
 "cells": [
  {
   "cell_type": "code",
   "execution_count": 63,
   "id": "dec8de45-d17c-4c18-9eb3-b07c77ca1036",
   "metadata": {},
   "outputs": [],
   "source": [
    "import pandas as pd\n",
    "from sklearn.preprocessing import StandardScaler\n",
    "from sklearn.model_selection import train_test_split\n",
    "from sklearn.pipeline  import Pipeline\n",
    "from sklearn.linear_model import LinearRegression\n",
    "from sklearn.metrics import r2_score, mean_absolute_percentage_error\n",
    "\n",
    "import joblib"
   ]
  },
  {
   "cell_type": "code",
   "execution_count": 9,
   "id": "b78e5aab-5b74-495e-a722-d3742d2682c8",
   "metadata": {},
   "outputs": [],
   "source": [
    "data = pd.read_csv('linear_regression_data.csv')"
   ]
  },
  {
   "cell_type": "code",
   "execution_count": 17,
   "id": "a0a96c25-bd29-45aa-b2b0-51d76ab4c72e",
   "metadata": {},
   "outputs": [
    {
     "data": {
      "text/plain": [
       "(100, 2)"
      ]
     },
     "execution_count": 17,
     "metadata": {},
     "output_type": "execute_result"
    }
   ],
   "source": [
    "data.shape"
   ]
  },
  {
   "cell_type": "code",
   "execution_count": 19,
   "id": "bb45a79e-86ff-4198-94af-c84c01d14919",
   "metadata": {},
   "outputs": [
    {
     "name": "stdout",
     "output_type": "stream",
     "text": [
      "<class 'pandas.core.frame.DataFrame'>\n",
      "RangeIndex: 100 entries, 0 to 99\n",
      "Data columns (total 2 columns):\n",
      " #   Column  Non-Null Count  Dtype  \n",
      "---  ------  --------------  -----  \n",
      " 0   X       100 non-null    float64\n",
      " 1   y       100 non-null    float64\n",
      "dtypes: float64(2)\n",
      "memory usage: 1.7 KB\n"
     ]
    }
   ],
   "source": [
    "data.info()"
   ]
  },
  {
   "cell_type": "code",
   "execution_count": 33,
   "id": "ff79f13c-76cf-4293-a518-06025d715aba",
   "metadata": {},
   "outputs": [],
   "source": [
    "X = data[['X']]"
   ]
  },
  {
   "cell_type": "code",
   "execution_count": 35,
   "id": "609d70d5-9cf3-4749-9256-5d2474af2b98",
   "metadata": {},
   "outputs": [],
   "source": [
    "y = data['y']"
   ]
  },
  {
   "cell_type": "code",
   "execution_count": 37,
   "id": "0b3c432a-bd86-4194-9ecd-d42ef460612f",
   "metadata": {},
   "outputs": [],
   "source": [
    "train_X, test_X, train_y, test_y =  train_test_split(X,y, test_size=0.2, random_state=98)"
   ]
  },
  {
   "cell_type": "code",
   "execution_count": 39,
   "id": "61910e81-9939-4c28-8505-448b58ba3d24",
   "metadata": {},
   "outputs": [],
   "source": [
    "pipeline = Pipeline(steps = [ \n",
    "    ('scaler', StandardScaler()),\n",
    "    ('model', LinearRegression())]\n",
    ")"
   ]
  },
  {
   "cell_type": "code",
   "execution_count": 41,
   "id": "5b017e53-6965-4960-af51-4f04fff5fb16",
   "metadata": {},
   "outputs": [
    {
     "data": {
      "text/html": [
       "<style>#sk-container-id-1 {color: black;background-color: white;}#sk-container-id-1 pre{padding: 0;}#sk-container-id-1 div.sk-toggleable {background-color: white;}#sk-container-id-1 label.sk-toggleable__label {cursor: pointer;display: block;width: 100%;margin-bottom: 0;padding: 0.3em;box-sizing: border-box;text-align: center;}#sk-container-id-1 label.sk-toggleable__label-arrow:before {content: \"▸\";float: left;margin-right: 0.25em;color: #696969;}#sk-container-id-1 label.sk-toggleable__label-arrow:hover:before {color: black;}#sk-container-id-1 div.sk-estimator:hover label.sk-toggleable__label-arrow:before {color: black;}#sk-container-id-1 div.sk-toggleable__content {max-height: 0;max-width: 0;overflow: hidden;text-align: left;background-color: #f0f8ff;}#sk-container-id-1 div.sk-toggleable__content pre {margin: 0.2em;color: black;border-radius: 0.25em;background-color: #f0f8ff;}#sk-container-id-1 input.sk-toggleable__control:checked~div.sk-toggleable__content {max-height: 200px;max-width: 100%;overflow: auto;}#sk-container-id-1 input.sk-toggleable__control:checked~label.sk-toggleable__label-arrow:before {content: \"▾\";}#sk-container-id-1 div.sk-estimator input.sk-toggleable__control:checked~label.sk-toggleable__label {background-color: #d4ebff;}#sk-container-id-1 div.sk-label input.sk-toggleable__control:checked~label.sk-toggleable__label {background-color: #d4ebff;}#sk-container-id-1 input.sk-hidden--visually {border: 0;clip: rect(1px 1px 1px 1px);clip: rect(1px, 1px, 1px, 1px);height: 1px;margin: -1px;overflow: hidden;padding: 0;position: absolute;width: 1px;}#sk-container-id-1 div.sk-estimator {font-family: monospace;background-color: #f0f8ff;border: 1px dotted black;border-radius: 0.25em;box-sizing: border-box;margin-bottom: 0.5em;}#sk-container-id-1 div.sk-estimator:hover {background-color: #d4ebff;}#sk-container-id-1 div.sk-parallel-item::after {content: \"\";width: 100%;border-bottom: 1px solid gray;flex-grow: 1;}#sk-container-id-1 div.sk-label:hover label.sk-toggleable__label {background-color: #d4ebff;}#sk-container-id-1 div.sk-serial::before {content: \"\";position: absolute;border-left: 1px solid gray;box-sizing: border-box;top: 0;bottom: 0;left: 50%;z-index: 0;}#sk-container-id-1 div.sk-serial {display: flex;flex-direction: column;align-items: center;background-color: white;padding-right: 0.2em;padding-left: 0.2em;position: relative;}#sk-container-id-1 div.sk-item {position: relative;z-index: 1;}#sk-container-id-1 div.sk-parallel {display: flex;align-items: stretch;justify-content: center;background-color: white;position: relative;}#sk-container-id-1 div.sk-item::before, #sk-container-id-1 div.sk-parallel-item::before {content: \"\";position: absolute;border-left: 1px solid gray;box-sizing: border-box;top: 0;bottom: 0;left: 50%;z-index: -1;}#sk-container-id-1 div.sk-parallel-item {display: flex;flex-direction: column;z-index: 1;position: relative;background-color: white;}#sk-container-id-1 div.sk-parallel-item:first-child::after {align-self: flex-end;width: 50%;}#sk-container-id-1 div.sk-parallel-item:last-child::after {align-self: flex-start;width: 50%;}#sk-container-id-1 div.sk-parallel-item:only-child::after {width: 0;}#sk-container-id-1 div.sk-dashed-wrapped {border: 1px dashed gray;margin: 0 0.4em 0.5em 0.4em;box-sizing: border-box;padding-bottom: 0.4em;background-color: white;}#sk-container-id-1 div.sk-label label {font-family: monospace;font-weight: bold;display: inline-block;line-height: 1.2em;}#sk-container-id-1 div.sk-label-container {text-align: center;}#sk-container-id-1 div.sk-container {/* jupyter's `normalize.less` sets `[hidden] { display: none; }` but bootstrap.min.css set `[hidden] { display: none !important; }` so we also need the `!important` here to be able to override the default hidden behavior on the sphinx rendered scikit-learn.org. See: https://github.com/scikit-learn/scikit-learn/issues/21755 */display: inline-block !important;position: relative;}#sk-container-id-1 div.sk-text-repr-fallback {display: none;}</style><div id=\"sk-container-id-1\" class=\"sk-top-container\"><div class=\"sk-text-repr-fallback\"><pre>Pipeline(steps=[(&#x27;scaler&#x27;, StandardScaler()), (&#x27;model&#x27;, LinearRegression())])</pre><b>In a Jupyter environment, please rerun this cell to show the HTML representation or trust the notebook. <br />On GitHub, the HTML representation is unable to render, please try loading this page with nbviewer.org.</b></div><div class=\"sk-container\" hidden><div class=\"sk-item sk-dashed-wrapped\"><div class=\"sk-label-container\"><div class=\"sk-label sk-toggleable\"><input class=\"sk-toggleable__control sk-hidden--visually\" id=\"sk-estimator-id-1\" type=\"checkbox\" ><label for=\"sk-estimator-id-1\" class=\"sk-toggleable__label sk-toggleable__label-arrow\">Pipeline</label><div class=\"sk-toggleable__content\"><pre>Pipeline(steps=[(&#x27;scaler&#x27;, StandardScaler()), (&#x27;model&#x27;, LinearRegression())])</pre></div></div></div><div class=\"sk-serial\"><div class=\"sk-item\"><div class=\"sk-estimator sk-toggleable\"><input class=\"sk-toggleable__control sk-hidden--visually\" id=\"sk-estimator-id-2\" type=\"checkbox\" ><label for=\"sk-estimator-id-2\" class=\"sk-toggleable__label sk-toggleable__label-arrow\">StandardScaler</label><div class=\"sk-toggleable__content\"><pre>StandardScaler()</pre></div></div></div><div class=\"sk-item\"><div class=\"sk-estimator sk-toggleable\"><input class=\"sk-toggleable__control sk-hidden--visually\" id=\"sk-estimator-id-3\" type=\"checkbox\" ><label for=\"sk-estimator-id-3\" class=\"sk-toggleable__label sk-toggleable__label-arrow\">LinearRegression</label><div class=\"sk-toggleable__content\"><pre>LinearRegression()</pre></div></div></div></div></div></div></div>"
      ],
      "text/plain": [
       "Pipeline(steps=[('scaler', StandardScaler()), ('model', LinearRegression())])"
      ]
     },
     "execution_count": 41,
     "metadata": {},
     "output_type": "execute_result"
    }
   ],
   "source": [
    "pipeline.fit(train_X, train_y)"
   ]
  },
  {
   "cell_type": "code",
   "execution_count": 49,
   "id": "3df4407c-2e25-43df-92c0-f24cc73e5768",
   "metadata": {},
   "outputs": [],
   "source": [
    "train_pred = pipeline.predict(train_X)\n",
    "test_pred = pipeline.predict(test_X)"
   ]
  },
  {
   "cell_type": "code",
   "execution_count": 51,
   "id": "0e882921-26b7-43a9-98d6-c6f357a742af",
   "metadata": {},
   "outputs": [
    {
     "data": {
      "text/plain": [
       "array([8.44914413, 4.2022399 , 4.28577711, 5.25855125, 8.47056576,\n",
       "       4.42244813, 6.91790666, 4.71331155, 5.72970025, 6.15969492,\n",
       "       7.45719491, 7.84601821, 6.61273661, 4.95319141, 9.44435546,\n",
       "       4.52411374, 8.95845813, 5.90038968, 7.02360132, 6.24884485,\n",
       "       4.42923168, 5.11735494, 5.2790214 , 5.97592321, 9.64497192,\n",
       "       6.91024578, 7.08195718, 9.09217044, 4.84844811, 4.53239539,\n",
       "       6.00680211, 5.18879065, 4.66240065, 6.70101635, 8.62066585,\n",
       "       8.78841083, 8.9754997 , 7.28450443, 4.31259039, 8.45454836,\n",
       "       9.52709043, 5.60682937, 8.65505361, 7.07073411, 6.32725079,\n",
       "       5.78679514, 9.284406  , 5.67653838, 8.52626585, 9.13440169,\n",
       "       9.21478138, 9.54901186, 7.5054483 , 7.54110874, 8.09190419,\n",
       "       5.89634795, 8.09864398, 6.56721726, 5.97510789, 4.49375038,\n",
       "       8.39099179, 4.81423335, 7.49182419, 7.70756126, 4.94525848,\n",
       "       8.21807114, 8.6942316 , 8.44746275, 6.20348744, 8.23131388,\n",
       "       7.96642782, 5.2737077 , 4.58507793, 7.181452  , 6.79055756,\n",
       "       8.12732949, 6.1501978 , 9.3821541 , 4.36233541, 4.83489354])"
      ]
     },
     "execution_count": 51,
     "metadata": {},
     "output_type": "execute_result"
    }
   ],
   "source": [
    "train_pred"
   ]
  },
  {
   "cell_type": "code",
   "execution_count": 59,
   "id": "b1ff04b2-17c3-4271-b9fe-d17d7e3cdc71",
   "metadata": {},
   "outputs": [
    {
     "name": "stdout",
     "output_type": "stream",
     "text": [
      "Train MAPE: 0.11835536178081799\n",
      "Train R2 0.7644057864152756\n"
     ]
    }
   ],
   "source": [
    "print(\"Train MAPE:\",mean_absolute_percentage_error(train_y,train_pred ))\n",
    "print(\"Train R2\",r2_score(train_y,train_pred ))"
   ]
  },
  {
   "cell_type": "code",
   "execution_count": 61,
   "id": "3a6143ca-296c-4f31-9445-3f3b85bf95e3",
   "metadata": {},
   "outputs": [
    {
     "name": "stdout",
     "output_type": "stream",
     "text": [
      "Test MAPE: 0.08787710194652996\n",
      "Test R2 0.7902006549427103\n"
     ]
    }
   ],
   "source": [
    "print(\"Test MAPE:\",mean_absolute_percentage_error(test_y,test_pred ))\n",
    "print(\"Test R2\",r2_score(test_y,test_pred  ))"
   ]
  },
  {
   "cell_type": "code",
   "execution_count": 67,
   "id": "d687ea9d-cb17-4797-bdde-965b81bee672",
   "metadata": {},
   "outputs": [
    {
     "data": {
      "text/plain": [
       "['pipline_lr_deploy.pkl']"
      ]
     },
     "execution_count": 67,
     "metadata": {},
     "output_type": "execute_result"
    }
   ],
   "source": [
    "joblib.dump(pipeline, 'pipline_lr_deploy.pkl' )"
   ]
  },
  {
   "cell_type": "code",
   "execution_count": 71,
   "id": "1d17c799-4dc3-4ad2-8a62-2f0b20760ccc",
   "metadata": {},
   "outputs": [
    {
     "data": {
      "text/plain": [
       "6.822655623615527"
      ]
     },
     "execution_count": 71,
     "metadata": {},
     "output_type": "execute_result"
    }
   ],
   "source": [
    "pipeline.named_steps['model'].intercept_"
   ]
  },
  {
   "cell_type": "code",
   "execution_count": 75,
   "id": "9b188005-df39-4707-a851-00df52e3f7d5",
   "metadata": {},
   "outputs": [
    {
     "data": {
      "text/plain": [
       "1.6648523735234784"
      ]
     },
     "execution_count": 75,
     "metadata": {},
     "output_type": "execute_result"
    }
   ],
   "source": [
    "pipeline.named_steps['model'].coef_[0]"
   ]
  },
  {
   "cell_type": "code",
   "execution_count": null,
   "id": "05e31756-4e98-4450-8819-9341abf88d9f",
   "metadata": {},
   "outputs": [],
   "source": []
  }
 ],
 "metadata": {
  "kernelspec": {
   "display_name": "Python 3 (ipykernel)",
   "language": "python",
   "name": "python3"
  },
  "language_info": {
   "codemirror_mode": {
    "name": "ipython",
    "version": 3
   },
   "file_extension": ".py",
   "mimetype": "text/x-python",
   "name": "python",
   "nbconvert_exporter": "python",
   "pygments_lexer": "ipython3",
   "version": "3.11.0"
  }
 },
 "nbformat": 4,
 "nbformat_minor": 5
}
