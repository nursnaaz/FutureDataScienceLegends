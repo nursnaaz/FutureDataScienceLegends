{
  "nbformat": 4,
  "nbformat_minor": 0,
  "metadata": {
    "colab": {
      "name": "Transfer Learning Spam-classification.ipynb",
      "provenance": [],
      "private_outputs": true,
      "collapsed_sections": [],
      "toc_visible": true,
      "include_colab_link": true
    },
    "kernelspec": {
      "display_name": "Python 3",
      "name": "python3"
    }
  },
  "cells": [
    {
      "cell_type": "markdown",
      "metadata": {
        "id": "view-in-github",
        "colab_type": "text"
      },
      "source": [
        "<a href=\"https://colab.research.google.com/github/nursnaaz/Deeplearning-and-NLP/blob/master/06%2520-%2520NLP%2520Applications/06%2520-%2520Text%2520Classification/Transfer_Learning_Spam_classification.ipynb\" target=\"_parent\"><img src=\"https://colab.research.google.com/assets/colab-badge.svg\" alt=\"Open In Colab\"/></a>"
      ]
    },
    {
      "cell_type": "markdown",
      "metadata": {
        "colab_type": "text",
        "id": "hKY4XMc9o8iB"
      },
      "source": [
        "<table class=\"tfo-notebook-buttons\" align=\"left\">\n",
        "  <td>\n",
        "    <a target=\"_blank\" href=\"https://colab.research.google.com/github/tensorflow/hub/blob/master/examples/colab/tf2_text_classification.ipynb\"><img src=\"https://www.tensorflow.org/images/colab_logo_32px.png\" />Run in Google Colab</a>\n",
        "  </td>\n",
        "  <td>\n",
        "    <a target=\"_blank\" href=\"https://github.com/tensorflow/hub/blob/master/examples/colab/tf2_text_classification.ipynb\"><img src=\"https://www.tensorflow.org/images/GitHub-Mark-32px.png\" />View source on GitHub</a>\n",
        "  </td>\n",
        "</table>"
      ]
    },
    {
      "cell_type": "markdown",
      "metadata": {
        "colab_type": "text",
        "id": "ItXfxkxvosLH"
      },
      "source": [
        "# TF Hub for TF2: Spam Classification"
      ]
    },
    {
      "cell_type": "code",
      "metadata": {
        "colab_type": "code",
        "id": "qqb0PzPs0Imt",
        "colab": {}
      },
      "source": [
        "!pip uninstall -y tf-nightly tensorflow\n",
        "!pip install tf-nightly-2.0-preview --quiet\n",
        "!pip install \"tensorflow-hub>=0.3\""
      ],
      "execution_count": 0,
      "outputs": []
    },
    {
      "cell_type": "code",
      "metadata": {
        "colab_type": "code",
        "id": "2ew7HTbPpCJH",
        "colab": {}
      },
      "source": [
        "from __future__ import absolute_import, division, print_function\n",
        "\n",
        "import numpy as np\n",
        "\n",
        "import tensorflow as tf\n",
        "import tensorflow_hub as hub\n",
        "import tensorflow_datasets as tfds\n",
        "\n",
        "import matplotlib.pyplot as plt\n",
        "\n",
        "print(\"Version: \", tf.__version__)\n",
        "print(\"Eager mode: \", tf.executing_eagerly())\n",
        "print(\"Hub version: \", hub.__version__)\n",
        "print(\"GPU is\", \"available\" if tf.test.is_gpu_available() else \"NOT AVAILABLE\")"
      ],
      "execution_count": 0,
      "outputs": []
    },
    {
      "cell_type": "code",
      "metadata": {
        "id": "I0gpyxKCBJeM",
        "colab_type": "code",
        "colab": {}
      },
      "source": [
        "import csv\n",
        "import nltk\n",
        "from nltk.corpus import stopwords\n",
        "from nltk.stem import WordNetLemmatizer\n",
        "import string\n",
        "import pandas as pd\n",
        "from nltk import pos_tag\n",
        "from nltk.stem import PorterStemmer\n",
        "import numpy as np\n",
        "import pandas as pd\n",
        "from sklearn.model_selection import train_test_split\n",
        "import seaborn as sns\n",
        "import matplotlib.pyplot as plt"
      ],
      "execution_count": 0,
      "outputs": []
    },
    {
      "cell_type": "code",
      "metadata": {
        "id": "rDtRZTVqBQSo",
        "colab_type": "code",
        "colab": {}
      },
      "source": [
        "import nltk\n",
        "nltk.download('punkt')\n",
        "nltk.download('stopwords')\n",
        "nltk.download('averaged_perceptron_tagger')\n",
        "nltk.download('wordnet')"
      ],
      "execution_count": 0,
      "outputs": []
    },
    {
      "cell_type": "markdown",
      "metadata": {
        "colab_type": "text",
        "id": "iAsKG535pHep"
      },
      "source": [
        "## Download the Spam dataset\n"
      ]
    },
    {
      "cell_type": "code",
      "metadata": {
        "id": "cZS5lgSYu9FI",
        "colab_type": "code",
        "colab": {}
      },
      "source": [
        "import pandas as pd\n",
        "import numpy as np\n",
        "dataf = pd.read_csv(\"https://raw.githubusercontent.com/tejank10/Spam-or-Ham/master/spam.csv\", encoding = \"ISO-8859-1\")"
      ],
      "execution_count": 0,
      "outputs": []
    },
    {
      "cell_type": "code",
      "metadata": {
        "id": "bN3VWxDnwm-_",
        "colab_type": "code",
        "colab": {}
      },
      "source": [
        "dataf= dataf[[\"v1\",\"v2\"]]"
      ],
      "execution_count": 0,
      "outputs": []
    },
    {
      "cell_type": "code",
      "metadata": {
        "id": "6Y6OEGAKwwIY",
        "colab_type": "code",
        "colab": {}
      },
      "source": [
        "dataf.columns = [\"label\",\"message\"]"
      ],
      "execution_count": 0,
      "outputs": []
    },
    {
      "cell_type": "code",
      "metadata": {
        "id": "oVcyX7E9x4xV",
        "colab_type": "code",
        "colab": {}
      },
      "source": [
        "dataf[\"label\"] = np.where(dataf.label==\"spam\",1,0)"
      ],
      "execution_count": 0,
      "outputs": []
    },
    {
      "cell_type": "code",
      "metadata": {
        "id": "MOrlpTsKAiiW",
        "colab_type": "code",
        "colab": {}
      },
      "source": [
        "def preprocessing(text):\n",
        "    text2 = \" \".join(\"\".join([\" \" if ch in string.punctuation else ch for ch in text]).split())\n",
        "\n",
        "    tokens = [word for sent in nltk.sent_tokenize(text2) for word in\n",
        "              nltk.word_tokenize(sent)]\n",
        "    \n",
        "    tokens = [word.lower() for word in tokens]\n",
        "    \n",
        "    stopwds = stopwords.words('english')\n",
        "    tokens = [token for token in tokens if token not in stopwds]\n",
        "    \n",
        "    tokens = [word for word in tokens if len(word)>=3]\n",
        "    \n",
        "    stemmer = PorterStemmer()\n",
        "    tokens = [stemmer.stem(word) for word in tokens]\n",
        "\n",
        "    tagged_corpus = pos_tag(tokens)    \n",
        "    \n",
        "    Noun_tags = ['NN','NNP','NNPS','NNS']\n",
        "    Verb_tags = ['VB','VBD','VBG','VBN','VBP','VBZ']\n",
        "\n",
        "    lemmatizer = WordNetLemmatizer()\n",
        "    \n",
        "    def prat_lemmatize(token,tag):\n",
        "        if tag in Noun_tags:\n",
        "            return lemmatizer.lemmatize(token,'n')\n",
        "        elif tag in Verb_tags:\n",
        "            return lemmatizer.lemmatize(token,'v')\n",
        "        else:\n",
        "            return lemmatizer.lemmatize(token,'n')\n",
        "    \n",
        "    pre_proc_text =  \" \".join([prat_lemmatize(token,tag) for token,tag in tagged_corpus])             \n",
        "\n",
        "    return pre_proc_text"
      ],
      "execution_count": 0,
      "outputs": []
    },
    {
      "cell_type": "code",
      "metadata": {
        "id": "UqcCGssEAD2M",
        "colab_type": "code",
        "colab": {}
      },
      "source": [
        "def digit_number_conversion(x):\n",
        "    return ''.join(\" number \" if c.isdigit() else c for c in x)\n",
        "\n",
        "dataf[\"message_digit_conversion\"] = dataf[\"message\"].apply(lambda x :digit_number_conversion(x))\n",
        "\n",
        "def digit_number_count(x):\n",
        "    return x.count(\"number\")\n",
        "\n",
        "dataf[\"digit_count\"] = dataf[\"message_digit_conversion\"].apply(lambda x :digit_number_count(x))\n",
        "\n",
        "\n",
        "\n",
        "dataf[\"message_didit_currency_conversion\"] = dataf['message_digit_conversion'].str.replace('$' ,' currency ')\n",
        "dataf[\"message_didit_currency_conversion\"] = dataf['message_didit_currency_conversion'].str.replace('£' ,' currency ')\n",
        "dataf[\"message_didit_currency_conversion\"] = dataf['message_didit_currency_conversion'].str.replace('€' ,' currency ')\n",
        "dataf[\"message_didit_currency_conversion\"] = dataf['message_didit_currency_conversion'].str.replace('₹' ,' currency ')\n",
        "dataf[\"message_didit_currency_conversion\"] = dataf['message_didit_currency_conversion'].str.replace('¥' ,' currency ')\n",
        "\n",
        "#,',':' ','&':' ','(':' ',')':' ','*':' ','[':' ',']':' '})\n",
        "                                                               \n",
        "\n",
        "def currency_count(x):\n",
        "    return x.count(\"currency\")\n",
        "\n",
        "dataf[\"currency_count\"] = dataf[\"message_didit_currency_conversion\"].apply(lambda x :digit_number_count(x))\n",
        "\n",
        "\n"
      ],
      "execution_count": 0,
      "outputs": []
    },
    {
      "cell_type": "code",
      "metadata": {
        "id": "Q_JU8p3uA7hg",
        "colab_type": "code",
        "colab": {}
      },
      "source": [
        "dataf.head()"
      ],
      "execution_count": 0,
      "outputs": []
    },
    {
      "cell_type": "code",
      "metadata": {
        "id": "5tBqQvtpA6CF",
        "colab_type": "code",
        "colab": {}
      },
      "source": [
        "dataf[\"message_clean\"] = dataf[\"message_didit_currency_conversion\"].apply(lambda x :preprocessing(x))\n",
        "\n",
        "dataf.head()"
      ],
      "execution_count": 0,
      "outputs": []
    },
    {
      "cell_type": "code",
      "metadata": {
        "id": "fhs-QG7Dw5dz",
        "colab_type": "code",
        "colab": {}
      },
      "source": [
        "from sklearn.model_selection import train_test_split"
      ],
      "execution_count": 0,
      "outputs": []
    },
    {
      "cell_type": "code",
      "metadata": {
        "id": "ecl6PZBXw_HT",
        "colab_type": "code",
        "colab": {}
      },
      "source": [
        "train_X,test_X,train_y,test_y = train_test_split(np.array(dataf[\"message_clean\"].values),np.array(dataf[\"label\"].values),test_size=0.3)"
      ],
      "execution_count": 0,
      "outputs": []
    },
    {
      "cell_type": "code",
      "metadata": {
        "id": "RTc0-kqEyT7m",
        "colab_type": "code",
        "colab": {}
      },
      "source": [
        "train_y"
      ],
      "execution_count": 0,
      "outputs": []
    },
    {
      "cell_type": "markdown",
      "metadata": {
        "colab_type": "text",
        "id": "LLC02j2g-llC"
      },
      "source": [
        "## Build the model\n",
        "\n",
        "The neural network is created by stacking layers—this requires three main architectural decisions:\n",
        "\n",
        "* How to represent the text?\n",
        "* How many layers to use in the model?\n",
        "* How many *hidden units* to use for each layer?\n",
        "\n",
        "In this example, the input data consists of sentences. The labels to predict are either 0 or 1.\n",
        "\n",
        "One way to represent the text is to convert sentences into embeddings vectors. We can use a pre-trained text embedding as the first layer, which will have two advantages:\n",
        "*   we don't have to worry anout text preprocessing,\n",
        "*   we can benefit from transfer learning.\n",
        "\n",
        "For this example we will use a model from [TensorFlow Hub](https://www.tensorflow.org/hub) called [google/tf2-preview/gnews-swivel-20dim/1](https://tfhub.dev/google/tf2-preview/gnews-swivel-20dim/1).\n",
        "\n",
        "There are three other models to test for the sake of this tutorial:\n",
        "* [google/tf2-preview/gnews-swivel-20dim-with-oov/1](https://tfhub.dev/google/tf2-preview/gnews-swivel-20dim-with-oov/1) - same as [google/tf2-preview/gnews-swivel-20dim/1](https://tfhub.dev/google/tf2-preview/gnews-swivel-20dim/1), but with 2.5% vocabulary converted to OOV buckets. This can help if vocabulary of the task and vocabulary of the model don't fully overlap.\n",
        "* [google/tf2-preview/nnlm-en-dim50/1](https://tfhub.dev/google/tf2-preview/nnlm-en-dim50/1) - A much larger model with ~1M vocabulary size and 50 dimensions.\n",
        "* [google/tf2-preview/nnlm-en-dim128/1](https://tfhub.dev/google/tf2-preview/nnlm-en-dim128/1) - Even larger model with ~1M vocabulary size and 128 dimensions."
      ]
    },
    {
      "cell_type": "markdown",
      "metadata": {
        "colab_type": "text",
        "id": "In2nDpTLkgKa"
      },
      "source": [
        "Let's first create a Keras layer that uses a TensorFlow Hub model to embed the sentences, and try it out on a couple of input examples. Note that the output shape of the produced embeddings is a expected: `(num_examples, embedding_dimension)`."
      ]
    },
    {
      "cell_type": "code",
      "metadata": {
        "colab_type": "code",
        "id": "_NUbzVeYkgcO",
        "colab": {}
      },
      "source": [
        "model = \"https://tfhub.dev/google/tf2-preview/nnlm-en-dim128/1\"\n",
        "hub_layer = hub.KerasLayer(model, output_shape=[128], input_shape=[], \n",
        "                           dtype=tf.string, trainable=True)\n",
        "hub_layer(train_X[:3])"
      ],
      "execution_count": 0,
      "outputs": []
    },
    {
      "cell_type": "markdown",
      "metadata": {
        "colab_type": "text",
        "id": "dfSbV6igl1EH"
      },
      "source": [
        "Let's now build the full model:"
      ]
    },
    {
      "cell_type": "code",
      "metadata": {
        "colab_type": "code",
        "id": "xpKOoWgu-llD",
        "colab": {}
      },
      "source": [
        "model = tf.keras.Sequential()\n",
        "model.add(hub_layer)\n",
        "model.add(tf.keras.layers.Dense(16, activation='elu'))\n",
        "model.add(tf.keras.layers.BatchNormalization())\n",
        "model.add(tf.keras.layers.Dropout(0.4))\n",
        "model.add(tf.keras.layers.Dense(1, activation='sigmoid'))\n",
        "\n",
        "model.summary()"
      ],
      "execution_count": 0,
      "outputs": []
    },
    {
      "cell_type": "markdown",
      "metadata": {
        "colab_type": "text",
        "id": "6PbKQ6mucuKL"
      },
      "source": [
        "The layers are stacked sequentially to build the classifier:\n",
        "\n",
        "1. The first layer is a TensorFlow Hub layer. This layer uses a pre-trained Saved Model to map a sentence into its embedding vector. The model that we are using ([google/tf2-preview/gnews-swivel-20dim/1](https://tfhub.dev/google/tf2-preview/gnews-swivel-20dim/1)) splits the sentence into tokens, embeds each token and then combines the embedding. The resulting dimensions are: `(num_examples, embedding_dimension)`.\n",
        "2. This fixed-length output vector is piped through a fully-connected (`Dense`) layer with 16 hidden units.\n",
        "3. The last layer is densely connected with a single output node. Using the `sigmoid` activation function, this value is a float between 0 and 1, representing a probability, or confidence level."
      ]
    },
    {
      "cell_type": "markdown",
      "metadata": {
        "colab_type": "text",
        "id": "0XMwnDOp-llH"
      },
      "source": [
        "### Hidden units\n",
        "\n",
        "The above model has two intermediate or \"hidden\" layers, between the input and output. The number of outputs (units, nodes, or neurons) is the dimension of the representational space for the layer. In other words, the amount of freedom the network is allowed when learning an internal representation.\n",
        "\n",
        "If a model has more hidden units (a higher-dimensional representation space), and/or more layers, then the network can learn more complex representations. However, it makes the network more computationally expensive and may lead to learning unwanted patterns—patterns that improve performance on training data but not on the test data. This is called *overfitting*, and we'll explore it later."
      ]
    },
    {
      "cell_type": "markdown",
      "metadata": {
        "colab_type": "text",
        "id": "L4EqVWg4-llM"
      },
      "source": [
        "### Loss function and optimizer\n",
        "\n",
        "A model needs a loss function and an optimizer for training. Since this is a binary classification problem and the model outputs a probability (a single-unit layer with a sigmoid activation), we'll use the `binary_crossentropy` loss function. \n",
        "\n",
        "This isn't the only choice for a loss function, you could, for instance, choose `mean_squared_error`. But, generally, `binary_crossentropy` is better for dealing with probabilities—it measures the \"distance\" between probability distributions, or in our case, between the ground-truth distribution and the predictions.\n",
        "\n",
        "Later, when we are exploring regression problems (say, to predict the price of a house), we will see how to use another loss function called mean squared error.\n",
        "\n",
        "Now, configure the model to use an optimizer and a loss function:"
      ]
    },
    {
      "cell_type": "code",
      "metadata": {
        "colab_type": "code",
        "id": "Mr0GP-cQ-llN",
        "colab": {}
      },
      "source": [
        "model.compile(optimizer='adam',\n",
        "              loss='binary_crossentropy',\n",
        "              metrics=['accuracy'])"
      ],
      "execution_count": 0,
      "outputs": []
    },
    {
      "cell_type": "markdown",
      "metadata": {
        "colab_type": "text",
        "id": "35jv_fzP-llU"
      },
      "source": [
        "## Train the model\n",
        "\n",
        "Train the model for 40 epochs in mini-batches of 512 samples. This is 40 iterations over all samples in the `x_train` and `y_train` tensors. While training, monitor the model's loss and accuracy on the 10,000 samples from the validation set:"
      ]
    },
    {
      "cell_type": "code",
      "metadata": {
        "colab_type": "code",
        "id": "tXSGrjWZ-llW",
        "colab": {}
      },
      "source": [
        "history = model.fit(np.array(train_X),\n",
        "                    np.array(train_y),\n",
        "                    epochs=10,\n",
        "                    batch_size=512,\n",
        "                    validation_data=(test_X, test_y),\n",
        "                    verbose=1)"
      ],
      "execution_count": 0,
      "outputs": []
    },
    {
      "cell_type": "markdown",
      "metadata": {
        "colab_type": "text",
        "id": "9EEGuDVuzb5r"
      },
      "source": [
        "## Evaluate the model\n",
        "\n",
        "And let's see how the model performs. Two values will be returned. Loss (a number which represents our error, lower values are better), and accuracy."
      ]
    },
    {
      "cell_type": "code",
      "metadata": {
        "colab_type": "code",
        "id": "zOMKywn4zReN",
        "colab": {}
      },
      "source": [
        "results = model.evaluate(test_X, test_y)\n",
        "\n",
        "print(results)"
      ],
      "execution_count": 0,
      "outputs": []
    },
    {
      "cell_type": "code",
      "metadata": {
        "id": "rKkLE-7WzWQw",
        "colab_type": "code",
        "colab": {}
      },
      "source": [
        "results = model.predict(test_X)\n"
      ],
      "execution_count": 0,
      "outputs": []
    },
    {
      "cell_type": "code",
      "metadata": {
        "id": "Oriv8aVWzatb",
        "colab_type": "code",
        "colab": {}
      },
      "source": [
        "pred = np.where(results>0.499,1,0)"
      ],
      "execution_count": 0,
      "outputs": []
    },
    {
      "cell_type": "code",
      "metadata": {
        "id": "clqRGEQlztDe",
        "colab_type": "code",
        "colab": {}
      },
      "source": [
        "from sklearn.metrics import confusion_matrix\n",
        "confusion_matrix(test_y,pred)"
      ],
      "execution_count": 0,
      "outputs": []
    },
    {
      "cell_type": "markdown",
      "metadata": {
        "colab_type": "text",
        "id": "5KggXVeL-llZ"
      },
      "source": [
        "## Create a graph of accuracy and loss over time\n",
        "\n",
        "`model.fit()` returns a `History` object that contains a dictionary with everything that happened during training:"
      ]
    },
    {
      "cell_type": "code",
      "metadata": {
        "colab_type": "code",
        "id": "VcvSXvhp-llb",
        "colab": {}
      },
      "source": [
        "history_dict = history.history\n",
        "history_dict.keys()"
      ],
      "execution_count": 0,
      "outputs": []
    },
    {
      "cell_type": "markdown",
      "metadata": {
        "colab_type": "text",
        "id": "nRKsqL40-lle"
      },
      "source": [
        "There are four entries: one for each monitored metric during training and validation. We can use these to plot the training and validation loss for comparison, as well as the training and validation accuracy:"
      ]
    },
    {
      "cell_type": "code",
      "metadata": {
        "colab_type": "code",
        "id": "nGoYf2Js-lle",
        "colab": {}
      },
      "source": [
        "acc = history_dict['accuracy']\n",
        "val_acc = history_dict['val_accuracy']\n",
        "loss = history_dict['loss']\n",
        "val_loss = history_dict['val_loss']\n",
        "\n",
        "epochs = range(1, len(acc) + 1)\n",
        "\n",
        "# \"bo\" is for \"blue dot\"\n",
        "plt.plot(epochs, loss, 'bo', label='Training loss')\n",
        "# b is for \"solid blue line\"\n",
        "plt.plot(epochs, val_loss, 'b', label='Validation loss')\n",
        "plt.title('Training and validation loss')\n",
        "plt.xlabel('Epochs')\n",
        "plt.ylabel('Loss')\n",
        "plt.legend()\n",
        "\n",
        "plt.show()"
      ],
      "execution_count": 0,
      "outputs": []
    },
    {
      "cell_type": "code",
      "metadata": {
        "colab_type": "code",
        "id": "6hXx-xOv-llh",
        "colab": {}
      },
      "source": [
        "plt.clf()   # clear figure\n",
        "\n",
        "plt.plot(epochs, acc, 'bo', label='Training acc')\n",
        "plt.plot(epochs, val_acc, 'b', label='Validation acc')\n",
        "plt.title('Training and validation accuracy')\n",
        "plt.xlabel('Epochs')\n",
        "plt.ylabel('Accuracy')\n",
        "plt.legend()\n",
        "\n",
        "plt.show()"
      ],
      "execution_count": 0,
      "outputs": []
    },
    {
      "cell_type": "markdown",
      "metadata": {
        "colab_type": "text",
        "id": "oFEmZ5zq-llk"
      },
      "source": [
        "\n",
        "In this plot, the dots represent the training loss and accuracy, and the solid lines are the validation loss and accuracy.\n",
        "\n",
        "Notice the training loss *decreases* with each epoch and the training accuracy *increases* with each epoch. This is expected when using a gradient descent optimization—it should minimize the desired quantity on every iteration.\n",
        "\n",
        "This isn't the case for the validation loss and accuracy—they seem to peak after about twenty epochs. This is an example of overfitting: the model performs better on the training data than it does on data it has never seen before. After this point, the model over-optimizes and learns representations *specific* to the training data that do not *generalize* to test data.\n",
        "\n",
        "For this particular case, we could prevent overfitting by simply stopping the training after twenty or so epochs. Later, you'll see how to do this automatically with a callback."
      ]
    },
    {
      "cell_type": "code",
      "metadata": {
        "id": "FGITaOsH599D",
        "colab_type": "code",
        "colab": {}
      },
      "source": [
        "# Training input on the whole training set with no limit on training epochs.\n",
        "train_input_fn = tf.compat.v1.estimator.inputs.numpy_input_fn(\n",
        "    {'sentence': train_X}, train_y, \n",
        "    batch_size=256, num_epochs=None, shuffle=True)\n",
        "\n",
        "# Prediction on the whole training set.\n",
        "predict_train_input_fn = tf.compat.v1.estimator.inputs.numpy_input_fn(\n",
        "    {'sentence': train_X}, train_y, shuffle=False)\n",
        "\n",
        "# Prediction on the whole validation set.\n",
        "predict_val_input_fn = tf.compat.v1.estimator.inputs.numpy_input_fn(\n",
        "    {'sentence': test_X}, test_y, shuffle=False)\n",
        "\n",
        "# Prediction on the test set.\n",
        "predict_test_input_fn = tf.compat.v1.estimator.inputs.numpy_input_fn(\n",
        "    {'sentence': test_X}, test_y, shuffle=False)"
      ],
      "execution_count": 0,
      "outputs": []
    },
    {
      "cell_type": "code",
      "metadata": {
        "id": "07fNw9-B2_EL",
        "colab_type": "code",
        "colab": {}
      },
      "source": [
        "result_data = dict()\n",
        "\n",
        "def wrong_prediction(conf):\n",
        "    return conf[0][1] + conf[1][0]\n"
      ],
      "execution_count": 0,
      "outputs": []
    },
    {
      "cell_type": "code",
      "metadata": {
        "id": "aELJyFgT25GX",
        "colab_type": "code",
        "colab": {}
      },
      "source": [
        "import time\n",
        "\n",
        "TOTAL_STEPS = 1200\n",
        "STEP_SIZE = 1200\n",
        "\n",
        "my_checkpointing_config = tf.estimator.RunConfig(\n",
        "    keep_checkpoint_max = 1,       # Retain the 2 most recent checkpoints.\n",
        ")\n",
        "\n",
        "def train_and_evaluate_with_sentence_encoder(hub_module, train_module=False, path=''):\n",
        "    embedding_feature = hub.text_embedding_column(\n",
        "        key='sentence', module_spec=hub_module, trainable=train_module)\n",
        "  \n",
        "    print()\n",
        "    print('='*100)\n",
        "    print('Training with', hub_module)\n",
        "    print('Trainable is:', train_module)\n",
        "    print('='*100)\n",
        "  \n",
        "    dnn = tf.estimator.DNNClassifier(\n",
        "            hidden_units=[512, 128],\n",
        "            feature_columns=[embedding_feature],\n",
        "            n_classes=2,\n",
        "            activation_fn=tf.nn.relu,\n",
        "            dropout=0.1,\n",
        "            optimizer=tf.optimizers.Adam(learning_rate=0.005),\n",
        "            model_dir=path,\n",
        "            config=my_checkpointing_config)\n",
        "\n",
        "    for step in range(0, TOTAL_STEPS, STEP_SIZE):\n",
        "        print('-'*100)\n",
        "        print('Training for step:', step, '-', step+STEP_SIZE)\n",
        "        start_time = time.time()\n",
        "        dnn.train(input_fn=train_input_fn, steps=STEP_SIZE)\n",
        "        elapsed_time = time.time() - start_time\n",
        "        print('Train Time (s):', elapsed_time)\n",
        "        print('Eval Metrics (Train):', dnn.evaluate(input_fn=predict_train_input_fn))\n",
        "        print('Eval Metrics (Validation):', dnn.evaluate(input_fn=predict_val_input_fn))\n",
        "\n",
        "    train_eval_result = dnn.evaluate(input_fn=predict_train_input_fn)\n",
        "    test_eval_result = dnn.evaluate(input_fn=predict_test_input_fn)\n",
        "    transfer_predict = list(dnn.predict(input_fn=predict_test_input_fn))\n",
        "    pred=[]\n",
        "    for i in transfer_predict:\n",
        "        pred.append(np.argmax(i[\"probabilities\"]))\n",
        "        \n",
        "    labels = ['spam', 'ham']\n",
        "    from sklearn.metrics import classification_report, confusion_matrix\n",
        "    print(classification_report(test_y, pred))\n",
        "    pd.DataFrame(confusion_matrix(test_y, pred), index=labels, columns=labels)\n",
        "    wrong = wrong_prediction(confusion_matrix(test_y, pred))\n",
        "    return {\n",
        "      \"Model Dir\": dnn.model_dir,\n",
        "      \"Training Accuracy\": train_eval_result[\"accuracy\"],\n",
        "      \"Test Accuracy\": test_eval_result[\"accuracy\"],\n",
        "      \"Training AUC\": train_eval_result[\"auc\"],\n",
        "      \"Test AUC\": test_eval_result[\"auc\"],\n",
        "      \"Training Precision\": train_eval_result[\"precision\"],\n",
        "      \"Test Precision\": test_eval_result[\"precision\"],\n",
        "      \"Training Recall\": train_eval_result[\"recall\"],\n",
        "      \"Test Recall\": test_eval_result[\"recall\"],\n",
        "      \"Wrong Prediction\" : wrong\n",
        "    }"
      ],
      "execution_count": 0,
      "outputs": []
    },
    {
      "cell_type": "code",
      "metadata": {
        "id": "2ZbXIl9k3E01",
        "colab_type": "code",
        "colab": {}
      },
      "source": [
        "\n",
        "results = {}\n",
        "\n",
        "results[\"nnlm-en-dim128\"] = train_and_evaluate_with_sentence_encoder(\n",
        "    \"https://tfhub.dev/google/nnlm-en-dim128/1\", path='/storage/models/nnlm-en-dim128_fr/')\n",
        "\n"
      ],
      "execution_count": 0,
      "outputs": []
    },
    {
      "cell_type": "code",
      "metadata": {
        "id": "ETk9fj_F8NWk",
        "colab_type": "code",
        "colab": {}
      },
      "source": [
        "results"
      ],
      "execution_count": 0,
      "outputs": []
    },
    {
      "cell_type": "code",
      "metadata": {
        "id": "JgRDRtF48Igw",
        "colab_type": "code",
        "colab": {}
      },
      "source": [
        "results[\"nnlm-en-dim128-with-training\"] = train_and_evaluate_with_sentence_encoder(\n",
        "    \"https://tfhub.dev/google/nnlm-en-dim128/1\", train_module=True, path='/storage/models/nnlm-en-dim128_ft/')\n",
        "\n",
        "results[\"use-512\"] = train_and_evaluate_with_sentence_encoder(\n",
        "    \"https://tfhub.dev/google/universal-sentence-encoder/2\", path='/storage/models/use-512_fr/')\n",
        "\n",
        "results[\"use-512-with-training\"] = train_and_evaluate_with_sentence_encoder(\n",
        "    \"https://tfhub.dev/google/universal-sentence-encoder/2\", train_module=True, path='/storage/models/use-512_ft/')"
      ],
      "execution_count": 0,
      "outputs": []
    },
    {
      "cell_type": "code",
      "metadata": {
        "id": "4udV0ugd8b_K",
        "colab_type": "code",
        "colab": {}
      },
      "source": [
        "results_df = pd.DataFrame.from_dict(results, orient=\"index\")\n",
        "results_df"
      ],
      "execution_count": 0,
      "outputs": []
    }
  ]
}