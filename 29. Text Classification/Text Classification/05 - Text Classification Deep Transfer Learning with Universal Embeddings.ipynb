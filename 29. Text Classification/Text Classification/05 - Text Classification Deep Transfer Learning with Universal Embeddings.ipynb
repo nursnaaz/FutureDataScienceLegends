{
 "cells": [
  {
   "cell_type": "markdown",
   "metadata": {
    "colab_type": "text",
    "id": "UL1AZuXBspnZ"
   },
   "source": [
    "# Sentiment Analysis - Text Classification with Universal Embeddings\n",
    "\n",
    "Textual data in spite of being highly unstructured, can be classified into two major types of documents. \n",
    "- __Factual documents__ which typically depict some form of statements or facts with no specific feelings or emotion attached to them. These are also known as objective documents. \n",
    "- __Subjective documents__ on the other hand have text which expresses feelings, mood, emotions and opinion. \n",
    "\n",
    "Sentiment Analysis is also popularly known as opinion analysis or opinion mining. The key idea is to use techniques from text analytics, NLP, machine learning and linguistics to extract important information or data points from unstructured text. This in turn can help us derive the sentiment from text data\n",
    "\n",
    "![](https://github.com/dipanjanS/data_science_for_all/blob/master/tds_deep_transfer_learning_nlp_classification/sentiment_cover.png?raw=1)\n",
    "\n",
    "Here we will be looking at building supervised sentiment analysis classification models thanks to the advantage of labeled data! The dataset we will be working with is the IMDB Large Movie Review Dataset having 50000 reviews classified into positive and negative sentiment. I have provided a compressed version of the dataset in this repository itself for your benefit!\n",
    "\n",
    "Do remember that the focus here is not sentiment analysis but text classification by leveraging universal sentence embeddings.\n",
    "\n",
    "![](https://github.com/dipanjanS/data_science_for_all/blob/master/tds_deep_transfer_learning_nlp_classification/sample_classification.png?raw=1)\n",
    "\n",
    "We will leverage the following sentence encoders here for demonstration from [TensorFlow Hub](https://tfhub.dev/):\n",
    "\n",
    "- [__Neural-Net Language Model (nnlm-en-dim128)__](https://tfhub.dev/google/nnlm-en-dim128/1)\n",
    "- [__Universal Sentence Encoder (universal-sentence-encoder)__](https://tfhub.dev/google/universal-sentence-encoder/2)\n",
    "\n",
    "\n",
    "_Developed by [Dipanjan (DJ) Sarkar](https://www.linkedin.com/in/dipanzan/)_"
   ]
  },
  {
   "cell_type": "markdown",
   "metadata": {
    "colab_type": "text",
    "id": "JmC9sNNospna"
   },
   "source": [
    "# Install Dependencies"
   ]
  },
  {
   "cell_type": "code",
   "execution_count": 1,
   "metadata": {
    "colab": {
     "base_uri": "https://localhost:8080/",
     "height": 513
    },
    "colab_type": "code",
    "id": "g5SlKKP-spnb",
    "outputId": "9b132e25-cca3-4fe9-d232-3be618c81808"
   },
   "outputs": [
    {
     "name": "stdout",
     "output_type": "stream",
     "text": [
      "Requirement already satisfied: tensorflow-hub in /usr/local/lib/python3.6/dist-packages (0.5.0)\n",
      "Requirement already satisfied: numpy>=1.12.0 in /usr/local/lib/python3.6/dist-packages (from tensorflow-hub) (1.16.4)\n",
      "Requirement already satisfied: protobuf>=3.4.0 in /usr/local/lib/python3.6/dist-packages (from tensorflow-hub) (3.7.1)\n",
      "Requirement already satisfied: six>=1.10.0 in /usr/local/lib/python3.6/dist-packages (from tensorflow-hub) (1.12.0)\n",
      "Requirement already satisfied: setuptools in /usr/local/lib/python3.6/dist-packages (from protobuf>=3.4.0->tensorflow-hub) (41.0.1)\n",
      "Collecting textsearch\n",
      "  Downloading https://files.pythonhosted.org/packages/42/a8/03407021f9555043de5492a2bd7a35c56cc03c2510092b5ec018cae1bbf1/textsearch-0.0.17-py2.py3-none-any.whl\n",
      "Collecting pyahocorasick (from textsearch)\n",
      "\u001b[?25l  Downloading https://files.pythonhosted.org/packages/f4/9f/f0d8e8850e12829eea2e778f1c90e3c53a9a799b7f412082a5d21cd19ae1/pyahocorasick-1.4.0.tar.gz (312kB)\n",
      "\u001b[K     |████████████████████████████████| 317kB 2.0MB/s \n",
      "\u001b[?25hCollecting Unidecode (from textsearch)\n",
      "\u001b[?25l  Downloading https://files.pythonhosted.org/packages/d0/42/d9edfed04228bacea2d824904cae367ee9efd05e6cce7ceaaedd0b0ad964/Unidecode-1.1.1-py2.py3-none-any.whl (238kB)\n",
      "\u001b[K     |████████████████████████████████| 245kB 45.5MB/s \n",
      "\u001b[?25hBuilding wheels for collected packages: pyahocorasick\n",
      "  Building wheel for pyahocorasick (setup.py) ... \u001b[?25l\u001b[?25hdone\n",
      "  Created wheel for pyahocorasick: filename=pyahocorasick-1.4.0-cp36-cp36m-linux_x86_64.whl size=81697 sha256=902274730e97698f870840c52da94489be88ceefeda9ceb9a63b0e7b5fe7cf0e\n",
      "  Stored in directory: /root/.cache/pip/wheels/0a/90/61/87a55f5b459792fbb2b7ba6b31721b06ff5cf6bde541b40994\n",
      "Successfully built pyahocorasick\n",
      "Installing collected packages: pyahocorasick, Unidecode, textsearch\n",
      "Successfully installed Unidecode-1.1.1 pyahocorasick-1.4.0 textsearch-0.0.17\n",
      "Collecting contractions\n",
      "  Downloading https://files.pythonhosted.org/packages/f5/2a/ba0a3812e2a1de2cc4ee0ded0bdb750a7cef1631c13c78a4fc4ab042adec/contractions-0.0.21-py2.py3-none-any.whl\n",
      "Installing collected packages: contractions\n",
      "Successfully installed contractions-0.0.21\n",
      "Requirement already satisfied: tqdm in /usr/local/lib/python3.6/dist-packages (4.28.1)\n",
      "[nltk_data] Downloading package punkt to /root/nltk_data...\n",
      "[nltk_data]   Unzipping tokenizers/punkt.zip.\n"
     ]
    },
    {
     "data": {
      "text/plain": [
       "True"
      ]
     },
     "execution_count": 1,
     "metadata": {
      "tags": []
     },
     "output_type": "execute_result"
    }
   ],
   "source": [
    "!pip install tensorflow-hub\n",
    "!pip install textsearch\n",
    "!pip install contractions\n",
    "!pip install tqdm\n",
    "import nltk\n",
    "nltk.download('punkt')"
   ]
  },
  {
   "cell_type": "markdown",
   "metadata": {
    "colab_type": "text",
    "id": "2NNDjY1-spnf"
   },
   "source": [
    "# Load up Dependencies"
   ]
  },
  {
   "cell_type": "code",
   "execution_count": 0,
   "metadata": {
    "colab": {},
    "colab_type": "code",
    "id": "SFQVPeVospng"
   },
   "outputs": [],
   "source": [
    "import tensorflow as tf\n",
    "import tensorflow_hub as hub\n",
    "import numpy as np\n",
    "import pandas as pd"
   ]
  },
  {
   "cell_type": "markdown",
   "metadata": {
    "colab_type": "text",
    "id": "nzziBqXpspnk"
   },
   "source": [
    "# Check if GPU is available for use!"
   ]
  },
  {
   "cell_type": "code",
   "execution_count": 3,
   "metadata": {
    "colab": {
     "base_uri": "https://localhost:8080/",
     "height": 306
    },
    "colab_type": "code",
    "id": "bNaKk-unv8ed",
    "outputId": "501842e9-3212-4309-bccd-60c43453f1f2"
   },
   "outputs": [
    {
     "name": "stdout",
     "output_type": "stream",
     "text": [
      "Tue Aug  6 03:43:02 2019       \n",
      "+-----------------------------------------------------------------------------+\n",
      "| NVIDIA-SMI 418.67       Driver Version: 410.79       CUDA Version: 10.0     |\n",
      "|-------------------------------+----------------------+----------------------+\n",
      "| GPU  Name        Persistence-M| Bus-Id        Disp.A | Volatile Uncorr. ECC |\n",
      "| Fan  Temp  Perf  Pwr:Usage/Cap|         Memory-Usage | GPU-Util  Compute M. |\n",
      "|===============================+======================+======================|\n",
      "|   0  Tesla T4            Off  | 00000000:00:04.0 Off |                    0 |\n",
      "| N/A   47C    P8    15W /  70W |      0MiB / 15079MiB |      0%      Default |\n",
      "+-------------------------------+----------------------+----------------------+\n",
      "                                                                               \n",
      "+-----------------------------------------------------------------------------+\n",
      "| Processes:                                                       GPU Memory |\n",
      "|  GPU       PID   Type   Process name                             Usage      |\n",
      "|=============================================================================|\n",
      "|  No running processes found                                                 |\n",
      "+-----------------------------------------------------------------------------+\n"
     ]
    }
   ],
   "source": [
    "!nvidia-smi"
   ]
  },
  {
   "cell_type": "code",
   "execution_count": 4,
   "metadata": {
    "colab": {
     "base_uri": "https://localhost:8080/",
     "height": 34
    },
    "colab_type": "code",
    "id": "VGjnHgqCspnk",
    "outputId": "ad21521f-cbbd-4308-83ca-d5ce9805632d"
   },
   "outputs": [
    {
     "data": {
      "text/plain": [
       "True"
      ]
     },
     "execution_count": 4,
     "metadata": {
      "tags": []
     },
     "output_type": "execute_result"
    }
   ],
   "source": [
    "tf.test.is_gpu_available()"
   ]
  },
  {
   "cell_type": "code",
   "execution_count": 5,
   "metadata": {
    "colab": {
     "base_uri": "https://localhost:8080/",
     "height": 34
    },
    "colab_type": "code",
    "id": "pW1nVGWYspnn",
    "outputId": "714eacfc-48e2-4dc1-a90e-cd8b892544ea"
   },
   "outputs": [
    {
     "data": {
      "text/plain": [
       "'/device:GPU:0'"
      ]
     },
     "execution_count": 5,
     "metadata": {
      "tags": []
     },
     "output_type": "execute_result"
    }
   ],
   "source": [
    "tf.test.gpu_device_name()"
   ]
  },
  {
   "cell_type": "markdown",
   "metadata": {
    "colab_type": "text",
    "id": "mFwVuyPqspnp"
   },
   "source": [
    "# Load and View Dataset"
   ]
  },
  {
   "cell_type": "code",
   "execution_count": 6,
   "metadata": {
    "colab": {
     "base_uri": "https://localhost:8080/",
     "height": 136
    },
    "colab_type": "code",
    "id": "QTTHd5BOspnq",
    "outputId": "a083fb73-dcf5-44e4-b545-cf333ed330f8"
   },
   "outputs": [
    {
     "name": "stdout",
     "output_type": "stream",
     "text": [
      "<class 'pandas.core.frame.DataFrame'>\n",
      "RangeIndex: 50000 entries, 0 to 49999\n",
      "Data columns (total 2 columns):\n",
      "review       50000 non-null object\n",
      "sentiment    50000 non-null object\n",
      "dtypes: object(2)\n",
      "memory usage: 781.3+ KB\n"
     ]
    }
   ],
   "source": [
    "dataset = pd.read_csv('https://github.com/dipanjanS/nlp_workshop_dhs18/raw/master/Unit%2011%20-%20Sentiment%20Analysis%20-%20Unsupervised%20Learning/movie_reviews.csv.bz2', compression='bz2')\n",
    "dataset.info()"
   ]
  },
  {
   "cell_type": "code",
   "execution_count": 7,
   "metadata": {
    "colab": {
     "base_uri": "https://localhost:8080/",
     "height": 204
    },
    "colab_type": "code",
    "id": "hDS51g-cspns",
    "outputId": "7c7c3479-b674-4095-ceef-f8ba0d4864bf"
   },
   "outputs": [
    {
     "data": {
      "text/html": [
       "<div>\n",
       "<style scoped>\n",
       "    .dataframe tbody tr th:only-of-type {\n",
       "        vertical-align: middle;\n",
       "    }\n",
       "\n",
       "    .dataframe tbody tr th {\n",
       "        vertical-align: top;\n",
       "    }\n",
       "\n",
       "    .dataframe thead th {\n",
       "        text-align: right;\n",
       "    }\n",
       "</style>\n",
       "<table border=\"1\" class=\"dataframe\">\n",
       "  <thead>\n",
       "    <tr style=\"text-align: right;\">\n",
       "      <th></th>\n",
       "      <th>review</th>\n",
       "      <th>sentiment</th>\n",
       "    </tr>\n",
       "  </thead>\n",
       "  <tbody>\n",
       "    <tr>\n",
       "      <th>0</th>\n",
       "      <td>One of the other reviewers has mentioned that ...</td>\n",
       "      <td>1</td>\n",
       "    </tr>\n",
       "    <tr>\n",
       "      <th>1</th>\n",
       "      <td>A wonderful little production. &lt;br /&gt;&lt;br /&gt;The...</td>\n",
       "      <td>1</td>\n",
       "    </tr>\n",
       "    <tr>\n",
       "      <th>2</th>\n",
       "      <td>I thought this was a wonderful way to spend ti...</td>\n",
       "      <td>1</td>\n",
       "    </tr>\n",
       "    <tr>\n",
       "      <th>3</th>\n",
       "      <td>Basically there's a family where a little boy ...</td>\n",
       "      <td>0</td>\n",
       "    </tr>\n",
       "    <tr>\n",
       "      <th>4</th>\n",
       "      <td>Petter Mattei's \"Love in the Time of Money\" is...</td>\n",
       "      <td>1</td>\n",
       "    </tr>\n",
       "  </tbody>\n",
       "</table>\n",
       "</div>"
      ],
      "text/plain": [
       "                                              review  sentiment\n",
       "0  One of the other reviewers has mentioned that ...          1\n",
       "1  A wonderful little production. <br /><br />The...          1\n",
       "2  I thought this was a wonderful way to spend ti...          1\n",
       "3  Basically there's a family where a little boy ...          0\n",
       "4  Petter Mattei's \"Love in the Time of Money\" is...          1"
      ]
     },
     "execution_count": 7,
     "metadata": {
      "tags": []
     },
     "output_type": "execute_result"
    }
   ],
   "source": [
    "dataset['sentiment'] = [1 if sentiment == 'positive' else 0 for sentiment in dataset['sentiment'].values]\n",
    "dataset.head()"
   ]
  },
  {
   "cell_type": "markdown",
   "metadata": {
    "colab_type": "text",
    "id": "FxT7a8CVspnu"
   },
   "source": [
    "# Build train, validation and test datasets"
   ]
  },
  {
   "cell_type": "code",
   "execution_count": 8,
   "metadata": {
    "colab": {
     "base_uri": "https://localhost:8080/",
     "height": 34
    },
    "colab_type": "code",
    "id": "ArDCnIhDspnv",
    "outputId": "6d3dc1a8-d7e4-479e-ba49-1c90d05366b4"
   },
   "outputs": [
    {
     "data": {
      "text/plain": [
       "((31500,), (3500,), (15000,))"
      ]
     },
     "execution_count": 8,
     "metadata": {
      "tags": []
     },
     "output_type": "execute_result"
    }
   ],
   "source": [
    "reviews = dataset['review'].values\n",
    "sentiments = dataset['sentiment'].values\n",
    "\n",
    "train_reviews = reviews[:31500]\n",
    "train_sentiments = sentiments[:31500]\n",
    "\n",
    "val_reviews = reviews[31500:35000]\n",
    "val_sentiments = sentiments[31500:35000]\n",
    "\n",
    "test_reviews = reviews[35000:]\n",
    "test_sentiments = sentiments[35000:]\n",
    "train_reviews.shape, val_reviews.shape, test_reviews.shape"
   ]
  },
  {
   "cell_type": "markdown",
   "metadata": {
    "colab_type": "text",
    "id": "5m02W9r3spny"
   },
   "source": [
    "# Basic Text Wrangling"
   ]
  },
  {
   "cell_type": "code",
   "execution_count": 0,
   "metadata": {
    "colab": {},
    "colab_type": "code",
    "id": "ntKofadzspn3"
   },
   "outputs": [],
   "source": [
    "import contractions\n",
    "from bs4 import BeautifulSoup\n",
    "import numpy as np\n",
    "import re\n",
    "import tqdm\n",
    "import unicodedata\n",
    "\n",
    "\n",
    "def strip_html_tags(text):\n",
    "  soup = BeautifulSoup(text, \"html.parser\")\n",
    "  [s.extract() for s in soup(['iframe', 'script'])]\n",
    "  stripped_text = soup.get_text()\n",
    "  stripped_text = re.sub(r'[\\r|\\n|\\r\\n]+', '\\n', stripped_text)\n",
    "  return stripped_text\n",
    "\n",
    "def remove_accented_chars(text):\n",
    "  text = unicodedata.normalize('NFKD', text).encode('ascii', 'ignore').decode('utf-8', 'ignore')\n",
    "  return text\n",
    "\n",
    "def pre_process_corpus(docs):\n",
    "  norm_docs = []\n",
    "  for doc in tqdm.tqdm(docs):\n",
    "    doc = strip_html_tags(doc)\n",
    "    doc = doc.translate(doc.maketrans(\"\\n\\t\\r\", \"   \"))\n",
    "    doc = doc.lower()\n",
    "    doc = remove_accented_chars(doc)\n",
    "    doc = contractions.fix(doc)\n",
    "    # lower case and remove special characters\\whitespaces\n",
    "    doc = re.sub(r'[^a-zA-Z0-9\\s]', '', doc, re.I|re.A)\n",
    "    doc = re.sub(' +', ' ', doc)\n",
    "    doc = doc.strip()  \n",
    "    norm_docs.append(doc)\n",
    "  \n",
    "  return norm_docs"
   ]
  },
  {
   "cell_type": "code",
   "execution_count": 10,
   "metadata": {
    "colab": {
     "base_uri": "https://localhost:8080/",
     "height": 68
    },
    "colab_type": "code",
    "id": "pF-YWuSNspn6",
    "outputId": "49e18fae-6a96-462e-86ee-e763717c26c6"
   },
   "outputs": [
    {
     "name": "stderr",
     "output_type": "stream",
     "text": [
      "100%|██████████| 31500/31500 [00:15<00:00, 2051.92it/s]\n",
      "100%|██████████| 3500/3500 [00:01<00:00, 2083.06it/s]\n",
      "100%|██████████| 15000/15000 [00:07<00:00, 2054.95it/s]\n"
     ]
    }
   ],
   "source": [
    "train_reviews = np.array(pre_process_corpus(train_reviews))\n",
    "val_reviews = np.array(pre_process_corpus(val_reviews))\n",
    "test_reviews = np.array(pre_process_corpus(test_reviews))"
   ]
  },
  {
   "cell_type": "markdown",
   "metadata": {
    "colab_type": "text",
    "id": "6_-U3hLbspn8"
   },
   "source": [
    "# Build Data Ingestion Functions"
   ]
  },
  {
   "cell_type": "code",
   "execution_count": 0,
   "metadata": {
    "colab": {},
    "colab_type": "code",
    "id": "amODDXBNspn9"
   },
   "outputs": [],
   "source": [
    "# Training input on the whole training set with no limit on training epochs.\n",
    "train_input_fn = tf.estimator.inputs.numpy_input_fn(\n",
    "    {'sentence': train_reviews}, train_sentiments, \n",
    "    batch_size=256, num_epochs=None, shuffle=True)"
   ]
  },
  {
   "cell_type": "code",
   "execution_count": 0,
   "metadata": {
    "colab": {},
    "colab_type": "code",
    "id": "70D9Tyqyspn_"
   },
   "outputs": [],
   "source": [
    "# Prediction on the whole training set.\n",
    "predict_train_input_fn = tf.estimator.inputs.numpy_input_fn(\n",
    "    {'sentence': train_reviews}, train_sentiments, shuffle=False)"
   ]
  },
  {
   "cell_type": "code",
   "execution_count": 0,
   "metadata": {
    "colab": {},
    "colab_type": "code",
    "id": "4l8sOR7_spoB"
   },
   "outputs": [],
   "source": [
    "# Prediction on the whole validation set.\n",
    "predict_val_input_fn = tf.estimator.inputs.numpy_input_fn(\n",
    "    {'sentence': val_reviews}, val_sentiments, shuffle=False)"
   ]
  },
  {
   "cell_type": "code",
   "execution_count": 0,
   "metadata": {
    "colab": {},
    "colab_type": "code",
    "id": "mYF_O8L5spoD"
   },
   "outputs": [],
   "source": [
    "# Prediction on the test set.\n",
    "predict_test_input_fn = tf.estimator.inputs.numpy_input_fn(\n",
    "    {'sentence': test_reviews}, test_sentiments, shuffle=False)"
   ]
  },
  {
   "cell_type": "markdown",
   "metadata": {
    "colab_type": "text",
    "id": "B7_zWjMyspoF"
   },
   "source": [
    "# Build Deep Learning Model with Universal Sentence Encoder"
   ]
  },
  {
   "cell_type": "code",
   "execution_count": 0,
   "metadata": {
    "colab": {},
    "colab_type": "code",
    "id": "leAUadS-spoG"
   },
   "outputs": [],
   "source": [
    "embedding_feature = hub.text_embedding_column(\n",
    "    key='sentence', \n",
    "    module_spec=\"https://tfhub.dev/google/universal-sentence-encoder/2\",\n",
    "    trainable=False)"
   ]
  },
  {
   "cell_type": "code",
   "execution_count": 16,
   "metadata": {
    "colab": {
     "base_uri": "https://localhost:8080/",
     "height": 51
    },
    "colab_type": "code",
    "id": "ph3IkQTHspoI",
    "outputId": "2d467568-8e60-4734-92e3-262debff152b"
   },
   "outputs": [
    {
     "name": "stderr",
     "output_type": "stream",
     "text": [
      "WARNING: Logging before flag parsing goes to stderr.\n",
      "W0806 03:43:48.527297 140328314066816 estimator.py:1811] Using temporary folder as model directory: /tmp/tmp_gkgqsqf\n"
     ]
    }
   ],
   "source": [
    "dnn = tf.estimator.DNNClassifier(\n",
    "          hidden_units=[512, 128],\n",
    "          feature_columns=[embedding_feature],\n",
    "          n_classes=2,\n",
    "          activation_fn=tf.nn.relu,\n",
    "          dropout=0.1,\n",
    "          optimizer=tf.train.AdagradOptimizer(learning_rate=0.005))"
   ]
  },
  {
   "cell_type": "markdown",
   "metadata": {
    "colab_type": "text",
    "id": "nlj8CuR7spoL"
   },
   "source": [
    "### Train for approx 10 epochs"
   ]
  },
  {
   "cell_type": "code",
   "execution_count": 17,
   "metadata": {
    "colab": {
     "base_uri": "https://localhost:8080/",
     "height": 34
    },
    "colab_type": "code",
    "id": "cMG4by2OspoL",
    "outputId": "a6d3c5d2-4e45-4a08-df9c-12fb6533aba9"
   },
   "outputs": [
    {
     "data": {
      "text/plain": [
       "9.752380952380953"
      ]
     },
     "execution_count": 17,
     "metadata": {
      "tags": []
     },
     "output_type": "execute_result"
    }
   ],
   "source": [
    "256*1200 / 31500"
   ]
  },
  {
   "cell_type": "markdown",
   "metadata": {
    "colab_type": "text",
    "id": "EwPac6kuspoQ"
   },
   "source": [
    "# Model Training"
   ]
  },
  {
   "cell_type": "code",
   "execution_count": 18,
   "metadata": {
    "colab": {
     "base_uri": "https://localhost:8080/",
     "height": 445
    },
    "colab_type": "code",
    "id": "dK2z9pbXspoR",
    "outputId": "44885328-7a3b-4937-eb7a-4dbf06683832"
   },
   "outputs": [
    {
     "name": "stdout",
     "output_type": "stream",
     "text": [
      "\n",
      "----------------------------------------------------------------------------------------------------\n",
      "Training for step: 0 - 300\n",
      "Train Time (s): 139.9292335510254\n",
      "Eval Metrics (Train): {'accuracy': 0.8482222, 'accuracy_baseline': 0.500254, 'auc': 0.93148184, 'auc_precision_recall': 0.93128955, 'average_loss': 0.34128162, 'label/mean': 0.500254, 'loss': 43.52377, 'precision': 0.88096064, 'prediction/mean': 0.4626652, 'recall': 0.80543214, 'global_step': 300}\n",
      "Eval Metrics (Validation): {'accuracy': 0.85485715, 'accuracy_baseline': 0.50514287, 'auc': 0.9314351, 'auc_precision_recall': 0.92759734, 'average_loss': 0.33681682, 'label/mean': 0.49485713, 'loss': 42.102104, 'precision': 0.8700121, 'prediction/mean': 0.47175363, 'recall': 0.8308314, 'global_step': 300}\n",
      "\n",
      "----------------------------------------------------------------------------------------------------\n",
      "Training for step: 300 - 600\n",
      "Train Time (s): 135.350191116333\n",
      "Eval Metrics (Train): {'accuracy': 0.8585714, 'accuracy_baseline': 0.500254, 'auc': 0.93604285, 'auc_precision_recall': 0.9358007, 'average_loss': 0.32345685, 'label/mean': 0.500254, 'loss': 41.25057, 'precision': 0.863932, 'prediction/mean': 0.4938265, 'recall': 0.85137707, 'global_step': 600}\n",
      "Eval Metrics (Validation): {'accuracy': 0.8608571, 'accuracy_baseline': 0.50514287, 'auc': 0.9340139, 'auc_precision_recall': 0.9310561, 'average_loss': 0.3279755, 'label/mean': 0.49485713, 'loss': 40.99694, 'precision': 0.85269123, 'prediction/mean': 0.5033306, 'recall': 0.8689377, 'global_step': 600}\n",
      "\n",
      "----------------------------------------------------------------------------------------------------\n",
      "Training for step: 600 - 900\n",
      "Train Time (s): 137.72323489189148\n",
      "Eval Metrics (Train): {'accuracy': 0.86520636, 'accuracy_baseline': 0.500254, 'auc': 0.9407422, 'auc_precision_recall': 0.94045204, 'average_loss': 0.31176603, 'label/mean': 0.500254, 'loss': 39.759636, 'precision': 0.8628798, 'prediction/mean': 0.5044842, 'recall': 0.8685747, 'global_step': 900}\n",
      "Eval Metrics (Validation): {'accuracy': 0.86314285, 'accuracy_baseline': 0.50514287, 'auc': 0.9371775, 'auc_precision_recall': 0.9338913, 'average_loss': 0.32142553, 'label/mean': 0.49485713, 'loss': 40.178192, 'precision': 0.8467072, 'prediction/mean': 0.51230156, 'recall': 0.88337183, 'global_step': 900}\n",
      "\n",
      "----------------------------------------------------------------------------------------------------\n",
      "Training for step: 900 - 1200\n",
      "Train Time (s): 138.2607774734497\n",
      "Eval Metrics (Train): {'accuracy': 0.8701905, 'accuracy_baseline': 0.500254, 'auc': 0.9446343, 'auc_precision_recall': 0.94429654, 'average_loss': 0.30163872, 'label/mean': 0.500254, 'loss': 38.468098, 'precision': 0.8660518, 'prediction/mean': 0.5075492, 'recall': 0.8759995, 'global_step': 1200}\n",
      "Eval Metrics (Validation): {'accuracy': 0.864, 'accuracy_baseline': 0.50514287, 'auc': 0.9388044, 'auc_precision_recall': 0.9356233, 'average_loss': 0.3177107, 'label/mean': 0.49485713, 'loss': 39.713837, 'precision': 0.84543455, 'prediction/mean': 0.5152566, 'recall': 0.8874134, 'global_step': 1200}\n"
     ]
    }
   ],
   "source": [
    "tf.logging.set_verbosity(tf.logging.ERROR)\n",
    "import time\n",
    "\n",
    "TOTAL_STEPS = 1200\n",
    "STEP_SIZE = 300\n",
    "for step in range(0, TOTAL_STEPS, STEP_SIZE):\n",
    "    print()\n",
    "    print('-'*100)\n",
    "    print('Training for step:', step, '-', step+STEP_SIZE)\n",
    "    start_time = time.time()\n",
    "    dnn.train(input_fn=train_input_fn, steps=STEP_SIZE)\n",
    "    elapsed_time = time.time() - start_time\n",
    "    print('Train Time (s):', elapsed_time)\n",
    "    print('Eval Metrics (Train):', dnn.evaluate(input_fn=predict_train_input_fn))\n",
    "    print('Eval Metrics (Validation):', dnn.evaluate(input_fn=predict_val_input_fn))"
   ]
  },
  {
   "cell_type": "markdown",
   "metadata": {
    "colab_type": "text",
    "id": "2-5URTl1spoX"
   },
   "source": [
    "# Model Evaluation"
   ]
  },
  {
   "cell_type": "code",
   "execution_count": 19,
   "metadata": {
    "colab": {
     "base_uri": "https://localhost:8080/",
     "height": 204
    },
    "colab_type": "code",
    "id": "zA3fkBEPspoY",
    "outputId": "0ed14cba-dad5-4c90-b5e4-75245bc1e556"
   },
   "outputs": [
    {
     "data": {
      "text/plain": [
       "{'accuracy': 0.8701905,\n",
       " 'accuracy_baseline': 0.500254,\n",
       " 'auc': 0.9446343,\n",
       " 'auc_precision_recall': 0.94429654,\n",
       " 'average_loss': 0.30163872,\n",
       " 'global_step': 1200,\n",
       " 'label/mean': 0.500254,\n",
       " 'loss': 38.468098,\n",
       " 'precision': 0.8660518,\n",
       " 'prediction/mean': 0.5075492,\n",
       " 'recall': 0.8759995}"
      ]
     },
     "execution_count": 19,
     "metadata": {
      "tags": []
     },
     "output_type": "execute_result"
    }
   ],
   "source": [
    "dnn.evaluate(input_fn=predict_train_input_fn)"
   ]
  },
  {
   "cell_type": "code",
   "execution_count": 20,
   "metadata": {
    "colab": {
     "base_uri": "https://localhost:8080/",
     "height": 204
    },
    "colab_type": "code",
    "id": "2ZoSmimDspob",
    "outputId": "147b9f17-e60b-41f0-b2c0-9925a5216ce0"
   },
   "outputs": [
    {
     "data": {
      "text/plain": [
       "{'accuracy': 0.8618,\n",
       " 'accuracy_baseline': 0.5006667,\n",
       " 'auc': 0.9377205,\n",
       " 'auc_precision_recall': 0.9371038,\n",
       " 'average_loss': 0.3193272,\n",
       " 'global_step': 1200,\n",
       " 'label/mean': 0.5006667,\n",
       " 'loss': 40.59244,\n",
       " 'precision': 0.8580271,\n",
       " 'prediction/mean': 0.5092319,\n",
       " 'recall': 0.86750996}"
      ]
     },
     "execution_count": 20,
     "metadata": {
      "tags": []
     },
     "output_type": "execute_result"
    }
   ],
   "source": [
    "dnn.evaluate(input_fn=predict_test_input_fn)"
   ]
  },
  {
   "cell_type": "markdown",
   "metadata": {
    "colab_type": "text",
    "id": "nIsE9epcspoe"
   },
   "source": [
    "# Build a Generic Model Trainer on any Input Sentence Encoder"
   ]
  },
  {
   "cell_type": "code",
   "execution_count": 0,
   "metadata": {
    "colab": {},
    "colab_type": "code",
    "id": "YppqihRrspof"
   },
   "outputs": [],
   "source": [
    "import time\n",
    "\n",
    "TOTAL_STEPS = 1200\n",
    "STEP_SIZE = 400\n",
    "\n",
    "my_checkpointing_config = tf.estimator.RunConfig(\n",
    "    keep_checkpoint_max = 1,       # Retain the 2 most recent checkpoints.\n",
    ")\n",
    "\n",
    "def train_and_evaluate_with_sentence_encoder(hub_module, train_module=False, path=''):\n",
    "    embedding_feature = hub.text_embedding_column(\n",
    "        key='sentence', module_spec=hub_module, trainable=train_module)\n",
    "  \n",
    "    print()\n",
    "    print('='*100)\n",
    "    print('Training with', hub_module)\n",
    "    print('Trainable is:', train_module)\n",
    "    print('='*100)\n",
    "  \n",
    "    dnn = tf.estimator.DNNClassifier(\n",
    "            hidden_units=[512, 128],\n",
    "            feature_columns=[embedding_feature],\n",
    "            n_classes=2,\n",
    "            activation_fn=tf.nn.relu,\n",
    "            dropout=0.1,\n",
    "            optimizer=tf.train.AdagradOptimizer(learning_rate=0.005),\n",
    "            model_dir=path,\n",
    "            config=my_checkpointing_config)\n",
    "\n",
    "    for step in range(0, TOTAL_STEPS, STEP_SIZE):\n",
    "        print('-'*100)\n",
    "        print('Training for step:', step, '-', step+STEP_SIZE)\n",
    "        start_time = time.time()\n",
    "        dnn.train(input_fn=train_input_fn, steps=STEP_SIZE)\n",
    "        elapsed_time = time.time() - start_time\n",
    "        print('Train Time (s):', elapsed_time)\n",
    "        print('Eval Metrics (Train):', dnn.evaluate(input_fn=predict_train_input_fn))\n",
    "        print('Eval Metrics (Validation):', dnn.evaluate(input_fn=predict_val_input_fn))\n",
    "\n",
    "    train_eval_result = dnn.evaluate(input_fn=predict_train_input_fn)\n",
    "    test_eval_result = dnn.evaluate(input_fn=predict_test_input_fn)\n",
    "\n",
    "    return {\n",
    "      \"Model Dir\": dnn.model_dir,\n",
    "      \"Training Accuracy\": train_eval_result[\"accuracy\"],\n",
    "      \"Test Accuracy\": test_eval_result[\"accuracy\"],\n",
    "      \"Training AUC\": train_eval_result[\"auc\"],\n",
    "      \"Test AUC\": test_eval_result[\"auc\"],\n",
    "      \"Training Precision\": train_eval_result[\"precision\"],\n",
    "      \"Test Precision\": test_eval_result[\"precision\"],\n",
    "      \"Training Recall\": train_eval_result[\"recall\"],\n",
    "      \"Test Recall\": test_eval_result[\"recall\"]\n",
    "    }"
   ]
  },
  {
   "cell_type": "markdown",
   "metadata": {
    "colab_type": "text",
    "id": "ic5bEGOvspoh"
   },
   "source": [
    "# Train Deep Learning Models on difference Sentence Encoders\n",
    "- NNLM - pre-trained and fine-tuning\n",
    "- USE - pre-trained and fine-tuning"
   ]
  },
  {
   "cell_type": "code",
   "execution_count": 23,
   "metadata": {
    "colab": {
     "base_uri": "https://localhost:8080/",
     "height": 1000
    },
    "colab_type": "code",
    "id": "tV7YYo6Dspoi",
    "outputId": "c798ac9d-bd33-4d7f-8ecc-d962ccdd3ec3",
    "scrolled": false
   },
   "outputs": [
    {
     "name": "stdout",
     "output_type": "stream",
     "text": [
      "\n",
      "====================================================================================================\n",
      "Training with https://tfhub.dev/google/nnlm-en-dim128/1\n",
      "Trainable is: False\n",
      "====================================================================================================\n",
      "----------------------------------------------------------------------------------------------------\n",
      "Training for step: 0 - 400\n",
      "Train Time (s): 21.549827814102173\n",
      "Eval Metrics (Train): {'accuracy': 0.83533335, 'accuracy_baseline': 0.500254, 'auc': 0.91847336, 'auc_precision_recall': 0.9187026, 'average_loss': 0.3682898, 'label/mean': 0.500254, 'loss': 46.968132, 'precision': 0.8134377, 'prediction/mean': 0.533026, 'recall': 0.8704785, 'global_step': 1600}\n",
      "Eval Metrics (Validation): {'accuracy': 0.8262857, 'accuracy_baseline': 0.50514287, 'auc': 0.9113871, 'auc_precision_recall': 0.90623564, 'average_loss': 0.38510352, 'label/mean': 0.49485713, 'loss': 48.13794, 'precision': 0.79485834, 'prediction/mean': 0.53815943, 'recall': 0.87471133, 'global_step': 1600}\n",
      "----------------------------------------------------------------------------------------------------\n",
      "Training for step: 400 - 800\n",
      "Train Time (s): 21.010958433151245\n",
      "Eval Metrics (Train): {'accuracy': 0.84126985, 'accuracy_baseline': 0.500254, 'auc': 0.92155063, 'auc_precision_recall': 0.921727, 'average_loss': 0.35897514, 'label/mean': 0.500254, 'loss': 45.78023, 'precision': 0.82544774, 'prediction/mean': 0.5239883, 'recall': 0.86578244, 'global_step': 2000}\n",
      "Eval Metrics (Validation): {'accuracy': 0.83, 'accuracy_baseline': 0.50514287, 'auc': 0.91218156, 'auc_precision_recall': 0.90696913, 'average_loss': 0.38052934, 'label/mean': 0.49485713, 'loss': 47.566166, 'precision': 0.80417335, 'prediction/mean': 0.5292703, 'recall': 0.8677829, 'global_step': 2000}\n",
      "----------------------------------------------------------------------------------------------------\n",
      "Training for step: 800 - 1200\n",
      "Train Time (s): 21.976442337036133\n",
      "Eval Metrics (Train): {'accuracy': 0.8445397, 'accuracy_baseline': 0.500254, 'auc': 0.92429334, 'auc_precision_recall': 0.9244299, 'average_loss': 0.35283637, 'label/mean': 0.500254, 'loss': 44.997353, 'precision': 0.86576414, 'prediction/mean': 0.47680077, 'recall': 0.81571263, 'global_step': 2400}\n",
      "Eval Metrics (Validation): {'accuracy': 0.83285713, 'accuracy_baseline': 0.50514287, 'auc': 0.9127308, 'auc_precision_recall': 0.907375, 'average_loss': 0.37565514, 'label/mean': 0.49485713, 'loss': 46.95689, 'precision': 0.84238803, 'prediction/mean': 0.48190394, 'recall': 0.81466514, 'global_step': 2400}\n",
      "\n",
      "====================================================================================================\n",
      "Training with https://tfhub.dev/google/nnlm-en-dim128/1\n",
      "Trainable is: True\n",
      "====================================================================================================\n",
      "----------------------------------------------------------------------------------------------------\n",
      "Training for step: 0 - 400\n",
      "Train Time (s): 39.99162316322327\n",
      "Eval Metrics (Train): {'accuracy': 0.94266665, 'accuracy_baseline': 0.500254, 'auc': 0.98370177, 'auc_precision_recall': 0.98343974, 'average_loss': 0.16388525, 'label/mean': 0.500254, 'loss': 20.900345, 'precision': 0.933723, 'prediction/mean': 0.51125187, 'recall': 0.9530397, 'global_step': 400}\n",
      "Eval Metrics (Validation): {'accuracy': 0.8862857, 'accuracy_baseline': 0.50514287, 'auc': 0.956287, 'auc_precision_recall': 0.9537064, 'average_loss': 0.2752273, 'label/mean': 0.49485713, 'loss': 34.403416, 'precision': 0.8676957, 'prediction/mean': 0.51908183, 'recall': 0.908776, 'global_step': 400}\n",
      "----------------------------------------------------------------------------------------------------\n",
      "Training for step: 400 - 800\n",
      "Train Time (s): 35.01037383079529\n",
      "Eval Metrics (Train): {'accuracy': 0.97803175, 'accuracy_baseline': 0.500254, 'auc': 0.9950171, 'auc_precision_recall': 0.99524945, 'average_loss': 0.081953526, 'label/mean': 0.500254, 'loss': 10.451563, 'precision': 0.9826371, 'prediction/mean': 0.4928307, 'recall': 0.9732834, 'global_step': 800}\n",
      "Eval Metrics (Validation): {'accuracy': 0.886, 'accuracy_baseline': 0.50514287, 'auc': 0.9528524, 'auc_precision_recall': 0.95102644, 'average_loss': 0.3169331, 'label/mean': 0.49485713, 'loss': 39.61664, 'precision': 0.8819484, 'prediction/mean': 0.49787873, 'recall': 0.8885681, 'global_step': 800}\n",
      "----------------------------------------------------------------------------------------------------\n",
      "Training for step: 800 - 1200\n",
      "Train Time (s): 34.30705523490906\n",
      "Eval Metrics (Train): {'accuracy': 0.9927937, 'accuracy_baseline': 0.500254, 'auc': 0.9980438, 'auc_precision_recall': 0.9982524, 'average_loss': 0.040976938, 'label/mean': 0.500254, 'loss': 5.225804, 'precision': 0.9952803, 'prediction/mean': 0.4892676, 'recall': 0.99029064, 'global_step': 1200}\n",
      "Eval Metrics (Validation): {'accuracy': 0.88114285, 'accuracy_baseline': 0.50514287, 'auc': 0.94281477, 'auc_precision_recall': 0.94293344, 'average_loss': 0.4153953, 'label/mean': 0.49485713, 'loss': 51.92441, 'precision': 0.8875147, 'prediction/mean': 0.48467082, 'recall': 0.8700924, 'global_step': 1200}\n",
      "\n",
      "====================================================================================================\n",
      "Training with https://tfhub.dev/google/universal-sentence-encoder/2\n",
      "Trainable is: False\n",
      "====================================================================================================\n",
      "----------------------------------------------------------------------------------------------------\n",
      "Training for step: 0 - 400\n",
      "Train Time (s): 188.44717502593994\n",
      "Eval Metrics (Train): {'accuracy': 0.8545397, 'accuracy_baseline': 0.500254, 'auc': 0.934285, 'auc_precision_recall': 0.933939, 'average_loss': 0.33026537, 'label/mean': 0.500254, 'loss': 42.118862, 'precision': 0.87428, 'prediction/mean': 0.47648036, 'recall': 0.8283412, 'global_step': 400}\n",
      "Eval Metrics (Validation): {'accuracy': 0.8594286, 'accuracy_baseline': 0.50514287, 'auc': 0.9330587, 'auc_precision_recall': 0.9294406, 'average_loss': 0.33031857, 'label/mean': 0.49485713, 'loss': 41.28982, 'precision': 0.86384976, 'prediction/mean': 0.48505744, 'recall': 0.8498845, 'global_step': 400}\n",
      "----------------------------------------------------------------------------------------------------\n",
      "Training for step: 400 - 800\n",
      "Train Time (s): 184.2480628490448\n",
      "Eval Metrics (Train): {'accuracy': 0.864254, 'accuracy_baseline': 0.500254, 'auc': 0.9404822, 'auc_precision_recall': 0.94022906, 'average_loss': 0.31377673, 'label/mean': 0.500254, 'loss': 40.01606, 'precision': 0.87889385, 'prediction/mean': 0.48177347, 'recall': 0.84509456, 'global_step': 800}\n",
      "Eval Metrics (Validation): {'accuracy': 0.8637143, 'accuracy_baseline': 0.50514287, 'auc': 0.936434, 'auc_precision_recall': 0.93294096, 'average_loss': 0.32147512, 'label/mean': 0.49485713, 'loss': 40.18439, 'precision': 0.86419034, 'prediction/mean': 0.49025226, 'recall': 0.8596998, 'global_step': 800}\n",
      "----------------------------------------------------------------------------------------------------\n",
      "Training for step: 800 - 1200\n",
      "Train Time (s): 178.24682593345642\n",
      "Eval Metrics (Train): {'accuracy': 0.87330157, 'accuracy_baseline': 0.500254, 'auc': 0.94630444, 'auc_precision_recall': 0.9459443, 'average_loss': 0.29707164, 'label/mean': 0.500254, 'loss': 37.885654, 'precision': 0.8690797, 'prediction/mean': 0.50695944, 'recall': 0.8791725, 'global_step': 1200}\n",
      "Eval Metrics (Validation): {'accuracy': 0.8674286, 'accuracy_baseline': 0.50514287, 'auc': 0.9391947, 'auc_precision_recall': 0.93573856, 'average_loss': 0.31629628, 'label/mean': 0.49485713, 'loss': 39.537037, 'precision': 0.8495039, 'prediction/mean': 0.51486623, 'recall': 0.8897229, 'global_step': 1200}\n",
      "\n",
      "====================================================================================================\n",
      "Training with https://tfhub.dev/google/universal-sentence-encoder/2\n",
      "Trainable is: True\n",
      "====================================================================================================\n",
      "----------------------------------------------------------------------------------------------------\n",
      "Training for step: 0 - 400\n",
      "Train Time (s): 250.89722275733948\n",
      "Eval Metrics (Train): {'accuracy': 0.9974286, 'accuracy_baseline': 0.500254, 'auc': 0.99925137, 'auc_precision_recall': 0.9992474, 'average_loss': 0.014321436, 'label/mean': 0.500254, 'loss': 1.826418, 'precision': 0.9960134, 'prediction/mean': 0.50321233, 'recall': 0.99885774, 'global_step': 400}\n",
      "Eval Metrics (Validation): {'accuracy': 0.89657146, 'accuracy_baseline': 0.50514287, 'auc': 0.95841694, 'auc_precision_recall': 0.9581809, 'average_loss': 0.37508765, 'label/mean': 0.49485713, 'loss': 46.885956, 'precision': 0.8667024, 'prediction/mean': 0.5300615, 'recall': 0.93475753, 'global_step': 400}\n",
      "----------------------------------------------------------------------------------------------------\n",
      "Training for step: 400 - 800\n",
      "Train Time (s): 241.84795427322388\n",
      "Eval Metrics (Train): {'accuracy': 0.99990475, 'accuracy_baseline': 0.500254, 'auc': 0.99993527, 'auc_precision_recall': 0.99993426, 'average_loss': 0.0009862276, 'label/mean': 0.500254, 'loss': 0.12577398, 'precision': 0.9998731, 'prediction/mean': 0.500083, 'recall': 0.9999365, 'global_step': 800}\n",
      "Eval Metrics (Validation): {'accuracy': 0.90342855, 'accuracy_baseline': 0.50514287, 'auc': 0.9389909, 'auc_precision_recall': 0.9479643, 'average_loss': 0.4993884, 'label/mean': 0.49485713, 'loss': 62.42355, 'precision': 0.90429235, 'prediction/mean': 0.49330398, 'recall': 0.9001155, 'global_step': 800}\n",
      "----------------------------------------------------------------------------------------------------\n",
      "Training for step: 800 - 1200\n",
      "Train Time (s): 241.95906519889832\n",
      "Eval Metrics (Train): {'accuracy': 0.99996823, 'accuracy_baseline': 0.500254, 'auc': 0.99996823, 'auc_precision_recall': 0.9999682, 'average_loss': 0.00033970596, 'label/mean': 0.500254, 'loss': 0.043322824, 'precision': 0.9999365, 'prediction/mean': 0.5002487, 'recall': 1.0, 'global_step': 1200}\n",
      "Eval Metrics (Validation): {'accuracy': 0.90314287, 'accuracy_baseline': 0.50514287, 'auc': 0.9336409, 'auc_precision_recall': 0.943759, 'average_loss': 0.5810413, 'label/mean': 0.49485713, 'loss': 72.630165, 'precision': 0.89461756, 'prediction/mean': 0.50513077, 'recall': 0.9116628, 'global_step': 1200}\n"
     ]
    }
   ],
   "source": [
    "tf.logging.set_verbosity(tf.logging.ERROR)\n",
    "\n",
    "results = {}\n",
    "\n",
    "results[\"nnlm-en-dim128\"] = train_and_evaluate_with_sentence_encoder(\n",
    "    \"https://tfhub.dev/google/nnlm-en-dim128/1\", path='/storage/models/nnlm-en-dim128_fr/')\n",
    "\n",
    "results[\"nnlm-en-dim128-with-training\"] = train_and_evaluate_with_sentence_encoder(\n",
    "    \"https://tfhub.dev/google/nnlm-en-dim128/1\", train_module=True, path='/storage/models/nnlm-en-dim128_ft/')\n",
    "\n",
    "results[\"use-512\"] = train_and_evaluate_with_sentence_encoder(\n",
    "    \"https://tfhub.dev/google/universal-sentence-encoder/2\", path='/storage/models/use-512_fr/')\n",
    "\n",
    "results[\"use-512-with-training\"] = train_and_evaluate_with_sentence_encoder(\n",
    "    \"https://tfhub.dev/google/universal-sentence-encoder/2\", train_module=True, path='/storage/models/use-512_ft/')"
   ]
  },
  {
   "cell_type": "markdown",
   "metadata": {
    "colab_type": "text",
    "id": "-jng8wafspok"
   },
   "source": [
    "# Model Evaluations"
   ]
  },
  {
   "cell_type": "code",
   "execution_count": 24,
   "metadata": {
    "colab": {
     "base_uri": "https://localhost:8080/",
     "height": 224
    },
    "colab_type": "code",
    "id": "5xUJ_oxGspol",
    "outputId": "e5d58171-b536-4481-bed8-280bb992b545"
   },
   "outputs": [
    {
     "data": {
      "text/html": [
       "<div>\n",
       "<style scoped>\n",
       "    .dataframe tbody tr th:only-of-type {\n",
       "        vertical-align: middle;\n",
       "    }\n",
       "\n",
       "    .dataframe tbody tr th {\n",
       "        vertical-align: top;\n",
       "    }\n",
       "\n",
       "    .dataframe thead th {\n",
       "        text-align: right;\n",
       "    }\n",
       "</style>\n",
       "<table border=\"1\" class=\"dataframe\">\n",
       "  <thead>\n",
       "    <tr style=\"text-align: right;\">\n",
       "      <th></th>\n",
       "      <th>Model Dir</th>\n",
       "      <th>Training Accuracy</th>\n",
       "      <th>Test Accuracy</th>\n",
       "      <th>Training AUC</th>\n",
       "      <th>Test AUC</th>\n",
       "      <th>Training Precision</th>\n",
       "      <th>Test Precision</th>\n",
       "      <th>Training Recall</th>\n",
       "      <th>Test Recall</th>\n",
       "    </tr>\n",
       "  </thead>\n",
       "  <tbody>\n",
       "    <tr>\n",
       "      <th>nnlm-en-dim128</th>\n",
       "      <td>/storage/models/nnlm-en-dim128_fr/</td>\n",
       "      <td>0.844540</td>\n",
       "      <td>0.831667</td>\n",
       "      <td>0.924293</td>\n",
       "      <td>0.913376</td>\n",
       "      <td>0.865764</td>\n",
       "      <td>0.854905</td>\n",
       "      <td>0.815713</td>\n",
       "      <td>0.799467</td>\n",
       "    </tr>\n",
       "    <tr>\n",
       "      <th>nnlm-en-dim128-with-training</th>\n",
       "      <td>/storage/models/nnlm-en-dim128_ft/</td>\n",
       "      <td>0.992794</td>\n",
       "      <td>0.884867</td>\n",
       "      <td>0.998044</td>\n",
       "      <td>0.947936</td>\n",
       "      <td>0.995280</td>\n",
       "      <td>0.902997</td>\n",
       "      <td>0.990291</td>\n",
       "      <td>0.862716</td>\n",
       "    </tr>\n",
       "    <tr>\n",
       "      <th>use-512</th>\n",
       "      <td>/storage/models/use-512_fr/</td>\n",
       "      <td>0.873302</td>\n",
       "      <td>0.864133</td>\n",
       "      <td>0.946304</td>\n",
       "      <td>0.938226</td>\n",
       "      <td>0.869080</td>\n",
       "      <td>0.861236</td>\n",
       "      <td>0.879173</td>\n",
       "      <td>0.868575</td>\n",
       "    </tr>\n",
       "    <tr>\n",
       "      <th>use-512-with-training</th>\n",
       "      <td>/storage/models/use-512_ft/</td>\n",
       "      <td>0.999968</td>\n",
       "      <td>0.906533</td>\n",
       "      <td>0.999968</td>\n",
       "      <td>0.935371</td>\n",
       "      <td>0.999937</td>\n",
       "      <td>0.903648</td>\n",
       "      <td>1.000000</td>\n",
       "      <td>0.910386</td>\n",
       "    </tr>\n",
       "  </tbody>\n",
       "</table>\n",
       "</div>"
      ],
      "text/plain": [
       "                                                       Model Dir  ...  Test Recall\n",
       "nnlm-en-dim128                /storage/models/nnlm-en-dim128_fr/  ...     0.799467\n",
       "nnlm-en-dim128-with-training  /storage/models/nnlm-en-dim128_ft/  ...     0.862716\n",
       "use-512                              /storage/models/use-512_fr/  ...     0.868575\n",
       "use-512-with-training                /storage/models/use-512_ft/  ...     0.910386\n",
       "\n",
       "[4 rows x 9 columns]"
      ]
     },
     "execution_count": 24,
     "metadata": {
      "tags": []
     },
     "output_type": "execute_result"
    }
   ],
   "source": [
    "results_df = pd.DataFrame.from_dict(results, orient=\"index\")\n",
    "results_df"
   ]
  },
  {
   "cell_type": "code",
   "execution_count": 25,
   "metadata": {
    "colab": {
     "base_uri": "https://localhost:8080/",
     "height": 34
    },
    "colab_type": "code",
    "id": "eGmPzbjwspon",
    "outputId": "d3d03398-ce9c-4a65-dfcb-870466f88533"
   },
   "outputs": [
    {
     "data": {
      "text/plain": [
       "'/storage/models/use-512_ft/'"
      ]
     },
     "execution_count": 25,
     "metadata": {
      "tags": []
     },
     "output_type": "execute_result"
    }
   ],
   "source": [
    "best_model_dir = results_df[results_df['Test Accuracy'] == results_df['Test Accuracy'].max()]['Model Dir'].values[0]\n",
    "best_model_dir"
   ]
  },
  {
   "cell_type": "code",
   "execution_count": 26,
   "metadata": {
    "colab": {
     "base_uri": "https://localhost:8080/",
     "height": 34
    },
    "colab_type": "code",
    "id": "BfyA5Kfuspoo",
    "outputId": "13fd39a8-0470-4cb4-f373-2d1c4fc0c800"
   },
   "outputs": [
    {
     "data": {
      "text/plain": [
       "<tensorflow_estimator.python.estimator.canned.dnn.DNNClassifier at 0x7f9ec946acf8>"
      ]
     },
     "execution_count": 26,
     "metadata": {
      "tags": []
     },
     "output_type": "execute_result"
    }
   ],
   "source": [
    "embedding_feature = hub.text_embedding_column(\n",
    "        key='sentence', module_spec=\"https://tfhub.dev/google/universal-sentence-encoder/2\", trainable=True)\n",
    "\n",
    "dnn = tf.estimator.DNNClassifier(\n",
    "            hidden_units=[512, 128],\n",
    "            feature_columns=[embedding_feature],\n",
    "            n_classes=2,\n",
    "            activation_fn=tf.nn.relu,\n",
    "            dropout=0.1,\n",
    "            optimizer=tf.train.AdagradOptimizer(learning_rate=0.005),\n",
    "            model_dir=best_model_dir)\n",
    "dnn"
   ]
  },
  {
   "cell_type": "code",
   "execution_count": 0,
   "metadata": {
    "colab": {},
    "colab_type": "code",
    "id": "63S2QuVFspor"
   },
   "outputs": [],
   "source": [
    "def get_predictions(estimator, input_fn):\n",
    "    return [x[\"class_ids\"][0] for x in estimator.predict(input_fn=input_fn)]"
   ]
  },
  {
   "cell_type": "code",
   "execution_count": 28,
   "metadata": {
    "colab": {
     "base_uri": "https://localhost:8080/",
     "height": 34
    },
    "colab_type": "code",
    "id": "9RcMcEACspot",
    "outputId": "723d5885-88f7-4058-b931-928cd4893167"
   },
   "outputs": [
    {
     "data": {
      "text/plain": [
       "[0, 1, 0, 1, 1, 0, 1, 1, 1, 1]"
      ]
     },
     "execution_count": 28,
     "metadata": {
      "tags": []
     },
     "output_type": "execute_result"
    }
   ],
   "source": [
    "predictions = get_predictions(estimator=dnn, input_fn=predict_test_input_fn)\n",
    "predictions[:10]"
   ]
  },
  {
   "cell_type": "code",
   "execution_count": 29,
   "metadata": {
    "colab": {
     "base_uri": "https://localhost:8080/",
     "height": 221
    },
    "colab_type": "code",
    "id": "8jMjZH3vspox",
    "outputId": "224b6f30-9e36-4b04-e7b2-8d7d2a349e39"
   },
   "outputs": [
    {
     "name": "stdout",
     "output_type": "stream",
     "text": [
      "Requirement already satisfied: seaborn in /usr/local/lib/python3.6/dist-packages (0.9.0)\n",
      "Requirement already satisfied: pandas>=0.15.2 in /usr/local/lib/python3.6/dist-packages (from seaborn) (0.24.2)\n",
      "Requirement already satisfied: matplotlib>=1.4.3 in /usr/local/lib/python3.6/dist-packages (from seaborn) (3.0.3)\n",
      "Requirement already satisfied: scipy>=0.14.0 in /usr/local/lib/python3.6/dist-packages (from seaborn) (1.3.0)\n",
      "Requirement already satisfied: numpy>=1.9.3 in /usr/local/lib/python3.6/dist-packages (from seaborn) (1.16.4)\n",
      "Requirement already satisfied: python-dateutil>=2.5.0 in /usr/local/lib/python3.6/dist-packages (from pandas>=0.15.2->seaborn) (2.5.3)\n",
      "Requirement already satisfied: pytz>=2011k in /usr/local/lib/python3.6/dist-packages (from pandas>=0.15.2->seaborn) (2018.9)\n",
      "Requirement already satisfied: cycler>=0.10 in /usr/local/lib/python3.6/dist-packages (from matplotlib>=1.4.3->seaborn) (0.10.0)\n",
      "Requirement already satisfied: kiwisolver>=1.0.1 in /usr/local/lib/python3.6/dist-packages (from matplotlib>=1.4.3->seaborn) (1.1.0)\n",
      "Requirement already satisfied: pyparsing!=2.0.4,!=2.1.2,!=2.1.6,>=2.0.1 in /usr/local/lib/python3.6/dist-packages (from matplotlib>=1.4.3->seaborn) (2.4.2)\n",
      "Requirement already satisfied: six>=1.5 in /usr/local/lib/python3.6/dist-packages (from python-dateutil>=2.5.0->pandas>=0.15.2->seaborn) (1.12.0)\n",
      "Requirement already satisfied: setuptools in /usr/local/lib/python3.6/dist-packages (from kiwisolver>=1.0.1->matplotlib>=1.4.3->seaborn) (41.0.1)\n"
     ]
    }
   ],
   "source": [
    "!pip install seaborn"
   ]
  },
  {
   "cell_type": "code",
   "execution_count": 30,
   "metadata": {
    "colab": {
     "base_uri": "https://localhost:8080/",
     "height": 283
    },
    "colab_type": "code",
    "id": "JzoUQdh6spo2",
    "outputId": "fd9d618a-3eaf-454b-e837-85db1d51d9c5"
   },
   "outputs": [
    {
     "data": {
      "image/png": "[encoded data removed]",
      "text/plain": [
       "<Figure size 432x288 with 2 Axes>"
      ]
     },
     "metadata": {
      "tags": []
     },
     "output_type": "display_data"
    }
   ],
   "source": [
    "import seaborn as sns\n",
    "import matplotlib.pyplot as plt\n",
    "\n",
    "%matplotlib inline\n",
    "\n",
    "with tf.Session() as session:\n",
    "    cm = tf.confusion_matrix(test_sentiments, predictions).eval()\n",
    "\n",
    "LABELS = ['negative', 'positive']\n",
    "sns.heatmap(cm, annot=True, xticklabels=LABELS, yticklabels=LABELS, fmt='g')\n",
    "xl = plt.xlabel(\"Predicted\")\n",
    "yl = plt.ylabel(\"Actuals\")"
   ]
  },
  {
   "cell_type": "code",
   "execution_count": 31,
   "metadata": {
    "colab": {
     "base_uri": "https://localhost:8080/",
     "height": 170
    },
    "colab_type": "code",
    "id": "3Xca_U5kspo5",
    "outputId": "b72c8837-1684-49de-99a8-6b1d150ae18b"
   },
   "outputs": [
    {
     "name": "stdout",
     "output_type": "stream",
     "text": [
      "              precision    recall  f1-score   support\n",
      "\n",
      "    negative       0.91      0.90      0.91      7490\n",
      "    positive       0.90      0.91      0.91      7510\n",
      "\n",
      "    accuracy                           0.91     15000\n",
      "   macro avg       0.91      0.91      0.91     15000\n",
      "weighted avg       0.91      0.91      0.91     15000\n",
      "\n"
     ]
    }
   ],
   "source": [
    "from sklearn.metrics import classification_report\n",
    "\n",
    "print(classification_report(y_true=test_sentiments, y_pred=predictions, target_names=LABELS))"
   ]
  }
 ],
 "metadata": {
  "accelerator": "GPU",
  "colab": {
   "collapsed_sections": [],
   "name": "Text Classification - Deep Transfer Learning with Universal Embeddings.ipynb",
   "provenance": [],
   "toc_visible": true,
   "version": "0.3.2"
  },
  "kernelspec": {
   "display_name": "Python 3",
   "language": "python",
   "name": "python3"
  },
  "language_info": {
   "codemirror_mode": {
    "name": "ipython",
    "version": 3
   },
   "file_extension": ".py",
   "mimetype": "text/x-python",
   "name": "python",
   "nbconvert_exporter": "python",
   "pygments_lexer": "ipython3",
   "version": "3.6.4"
  }
 },
 "nbformat": 4,
 "nbformat_minor": 1
}
