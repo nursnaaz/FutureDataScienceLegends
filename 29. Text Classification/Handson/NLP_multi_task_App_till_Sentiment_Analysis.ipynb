{
  "nbformat": 4,
  "nbformat_minor": 0,
  "metadata": {
    "colab": {
      "provenance": []
    },
    "kernelspec": {
      "name": "python3",
      "display_name": "Python 3"
    },
    "language_info": {
      "name": "python"
    }
  },
  "cells": [
    {
      "cell_type": "code",
      "execution_count": null,
      "metadata": {
        "id": "Ef1Ync0SZEMc"
      },
      "outputs": [],
      "source": [
        "# create the requirement file"
      ]
    },
    {
      "cell_type": "code",
      "source": [
        "%%writefile requirements.txt\n",
        "pandas\n",
        "numpy\n",
        "scikit-learn\n",
        "streamlit\n",
        "nltk\n",
        "joblib\n",
        "\n",
        "gensim\n",
        "textblob  #addfor sentiment"
      ],
      "metadata": {
        "colab": {
          "base_uri": "https://localhost:8080/"
        },
        "id": "bmUGdjERhOcF",
        "outputId": "a6d88f50-c105-48c8-837e-ff1934ee6852"
      },
      "execution_count": null,
      "outputs": [
        {
          "output_type": "stream",
          "name": "stdout",
          "text": [
            "Overwriting requirements.txt\n"
          ]
        }
      ]
    },
    {
      "cell_type": "code",
      "source": [
        "!pip install -r /content/requirements.txt"
      ],
      "metadata": {
        "colab": {
          "base_uri": "https://localhost:8080/"
        },
        "id": "-LiSVIZvhkAY",
        "outputId": "9d83ba61-366a-4733-9e3b-9b39ecfe08fb"
      },
      "execution_count": null,
      "outputs": [
        {
          "output_type": "stream",
          "name": "stdout",
          "text": [
            "Requirement already satisfied: pandas in /usr/local/lib/python3.11/dist-packages (from -r /content/requirements.txt (line 1)) (2.2.2)\n",
            "Requirement already satisfied: numpy in /usr/local/lib/python3.11/dist-packages (from -r /content/requirements.txt (line 2)) (1.26.4)\n",
            "Requirement already satisfied: scikit-learn in /usr/local/lib/python3.11/dist-packages (from -r /content/requirements.txt (line 3)) (1.6.1)\n",
            "Requirement already satisfied: streamlit in /usr/local/lib/python3.11/dist-packages (from -r /content/requirements.txt (line 4)) (1.46.1)\n",
            "Requirement already satisfied: nltk in /usr/local/lib/python3.11/dist-packages (from -r /content/requirements.txt (line 5)) (3.9.1)\n",
            "Requirement already satisfied: joblib in /usr/local/lib/python3.11/dist-packages (from -r /content/requirements.txt (line 6)) (1.5.1)\n",
            "Requirement already satisfied: gensim in /usr/local/lib/python3.11/dist-packages (from -r /content/requirements.txt (line 8)) (4.3.3)\n",
            "Requirement already satisfied: textblob in /usr/local/lib/python3.11/dist-packages (from -r /content/requirements.txt (line 9)) (0.19.0)\n",
            "Requirement already satisfied: python-dateutil>=2.8.2 in /usr/local/lib/python3.11/dist-packages (from pandas->-r /content/requirements.txt (line 1)) (2.9.0.post0)\n",
            "Requirement already satisfied: pytz>=2020.1 in /usr/local/lib/python3.11/dist-packages (from pandas->-r /content/requirements.txt (line 1)) (2025.2)\n",
            "Requirement already satisfied: tzdata>=2022.7 in /usr/local/lib/python3.11/dist-packages (from pandas->-r /content/requirements.txt (line 1)) (2025.2)\n",
            "Requirement already satisfied: scipy>=1.6.0 in /usr/local/lib/python3.11/dist-packages (from scikit-learn->-r /content/requirements.txt (line 3)) (1.13.1)\n",
            "Requirement already satisfied: threadpoolctl>=3.1.0 in /usr/local/lib/python3.11/dist-packages (from scikit-learn->-r /content/requirements.txt (line 3)) (3.6.0)\n",
            "Requirement already satisfied: altair<6,>=4.0 in /usr/local/lib/python3.11/dist-packages (from streamlit->-r /content/requirements.txt (line 4)) (5.5.0)\n",
            "Requirement already satisfied: blinker<2,>=1.5.0 in /usr/local/lib/python3.11/dist-packages (from streamlit->-r /content/requirements.txt (line 4)) (1.9.0)\n",
            "Requirement already satisfied: cachetools<7,>=4.0 in /usr/local/lib/python3.11/dist-packages (from streamlit->-r /content/requirements.txt (line 4)) (5.5.2)\n",
            "Requirement already satisfied: click<9,>=7.0 in /usr/local/lib/python3.11/dist-packages (from streamlit->-r /content/requirements.txt (line 4)) (8.2.1)\n",
            "Requirement already satisfied: packaging<26,>=20 in /usr/local/lib/python3.11/dist-packages (from streamlit->-r /content/requirements.txt (line 4)) (24.2)\n",
            "Requirement already satisfied: pillow<12,>=7.1.0 in /usr/local/lib/python3.11/dist-packages (from streamlit->-r /content/requirements.txt (line 4)) (11.2.1)\n",
            "Requirement already satisfied: protobuf<7,>=3.20 in /usr/local/lib/python3.11/dist-packages (from streamlit->-r /content/requirements.txt (line 4)) (5.29.5)\n",
            "Requirement already satisfied: pyarrow>=7.0 in /usr/local/lib/python3.11/dist-packages (from streamlit->-r /content/requirements.txt (line 4)) (18.1.0)\n",
            "Requirement already satisfied: requests<3,>=2.27 in /usr/local/lib/python3.11/dist-packages (from streamlit->-r /content/requirements.txt (line 4)) (2.32.3)\n",
            "Requirement already satisfied: tenacity<10,>=8.1.0 in /usr/local/lib/python3.11/dist-packages (from streamlit->-r /content/requirements.txt (line 4)) (8.5.0)\n",
            "Requirement already satisfied: toml<2,>=0.10.1 in /usr/local/lib/python3.11/dist-packages (from streamlit->-r /content/requirements.txt (line 4)) (0.10.2)\n",
            "Requirement already satisfied: typing-extensions<5,>=4.4.0 in /usr/local/lib/python3.11/dist-packages (from streamlit->-r /content/requirements.txt (line 4)) (4.14.0)\n",
            "Requirement already satisfied: watchdog<7,>=2.1.5 in /usr/local/lib/python3.11/dist-packages (from streamlit->-r /content/requirements.txt (line 4)) (6.0.0)\n",
            "Requirement already satisfied: gitpython!=3.1.19,<4,>=3.0.7 in /usr/local/lib/python3.11/dist-packages (from streamlit->-r /content/requirements.txt (line 4)) (3.1.44)\n",
            "Requirement already satisfied: pydeck<1,>=0.8.0b4 in /usr/local/lib/python3.11/dist-packages (from streamlit->-r /content/requirements.txt (line 4)) (0.9.1)\n",
            "Requirement already satisfied: tornado!=6.5.0,<7,>=6.0.3 in /usr/local/lib/python3.11/dist-packages (from streamlit->-r /content/requirements.txt (line 4)) (6.4.2)\n",
            "Requirement already satisfied: regex>=2021.8.3 in /usr/local/lib/python3.11/dist-packages (from nltk->-r /content/requirements.txt (line 5)) (2024.11.6)\n",
            "Requirement already satisfied: tqdm in /usr/local/lib/python3.11/dist-packages (from nltk->-r /content/requirements.txt (line 5)) (4.67.1)\n",
            "Requirement already satisfied: smart-open>=1.8.1 in /usr/local/lib/python3.11/dist-packages (from gensim->-r /content/requirements.txt (line 8)) (7.1.0)\n",
            "Requirement already satisfied: jinja2 in /usr/local/lib/python3.11/dist-packages (from altair<6,>=4.0->streamlit->-r /content/requirements.txt (line 4)) (3.1.6)\n",
            "Requirement already satisfied: jsonschema>=3.0 in /usr/local/lib/python3.11/dist-packages (from altair<6,>=4.0->streamlit->-r /content/requirements.txt (line 4)) (4.24.0)\n",
            "Requirement already satisfied: narwhals>=1.14.2 in /usr/local/lib/python3.11/dist-packages (from altair<6,>=4.0->streamlit->-r /content/requirements.txt (line 4)) (1.44.0)\n",
            "Requirement already satisfied: gitdb<5,>=4.0.1 in /usr/local/lib/python3.11/dist-packages (from gitpython!=3.1.19,<4,>=3.0.7->streamlit->-r /content/requirements.txt (line 4)) (4.0.12)\n",
            "Requirement already satisfied: six>=1.5 in /usr/local/lib/python3.11/dist-packages (from python-dateutil>=2.8.2->pandas->-r /content/requirements.txt (line 1)) (1.17.0)\n",
            "Requirement already satisfied: charset-normalizer<4,>=2 in /usr/local/lib/python3.11/dist-packages (from requests<3,>=2.27->streamlit->-r /content/requirements.txt (line 4)) (3.4.2)\n",
            "Requirement already satisfied: idna<4,>=2.5 in /usr/local/lib/python3.11/dist-packages (from requests<3,>=2.27->streamlit->-r /content/requirements.txt (line 4)) (3.10)\n",
            "Requirement already satisfied: urllib3<3,>=1.21.1 in /usr/local/lib/python3.11/dist-packages (from requests<3,>=2.27->streamlit->-r /content/requirements.txt (line 4)) (2.4.0)\n",
            "Requirement already satisfied: certifi>=2017.4.17 in /usr/local/lib/python3.11/dist-packages (from requests<3,>=2.27->streamlit->-r /content/requirements.txt (line 4)) (2025.6.15)\n",
            "Requirement already satisfied: wrapt in /usr/local/lib/python3.11/dist-packages (from smart-open>=1.8.1->gensim->-r /content/requirements.txt (line 8)) (1.17.2)\n",
            "Requirement already satisfied: smmap<6,>=3.0.1 in /usr/local/lib/python3.11/dist-packages (from gitdb<5,>=4.0.1->gitpython!=3.1.19,<4,>=3.0.7->streamlit->-r /content/requirements.txt (line 4)) (5.0.2)\n",
            "Requirement already satisfied: MarkupSafe>=2.0 in /usr/local/lib/python3.11/dist-packages (from jinja2->altair<6,>=4.0->streamlit->-r /content/requirements.txt (line 4)) (3.0.2)\n",
            "Requirement already satisfied: attrs>=22.2.0 in /usr/local/lib/python3.11/dist-packages (from jsonschema>=3.0->altair<6,>=4.0->streamlit->-r /content/requirements.txt (line 4)) (25.3.0)\n",
            "Requirement already satisfied: jsonschema-specifications>=2023.03.6 in /usr/local/lib/python3.11/dist-packages (from jsonschema>=3.0->altair<6,>=4.0->streamlit->-r /content/requirements.txt (line 4)) (2025.4.1)\n",
            "Requirement already satisfied: referencing>=0.28.4 in /usr/local/lib/python3.11/dist-packages (from jsonschema>=3.0->altair<6,>=4.0->streamlit->-r /content/requirements.txt (line 4)) (0.36.2)\n",
            "Requirement already satisfied: rpds-py>=0.7.1 in /usr/local/lib/python3.11/dist-packages (from jsonschema>=3.0->altair<6,>=4.0->streamlit->-r /content/requirements.txt (line 4)) (0.25.1)\n"
          ]
        }
      ]
    },
    {
      "cell_type": "code",
      "source": [
        "# import the libraries\n",
        "import pandas as pd\n",
        "import numpy as np\n",
        "from sklearn.feature_extraction.text import TfidfVectorizer\n",
        "from sklearn.linear_model import LogisticRegression\n",
        "from sklearn.model_selection import train_test_split, GridSearchCV\n",
        "from sklearn.metrics import accuracy_score, classification_report\n",
        "\n",
        "import nltk\n",
        "from nltk.tokenize import word_tokenize\n",
        "from nltk.corpus import stopwords\n",
        "from nltk.stem import WordNetLemmatizer\n",
        "\n",
        "import joblib\n",
        "import warnings\n",
        "warnings.filterwarnings('ignore')\n",
        "\n",
        "from gensim.models import Word2Vec\n"
      ],
      "metadata": {
        "id": "-s7CETD4hxxC"
      },
      "execution_count": null,
      "outputs": []
    },
    {
      "cell_type": "code",
      "source": [
        "# download the nltk resource\n",
        "\n",
        "# split text into words\n",
        "nltk.download('punkt')\n",
        "\n",
        "# remove common words like \"the,is,and,etc'\n",
        "nltk.download('stopwords')\n",
        "\n",
        "# do lemmatization\n",
        "nltk.download('wordnet')\n",
        "\n",
        "nltk.download('punkt_tab')"
      ],
      "metadata": {
        "colab": {
          "base_uri": "https://localhost:8080/"
        },
        "id": "Ml2PqiPyjqQL",
        "outputId": "519e87bf-5212-4ded-eb64-9f69dc49e4b7"
      },
      "execution_count": null,
      "outputs": [
        {
          "output_type": "stream",
          "name": "stderr",
          "text": [
            "[nltk_data] Downloading package punkt to /root/nltk_data...\n",
            "[nltk_data]   Package punkt is already up-to-date!\n",
            "[nltk_data] Downloading package stopwords to /root/nltk_data...\n",
            "[nltk_data]   Package stopwords is already up-to-date!\n",
            "[nltk_data] Downloading package wordnet to /root/nltk_data...\n",
            "[nltk_data]   Package wordnet is already up-to-date!\n",
            "[nltk_data] Downloading package punkt_tab to /root/nltk_data...\n",
            "[nltk_data]   Package punkt_tab is already up-to-date!\n"
          ]
        },
        {
          "output_type": "execute_result",
          "data": {
            "text/plain": [
              "True"
            ]
          },
          "metadata": {},
          "execution_count": 31
        }
      ]
    },
    {
      "cell_type": "code",
      "source": [
        "# create utility file for reusablity"
      ],
      "metadata": {
        "id": "k6Li3Pu-j9EU"
      },
      "execution_count": null,
      "outputs": []
    },
    {
      "cell_type": "code",
      "source": [
        "#set random state\n",
        "# reusing the same dataset after splitting for various algo execution multiple times\n",
        "np.random.seed(42)"
      ],
      "metadata": {
        "id": "K7Vv6jLGkz4J"
      },
      "execution_count": null,
      "outputs": []
    },
    {
      "cell_type": "code",
      "source": [
        "# data loading from the web\n",
        "\n",
        "import os  # to interact with system operation\n",
        "import tarfile # to work with archived files\n",
        "import urllib.request # to download the files from internet\n",
        "\n",
        "# data from the discussion forum with 20 different sub categories\n",
        "\n",
        "# download the dataset from net\n",
        "url = \"http://qwone.com/~jason/20Newsgroups/20news-bydate.tar.gz\"\n",
        "archive_path = \"20news-bydate.tar.gz\"\n",
        "urllib.request.urlretrieve(url,archive_path)\n"
      ],
      "metadata": {
        "colab": {
          "base_uri": "https://localhost:8080/"
        },
        "id": "cuZRYHbDlRxZ",
        "outputId": "e8cb9988-ed87-4c44-ec46-c94c1899c167"
      },
      "execution_count": null,
      "outputs": [
        {
          "output_type": "execute_result",
          "data": {
            "text/plain": [
              "('20news-bydate.tar.gz', <http.client.HTTPMessage at 0x7c0d2fdf2f10>)"
            ]
          },
          "metadata": {},
          "execution_count": 34
        }
      ]
    },
    {
      "cell_type": "code",
      "source": [
        "# extract the file\n",
        "with tarfile.open(archive_path, \"r:gz\") as tar:\n",
        "  tar.extractall(path='.')\n"
      ],
      "metadata": {
        "id": "XjD8KoTOnShf"
      },
      "execution_count": null,
      "outputs": []
    },
    {
      "cell_type": "code",
      "source": [
        "# build the list of articles from the files into a dataframe\n",
        "data = []\n",
        "for split in ['20news-bydate-train','20news-bydate-test']: # loop thru train and test folders\n",
        "  for newsgroup in sorted(os.listdir(split)): # loop thru each sub folder\n",
        "    group_path = os.path.join(split,newsgroup)\n",
        "    if not os.path.isdir(group_path):  # skip if there are further folder (go to next iteration)\n",
        "        continue\n",
        "\n",
        "    tgt = newsgroup.split('.')[0] # building main categorization alt/comp/rec/sci/etc\n",
        "\n",
        "    for filename in os.listdir(group_path): # loop thru each article\n",
        "        file_path = os.path.join(group_path,filename)\n",
        "\n",
        "        with open(file_path, encoding='latin1') as f:  # read the artcile\n",
        "          text = f.read()\n",
        "          # append to a dictionary\n",
        "          data.append(\n",
        "             { 'text': text,   # full_article_text\n",
        "              'tgt' : tgt,    # main category(short category)\n",
        "               'true_label_original': newsgroup, # original category with subcategory\n",
        "               'article_id': filename # filename\n",
        "             }\n",
        "         )\n",
        "\n",
        "df = pd.DataFrame(data) # create a df from dictionary\n",
        "print(df.shape)\n",
        "print(df.head(1))"
      ],
      "metadata": {
        "colab": {
          "base_uri": "https://localhost:8080/"
        },
        "id": "qJA_iwSSn3p7",
        "outputId": "6725b4d7-2860-44d3-d8dd-e37b3ee86379"
      },
      "execution_count": null,
      "outputs": [
        {
          "output_type": "stream",
          "name": "stdout",
          "text": [
            "(18846, 4)\n",
            "                                                text  tgt true_label_original  \\\n",
            "0  From: I3150101@dbstu1.rz.tu-bs.de (Benedikt Ro...  alt         alt.atheism   \n",
            "\n",
            "  article_id  \n",
            "0      51261  \n"
          ]
        }
      ]
    },
    {
      "cell_type": "code",
      "source": [
        "df.tgt.nunique()"
      ],
      "metadata": {
        "colab": {
          "base_uri": "https://localhost:8080/"
        },
        "id": "RoCCNVWfrAI-",
        "outputId": "22f27b56-9b50-4e87-a033-463912a33d3c"
      },
      "execution_count": null,
      "outputs": [
        {
          "output_type": "execute_result",
          "data": {
            "text/plain": [
              "7"
            ]
          },
          "metadata": {},
          "execution_count": 37
        }
      ]
    },
    {
      "cell_type": "code",
      "source": [
        "df.true_label_original.nunique()"
      ],
      "metadata": {
        "colab": {
          "base_uri": "https://localhost:8080/"
        },
        "id": "CH-r4knQscMy",
        "outputId": "23ebbb31-86ad-41e2-b5ef-c414e82bb897"
      },
      "execution_count": null,
      "outputs": [
        {
          "output_type": "execute_result",
          "data": {
            "text/plain": [
              "20"
            ]
          },
          "metadata": {},
          "execution_count": 38
        }
      ]
    },
    {
      "cell_type": "code",
      "source": [
        "df.tgt.unique()"
      ],
      "metadata": {
        "colab": {
          "base_uri": "https://localhost:8080/"
        },
        "id": "Zf_a-TAVshw0",
        "outputId": "3c4abf70-1d47-408e-e6a2-61ef0a0d186a"
      },
      "execution_count": null,
      "outputs": [
        {
          "output_type": "execute_result",
          "data": {
            "text/plain": [
              "array(['alt', 'comp', 'misc', 'rec', 'sci', 'soc', 'talk'], dtype=object)"
            ]
          },
          "metadata": {},
          "execution_count": 39
        }
      ]
    },
    {
      "cell_type": "code",
      "source": [
        "df.true_label_original.unique()"
      ],
      "metadata": {
        "colab": {
          "base_uri": "https://localhost:8080/"
        },
        "id": "MRoTRwwtsm75",
        "outputId": "061930df-2e74-45d5-e958-df24333bcf77"
      },
      "execution_count": null,
      "outputs": [
        {
          "output_type": "execute_result",
          "data": {
            "text/plain": [
              "array(['alt.atheism', 'comp.graphics', 'comp.os.ms-windows.misc',\n",
              "       'comp.sys.ibm.pc.hardware', 'comp.sys.mac.hardware',\n",
              "       'comp.windows.x', 'misc.forsale', 'rec.autos', 'rec.motorcycles',\n",
              "       'rec.sport.baseball', 'rec.sport.hockey', 'sci.crypt',\n",
              "       'sci.electronics', 'sci.med', 'sci.space',\n",
              "       'soc.religion.christian', 'talk.politics.guns',\n",
              "       'talk.politics.mideast', 'talk.politics.misc',\n",
              "       'talk.religion.misc'], dtype=object)"
            ]
          },
          "metadata": {},
          "execution_count": 40
        }
      ]
    },
    {
      "cell_type": "code",
      "source": [
        "'''\n",
        "# major categories\n",
        "alt = alternate\n",
        "comp = computer\n",
        "misc = miscellaneous\n",
        "rec = recreational\n",
        "sci = science\n",
        "soc = social\n",
        "talk = dicussion\n",
        "'''"
      ],
      "metadata": {
        "id": "n_6XV-KTspmz",
        "colab": {
          "base_uri": "https://localhost:8080/",
          "height": 52
        },
        "outputId": "bc26a91b-fbb8-46de-a052-a9bfc4aad67a"
      },
      "execution_count": null,
      "outputs": [
        {
          "output_type": "execute_result",
          "data": {
            "text/plain": [
              "'\\n# major categories\\nalt = alternate\\ncomp = computer\\nmisc = miscellaneous\\nrec = recreational\\nsci = science\\nsoc = social\\ntalk = dicussion\\n'"
            ],
            "application/vnd.google.colaboratory.intrinsic+json": {
              "type": "string"
            }
          },
          "metadata": {},
          "execution_count": 41
        }
      ]
    },
    {
      "cell_type": "code",
      "source": [
        "display(df.head(4))"
      ],
      "metadata": {
        "colab": {
          "base_uri": "https://localhost:8080/",
          "height": 174
        },
        "id": "r_tkpeveuAaC",
        "outputId": "1df7e5ec-a6fd-437a-b6cb-b3e42e832768"
      },
      "execution_count": null,
      "outputs": [
        {
          "output_type": "display_data",
          "data": {
            "text/plain": [
              "                                                text  tgt true_label_original  \\\n",
              "0  From: I3150101@dbstu1.rz.tu-bs.de (Benedikt Ro...  alt         alt.atheism   \n",
              "1  From: mathew <mathew@mantis.co.uk>\\nSubject: R...  alt         alt.atheism   \n",
              "2  From: timmbake@mcl.ucsb.edu (Bake Timmons)\\nSu...  alt         alt.atheism   \n",
              "3  From: sandvik@newton.apple.com (Kent Sandvik)\\...  alt         alt.atheism   \n",
              "\n",
              "  article_id  \n",
              "0      51261  \n",
              "1      51240  \n",
              "2      53334  \n",
              "3      53057  "
            ],
            "text/html": [
              "\n",
              "  <div id=\"df-05bf9ace-1a2b-4747-ba61-0b9213f33b71\" class=\"colab-df-container\">\n",
              "    <div>\n",
              "<style scoped>\n",
              "    .dataframe tbody tr th:only-of-type {\n",
              "        vertical-align: middle;\n",
              "    }\n",
              "\n",
              "    .dataframe tbody tr th {\n",
              "        vertical-align: top;\n",
              "    }\n",
              "\n",
              "    .dataframe thead th {\n",
              "        text-align: right;\n",
              "    }\n",
              "</style>\n",
              "<table border=\"1\" class=\"dataframe\">\n",
              "  <thead>\n",
              "    <tr style=\"text-align: right;\">\n",
              "      <th></th>\n",
              "      <th>text</th>\n",
              "      <th>tgt</th>\n",
              "      <th>true_label_original</th>\n",
              "      <th>article_id</th>\n",
              "    </tr>\n",
              "  </thead>\n",
              "  <tbody>\n",
              "    <tr>\n",
              "      <th>0</th>\n",
              "      <td>From: I3150101@dbstu1.rz.tu-bs.de (Benedikt Ro...</td>\n",
              "      <td>alt</td>\n",
              "      <td>alt.atheism</td>\n",
              "      <td>51261</td>\n",
              "    </tr>\n",
              "    <tr>\n",
              "      <th>1</th>\n",
              "      <td>From: mathew &lt;mathew@mantis.co.uk&gt;\\nSubject: R...</td>\n",
              "      <td>alt</td>\n",
              "      <td>alt.atheism</td>\n",
              "      <td>51240</td>\n",
              "    </tr>\n",
              "    <tr>\n",
              "      <th>2</th>\n",
              "      <td>From: timmbake@mcl.ucsb.edu (Bake Timmons)\\nSu...</td>\n",
              "      <td>alt</td>\n",
              "      <td>alt.atheism</td>\n",
              "      <td>53334</td>\n",
              "    </tr>\n",
              "    <tr>\n",
              "      <th>3</th>\n",
              "      <td>From: sandvik@newton.apple.com (Kent Sandvik)\\...</td>\n",
              "      <td>alt</td>\n",
              "      <td>alt.atheism</td>\n",
              "      <td>53057</td>\n",
              "    </tr>\n",
              "  </tbody>\n",
              "</table>\n",
              "</div>\n",
              "    <div class=\"colab-df-buttons\">\n",
              "\n",
              "  <div class=\"colab-df-container\">\n",
              "    <button class=\"colab-df-convert\" onclick=\"convertToInteractive('df-05bf9ace-1a2b-4747-ba61-0b9213f33b71')\"\n",
              "            title=\"Convert this dataframe to an interactive table.\"\n",
              "            style=\"display:none;\">\n",
              "\n",
              "  <svg xmlns=\"http://www.w3.org/2000/svg\" height=\"24px\" viewBox=\"0 -960 960 960\">\n",
              "    <path d=\"M120-120v-720h720v720H120Zm60-500h600v-160H180v160Zm220 220h160v-160H400v160Zm0 220h160v-160H400v160ZM180-400h160v-160H180v160Zm440 0h160v-160H620v160ZM180-180h160v-160H180v160Zm440 0h160v-160H620v160Z\"/>\n",
              "  </svg>\n",
              "    </button>\n",
              "\n",
              "  <style>\n",
              "    .colab-df-container {\n",
              "      display:flex;\n",
              "      gap: 12px;\n",
              "    }\n",
              "\n",
              "    .colab-df-convert {\n",
              "      background-color: #E8F0FE;\n",
              "      border: none;\n",
              "      border-radius: 50%;\n",
              "      cursor: pointer;\n",
              "      display: none;\n",
              "      fill: #1967D2;\n",
              "      height: 32px;\n",
              "      padding: 0 0 0 0;\n",
              "      width: 32px;\n",
              "    }\n",
              "\n",
              "    .colab-df-convert:hover {\n",
              "      background-color: #E2EBFA;\n",
              "      box-shadow: 0px 1px 2px rgba(60, 64, 67, 0.3), 0px 1px 3px 1px rgba(60, 64, 67, 0.15);\n",
              "      fill: #174EA6;\n",
              "    }\n",
              "\n",
              "    .colab-df-buttons div {\n",
              "      margin-bottom: 4px;\n",
              "    }\n",
              "\n",
              "    [theme=dark] .colab-df-convert {\n",
              "      background-color: #3B4455;\n",
              "      fill: #D2E3FC;\n",
              "    }\n",
              "\n",
              "    [theme=dark] .colab-df-convert:hover {\n",
              "      background-color: #434B5C;\n",
              "      box-shadow: 0px 1px 3px 1px rgba(0, 0, 0, 0.15);\n",
              "      filter: drop-shadow(0px 1px 2px rgba(0, 0, 0, 0.3));\n",
              "      fill: #FFFFFF;\n",
              "    }\n",
              "  </style>\n",
              "\n",
              "    <script>\n",
              "      const buttonEl =\n",
              "        document.querySelector('#df-05bf9ace-1a2b-4747-ba61-0b9213f33b71 button.colab-df-convert');\n",
              "      buttonEl.style.display =\n",
              "        google.colab.kernel.accessAllowed ? 'block' : 'none';\n",
              "\n",
              "      async function convertToInteractive(key) {\n",
              "        const element = document.querySelector('#df-05bf9ace-1a2b-4747-ba61-0b9213f33b71');\n",
              "        const dataTable =\n",
              "          await google.colab.kernel.invokeFunction('convertToInteractive',\n",
              "                                                    [key], {});\n",
              "        if (!dataTable) return;\n",
              "\n",
              "        const docLinkHtml = 'Like what you see? Visit the ' +\n",
              "          '<a target=\"_blank\" href=https://colab.research.google.com/notebooks/data_table.ipynb>data table notebook</a>'\n",
              "          + ' to learn more about interactive tables.';\n",
              "        element.innerHTML = '';\n",
              "        dataTable['output_type'] = 'display_data';\n",
              "        await google.colab.output.renderOutput(dataTable, element);\n",
              "        const docLink = document.createElement('div');\n",
              "        docLink.innerHTML = docLinkHtml;\n",
              "        element.appendChild(docLink);\n",
              "      }\n",
              "    </script>\n",
              "  </div>\n",
              "\n",
              "\n",
              "    <div id=\"df-d7ee7e11-2608-4c50-adb3-54b66b75d267\">\n",
              "      <button class=\"colab-df-quickchart\" onclick=\"quickchart('df-d7ee7e11-2608-4c50-adb3-54b66b75d267')\"\n",
              "                title=\"Suggest charts\"\n",
              "                style=\"display:none;\">\n",
              "\n",
              "<svg xmlns=\"http://www.w3.org/2000/svg\" height=\"24px\"viewBox=\"0 0 24 24\"\n",
              "     width=\"24px\">\n",
              "    <g>\n",
              "        <path d=\"M19 3H5c-1.1 0-2 .9-2 2v14c0 1.1.9 2 2 2h14c1.1 0 2-.9 2-2V5c0-1.1-.9-2-2-2zM9 17H7v-7h2v7zm4 0h-2V7h2v10zm4 0h-2v-4h2v4z\"/>\n",
              "    </g>\n",
              "</svg>\n",
              "      </button>\n",
              "\n",
              "<style>\n",
              "  .colab-df-quickchart {\n",
              "      --bg-color: #E8F0FE;\n",
              "      --fill-color: #1967D2;\n",
              "      --hover-bg-color: #E2EBFA;\n",
              "      --hover-fill-color: #174EA6;\n",
              "      --disabled-fill-color: #AAA;\n",
              "      --disabled-bg-color: #DDD;\n",
              "  }\n",
              "\n",
              "  [theme=dark] .colab-df-quickchart {\n",
              "      --bg-color: #3B4455;\n",
              "      --fill-color: #D2E3FC;\n",
              "      --hover-bg-color: #434B5C;\n",
              "      --hover-fill-color: #FFFFFF;\n",
              "      --disabled-bg-color: #3B4455;\n",
              "      --disabled-fill-color: #666;\n",
              "  }\n",
              "\n",
              "  .colab-df-quickchart {\n",
              "    background-color: var(--bg-color);\n",
              "    border: none;\n",
              "    border-radius: 50%;\n",
              "    cursor: pointer;\n",
              "    display: none;\n",
              "    fill: var(--fill-color);\n",
              "    height: 32px;\n",
              "    padding: 0;\n",
              "    width: 32px;\n",
              "  }\n",
              "\n",
              "  .colab-df-quickchart:hover {\n",
              "    background-color: var(--hover-bg-color);\n",
              "    box-shadow: 0 1px 2px rgba(60, 64, 67, 0.3), 0 1px 3px 1px rgba(60, 64, 67, 0.15);\n",
              "    fill: var(--button-hover-fill-color);\n",
              "  }\n",
              "\n",
              "  .colab-df-quickchart-complete:disabled,\n",
              "  .colab-df-quickchart-complete:disabled:hover {\n",
              "    background-color: var(--disabled-bg-color);\n",
              "    fill: var(--disabled-fill-color);\n",
              "    box-shadow: none;\n",
              "  }\n",
              "\n",
              "  .colab-df-spinner {\n",
              "    border: 2px solid var(--fill-color);\n",
              "    border-color: transparent;\n",
              "    border-bottom-color: var(--fill-color);\n",
              "    animation:\n",
              "      spin 1s steps(1) infinite;\n",
              "  }\n",
              "\n",
              "  @keyframes spin {\n",
              "    0% {\n",
              "      border-color: transparent;\n",
              "      border-bottom-color: var(--fill-color);\n",
              "      border-left-color: var(--fill-color);\n",
              "    }\n",
              "    20% {\n",
              "      border-color: transparent;\n",
              "      border-left-color: var(--fill-color);\n",
              "      border-top-color: var(--fill-color);\n",
              "    }\n",
              "    30% {\n",
              "      border-color: transparent;\n",
              "      border-left-color: var(--fill-color);\n",
              "      border-top-color: var(--fill-color);\n",
              "      border-right-color: var(--fill-color);\n",
              "    }\n",
              "    40% {\n",
              "      border-color: transparent;\n",
              "      border-right-color: var(--fill-color);\n",
              "      border-top-color: var(--fill-color);\n",
              "    }\n",
              "    60% {\n",
              "      border-color: transparent;\n",
              "      border-right-color: var(--fill-color);\n",
              "    }\n",
              "    80% {\n",
              "      border-color: transparent;\n",
              "      border-right-color: var(--fill-color);\n",
              "      border-bottom-color: var(--fill-color);\n",
              "    }\n",
              "    90% {\n",
              "      border-color: transparent;\n",
              "      border-bottom-color: var(--fill-color);\n",
              "    }\n",
              "  }\n",
              "</style>\n",
              "\n",
              "      <script>\n",
              "        async function quickchart(key) {\n",
              "          const quickchartButtonEl =\n",
              "            document.querySelector('#' + key + ' button');\n",
              "          quickchartButtonEl.disabled = true;  // To prevent multiple clicks.\n",
              "          quickchartButtonEl.classList.add('colab-df-spinner');\n",
              "          try {\n",
              "            const charts = await google.colab.kernel.invokeFunction(\n",
              "                'suggestCharts', [key], {});\n",
              "          } catch (error) {\n",
              "            console.error('Error during call to suggestCharts:', error);\n",
              "          }\n",
              "          quickchartButtonEl.classList.remove('colab-df-spinner');\n",
              "          quickchartButtonEl.classList.add('colab-df-quickchart-complete');\n",
              "        }\n",
              "        (() => {\n",
              "          let quickchartButtonEl =\n",
              "            document.querySelector('#df-d7ee7e11-2608-4c50-adb3-54b66b75d267 button');\n",
              "          quickchartButtonEl.style.display =\n",
              "            google.colab.kernel.accessAllowed ? 'block' : 'none';\n",
              "        })();\n",
              "      </script>\n",
              "    </div>\n",
              "\n",
              "    </div>\n",
              "  </div>\n"
            ],
            "application/vnd.google.colaboratory.intrinsic+json": {
              "type": "dataframe",
              "summary": "{\n  \"name\": \"display(df\",\n  \"rows\": 4,\n  \"fields\": [\n    {\n      \"column\": \"text\",\n      \"properties\": {\n        \"dtype\": \"string\",\n        \"num_unique_values\": 4,\n        \"samples\": [\n          \"From: mathew <mathew@mantis.co.uk>\\nSubject: Re: <Political Atheists?\\nOrganization: Mantis Consultants, Cambridge. UK.\\nX-Newsreader: rusnews v1.01\\nLines: 15\\n\\nkeith@cco.caltech.edu (Keith Allan Schneider) writes:\\n>mathew <mathew@mantis.co.uk> writes:\\n>>>Perhaps we shouldn't imprision people if we could watch them closely\\n>>>instead.  The cost would probably be similar, especially if we just\\n>>>implanted some sort of electronic device.\\n>>Why wait until they commit the crime?  Why not implant such devices in\\n>>potential criminals like Communists and atheists?\\n> \\n> Sorry, I don't follow your reasoning.  You are proposing to punish people\\n> *before* they commit a crime?  What justification do you have for this?\\n\\nLook up \\\"irony\\\", Keith.\\n\\n\\nmathew\\n\",\n          \"From: sandvik@newton.apple.com (Kent Sandvik)\\nSubject: Re: Nicknames\\nOrganization: Cookamunga Tourist Bureau\\nLines: 21\\n\\nIn article <1993Apr18.231914.143616@zeus.calpoly.edu>,\\njmunch@hertz.elee.calpoly.edu (John Munch) wrote:\\n> >Mathew \\\"FAQ\\\" can't remember his last name\\n> >Keith \\\"Lie Tally .sig\\\" Ryan\\n> >Kent \\\"Finn-tastic\\\" Sandvick\\n> >Cindy \\\"Popsicle Toes\\\" Kandolf\\n> >Jim \\\"Face .sig\\\" Tims\\n> >Simon \\\"Clip-that-theist\\\" Clippendale\\n> >Umar \\\"Reasonable\\\" Khan\\n> >Rob \\\"Argue with G-d\\\" Strom\\n> >Dave \\\"Buckminster\\\" Fuller\\n> >Maddi \\\"Never a useful post\\\" Hausmann\\n> \\n> Hey, what about an affectionate nickname for me?\\n\\nYou could take my wrongly spelled surname :-).\\n\\nCheers,\\nKent Sandvik\\n---\\nsandvik@newton.apple.com. ALink: KSAND -- Private activities on the net.\\n\",\n          \"From: I3150101@dbstu1.rz.tu-bs.de (Benedikt Rosenau)\\nSubject: Re: atheist?\\nOrganization: Technical University Braunschweig, Germany\\nLines: 38\\n\\nIn article <ePVk2B3w165w@mantis.co.uk>\\nTony Lezard <tony@mantis.co.uk> writes:\\n \\n(Deletion)\\n>> In other words, if there were gods, they would hardly make sense, and\\n>> it is possible to explain the phenomenon of religion without gods.\\n>>\\n>> The concept is useless, and I don't have to introduce new assumptions\\n>> in order to show that.\\n>\\n>Yes I fully agree with that, but is it \\\"I don't believe gods exist\\\", or\\n>\\\"I believe no gods exist\\\"? As MANDTBACKA@FINABO.ABO.FI (Mats Andtbacka)\\n>pointed out, it all hinges on what you take the word \\\"believe\\\" to mean.\\n>\\n \\nFor me, it is a \\\"I believe no gods exist\\\" and a \\\"I don't believe gods exist\\\".\\n \\nIn other words, I think that statements like gods are or somehow interfere\\nwith this world are false or meaningless. In Ontology, one can fairly\\nconclude that when \\\"A exist\\\" is meaningless A does not exist. Under the\\nPragmatic definition of truth, \\\"A exists\\\" is meaningless makes A exist\\neven logically false.\\n \\nA problem with such statements is that one can't disprove a subjective god\\nby definition, and there might be cases where a subjective god would even\\nmake sense. The trouble with most god definitions is that they include\\nsome form of objective existence with the consequence of the gods affecting\\nall. Believers derive from it a right to interfere with the life of others.\\n \\n \\n(Deletion)\\n>\\n>Should the FAQ be clarified to try to pin down this notion of \\\"belief\\\"?\\n>Can it?\\n>\\n \\nHonestly, I don't see the problem.\\n   Benedikt\\n\"\n        ],\n        \"semantic_type\": \"\",\n        \"description\": \"\"\n      }\n    },\n    {\n      \"column\": \"tgt\",\n      \"properties\": {\n        \"dtype\": \"category\",\n        \"num_unique_values\": 1,\n        \"samples\": [\n          \"alt\"\n        ],\n        \"semantic_type\": \"\",\n        \"description\": \"\"\n      }\n    },\n    {\n      \"column\": \"true_label_original\",\n      \"properties\": {\n        \"dtype\": \"category\",\n        \"num_unique_values\": 1,\n        \"samples\": [\n          \"alt.atheism\"\n        ],\n        \"semantic_type\": \"\",\n        \"description\": \"\"\n      }\n    },\n    {\n      \"column\": \"article_id\",\n      \"properties\": {\n        \"dtype\": \"string\",\n        \"num_unique_values\": 4,\n        \"samples\": [\n          \"51240\"\n        ],\n        \"semantic_type\": \"\",\n        \"description\": \"\"\n      }\n    }\n  ]\n}"
            }
          },
          "metadata": {}
        }
      ]
    },
    {
      "cell_type": "code",
      "source": [
        "# Take 20% of the data\n",
        "\n",
        "sample_df, _ = train_test_split(df, train_size=.2, random_state=42, stratify=df['tgt'])\n",
        "orig_df = df.copy()  # ~18k\n",
        "data = sample_df.copy()  # ~4k\n",
        "\n",
        "print(data.shape)"
      ],
      "metadata": {
        "colab": {
          "base_uri": "https://localhost:8080/"
        },
        "id": "FkaBpjQZuACF",
        "outputId": "db1e7bc5-4ef4-420d-a343-9f120a2594fd"
      },
      "execution_count": null,
      "outputs": [
        {
          "output_type": "stream",
          "name": "stdout",
          "text": [
            "(3769, 4)\n"
          ]
        }
      ]
    },
    {
      "cell_type": "code",
      "source": [
        "'''\n",
        "ax,ay,bx,by = tts(x,y)\n",
        "a,_ = ttx(df)\n",
        "'''"
      ],
      "metadata": {
        "id": "yPS6dGPDvkWj",
        "colab": {
          "base_uri": "https://localhost:8080/",
          "height": 35
        },
        "outputId": "f04d10b2-e9d1-472b-c8aa-b2857d637f9a"
      },
      "execution_count": null,
      "outputs": [
        {
          "output_type": "execute_result",
          "data": {
            "text/plain": [
              "'\\nax,ay,bx,by = tts(x,y)\\na,_ = ttx(df)\\n'"
            ],
            "application/vnd.google.colaboratory.intrinsic+json": {
              "type": "string"
            }
          },
          "metadata": {},
          "execution_count": 44
        }
      ]
    },
    {
      "cell_type": "code",
      "source": [
        "#data.tgt.value_counts().index\n",
        "data.tgt.value_counts().keys()"
      ],
      "metadata": {
        "colab": {
          "base_uri": "https://localhost:8080/"
        },
        "id": "rwpAER57w6Rg",
        "outputId": "0cb43f21-cad7-4310-ec65-2e029c1bd226"
      },
      "execution_count": null,
      "outputs": [
        {
          "output_type": "execute_result",
          "data": {
            "text/plain": [
              "Index(['comp', 'rec', 'sci', 'talk', 'soc', 'misc', 'alt'], dtype='object', name='tgt')"
            ]
          },
          "metadata": {},
          "execution_count": 45
        }
      ]
    },
    {
      "cell_type": "code",
      "source": [
        "categories = {\n",
        "'comp':0, 'rec':1, 'sci':2, 'talk':3, 'soc':4, 'misc':5, 'alt':6 }\n",
        "data.rename(columns={'tgt':'category_name'},inplace=True)\n",
        "data['category'] = data['category_name'].map(categories)\n",
        "print(data.columns)"
      ],
      "metadata": {
        "colab": {
          "base_uri": "https://localhost:8080/"
        },
        "id": "0GTWE0RvxBL6",
        "outputId": "441c1f01-10ba-4fd7-f5ce-76e18edc9263"
      },
      "execution_count": null,
      "outputs": [
        {
          "output_type": "stream",
          "name": "stdout",
          "text": [
            "Index(['text', 'category_name', 'true_label_original', 'article_id',\n",
            "       'category'],\n",
            "      dtype='object')\n"
          ]
        }
      ]
    },
    {
      "cell_type": "code",
      "source": [
        "display(data.head(1))"
      ],
      "metadata": {
        "colab": {
          "base_uri": "https://localhost:8080/",
          "height": 80
        },
        "id": "O1GZJJZzx-5C",
        "outputId": "7e60710f-d640-4464-ff26-7659221c51ee"
      },
      "execution_count": null,
      "outputs": [
        {
          "output_type": "display_data",
          "data": {
            "text/plain": [
              "                                                   text category_name  \\\n",
              "6347  From: maynard@ramsey.cs.laurentian.ca (Roger M...           rec   \n",
              "\n",
              "     true_label_original article_id  category  \n",
              "6347    rec.sport.hockey      53696         1  "
            ],
            "text/html": [
              "\n",
              "  <div id=\"df-3aec6302-25d5-42f3-8e57-a8a510b26f94\" class=\"colab-df-container\">\n",
              "    <div>\n",
              "<style scoped>\n",
              "    .dataframe tbody tr th:only-of-type {\n",
              "        vertical-align: middle;\n",
              "    }\n",
              "\n",
              "    .dataframe tbody tr th {\n",
              "        vertical-align: top;\n",
              "    }\n",
              "\n",
              "    .dataframe thead th {\n",
              "        text-align: right;\n",
              "    }\n",
              "</style>\n",
              "<table border=\"1\" class=\"dataframe\">\n",
              "  <thead>\n",
              "    <tr style=\"text-align: right;\">\n",
              "      <th></th>\n",
              "      <th>text</th>\n",
              "      <th>category_name</th>\n",
              "      <th>true_label_original</th>\n",
              "      <th>article_id</th>\n",
              "      <th>category</th>\n",
              "    </tr>\n",
              "  </thead>\n",
              "  <tbody>\n",
              "    <tr>\n",
              "      <th>6347</th>\n",
              "      <td>From: maynard@ramsey.cs.laurentian.ca (Roger M...</td>\n",
              "      <td>rec</td>\n",
              "      <td>rec.sport.hockey</td>\n",
              "      <td>53696</td>\n",
              "      <td>1</td>\n",
              "    </tr>\n",
              "  </tbody>\n",
              "</table>\n",
              "</div>\n",
              "    <div class=\"colab-df-buttons\">\n",
              "\n",
              "  <div class=\"colab-df-container\">\n",
              "    <button class=\"colab-df-convert\" onclick=\"convertToInteractive('df-3aec6302-25d5-42f3-8e57-a8a510b26f94')\"\n",
              "            title=\"Convert this dataframe to an interactive table.\"\n",
              "            style=\"display:none;\">\n",
              "\n",
              "  <svg xmlns=\"http://www.w3.org/2000/svg\" height=\"24px\" viewBox=\"0 -960 960 960\">\n",
              "    <path d=\"M120-120v-720h720v720H120Zm60-500h600v-160H180v160Zm220 220h160v-160H400v160Zm0 220h160v-160H400v160ZM180-400h160v-160H180v160Zm440 0h160v-160H620v160ZM180-180h160v-160H180v160Zm440 0h160v-160H620v160Z\"/>\n",
              "  </svg>\n",
              "    </button>\n",
              "\n",
              "  <style>\n",
              "    .colab-df-container {\n",
              "      display:flex;\n",
              "      gap: 12px;\n",
              "    }\n",
              "\n",
              "    .colab-df-convert {\n",
              "      background-color: #E8F0FE;\n",
              "      border: none;\n",
              "      border-radius: 50%;\n",
              "      cursor: pointer;\n",
              "      display: none;\n",
              "      fill: #1967D2;\n",
              "      height: 32px;\n",
              "      padding: 0 0 0 0;\n",
              "      width: 32px;\n",
              "    }\n",
              "\n",
              "    .colab-df-convert:hover {\n",
              "      background-color: #E2EBFA;\n",
              "      box-shadow: 0px 1px 2px rgba(60, 64, 67, 0.3), 0px 1px 3px 1px rgba(60, 64, 67, 0.15);\n",
              "      fill: #174EA6;\n",
              "    }\n",
              "\n",
              "    .colab-df-buttons div {\n",
              "      margin-bottom: 4px;\n",
              "    }\n",
              "\n",
              "    [theme=dark] .colab-df-convert {\n",
              "      background-color: #3B4455;\n",
              "      fill: #D2E3FC;\n",
              "    }\n",
              "\n",
              "    [theme=dark] .colab-df-convert:hover {\n",
              "      background-color: #434B5C;\n",
              "      box-shadow: 0px 1px 3px 1px rgba(0, 0, 0, 0.15);\n",
              "      filter: drop-shadow(0px 1px 2px rgba(0, 0, 0, 0.3));\n",
              "      fill: #FFFFFF;\n",
              "    }\n",
              "  </style>\n",
              "\n",
              "    <script>\n",
              "      const buttonEl =\n",
              "        document.querySelector('#df-3aec6302-25d5-42f3-8e57-a8a510b26f94 button.colab-df-convert');\n",
              "      buttonEl.style.display =\n",
              "        google.colab.kernel.accessAllowed ? 'block' : 'none';\n",
              "\n",
              "      async function convertToInteractive(key) {\n",
              "        const element = document.querySelector('#df-3aec6302-25d5-42f3-8e57-a8a510b26f94');\n",
              "        const dataTable =\n",
              "          await google.colab.kernel.invokeFunction('convertToInteractive',\n",
              "                                                    [key], {});\n",
              "        if (!dataTable) return;\n",
              "\n",
              "        const docLinkHtml = 'Like what you see? Visit the ' +\n",
              "          '<a target=\"_blank\" href=https://colab.research.google.com/notebooks/data_table.ipynb>data table notebook</a>'\n",
              "          + ' to learn more about interactive tables.';\n",
              "        element.innerHTML = '';\n",
              "        dataTable['output_type'] = 'display_data';\n",
              "        await google.colab.output.renderOutput(dataTable, element);\n",
              "        const docLink = document.createElement('div');\n",
              "        docLink.innerHTML = docLinkHtml;\n",
              "        element.appendChild(docLink);\n",
              "      }\n",
              "    </script>\n",
              "  </div>\n",
              "\n",
              "\n",
              "    </div>\n",
              "  </div>\n"
            ],
            "application/vnd.google.colaboratory.intrinsic+json": {
              "type": "dataframe",
              "summary": "{\n  \"name\": \"display(data\",\n  \"rows\": 1,\n  \"fields\": [\n    {\n      \"column\": \"text\",\n      \"properties\": {\n        \"dtype\": \"string\",\n        \"num_unique_values\": 1,\n        \"samples\": [\n          \"From: maynard@ramsey.cs.laurentian.ca (Roger Maynard)\\nSubject: Re: Plus minus stat\\nOrganization: Dept. of Computer Science, Laurentian University, Sudbury, ON\\nLines: 130\\n\\nIn <VFq32B2w165w@sms.business.uwo.ca> j3david@sms.business.uwo.ca (James David) writes:\\n\\n>>If Gilmour was taken completely by surprise, as Gainey was, then\\n>>yeah, I would have to say that Doug wasn't playing\\n>>\\\"technically\\\" smart  hockey.  In any case, to claim as Greg did,\\n>>that Gainey *never* made  a technical mistake is absolutely\\n>>ludicrous.\\n> \\n>Later on, in your posting, you make reference to \\\"putting words\\n>into other people's mouths\\\"...I would suggest that your last\\n>paragraph can only be interpreted in one way...namely, that I,\\n>along with Greg, claim that Gainey never made a technical\\n>mistake.  If you actually read what I've written, you will find\\n>that I make no such claim...soooo, if logic serves me well,\\n>you're contradicting yourself.\\n\\nNonsense.  I quite clearly state that it was Greg that made the claim\\nthat Gainey never made an error.  And he made the claim. Read below.\\n\\nFrom rec.sport.hockey Thu Apr 15 21:22:49 1993\\nFrom: gballent@hudson.UVic.CA (Greg  Ballentine)\\nMessage-ID: <1993Apr15.160450.27799@sol.UVic.CA>\\n\\n[nonsense deleted]\\n\\nGainey is the best defensive forward ever.  I stand by that assessment.\\nHe was a very good player who belongs in the hall of fame.  Did you\\never watch him play? He never made a technical error.\\n\\n[more nonsense deleted]\\n\\n>>Good for you.  You'd only be displaying your ignorance of\\n>>course, but to each his own...\\n> \\n>Roger, I'm not sure here, but I think \\\"ignorance\\\" is really a\\n>function of \\\"a lack of knowledge\\\" and not \\\"formulating an\\n>opinion\\\"...but hey, if you need to take a cheap shot, then by all\\n>means go ahead...that's if it makes you feel better.\\n\\nTo knowledgeable observers of the game my meaning is obvious.  Your\\nhockey education is not my responsibility.\\n \\n>My word, such vehemence against poor ol' Bob Gainey.  Why does\\n>he bother you so much...he was an effective player for his style\\n>of play.\\n\\nHe was just another player.  To laud him as anything more I find\\nbothersome.  I hated the Habs.  I hated Lafleur until I realized\\nthat he was likely the most aesthetically pleasing player to ever \\nskate in my lifetime.  Why would anyone talk about Gainey?\\n  \\n>>go  around.  Who would you rather have as your \\\"checking\\\"\\n>>centre?  Doug Gilmour or Doug Jarvis?  For that matter I would\\n>>take either Gretzky or Mario as my \\\"checking\\\" centres.  Do you\\n>>think Gretzky could cover Bob Gainey?\\n\\n>I'm really sorry Roger, but you have lost me completely here. \\n>Why don't you ask me if I would rather have Jesus Christ,\\n>himself, in nets?\\n\\nDid he play hockey at a high level?  Was he any good?  If not, why\\nwould you bother to bring JC up?  I am talking about hockey players\\nhere.  If you can't follow the conversation don't follow up.  As I\\nsaid previously, it is not my responsibility to educate you.\\n\\n>Now, if you were to compare, say for example, Bob Gainey with Guy\\n>Carbonneau, you would have a balanced comparison.\\n\\nSure.  Two journeymen.  Big deal.  Neither one of them is worth\\ndiscussing.\\n\\n>I'm wrong AGAIN...hmmm, let's see...where was I wrong in the\\n\\n>>>I would take Fuhr and Sanderson off of the latter.\\n\\n>first place?  I'm only guessing here, Rog, but I have a feeling\\n>that you've setup a \\\"You're wrong again\\\" macro key on your\\n>machine.\\n\\nThat is an excellent idea and if I decide to waste any more time\\nresponding to any of your, or Greg's, postings then I will be sure\\nto implement that very macro.\\n \\n>I would suggest that your comment: \\\"And when the press runs out\\n>of things to say about  the stars on dynasties they start to hype\\n>the pluggers.  Grant Fuhr, Essa Tikkannen, Butch Goring, Bob\\n>Nystrom, Bob Gainey, Doug Jarvis, Derek Sanderson, Wayne Cashman,\\n>Bob Baun, Bob Pulford, Ralph Backstrom, Henri Richard, Dick\\n>Duff...and so on...\\\" demonstrates a blanket disregard for these\\n>individuals as contributors to the game...so yes, settle\\n>down...nobody has claimed that they are hockey gods.\\n\\nTarasov claimed that Gainey was a \\\"hockey god.\\\"  And Greg ate it up.\\nAnd that is what this thread is all about.  If you didn't know \\nthat then why are you responding?\\n\\nAnd as for \\\"blanket disregard for these individuals\\\", I can remember \\nLeaf teams, purely populated by such \\\"individuals\\\", winning four \\nStanley Cups.  Teams.  No one ran around telling us that George\\nArmstrong was the best hockey player in the world.\\n\\n>>>congenially, as always,\\n>>> \\n>>>jd\\n>>> \\n>>>--\\n>>>James David\\n>>>david@student.business.uwo.ca\\n> \\n>>You might consider developing your own style.  After all,\\n>>imitation is  the sincerest form of flattery and I am quite sure\\n>>that flattery is not  your intention.\\n> \\n>C'mon...it has a nice ring to it...and admit it, you had a good\\n>laugh.\\n\\nRight.  I had to get to the end of your posting before I realized you were \\na complete joke.\\n\\nIn the future, if you are going to respond to my postings I would appreciate\\nit if you could present a cogent argument supported by facts gleaned from a\\nversion of reality that most of the rest of us would recognize.\\n\\ncordially, as always, \\n\\nrm\\n\\n-- \\nRoger Maynard \\nmaynard@ramsey.cs.laurentian.ca \\n\"\n        ],\n        \"semantic_type\": \"\",\n        \"description\": \"\"\n      }\n    },\n    {\n      \"column\": \"category_name\",\n      \"properties\": {\n        \"dtype\": \"string\",\n        \"num_unique_values\": 1,\n        \"samples\": [\n          \"rec\"\n        ],\n        \"semantic_type\": \"\",\n        \"description\": \"\"\n      }\n    },\n    {\n      \"column\": \"true_label_original\",\n      \"properties\": {\n        \"dtype\": \"string\",\n        \"num_unique_values\": 1,\n        \"samples\": [\n          \"rec.sport.hockey\"\n        ],\n        \"semantic_type\": \"\",\n        \"description\": \"\"\n      }\n    },\n    {\n      \"column\": \"article_id\",\n      \"properties\": {\n        \"dtype\": \"string\",\n        \"num_unique_values\": 1,\n        \"samples\": [\n          \"53696\"\n        ],\n        \"semantic_type\": \"\",\n        \"description\": \"\"\n      }\n    },\n    {\n      \"column\": \"category\",\n      \"properties\": {\n        \"dtype\": \"number\",\n        \"std\": null,\n        \"min\": 1,\n        \"max\": 1,\n        \"num_unique_values\": 1,\n        \"samples\": [\n          1\n        ],\n        \"semantic_type\": \"\",\n        \"description\": \"\"\n      }\n    }\n  ]\n}"
            }
          },
          "metadata": {}
        }
      ]
    },
    {
      "cell_type": "code",
      "source": [
        "# create a ownlibrary and create methods into it for resuse"
      ],
      "metadata": {
        "id": "HJ0Jbd5myYSd"
      },
      "execution_count": null,
      "outputs": []
    },
    {
      "cell_type": "code",
      "source": [
        "%%writefile utils.py\n",
        "# utility functions for text preprocessing\n",
        "\n",
        "import nltk\n",
        "from nltk.tokenize import word_tokenize\n",
        "from nltk.corpus import stopwords\n",
        "from nltk.stem import WordNetLemmatizer\n",
        "\n",
        "import string\n",
        "import numpy as np\n",
        "\n",
        "# create a function to lowercase, remove punctuations,tokenize , remove stopwords and lemmatization\n",
        "def preprocess_text(text):\n",
        "\n",
        "    # lowercase\n",
        "    text = text.lower()\n",
        "\n",
        "    # remove punctuations\n",
        "    text = text.translate(str.maketrans('','',string.punctuation))\n",
        "\n",
        "    # tokenize\n",
        "    tokens = word_tokenize(text)\n",
        "\n",
        "    # remove stopwords\n",
        "    stop_words = set(stopwords.words('english'))\n",
        "    tokens = [word for word in tokens if word not in stop_words]\n",
        "\n",
        "    #leammatize\n",
        "    lemmatizer = WordNetLemmatizer()\n",
        "    tokens = [lemmatizer.lemmatize(word) for word in tokens]\n",
        "\n",
        "    return ' '.join(tokens)\n",
        "\n",
        "def get_word2vec_embeddings(tokens, model):\n",
        "    \"\"\"\n",
        "    Generate Word2Vec embeddings for a list of tokens.\"\"\"\n",
        "\n",
        "    vectors = [model.wv[word] for word in tokens if word in model.wv]\n",
        "    return np.mean(vectors, axis=0) if vectors else np.zeros(model.vector_size)"
      ],
      "metadata": {
        "colab": {
          "base_uri": "https://localhost:8080/"
        },
        "id": "LUKhuAX1yCK-",
        "outputId": "b420b2bc-6dd3-41cf-eecf-77555702083a"
      },
      "execution_count": null,
      "outputs": [
        {
          "output_type": "stream",
          "name": "stdout",
          "text": [
            "Overwriting utils.py\n"
          ]
        }
      ]
    },
    {
      "cell_type": "code",
      "source": [
        "nltk.download('punkt_tab')"
      ],
      "metadata": {
        "colab": {
          "base_uri": "https://localhost:8080/"
        },
        "id": "3kCmD9Bx09dj",
        "outputId": "fa156437-362b-4e9b-942d-955adf21feb1"
      },
      "execution_count": null,
      "outputs": [
        {
          "output_type": "stream",
          "name": "stderr",
          "text": [
            "[nltk_data] Downloading package punkt_tab to /root/nltk_data...\n",
            "[nltk_data]   Package punkt_tab is already up-to-date!\n"
          ]
        },
        {
          "output_type": "execute_result",
          "data": {
            "text/plain": [
              "True"
            ]
          },
          "metadata": {},
          "execution_count": 50
        }
      ]
    },
    {
      "cell_type": "code",
      "source": [
        "#from utils import preprocess_text\n",
        "from utils import preprocess_text , get_word2vec_embeddings"
      ],
      "metadata": {
        "id": "n8SG3wd50bt_"
      },
      "execution_count": null,
      "outputs": []
    },
    {
      "cell_type": "code",
      "source": [
        "data['claened_text'] = data['text'].apply(preprocess_text)"
      ],
      "metadata": {
        "id": "kGHj9Jeq0wDV"
      },
      "execution_count": null,
      "outputs": []
    },
    {
      "cell_type": "code",
      "source": [
        "display(data.head(2))"
      ],
      "metadata": {
        "colab": {
          "base_uri": "https://localhost:8080/",
          "height": 184
        },
        "id": "IePUX8F80yxL",
        "outputId": "d446b3a2-f195-4eb5-89b4-808a346b5466"
      },
      "execution_count": null,
      "outputs": [
        {
          "output_type": "display_data",
          "data": {
            "text/plain": [
              "                                                   text category_name  \\\n",
              "6347  From: maynard@ramsey.cs.laurentian.ca (Roger M...           rec   \n",
              "4879  From: James Leo Belliveau <jbc9+@andrew.cmu.ed...           rec   \n",
              "\n",
              "     true_label_original article_id  category  \\\n",
              "6347    rec.sport.hockey      53696         1   \n",
              "4879     rec.motorcycles     104667         1   \n",
              "\n",
              "                                           claened_text  \n",
              "6347  maynardramseycslaurentianca roger maynard subj...  \n",
              "4879  james leo belliveau jbc9andrewcmuedu subject f...  "
            ],
            "text/html": [
              "\n",
              "  <div id=\"df-b23090d3-dcf3-4d5d-8b2d-c07f96359ed4\" class=\"colab-df-container\">\n",
              "    <div>\n",
              "<style scoped>\n",
              "    .dataframe tbody tr th:only-of-type {\n",
              "        vertical-align: middle;\n",
              "    }\n",
              "\n",
              "    .dataframe tbody tr th {\n",
              "        vertical-align: top;\n",
              "    }\n",
              "\n",
              "    .dataframe thead th {\n",
              "        text-align: right;\n",
              "    }\n",
              "</style>\n",
              "<table border=\"1\" class=\"dataframe\">\n",
              "  <thead>\n",
              "    <tr style=\"text-align: right;\">\n",
              "      <th></th>\n",
              "      <th>text</th>\n",
              "      <th>category_name</th>\n",
              "      <th>true_label_original</th>\n",
              "      <th>article_id</th>\n",
              "      <th>category</th>\n",
              "      <th>claened_text</th>\n",
              "    </tr>\n",
              "  </thead>\n",
              "  <tbody>\n",
              "    <tr>\n",
              "      <th>6347</th>\n",
              "      <td>From: maynard@ramsey.cs.laurentian.ca (Roger M...</td>\n",
              "      <td>rec</td>\n",
              "      <td>rec.sport.hockey</td>\n",
              "      <td>53696</td>\n",
              "      <td>1</td>\n",
              "      <td>maynardramseycslaurentianca roger maynard subj...</td>\n",
              "    </tr>\n",
              "    <tr>\n",
              "      <th>4879</th>\n",
              "      <td>From: James Leo Belliveau &lt;jbc9+@andrew.cmu.ed...</td>\n",
              "      <td>rec</td>\n",
              "      <td>rec.motorcycles</td>\n",
              "      <td>104667</td>\n",
              "      <td>1</td>\n",
              "      <td>james leo belliveau jbc9andrewcmuedu subject f...</td>\n",
              "    </tr>\n",
              "  </tbody>\n",
              "</table>\n",
              "</div>\n",
              "    <div class=\"colab-df-buttons\">\n",
              "\n",
              "  <div class=\"colab-df-container\">\n",
              "    <button class=\"colab-df-convert\" onclick=\"convertToInteractive('df-b23090d3-dcf3-4d5d-8b2d-c07f96359ed4')\"\n",
              "            title=\"Convert this dataframe to an interactive table.\"\n",
              "            style=\"display:none;\">\n",
              "\n",
              "  <svg xmlns=\"http://www.w3.org/2000/svg\" height=\"24px\" viewBox=\"0 -960 960 960\">\n",
              "    <path d=\"M120-120v-720h720v720H120Zm60-500h600v-160H180v160Zm220 220h160v-160H400v160Zm0 220h160v-160H400v160ZM180-400h160v-160H180v160Zm440 0h160v-160H620v160ZM180-180h160v-160H180v160Zm440 0h160v-160H620v160Z\"/>\n",
              "  </svg>\n",
              "    </button>\n",
              "\n",
              "  <style>\n",
              "    .colab-df-container {\n",
              "      display:flex;\n",
              "      gap: 12px;\n",
              "    }\n",
              "\n",
              "    .colab-df-convert {\n",
              "      background-color: #E8F0FE;\n",
              "      border: none;\n",
              "      border-radius: 50%;\n",
              "      cursor: pointer;\n",
              "      display: none;\n",
              "      fill: #1967D2;\n",
              "      height: 32px;\n",
              "      padding: 0 0 0 0;\n",
              "      width: 32px;\n",
              "    }\n",
              "\n",
              "    .colab-df-convert:hover {\n",
              "      background-color: #E2EBFA;\n",
              "      box-shadow: 0px 1px 2px rgba(60, 64, 67, 0.3), 0px 1px 3px 1px rgba(60, 64, 67, 0.15);\n",
              "      fill: #174EA6;\n",
              "    }\n",
              "\n",
              "    .colab-df-buttons div {\n",
              "      margin-bottom: 4px;\n",
              "    }\n",
              "\n",
              "    [theme=dark] .colab-df-convert {\n",
              "      background-color: #3B4455;\n",
              "      fill: #D2E3FC;\n",
              "    }\n",
              "\n",
              "    [theme=dark] .colab-df-convert:hover {\n",
              "      background-color: #434B5C;\n",
              "      box-shadow: 0px 1px 3px 1px rgba(0, 0, 0, 0.15);\n",
              "      filter: drop-shadow(0px 1px 2px rgba(0, 0, 0, 0.3));\n",
              "      fill: #FFFFFF;\n",
              "    }\n",
              "  </style>\n",
              "\n",
              "    <script>\n",
              "      const buttonEl =\n",
              "        document.querySelector('#df-b23090d3-dcf3-4d5d-8b2d-c07f96359ed4 button.colab-df-convert');\n",
              "      buttonEl.style.display =\n",
              "        google.colab.kernel.accessAllowed ? 'block' : 'none';\n",
              "\n",
              "      async function convertToInteractive(key) {\n",
              "        const element = document.querySelector('#df-b23090d3-dcf3-4d5d-8b2d-c07f96359ed4');\n",
              "        const dataTable =\n",
              "          await google.colab.kernel.invokeFunction('convertToInteractive',\n",
              "                                                    [key], {});\n",
              "        if (!dataTable) return;\n",
              "\n",
              "        const docLinkHtml = 'Like what you see? Visit the ' +\n",
              "          '<a target=\"_blank\" href=https://colab.research.google.com/notebooks/data_table.ipynb>data table notebook</a>'\n",
              "          + ' to learn more about interactive tables.';\n",
              "        element.innerHTML = '';\n",
              "        dataTable['output_type'] = 'display_data';\n",
              "        await google.colab.output.renderOutput(dataTable, element);\n",
              "        const docLink = document.createElement('div');\n",
              "        docLink.innerHTML = docLinkHtml;\n",
              "        element.appendChild(docLink);\n",
              "      }\n",
              "    </script>\n",
              "  </div>\n",
              "\n",
              "\n",
              "    <div id=\"df-70526ecf-a5bb-469a-9eef-5cbd4c8af7ac\">\n",
              "      <button class=\"colab-df-quickchart\" onclick=\"quickchart('df-70526ecf-a5bb-469a-9eef-5cbd4c8af7ac')\"\n",
              "                title=\"Suggest charts\"\n",
              "                style=\"display:none;\">\n",
              "\n",
              "<svg xmlns=\"http://www.w3.org/2000/svg\" height=\"24px\"viewBox=\"0 0 24 24\"\n",
              "     width=\"24px\">\n",
              "    <g>\n",
              "        <path d=\"M19 3H5c-1.1 0-2 .9-2 2v14c0 1.1.9 2 2 2h14c1.1 0 2-.9 2-2V5c0-1.1-.9-2-2-2zM9 17H7v-7h2v7zm4 0h-2V7h2v10zm4 0h-2v-4h2v4z\"/>\n",
              "    </g>\n",
              "</svg>\n",
              "      </button>\n",
              "\n",
              "<style>\n",
              "  .colab-df-quickchart {\n",
              "      --bg-color: #E8F0FE;\n",
              "      --fill-color: #1967D2;\n",
              "      --hover-bg-color: #E2EBFA;\n",
              "      --hover-fill-color: #174EA6;\n",
              "      --disabled-fill-color: #AAA;\n",
              "      --disabled-bg-color: #DDD;\n",
              "  }\n",
              "\n",
              "  [theme=dark] .colab-df-quickchart {\n",
              "      --bg-color: #3B4455;\n",
              "      --fill-color: #D2E3FC;\n",
              "      --hover-bg-color: #434B5C;\n",
              "      --hover-fill-color: #FFFFFF;\n",
              "      --disabled-bg-color: #3B4455;\n",
              "      --disabled-fill-color: #666;\n",
              "  }\n",
              "\n",
              "  .colab-df-quickchart {\n",
              "    background-color: var(--bg-color);\n",
              "    border: none;\n",
              "    border-radius: 50%;\n",
              "    cursor: pointer;\n",
              "    display: none;\n",
              "    fill: var(--fill-color);\n",
              "    height: 32px;\n",
              "    padding: 0;\n",
              "    width: 32px;\n",
              "  }\n",
              "\n",
              "  .colab-df-quickchart:hover {\n",
              "    background-color: var(--hover-bg-color);\n",
              "    box-shadow: 0 1px 2px rgba(60, 64, 67, 0.3), 0 1px 3px 1px rgba(60, 64, 67, 0.15);\n",
              "    fill: var(--button-hover-fill-color);\n",
              "  }\n",
              "\n",
              "  .colab-df-quickchart-complete:disabled,\n",
              "  .colab-df-quickchart-complete:disabled:hover {\n",
              "    background-color: var(--disabled-bg-color);\n",
              "    fill: var(--disabled-fill-color);\n",
              "    box-shadow: none;\n",
              "  }\n",
              "\n",
              "  .colab-df-spinner {\n",
              "    border: 2px solid var(--fill-color);\n",
              "    border-color: transparent;\n",
              "    border-bottom-color: var(--fill-color);\n",
              "    animation:\n",
              "      spin 1s steps(1) infinite;\n",
              "  }\n",
              "\n",
              "  @keyframes spin {\n",
              "    0% {\n",
              "      border-color: transparent;\n",
              "      border-bottom-color: var(--fill-color);\n",
              "      border-left-color: var(--fill-color);\n",
              "    }\n",
              "    20% {\n",
              "      border-color: transparent;\n",
              "      border-left-color: var(--fill-color);\n",
              "      border-top-color: var(--fill-color);\n",
              "    }\n",
              "    30% {\n",
              "      border-color: transparent;\n",
              "      border-left-color: var(--fill-color);\n",
              "      border-top-color: var(--fill-color);\n",
              "      border-right-color: var(--fill-color);\n",
              "    }\n",
              "    40% {\n",
              "      border-color: transparent;\n",
              "      border-right-color: var(--fill-color);\n",
              "      border-top-color: var(--fill-color);\n",
              "    }\n",
              "    60% {\n",
              "      border-color: transparent;\n",
              "      border-right-color: var(--fill-color);\n",
              "    }\n",
              "    80% {\n",
              "      border-color: transparent;\n",
              "      border-right-color: var(--fill-color);\n",
              "      border-bottom-color: var(--fill-color);\n",
              "    }\n",
              "    90% {\n",
              "      border-color: transparent;\n",
              "      border-bottom-color: var(--fill-color);\n",
              "    }\n",
              "  }\n",
              "</style>\n",
              "\n",
              "      <script>\n",
              "        async function quickchart(key) {\n",
              "          const quickchartButtonEl =\n",
              "            document.querySelector('#' + key + ' button');\n",
              "          quickchartButtonEl.disabled = true;  // To prevent multiple clicks.\n",
              "          quickchartButtonEl.classList.add('colab-df-spinner');\n",
              "          try {\n",
              "            const charts = await google.colab.kernel.invokeFunction(\n",
              "                'suggestCharts', [key], {});\n",
              "          } catch (error) {\n",
              "            console.error('Error during call to suggestCharts:', error);\n",
              "          }\n",
              "          quickchartButtonEl.classList.remove('colab-df-spinner');\n",
              "          quickchartButtonEl.classList.add('colab-df-quickchart-complete');\n",
              "        }\n",
              "        (() => {\n",
              "          let quickchartButtonEl =\n",
              "            document.querySelector('#df-70526ecf-a5bb-469a-9eef-5cbd4c8af7ac button');\n",
              "          quickchartButtonEl.style.display =\n",
              "            google.colab.kernel.accessAllowed ? 'block' : 'none';\n",
              "        })();\n",
              "      </script>\n",
              "    </div>\n",
              "\n",
              "    </div>\n",
              "  </div>\n"
            ],
            "application/vnd.google.colaboratory.intrinsic+json": {
              "type": "dataframe",
              "summary": "{\n  \"name\": \"display(data\",\n  \"rows\": 2,\n  \"fields\": [\n    {\n      \"column\": \"text\",\n      \"properties\": {\n        \"dtype\": \"string\",\n        \"num_unique_values\": 2,\n        \"samples\": [\n          \"From: James Leo Belliveau <jbc9+@andrew.cmu.edu>\\nSubject: First Bike??\\nOrganization: Freshman, Mechanical Engineering, Carnegie Mellon, Pittsburgh, PA\\nLines: 17\\nNNTP-Posting-Host: po2.andrew.cmu.edu\\n\\n Anyone, \\n\\n    I am a serious motorcycle enthusiast without a motorcycle, and to\\nput it bluntly, it sucks.  I really would like some advice on what would\\nbe a good starter bike for me.  I do know one thing however, I need to\\nmake my first bike a good one, because buying a second any time soon is\\nout of the question.  I am specifically interested in racing bikes, (CBR\\n600 F2, GSX-R 750).  I know that this may sound kind of crazy\\nconsidering that I've never had a bike before, but I am responsible, a\\nfast learner, and in love.  Please give me any advice that you think\\nwould help me in my search, including places to look or even specific\\nbikes that you want to sell me.\\n\\n    Thanks  :-)\\n\\n    Jamie Belliveau (jbc9@andrew.cmu.edu)  \\n\\n\",\n          \"From: maynard@ramsey.cs.laurentian.ca (Roger Maynard)\\nSubject: Re: Plus minus stat\\nOrganization: Dept. of Computer Science, Laurentian University, Sudbury, ON\\nLines: 130\\n\\nIn <VFq32B2w165w@sms.business.uwo.ca> j3david@sms.business.uwo.ca (James David) writes:\\n\\n>>If Gilmour was taken completely by surprise, as Gainey was, then\\n>>yeah, I would have to say that Doug wasn't playing\\n>>\\\"technically\\\" smart  hockey.  In any case, to claim as Greg did,\\n>>that Gainey *never* made  a technical mistake is absolutely\\n>>ludicrous.\\n> \\n>Later on, in your posting, you make reference to \\\"putting words\\n>into other people's mouths\\\"...I would suggest that your last\\n>paragraph can only be interpreted in one way...namely, that I,\\n>along with Greg, claim that Gainey never made a technical\\n>mistake.  If you actually read what I've written, you will find\\n>that I make no such claim...soooo, if logic serves me well,\\n>you're contradicting yourself.\\n\\nNonsense.  I quite clearly state that it was Greg that made the claim\\nthat Gainey never made an error.  And he made the claim. Read below.\\n\\nFrom rec.sport.hockey Thu Apr 15 21:22:49 1993\\nFrom: gballent@hudson.UVic.CA (Greg  Ballentine)\\nMessage-ID: <1993Apr15.160450.27799@sol.UVic.CA>\\n\\n[nonsense deleted]\\n\\nGainey is the best defensive forward ever.  I stand by that assessment.\\nHe was a very good player who belongs in the hall of fame.  Did you\\never watch him play? He never made a technical error.\\n\\n[more nonsense deleted]\\n\\n>>Good for you.  You'd only be displaying your ignorance of\\n>>course, but to each his own...\\n> \\n>Roger, I'm not sure here, but I think \\\"ignorance\\\" is really a\\n>function of \\\"a lack of knowledge\\\" and not \\\"formulating an\\n>opinion\\\"...but hey, if you need to take a cheap shot, then by all\\n>means go ahead...that's if it makes you feel better.\\n\\nTo knowledgeable observers of the game my meaning is obvious.  Your\\nhockey education is not my responsibility.\\n \\n>My word, such vehemence against poor ol' Bob Gainey.  Why does\\n>he bother you so much...he was an effective player for his style\\n>of play.\\n\\nHe was just another player.  To laud him as anything more I find\\nbothersome.  I hated the Habs.  I hated Lafleur until I realized\\nthat he was likely the most aesthetically pleasing player to ever \\nskate in my lifetime.  Why would anyone talk about Gainey?\\n  \\n>>go  around.  Who would you rather have as your \\\"checking\\\"\\n>>centre?  Doug Gilmour or Doug Jarvis?  For that matter I would\\n>>take either Gretzky or Mario as my \\\"checking\\\" centres.  Do you\\n>>think Gretzky could cover Bob Gainey?\\n\\n>I'm really sorry Roger, but you have lost me completely here. \\n>Why don't you ask me if I would rather have Jesus Christ,\\n>himself, in nets?\\n\\nDid he play hockey at a high level?  Was he any good?  If not, why\\nwould you bother to bring JC up?  I am talking about hockey players\\nhere.  If you can't follow the conversation don't follow up.  As I\\nsaid previously, it is not my responsibility to educate you.\\n\\n>Now, if you were to compare, say for example, Bob Gainey with Guy\\n>Carbonneau, you would have a balanced comparison.\\n\\nSure.  Two journeymen.  Big deal.  Neither one of them is worth\\ndiscussing.\\n\\n>I'm wrong AGAIN...hmmm, let's see...where was I wrong in the\\n\\n>>>I would take Fuhr and Sanderson off of the latter.\\n\\n>first place?  I'm only guessing here, Rog, but I have a feeling\\n>that you've setup a \\\"You're wrong again\\\" macro key on your\\n>machine.\\n\\nThat is an excellent idea and if I decide to waste any more time\\nresponding to any of your, or Greg's, postings then I will be sure\\nto implement that very macro.\\n \\n>I would suggest that your comment: \\\"And when the press runs out\\n>of things to say about  the stars on dynasties they start to hype\\n>the pluggers.  Grant Fuhr, Essa Tikkannen, Butch Goring, Bob\\n>Nystrom, Bob Gainey, Doug Jarvis, Derek Sanderson, Wayne Cashman,\\n>Bob Baun, Bob Pulford, Ralph Backstrom, Henri Richard, Dick\\n>Duff...and so on...\\\" demonstrates a blanket disregard for these\\n>individuals as contributors to the game...so yes, settle\\n>down...nobody has claimed that they are hockey gods.\\n\\nTarasov claimed that Gainey was a \\\"hockey god.\\\"  And Greg ate it up.\\nAnd that is what this thread is all about.  If you didn't know \\nthat then why are you responding?\\n\\nAnd as for \\\"blanket disregard for these individuals\\\", I can remember \\nLeaf teams, purely populated by such \\\"individuals\\\", winning four \\nStanley Cups.  Teams.  No one ran around telling us that George\\nArmstrong was the best hockey player in the world.\\n\\n>>>congenially, as always,\\n>>> \\n>>>jd\\n>>> \\n>>>--\\n>>>James David\\n>>>david@student.business.uwo.ca\\n> \\n>>You might consider developing your own style.  After all,\\n>>imitation is  the sincerest form of flattery and I am quite sure\\n>>that flattery is not  your intention.\\n> \\n>C'mon...it has a nice ring to it...and admit it, you had a good\\n>laugh.\\n\\nRight.  I had to get to the end of your posting before I realized you were \\na complete joke.\\n\\nIn the future, if you are going to respond to my postings I would appreciate\\nit if you could present a cogent argument supported by facts gleaned from a\\nversion of reality that most of the rest of us would recognize.\\n\\ncordially, as always, \\n\\nrm\\n\\n-- \\nRoger Maynard \\nmaynard@ramsey.cs.laurentian.ca \\n\"\n        ],\n        \"semantic_type\": \"\",\n        \"description\": \"\"\n      }\n    },\n    {\n      \"column\": \"category_name\",\n      \"properties\": {\n        \"dtype\": \"string\",\n        \"num_unique_values\": 1,\n        \"samples\": [\n          \"rec\"\n        ],\n        \"semantic_type\": \"\",\n        \"description\": \"\"\n      }\n    },\n    {\n      \"column\": \"true_label_original\",\n      \"properties\": {\n        \"dtype\": \"string\",\n        \"num_unique_values\": 2,\n        \"samples\": [\n          \"rec.motorcycles\"\n        ],\n        \"semantic_type\": \"\",\n        \"description\": \"\"\n      }\n    },\n    {\n      \"column\": \"article_id\",\n      \"properties\": {\n        \"dtype\": \"string\",\n        \"num_unique_values\": 2,\n        \"samples\": [\n          \"104667\"\n        ],\n        \"semantic_type\": \"\",\n        \"description\": \"\"\n      }\n    },\n    {\n      \"column\": \"category\",\n      \"properties\": {\n        \"dtype\": \"number\",\n        \"std\": 0,\n        \"min\": 1,\n        \"max\": 1,\n        \"num_unique_values\": 1,\n        \"samples\": [\n          1\n        ],\n        \"semantic_type\": \"\",\n        \"description\": \"\"\n      }\n    },\n    {\n      \"column\": \"claened_text\",\n      \"properties\": {\n        \"dtype\": \"string\",\n        \"num_unique_values\": 2,\n        \"samples\": [\n          \"james leo belliveau jbc9andrewcmuedu subject first bike organization freshman mechanical engineering carnegie mellon pittsburgh pa line 17 nntppostinghost po2andrewcmuedu anyone serious motorcycle enthusiast without motorcycle put bluntly suck really would like advice would good starter bike know one thing however need make first bike good one buying second time soon question specifically interested racing bike cbr 600 f2 gsxr 750 know may sound kind crazy considering ive never bike responsible fast learner love please give advice think would help search including place look even specific bike want sell thanks jamie belliveau jbc9andrewcmuedu\"\n        ],\n        \"semantic_type\": \"\",\n        \"description\": \"\"\n      }\n    }\n  ]\n}"
            }
          },
          "metadata": {}
        }
      ]
    },
    {
      "cell_type": "code",
      "source": [
        "#data.rename(columns={'claened_text':'cleaned_text'},inplace=True)"
      ],
      "metadata": {
        "id": "xUkHa1GF55Ci"
      },
      "execution_count": null,
      "outputs": []
    },
    {
      "cell_type": "code",
      "source": [
        "# save preprocessed data\n",
        "data.to_csv('preprocessed_data.csv',index=False)\n",
        "print('preprocessed data saved')"
      ],
      "metadata": {
        "colab": {
          "base_uri": "https://localhost:8080/"
        },
        "id": "XoLc3R2g2b9Q",
        "outputId": "f9273f41-c5f9-4bb2-c9a9-a19ba9fb0010"
      },
      "execution_count": null,
      "outputs": [
        {
          "output_type": "stream",
          "name": "stdout",
          "text": [
            "preprocessed data saved\n"
          ]
        }
      ]
    },
    {
      "cell_type": "code",
      "source": [
        "# to clear the modules and use it before recreation\n",
        "'''\n",
        "import sys\n",
        "del sys.modules[\"utils\"]\n",
        "'''\n",
        "\n",
        "import sys\n",
        "# Check if 'utils' module is already in the loaded modules\n",
        "if 'utils' in sys.modules:\n",
        "  del sys.modules['utils']"
      ],
      "metadata": {
        "id": "KNFvvji433SQ"
      },
      "execution_count": null,
      "outputs": []
    },
    {
      "cell_type": "code",
      "source": [
        "# test the function\n",
        "preprocess_text('abc!@##$%#$%')"
      ],
      "metadata": {
        "colab": {
          "base_uri": "https://localhost:8080/",
          "height": 35
        },
        "id": "tnGINm2c39fd",
        "outputId": "3117b4cf-d1af-4498-c3b4-fec46276f161"
      },
      "execution_count": null,
      "outputs": [
        {
          "output_type": "execute_result",
          "data": {
            "text/plain": [
              "'abc'"
            ],
            "application/vnd.google.colaboratory.intrinsic+json": {
              "type": "string"
            }
          },
          "metadata": {},
          "execution_count": 57
        }
      ]
    },
    {
      "cell_type": "code",
      "source": [
        "# create vectors - to convert text into numerics\n",
        "\n",
        "tfidf_vectorizer = TfidfVectorizer(max_features=1000, stop_words='english')\n",
        "X_tfidf = tfidf_vectorizer.fit_transform(data['claened_text'])\n",
        "\n",
        "X_tfidf.shape"
      ],
      "metadata": {
        "colab": {
          "base_uri": "https://localhost:8080/"
        },
        "id": "4pfhfVox4DhU",
        "outputId": "7b149287-02b3-456b-dd05-f4e1c86aa68a"
      },
      "execution_count": null,
      "outputs": [
        {
          "output_type": "execute_result",
          "data": {
            "text/plain": [
              "(3769, 1000)"
            ]
          },
          "metadata": {},
          "execution_count": 58
        }
      ]
    },
    {
      "cell_type": "code",
      "source": [
        "X_tfidf"
      ],
      "metadata": {
        "colab": {
          "base_uri": "https://localhost:8080/"
        },
        "id": "WKAtuq2c6Jut",
        "outputId": "89f6907a-4016-4e01-d1ac-9b4be87dd6f2"
      },
      "execution_count": null,
      "outputs": [
        {
          "output_type": "execute_result",
          "data": {
            "text/plain": [
              "<3769x1000 sparse matrix of type '<class 'numpy.float64'>'\n",
              "\twith 169907 stored elements in Compressed Sparse Row format>"
            ]
          },
          "metadata": {},
          "execution_count": 59
        }
      ]
    },
    {
      "cell_type": "code",
      "source": [
        "X_tfidf[:1, :1000].toarray()"
      ],
      "metadata": {
        "colab": {
          "base_uri": "https://localhost:8080/"
        },
        "id": "CluO84-P6OvJ",
        "outputId": "6a90039f-8162-45da-e32a-e966e5bccdf1"
      },
      "execution_count": null,
      "outputs": [
        {
          "output_type": "execute_result",
          "data": {
            "text/plain": [
              "array([[0.        , 0.        , 0.        , 0.        , 0.        ,\n",
              "        0.        , 0.        , 0.04008352, 0.        , 0.        ,\n",
              "        0.        , 0.        , 0.        , 0.        , 0.        ,\n",
              "        0.04057648, 0.        , 0.        , 0.        , 0.        ,\n",
              "        0.        , 0.        , 0.        , 0.        , 0.        ,\n",
              "        0.        , 0.        , 0.        , 0.        , 0.        ,\n",
              "        0.        , 0.        , 0.        , 0.        , 0.        ,\n",
              "        0.        , 0.        , 0.        , 0.        , 0.        ,\n",
              "        0.        , 0.        , 0.        , 0.        , 0.        ,\n",
              "        0.        , 0.        , 0.        , 0.        , 0.        ,\n",
              "        0.        , 0.        , 0.        , 0.        , 0.        ,\n",
              "        0.        , 0.        , 0.03764108, 0.        , 0.        ,\n",
              "        0.        , 0.        , 0.        , 0.        , 0.        ,\n",
              "        0.        , 0.        , 0.        , 0.        , 0.        ,\n",
              "        0.        , 0.        , 0.        , 0.        , 0.        ,\n",
              "        0.        , 0.        , 0.        , 0.        , 0.        ,\n",
              "        0.        , 0.        , 0.        , 0.        , 0.        ,\n",
              "        0.        , 0.        , 0.        , 0.        , 0.        ,\n",
              "        0.        , 0.        , 0.        , 0.        , 0.        ,\n",
              "        0.        , 0.04316724, 0.        , 0.        , 0.        ,\n",
              "        0.        , 0.04572175, 0.        , 0.        , 0.        ,\n",
              "        0.        , 0.        , 0.        , 0.04239858, 0.        ,\n",
              "        0.        , 0.        , 0.        , 0.        , 0.        ,\n",
              "        0.        , 0.        , 0.        , 0.        , 0.        ,\n",
              "        0.        , 0.        , 0.        , 0.        , 0.        ,\n",
              "        0.        , 0.        , 0.        , 0.        , 0.        ,\n",
              "        0.        , 0.        , 0.        , 0.        , 0.07606968,\n",
              "        0.03594078, 0.        , 0.04210544, 0.        , 0.        ,\n",
              "        0.        , 0.        , 0.        , 0.        , 0.        ,\n",
              "        0.3658688 , 0.        , 0.        , 0.        , 0.        ,\n",
              "        0.        , 0.        , 0.        , 0.05263463, 0.        ,\n",
              "        0.        , 0.        , 0.        , 0.        , 0.        ,\n",
              "        0.        , 0.        , 0.        , 0.        , 0.        ,\n",
              "        0.        , 0.        , 0.        , 0.        , 0.        ,\n",
              "        0.        , 0.03524409, 0.        , 0.        , 0.        ,\n",
              "        0.        , 0.        , 0.        , 0.        , 0.        ,\n",
              "        0.        , 0.        , 0.        , 0.        , 0.05168007,\n",
              "        0.        , 0.        , 0.        , 0.        , 0.        ,\n",
              "        0.        , 0.05168007, 0.        , 0.        , 0.        ,\n",
              "        0.        , 0.        , 0.17100266, 0.        , 0.        ,\n",
              "        0.04998691, 0.        , 0.        , 0.        , 0.        ,\n",
              "        0.        , 0.        , 0.        , 0.        , 0.        ,\n",
              "        0.        , 0.04585617, 0.        , 0.        , 0.        ,\n",
              "        0.        , 0.        , 0.05367915, 0.10181466, 0.        ,\n",
              "        0.03270214, 0.        , 0.        , 0.        , 0.        ,\n",
              "        0.04691991, 0.        , 0.        , 0.        , 0.        ,\n",
              "        0.        , 0.        , 0.        , 0.        , 0.        ,\n",
              "        0.        , 0.        , 0.        , 0.        , 0.        ,\n",
              "        0.        , 0.03751287, 0.        , 0.05340865, 0.        ,\n",
              "        0.        , 0.        , 0.05629154, 0.        , 0.        ,\n",
              "        0.        , 0.        , 0.        , 0.        , 0.        ,\n",
              "        0.07600297, 0.        , 0.        , 0.        , 0.0462695 ,\n",
              "        0.        , 0.        , 0.        , 0.        , 0.        ,\n",
              "        0.        , 0.09669544, 0.        , 0.04399316, 0.        ,\n",
              "        0.        , 0.        , 0.        , 0.03823709, 0.        ,\n",
              "        0.        , 0.        , 0.        , 0.        , 0.        ,\n",
              "        0.        , 0.        , 0.        , 0.        , 0.        ,\n",
              "        0.        , 0.        , 0.        , 0.        , 0.        ,\n",
              "        0.        , 0.        , 0.        , 0.04917963, 0.        ,\n",
              "        0.        , 0.        , 0.        , 0.        , 0.        ,\n",
              "        0.        , 0.        , 0.        , 0.        , 0.        ,\n",
              "        0.        , 0.        , 0.05514045, 0.        , 0.        ,\n",
              "        0.        , 0.        , 0.03965011, 0.        , 0.        ,\n",
              "        0.        , 0.        , 0.        , 0.        , 0.        ,\n",
              "        0.10036989, 0.        , 0.        , 0.        , 0.        ,\n",
              "        0.04135962, 0.05191112, 0.        , 0.        , 0.        ,\n",
              "        0.        , 0.        , 0.        , 0.        , 0.        ,\n",
              "        0.        , 0.03605196, 0.        , 0.        , 0.        ,\n",
              "        0.        , 0.        , 0.        , 0.        , 0.        ,\n",
              "        0.        , 0.        , 0.        , 0.        , 0.        ,\n",
              "        0.        , 0.04316724, 0.        , 0.        , 0.        ,\n",
              "        0.        , 0.        , 0.        , 0.        , 0.        ,\n",
              "        0.        , 0.10382223, 0.        , 0.        , 0.        ,\n",
              "        0.        , 0.04655387, 0.        , 0.        , 0.        ,\n",
              "        0.        , 0.        , 0.        , 0.05168007, 0.05008548,\n",
              "        0.03988441, 0.        , 0.        , 0.        , 0.        ,\n",
              "        0.        , 0.        , 0.        , 0.        , 0.        ,\n",
              "        0.        , 0.        , 0.        , 0.        , 0.        ,\n",
              "        0.08123713, 0.03458859, 0.        , 0.11598916, 0.        ,\n",
              "        0.        , 0.        , 0.        , 0.        , 0.        ,\n",
              "        0.        , 0.28691615, 0.        , 0.        , 0.        ,\n",
              "        0.        , 0.04306162, 0.        , 0.        , 0.        ,\n",
              "        0.        , 0.        , 0.        , 0.        , 0.        ,\n",
              "        0.        , 0.        , 0.        , 0.        , 0.        ,\n",
              "        0.        , 0.        , 0.        , 0.        , 0.        ,\n",
              "        0.04131463, 0.        , 0.        , 0.        , 0.37480152,\n",
              "        0.        , 0.        , 0.        , 0.        , 0.        ,\n",
              "        0.        , 0.        , 0.        , 0.        , 0.        ,\n",
              "        0.        , 0.        , 0.03748105, 0.        , 0.        ,\n",
              "        0.        , 0.        , 0.10996977, 0.        , 0.        ,\n",
              "        0.        , 0.        , 0.        , 0.        , 0.        ,\n",
              "        0.        , 0.14852025, 0.        , 0.        , 0.        ,\n",
              "        0.        , 0.        , 0.        , 0.        , 0.        ,\n",
              "        0.        , 0.        , 0.        , 0.        , 0.        ,\n",
              "        0.        , 0.        , 0.        , 0.        , 0.        ,\n",
              "        0.        , 0.        , 0.        , 0.03327423, 0.09586464,\n",
              "        0.        , 0.04895673, 0.        , 0.        , 0.        ,\n",
              "        0.        , 0.        , 0.        , 0.        , 0.        ,\n",
              "        0.        , 0.        , 0.        , 0.04458007, 0.        ,\n",
              "        0.        , 0.        , 0.        , 0.        , 0.        ,\n",
              "        0.        , 0.        , 0.02385919, 0.05214708, 0.        ,\n",
              "        0.        , 0.        , 0.        , 0.        , 0.05275994,\n",
              "        0.        , 0.        , 0.        , 0.        , 0.04599224,\n",
              "        0.        , 0.        , 0.        , 0.05700727, 0.        ,\n",
              "        0.        , 0.        , 0.        , 0.        , 0.        ,\n",
              "        0.03624924, 0.        , 0.0464821 , 0.        , 0.        ,\n",
              "        0.        , 0.        , 0.        , 0.04745355, 0.        ,\n",
              "        0.01111931, 0.        , 0.        , 0.        , 0.        ,\n",
              "        0.        , 0.        , 0.        , 0.        , 0.        ,\n",
              "        0.        , 0.        , 0.04895673, 0.        , 0.        ,\n",
              "        0.        , 0.        , 0.04316724, 0.        , 0.        ,\n",
              "        0.        , 0.        , 0.08451366, 0.        , 0.        ,\n",
              "        0.        , 0.        , 0.        , 0.        , 0.        ,\n",
              "        0.        , 0.        , 0.        , 0.04239858, 0.        ,\n",
              "        0.        , 0.        , 0.03466227, 0.05483238, 0.        ,\n",
              "        0.        , 0.        , 0.        , 0.        , 0.        ,\n",
              "        0.        , 0.        , 0.        , 0.        , 0.        ,\n",
              "        0.        , 0.        , 0.        , 0.        , 0.        ,\n",
              "        0.        , 0.        , 0.        , 0.        , 0.        ,\n",
              "        0.        , 0.        , 0.        , 0.        , 0.        ,\n",
              "        0.        , 0.        , 0.        , 0.        , 0.        ,\n",
              "        0.        , 0.        , 0.        , 0.        , 0.        ,\n",
              "        0.        , 0.        , 0.        , 0.        , 0.02990592,\n",
              "        0.        , 0.04539265, 0.        , 0.        , 0.        ,\n",
              "        0.        , 0.        , 0.        , 0.04633992, 0.        ,\n",
              "        0.        , 0.        , 0.        , 0.        , 0.        ,\n",
              "        0.        , 0.        , 0.        , 0.        , 0.05314459,\n",
              "        0.        , 0.        , 0.        , 0.        , 0.        ,\n",
              "        0.        , 0.        , 0.        , 0.        , 0.        ,\n",
              "        0.        , 0.        , 0.        , 0.        , 0.        ,\n",
              "        0.01151258, 0.        , 0.        , 0.        , 0.        ,\n",
              "        0.        , 0.        , 0.        , 0.        , 0.        ,\n",
              "        0.        , 0.        , 0.        , 0.        , 0.        ,\n",
              "        0.        , 0.        , 0.        , 0.02796723, 0.        ,\n",
              "        0.        , 0.        , 0.        , 0.        , 0.        ,\n",
              "        0.        , 0.        , 0.        , 0.        , 0.        ,\n",
              "        0.        , 0.03854756, 0.        , 0.13521909, 0.28519152,\n",
              "        0.        , 0.05179499, 0.        , 0.        , 0.        ,\n",
              "        0.        , 0.        , 0.        , 0.        , 0.        ,\n",
              "        0.        , 0.        , 0.        , 0.17760285, 0.        ,\n",
              "        0.        , 0.04998691, 0.        , 0.05008548, 0.        ,\n",
              "        0.        , 0.        , 0.        , 0.        , 0.        ,\n",
              "        0.        , 0.        , 0.        , 0.        , 0.        ,\n",
              "        0.        , 0.        , 0.        , 0.        , 0.        ,\n",
              "        0.        , 0.        , 0.        , 0.        , 0.        ,\n",
              "        0.        , 0.        , 0.07976882, 0.        , 0.        ,\n",
              "        0.        , 0.        , 0.        , 0.        , 0.07138927,\n",
              "        0.        , 0.        , 0.06443451, 0.        , 0.        ,\n",
              "        0.        , 0.        , 0.        , 0.        , 0.        ,\n",
              "        0.04641078, 0.        , 0.        , 0.        , 0.        ,\n",
              "        0.        , 0.        , 0.        , 0.04234918, 0.        ,\n",
              "        0.        , 0.        , 0.        , 0.        , 0.        ,\n",
              "        0.        , 0.        , 0.        , 0.        , 0.10936299,\n",
              "        0.        , 0.04801416, 0.        , 0.        , 0.        ,\n",
              "        0.05156633, 0.03171484, 0.        , 0.        , 0.        ,\n",
              "        0.23523831, 0.        , 0.03748105, 0.        , 0.        ,\n",
              "        0.        , 0.0348612 , 0.        , 0.        , 0.        ,\n",
              "        0.        , 0.08690327, 0.        , 0.        , 0.03833962,\n",
              "        0.        , 0.        , 0.        , 0.        , 0.        ,\n",
              "        0.        , 0.        , 0.        , 0.        , 0.        ,\n",
              "        0.        , 0.        , 0.        , 0.        , 0.        ,\n",
              "        0.        , 0.        , 0.        , 0.        , 0.        ,\n",
              "        0.        , 0.        , 0.        , 0.        , 0.        ,\n",
              "        0.05340865, 0.        , 0.        , 0.        , 0.        ,\n",
              "        0.        , 0.        , 0.        , 0.        , 0.        ,\n",
              "        0.        , 0.        , 0.        , 0.        , 0.        ,\n",
              "        0.        , 0.        , 0.        , 0.        , 0.04578875,\n",
              "        0.        , 0.        , 0.        , 0.        , 0.        ,\n",
              "        0.        , 0.        , 0.        , 0.        , 0.        ,\n",
              "        0.05080121, 0.        , 0.04172626, 0.        , 0.0334275 ,\n",
              "        0.        , 0.        , 0.        , 0.        , 0.        ,\n",
              "        0.        , 0.        , 0.        , 0.        , 0.        ,\n",
              "        0.        , 0.        , 0.        , 0.01108986, 0.10313265,\n",
              "        0.        , 0.        , 0.        , 0.        , 0.        ,\n",
              "        0.        , 0.14288686, 0.        , 0.04793232, 0.        ,\n",
              "        0.04753192, 0.04619954, 0.        , 0.        , 0.        ,\n",
              "        0.08821617, 0.16022595, 0.        , 0.        , 0.        ,\n",
              "        0.        , 0.        , 0.        , 0.        , 0.        ,\n",
              "        0.        , 0.        , 0.        , 0.02929703, 0.05268161,\n",
              "        0.        , 0.        , 0.        , 0.        , 0.        ,\n",
              "        0.02646955, 0.        , 0.        , 0.        , 0.        ,\n",
              "        0.        , 0.        , 0.        , 0.        , 0.        ,\n",
              "        0.        , 0.        , 0.        , 0.        , 0.        ,\n",
              "        0.        , 0.        , 0.        , 0.        , 0.        ,\n",
              "        0.        , 0.        , 0.        , 0.        , 0.        ,\n",
              "        0.        , 0.        , 0.        , 0.        , 0.02154198,\n",
              "        0.        , 0.        , 0.        , 0.        , 0.        ,\n",
              "        0.        , 0.        , 0.        , 0.        , 0.        ,\n",
              "        0.        , 0.        , 0.03726081, 0.        , 0.        ,\n",
              "        0.        , 0.        , 0.        , 0.        , 0.        ,\n",
              "        0.        , 0.        , 0.        , 0.        , 0.        ,\n",
              "        0.        , 0.        , 0.        , 0.04809662, 0.05214708,\n",
              "        0.        , 0.        , 0.        , 0.        , 0.        ,\n",
              "        0.        , 0.        , 0.        , 0.        , 0.        ,\n",
              "        0.        , 0.        , 0.        , 0.        , 0.        ,\n",
              "        0.        , 0.        , 0.        , 0.        , 0.        ,\n",
              "        0.07831765, 0.        , 0.        , 0.        , 0.03058426,\n",
              "        0.04932036, 0.        , 0.        , 0.01837808, 0.        ,\n",
              "        0.04979234, 0.12223738, 0.        , 0.        , 0.        ,\n",
              "        0.04008352, 0.        , 0.        , 0.        , 0.08174899]])"
            ]
          },
          "metadata": {},
          "execution_count": 60
        }
      ]
    },
    {
      "cell_type": "code",
      "source": [
        "joblib.dump(tfidf_vectorizer, 'tfidf_vectorizer.pkl')"
      ],
      "metadata": {
        "colab": {
          "base_uri": "https://localhost:8080/"
        },
        "id": "r2PR7bag5jpO",
        "outputId": "96be0ca5-1872-4f42-85b9-3e5c63b0ac2b"
      },
      "execution_count": null,
      "outputs": [
        {
          "output_type": "execute_result",
          "data": {
            "text/plain": [
              "['tfidf_vectorizer.pkl']"
            ]
          },
          "metadata": {},
          "execution_count": 61
        }
      ]
    },
    {
      "cell_type": "code",
      "source": [
        "# Word2Vec\n",
        "tokenized_texts = [word_tokenize(text) for text in data['claened_text']]\n",
        "w2v_model = Word2Vec(sentences=tokenized_texts, vector_size=50, window=5, min_count=1, workers=4)\n",
        "X_w2v = np.array([get_word2vec_embeddings(text, w2v_model) for text in tokenized_texts])\n",
        "w2v_model.save('word2vec.model')\n"
      ],
      "metadata": {
        "id": "HL0AcotIsAfm"
      },
      "execution_count": null,
      "outputs": []
    },
    {
      "cell_type": "code",
      "source": [
        "# function to train claassification task\n",
        "\n",
        "def train_classifier(X,y,model_name,feature_type):\n",
        "\n",
        "  X_train, X_test, y_train,y_test = train_test_split(X,y,test_size=0.2, random_state=42,stratify=y)\n",
        "\n",
        "  #grid option\n",
        "  lr_params = {'C': [0.1,1,10]}\n",
        "  lr_grid = GridSearchCV(LogisticRegression(),lr_params, cv=2)\n",
        "  lr_grid.fit(X_train,y_train)\n",
        "\n",
        "\n",
        "  print(f'Best logistic regression paarams: {feature_type}:',lr_grid.best_params_)\n",
        "  print(f'logistic regression accuracy: {feature_type}:',accuracy_score(y_test,lr_grid.predict(X_test)))\n",
        "\n",
        "  joblib.dump(lr_grid.best_estimator_, f'lr_model_{feature_type.lower()}.pkl')\n",
        "\n",
        "  ##########\n",
        "  # can add more algo and create models\n",
        "  # gbc_model_tfidf.pkl\n",
        "  # gbc_model_w2v.pkl\n",
        "\n",
        "  # lr_model_glove.pkl\n",
        "  # gbc_model_glove.pkl\n",
        "  #########\n",
        "\n",
        "  from sklearn.ensemble import GradientBoostingClassifier   #addfor gbc blk\n",
        "  gbc = GradientBoostingClassifier(random_state=42)\n",
        "  gbc_params = {'n_estimators':[50]}\n",
        "  gbc_grid = GridSearchCV(gbc,gbc_params, cv=2)\n",
        "  gbc_grid.fit(X_train,y_train)\n",
        "\n",
        "  print(f'Best GBC paarams: {feature_type}:',gbc_grid.best_params_)\n",
        "  print(f'GBC accuracy: {feature_type}:',accuracy_score(y_test,gbc_grid.predict(X_test)))\n",
        "\n",
        "  joblib.dump(gbc_grid.best_estimator_, f'gbc_model_{feature_type.lower()}.pkl')\n",
        "\n",
        "\n"
      ],
      "metadata": {
        "id": "Rq6Bdt2m6sUV"
      },
      "execution_count": null,
      "outputs": []
    },
    {
      "cell_type": "code",
      "source": [
        "# feature_types = ['tfidf'] # , 'word2vec']\n",
        "# X_features = {'tfidf': X_tfidf} #, 'word2vec': X_w2v}\n",
        "\n",
        "feature_types = ['tfidf' , 'word2vec']\n",
        "X_features = {'tfidf': X_tfidf, 'word2vec': X_w2v}\n",
        "\n",
        "\n",
        "\n",
        "for feature_type in feature_types:\n",
        "  print(f'Training classification using {feature_type}')\n",
        "\n",
        "  train_classifier(X_features[feature_type], data['category'], 'classifier', feature_type)"
      ],
      "metadata": {
        "colab": {
          "base_uri": "https://localhost:8080/"
        },
        "id": "TY8_j3C7Bjpb",
        "outputId": "433152a3-91f0-4840-f118-dd56fc32cf17"
      },
      "execution_count": null,
      "outputs": [
        {
          "output_type": "stream",
          "name": "stdout",
          "text": [
            "Training classification using tfidf\n",
            "Best logistic regression paarams: tfidf: {'C': 10}\n",
            "logistic regression accuracy: tfidf: 0.7904509283819628\n",
            "Best GBC paarams: tfidf: {'n_estimators': 200}\n",
            "GBC accuracy: tfidf: 0.7572944297082228\n",
            "Training classification using word2vec\n",
            "Best logistic regression paarams: word2vec: {'C': 10}\n",
            "logistic regression accuracy: word2vec: 0.6114058355437666\n",
            "Best GBC paarams: word2vec: {'n_estimators': 200}\n",
            "GBC accuracy: word2vec: 0.5954907161803713\n"
          ]
        }
      ]
    },
    {
      "cell_type": "code",
      "source": [
        "'''\n",
        "user selection of the type of vectorization(tfidf/w2v/glove/fasttext/etc) should be passed\n",
        "lr_model_tfidf\n",
        "lr_model_w2v\n",
        "gbc_model_tfidf\n",
        "gbc_model_w2v.....\n",
        "'''"
      ],
      "metadata": {
        "id": "ChvVRjyMHpCu",
        "colab": {
          "base_uri": "https://localhost:8080/",
          "height": 52
        },
        "outputId": "cad7f3ea-ef81-40bf-c91f-848da6039d34"
      },
      "execution_count": null,
      "outputs": [
        {
          "output_type": "execute_result",
          "data": {
            "text/plain": [
              "'\\nuser selection of the type of vectorization(tfidf/w2v/glove/fasttext/etc) should be passed\\nlr_model_tfidf\\nlr_model_w2v\\ngbc_model_tfidf\\ngbc_model_w2v.....\\n'"
            ],
            "application/vnd.google.colaboratory.intrinsic+json": {
              "type": "string"
            }
          },
          "metadata": {},
          "execution_count": 65
        }
      ]
    },
    {
      "cell_type": "code",
      "source": [
        "target_names = list(categories.keys())\n",
        "joblib.dump(target_names, 'target_names.pkl')"
      ],
      "metadata": {
        "colab": {
          "base_uri": "https://localhost:8080/"
        },
        "id": "W-8DwA4nELhH",
        "outputId": "db14bcb7-0c69-48c8-eaab-e8d922f02eeb"
      },
      "execution_count": null,
      "outputs": [
        {
          "output_type": "execute_result",
          "data": {
            "text/plain": [
              "['target_names.pkl']"
            ]
          },
          "metadata": {},
          "execution_count": 66
        }
      ]
    },
    {
      "cell_type": "code",
      "source": [
        "target_names"
      ],
      "metadata": {
        "colab": {
          "base_uri": "https://localhost:8080/"
        },
        "id": "taitJeQXGa16",
        "outputId": "0721a4df-fd07-4780-db9e-6d2db685d14c"
      },
      "execution_count": null,
      "outputs": [
        {
          "output_type": "execute_result",
          "data": {
            "text/plain": [
              "['comp', 'rec', 'sci', 'talk', 'soc', 'misc', 'alt']"
            ]
          },
          "metadata": {},
          "execution_count": 67
        }
      ]
    },
    {
      "cell_type": "markdown",
      "source": [],
      "metadata": {
        "id": "n3aegSCZ1KSE"
      }
    },
    {
      "cell_type": "code",
      "source": [
        "new_input = \"indian won the cricket match\"\n",
        "\n",
        "cleaned_input  = preprocess_text(new_input)\n",
        "#tokenized_input = word_tokenize(cleaned_input)\n",
        "\n",
        "tfidf_vectorizer = joblib.load('tfidf_vectorizer.pkl')\n",
        "lr_model = joblib.load('lr_model_tfidf.pkl')\n",
        "tgt_names = joblib.load('target_names.pkl')\n",
        "\n",
        "X_input = tfidf_vectorizer.transform([cleaned_input])\n",
        "\n",
        "lr_pred = lr_model.predict(X_input)[0]\n",
        "print(lr_pred)\n",
        "\n",
        "print(f'Prediction: {tgt_names[lr_pred]}')\n"
      ],
      "metadata": {
        "colab": {
          "base_uri": "https://localhost:8080/"
        },
        "id": "E2fCHqXcCa6h",
        "outputId": "d2d2b073-9064-486a-9ba8-160fdc7f7c72"
      },
      "execution_count": null,
      "outputs": [
        {
          "output_type": "stream",
          "name": "stdout",
          "text": [
            "0\n",
            "Prediction: comp\n"
          ]
        }
      ]
    },
    {
      "cell_type": "code",
      "source": [
        "%%writefile app.py\n",
        "\n",
        "import streamlit as st\n",
        "import pandas as pd\n",
        "import numpy as np\n",
        "import joblib\n",
        "\n",
        "#from utils import preprocess_text\n",
        "\n",
        "import nltk\n",
        "from nltk.tokenize import word_tokenize\n",
        "\n",
        "nltk.download('punkt')\n",
        "\n",
        "# remove common words like \"the,is,and,etc'\n",
        "nltk.download('stopwords')\n",
        "\n",
        "# do lemmatization\n",
        "nltk.download('wordnet')\n",
        "\n",
        "nltk.download('punkt_tab')\n",
        "\n",
        "from gensim.models import Word2Vec #addfor w2v\n",
        "from utils import preprocess_text , get_word2vec_embeddings #addfor w2v\n",
        "\n",
        "from sklearn.metrics.pairwise import cosine_similarity #addfor recom\n",
        "from textblob import TextBlob #addfor sentiment\n",
        "\n",
        "@st.cache_resource\n",
        "def load_models():\n",
        "\n",
        "    tfidf_vectorizer = joblib.load('tfidf_vectorizer.pkl')\n",
        "    lr_model_tfidf = joblib.load('lr_model_tfidf.pkl')\n",
        "    tgt_names = joblib.load('target_names.pkl')\n",
        "\n",
        "    data = pd.read_csv('preprocessed_data.csv')\n",
        "\n",
        "    w2v_model = Word2Vec.load('word2vec.model') #addfor w2v\n",
        "    lr_model_word2vec = joblib.load('lr_model_word2vec.pkl') #addfor w2v\n",
        "\n",
        "    gbc_model_tfidf = joblib.load('gbc_model_tfidf.pkl') #addfor gbc\n",
        "    gbc_model_word2vec = joblib.load('gbc_model_word2vec.pkl') #addfor gbc\n",
        "\n",
        "    X_tfidf = tfidf_vectorizer.transform(data['claened_text'])\n",
        "    tokenized_texts = [word_tokenize(text) for text in data['claened_text']]\n",
        "\n",
        "    X_w2v = np.array([get_word2vec_embeddings(text, w2v_model) for text in tokenized_texts]) #addfor w2v\n",
        "\n",
        "    #X_features = {'tfidf': X_tfidf}\n",
        "    X_features = {'tfidf': X_tfidf, 'word2vec': X_w2v} #addfor w2v\n",
        "\n",
        "\n",
        "    return(tfidf_vectorizer, lr_model_tfidf, w2v_model, lr_model_word2vec,  gbc_model_tfidf, gbc_model_word2vec, tgt_names, data, X_features) #addfor w2v\n",
        "\n",
        "\n",
        "tfidf_vectorizer, lr_model_tfidf, w2v_model, lr_model_word2vec, gbc_model_tfidf, gbc_model_word2vec, tgt_names, data, X_features = load_models() #addfor w2v\n",
        "\n",
        "\n",
        "\n",
        "st.title('Text App for Forum')\n",
        "\n",
        "\n",
        "#task = st.sidebar.selectbox('Select Task',[\"Classification\"]) #\"Recommendation\"\n",
        "#task = st.sidebar.selectbox('Select Task',[\"Classification\",\"Recommendation\"]) #addfor recom\n",
        "task = st.sidebar.selectbox('Select Task',[\"Classification\",\"Recommendation\",\"Sentiment Analysis\"]) #addfor sentiment\n",
        "\n",
        "#feature_type = st.sidebar.selectbox('Select Feature Type',[\"TFIDF\"])\n",
        "feature_type = st.sidebar.selectbox(\"Select Feature Type\", [\"TFIDF\", \"Word2Vec\"]) #add w2v\n",
        "\n",
        "user_input = st.text_area(\"enter text for analysis:\",height =150)\n",
        "\n",
        "if st.button(\"Analyze\"):\n",
        "  if user_input:\n",
        "      cleaned_input  = preprocess_text(user_input)\n",
        "      tokenized_input = word_tokenize(cleaned_input)#add w2v\n",
        "\n",
        "      if feature_type == \"TFIDF\":\n",
        "          X_input = tfidf_vectorizer.transform([cleaned_input])\n",
        "          lr_model = lr_model_tfidf\n",
        "          gbc_model = gbc_model_tfidf # add gbc\n",
        "      elif feature_type == \"Word2Vec\":  # add w2v blk\n",
        "            X_input = np.array([get_word2vec_embeddings(tokenized_input, w2v_model)])\n",
        "            lr_model = lr_model_word2vec\n",
        "            gbc_model = gbc_model_word2vec # add gbc\n",
        "\n",
        "      if task ==  \"Classification\":\n",
        "          lr_pred = lr_model.predict(X_input)[0]\n",
        "\n",
        "          print(lr_pred)\n",
        "          st.subheader('Results:')\n",
        "          st.write(f'Logistic Regfression Prediction: {tgt_names[lr_pred]}')\n",
        "          gbc_pred = gbc_model.predict(X_input)[0] #addfor gbc\n",
        "          st.write(f'GBC Prediction: {tgt_names[gbc_pred]}') #addfor gbc\n",
        "      elif task == \"Recommendation\": #addfor recom  blk\n",
        "          sim_scores = cosine_similarity(X_input, X_features[feature_type.lower()])\n",
        "          top_indices = sim_scores[0].argsort()[-5:][::-1]\n",
        "          st.subheader(\"Top 5 Similar Documents\")\n",
        "          for idx in top_indices:\n",
        "              st.write(f\"**Category**: {data['category_name'][idx]}\")\n",
        "              st.write(f\"**Text**: {data['text'][idx]}\") #[:200]}...\")\n",
        "              st.write(\"---\")\n",
        "      elif task == \"Sentiment Analysis\": #addfor sentiment block\n",
        "          sentiment = TextBlob(cleaned_input).sentiment.polarity\n",
        "          st.subheader(\"Sentiment Analysis Result\")\n",
        "          st.write(f\"Sentiment Polarity: {sentiment:.4f}\")\n",
        "          st.write(\"Positive\" if sentiment > 0 else \"Negative\" if sentiment < 0 else \"Neutral\")\n",
        "  else:\n",
        "    st.error('Please enter some text')\n",
        "\n",
        "\n"
      ],
      "metadata": {
        "colab": {
          "base_uri": "https://localhost:8080/"
        },
        "id": "4bdHiQzkHBIW",
        "outputId": "4df67cb9-05ad-44f4-b6f0-7eb6becde37b"
      },
      "execution_count": null,
      "outputs": [
        {
          "output_type": "stream",
          "name": "stdout",
          "text": [
            "Overwriting app.py\n"
          ]
        }
      ]
    },
    {
      "cell_type": "code",
      "source": [
        "# 34.9.13.55"
      ],
      "metadata": {
        "id": "NSKJr9wrMUlo"
      },
      "execution_count": null,
      "outputs": []
    },
    {
      "cell_type": "code",
      "source": [
        "!wget -q -O - ipv4.icanhazip.com"
      ],
      "metadata": {
        "colab": {
          "base_uri": "https://localhost:8080/"
        },
        "id": "65MOJBDqV9T7",
        "outputId": "bad978d4-310d-4dbb-f1a7-a6eab63efa08"
      },
      "execution_count": null,
      "outputs": [
        {
          "output_type": "stream",
          "name": "stdout",
          "text": [
            "34.80.200.39\n"
          ]
        }
      ]
    },
    {
      "cell_type": "code",
      "source": [
        "!streamlit run app.py & npx localtunnel --port 8501"
      ],
      "metadata": {
        "colab": {
          "base_uri": "https://localhost:8080/"
        },
        "id": "I_4x74niMIWm",
        "outputId": "c4894728-d1ea-46ca-f268-86ae917590e2"
      },
      "execution_count": null,
      "outputs": [
        {
          "output_type": "stream",
          "name": "stdout",
          "text": [
            "\n",
            "Collecting usage statistics. To deactivate, set browser.gatherUsageStats to false.\n",
            "\u001b[0m\n",
            "\u001b[1G\u001b[0K⠙\u001b[1G\u001b[0K⠹\u001b[1G\u001b[0K⠸\u001b[0m\n",
            "\u001b[34m\u001b[1m  You can now view your Streamlit app in your browser.\u001b[0m\n",
            "\u001b[0m\n",
            "\u001b[34m  Local URL: \u001b[0m\u001b[1mhttp://localhost:8501\u001b[0m\n",
            "\u001b[34m  Network URL: \u001b[0m\u001b[1mhttp://172.28.0.12:8501\u001b[0m\n",
            "\u001b[34m  External URL: \u001b[0m\u001b[1mhttp://34.80.200.39:8501\u001b[0m\n",
            "\u001b[0m\n",
            "\u001b[1G\u001b[0K⠼\u001b[1G\u001b[0K⠴\u001b[1G\u001b[0K⠦\u001b[1G\u001b[0K⠧\u001b[1G\u001b[0K⠇\u001b[1G\u001b[0K⠏\u001b[1G\u001b[0K⠋\u001b[1G\u001b[0Kyour url is: https://nice-mugs-notice.loca.lt\n",
            "[nltk_data] Downloading package punkt to /root/nltk_data...\n",
            "[nltk_data]   Package punkt is already up-to-date!\n",
            "[nltk_data] Downloading package stopwords to /root/nltk_data...\n",
            "[nltk_data]   Package stopwords is already up-to-date!\n",
            "[nltk_data] Downloading package wordnet to /root/nltk_data...\n",
            "[nltk_data]   Package wordnet is already up-to-date!\n",
            "[nltk_data] Downloading package punkt_tab to /root/nltk_data...\n",
            "[nltk_data]   Package punkt_tab is already up-to-date!\n",
            "[nltk_data] Downloading package punkt to /root/nltk_data...\n",
            "[nltk_data]   Package punkt is already up-to-date!\n",
            "[nltk_data] Downloading package stopwords to /root/nltk_data...\n",
            "[nltk_data]   Package stopwords is already up-to-date!\n",
            "[nltk_data] Downloading package wordnet to /root/nltk_data...\n",
            "[nltk_data]   Package wordnet is already up-to-date!\n",
            "[nltk_data] Downloading package punkt_tab to /root/nltk_data...\n",
            "[nltk_data]   Package punkt_tab is already up-to-date!\n",
            "[nltk_data] Downloading package punkt to /root/nltk_data...\n",
            "[nltk_data]   Package punkt is already up-to-date!\n",
            "[nltk_data] Downloading package stopwords to /root/nltk_data...\n",
            "[nltk_data]   Package stopwords is already up-to-date!\n",
            "[nltk_data] Downloading package wordnet to /root/nltk_data...\n",
            "[nltk_data]   Package wordnet is already up-to-date!\n",
            "[nltk_data] Downloading package punkt_tab to /root/nltk_data...\n",
            "[nltk_data]   Package punkt_tab is already up-to-date!\n",
            "0\n",
            "[nltk_data] Downloading package punkt to /root/nltk_data...\n",
            "[nltk_data]   Package punkt is already up-to-date!\n",
            "[nltk_data] Downloading package stopwords to /root/nltk_data...\n",
            "[nltk_data]   Package stopwords is already up-to-date!\n",
            "[nltk_data] Downloading package wordnet to /root/nltk_data...\n",
            "[nltk_data]   Package wordnet is already up-to-date!\n",
            "[nltk_data] Downloading package punkt_tab to /root/nltk_data...\n",
            "[nltk_data]   Package punkt_tab is already up-to-date!\n",
            "[nltk_data] Downloading package punkt to /root/nltk_data...\n",
            "[nltk_data]   Package punkt is already up-to-date!\n",
            "[nltk_data] Downloading package stopwords to /root/nltk_data...\n",
            "[nltk_data]   Package stopwords is already up-to-date!\n",
            "[nltk_data] Downloading package wordnet to /root/nltk_data...\n",
            "[nltk_data]   Package wordnet is already up-to-date!\n",
            "[nltk_data] Downloading package punkt_tab to /root/nltk_data...\n",
            "[nltk_data]   Package punkt_tab is already up-to-date!\n",
            "1\n",
            "\u001b[34m  Stopping...\u001b[0m\n",
            "^C\n"
          ]
        }
      ]
    },
    {
      "cell_type": "code",
      "source": [],
      "metadata": {
        "id": "aTF1k_gRMQRM"
      },
      "execution_count": null,
      "outputs": []
    }
  ]
}