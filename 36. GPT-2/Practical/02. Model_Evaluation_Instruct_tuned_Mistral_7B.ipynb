{
 "cells": [
  {
   "cell_type": "markdown",
   "metadata": {
    "id": "OPccNL4MDlq7"
   },
   "source": [
    "### ⚠ IMPORTANT ⚠\n",
    "\n",
    "Please ensure your Colab runtime is set to the following:\n",
    "\n",
    "A100 GPU\n",
    "\n",
    "Evaluation and instruction-tuning a LLM is a resource intensive process - please make sure you're using the appropriate instance."
   ]
  },
  {
   "cell_type": "markdown",
   "metadata": {
    "id": "EKSx2zaqB-QF"
   },
   "source": [
    "# Evaluating an Instruct-tuned Model\n",
    "\n",
    "Now that we've spent some time creating models with:\n",
    "\n",
    "- Unsupervised pre-training\n",
    "- Supervised fine-tuning\n",
    "- Some instruction-tuning\n",
    "\n",
    "We're ready to begin to think about how we can evaluate these models."
   ]
  },
  {
   "cell_type": "markdown",
   "metadata": {
    "id": "acilXetkCTep"
   },
   "source": [
    "## Instruct-tuned Evaluation\n",
    "\n",
    "We will now repeat the process we used on our baseline - but using the instruct-tuned version of our model!"
   ]
  },
  {
   "cell_type": "markdown",
   "metadata": {
    "id": "9V-U6VaGDQJ_"
   },
   "source": [
    "### Load Mistral AI's Mistral-7B in 4-bit Quantization\n",
    "\n",
    "Let's grab our dependencies, and load our model!"
   ]
  },
  {
   "cell_type": "code",
   "execution_count": null,
   "metadata": {
    "colab": {
     "base_uri": "https://localhost:8080/"
    },
    "executionInfo": {
     "elapsed": 82413,
     "status": "ok",
     "timestamp": 1754805698083,
     "user": {
      "displayName": "Mohamed Noordeen Alaudeen",
      "userId": "13097854355562551879"
     },
     "user_tz": -240
    },
    "id": "hLLkiP7pB42M",
    "outputId": "fb49da1e-4850-4983-c755-8355bdf16393"
   },
   "outputs": [],
   "source": [
    "!pip install -qU bitsandbytes datasets accelerate loralib peft transformers trl"
   ]
  },
  {
   "cell_type": "code",
   "execution_count": null,
   "metadata": {
    "executionInfo": {
     "elapsed": 10584,
     "status": "ok",
     "timestamp": 1754806236021,
     "user": {
      "displayName": "Mohamed Noordeen Alaudeen",
      "userId": "13097854355562551879"
     },
     "user_tz": -240
    },
    "id": "nPbEpaYQDZ45"
   },
   "outputs": [],
   "source": [
    "import torch\n",
    "import torch.nn as nn\n",
    "import bitsandbytes as bnb\n",
    "from transformers import AutoTokenizer, AutoConfig, AutoModelForCausalLM, BitsAndBytesConfig"
   ]
  },
  {
   "cell_type": "markdown",
   "metadata": {
    "id": "2HkWkD64DcIX"
   },
   "source": [
    "Conforming to previous notebooks - let's set up our quantization config for our model."
   ]
  },
  {
   "cell_type": "code",
   "execution_count": null,
   "metadata": {
    "executionInfo": {
     "elapsed": 4,
     "status": "ok",
     "timestamp": 1754806255944,
     "user": {
      "displayName": "Mohamed Noordeen Alaudeen",
      "userId": "13097854355562551879"
     },
     "user_tz": -240
    },
    "id": "8wQcWs3uDae0"
   },
   "outputs": [],
   "source": [
    "bnb_config = BitsAndBytesConfig(\n",
    "    load_in_4bit=True,\n",
    "    bnb_4bit_quant_type=\"nf4\",\n",
    "    bnb_double_quant=True,\n",
    "    bnb_4bit_compute_dtype=torch.float16,\n",
    ")"
   ]
  },
  {
   "cell_type": "code",
   "execution_count": null,
   "metadata": {
    "colab": {
     "base_uri": "https://localhost:8080/",
     "height": 121,
     "referenced_widgets": [
      "0727cb7142f6471283dcd5d9dafc82c5",
      "1f110f169bdc494c8514b4cd779e96e2",
      "bb87d3f4b8b74a93a5bcba77fd06aa66",
      "69cc0658ce1b4299a051d2d6d418e681",
      "bede0427cd794d8a87336a07b14a5430",
      "ed193e16523340609f4203b592ade261",
      "cab8f293472a4c20a7e7f710454940a5",
      "a48beb6053204c1e96f5f7c83c47dd7e",
      "e26a5d1421d646098ef6ba0804d8848a",
      "263cd7a3daa44fbcbf201344d17e761b",
      "c23f2fedb6694ae6b4ca720f6a077f40",
      "1954a811cb62471f8b841cb124669a83",
      "6f181982d76c4788913d7cc1b70d1352",
      "1c925a24e55b4143ad5db0d631290c63",
      "8971cc27bb0748a9896e1e4133da4744",
      "4aa9428096b241c5b135fecbe24ee203",
      "c76000f559254c85ba684a2ee7244acc",
      "64862d0f85bc47df8024791bc9c4e450",
      "bc8a9072321b4dc9bb79eaecfc0b97bb",
      "8b9bf3d50ccc45a2a5d299e9ef41057d"
     ]
    },
    "executionInfo": {
     "elapsed": 1294,
     "status": "ok",
     "timestamp": 1754806258901,
     "user": {
      "displayName": "Mohamed Noordeen Alaudeen",
      "userId": "13097854355562551879"
     },
     "user_tz": -240
    },
    "id": "bSo_2df9kUVu",
    "outputId": "49c1c5f3-6f5a-4421-988d-330607032788"
   },
   "outputs": [],
   "source": [
    "from huggingface_hub import login\n",
    "login(new_session=False)"
   ]
  },
  {
   "cell_type": "markdown",
   "metadata": {
    "id": "2niGU5gDD3E4"
   },
   "source": [
    "Now we have our quantization settings confirmed - let's load up our model!"
   ]
  },
  {
   "cell_type": "code",
   "execution_count": null,
   "metadata": {
    "colab": {
     "base_uri": "https://localhost:8080/",
     "height": 49,
     "referenced_widgets": [
      "8b95b41fdf33447cb95a23a1c7d7a806",
      "c5eca307b0b04aefaa06fcde7a1e0997",
      "648c824dabb2415190ff85e0c6f08dfb",
      "d0b2ab49b059428eb723cdf385a16b6b",
      "f619f62db79e4c639ec210519b3f4931",
      "222ffddf58d044bb84afd218996f835a",
      "843c7f6bcc754ef6be53f81db5bd1cd9",
      "9e367caf591a413384817deeb935ea43",
      "fe2578dc37884accae79109489d6bcc3",
      "f8513dbc3215446eb134a899d753067c",
      "67fb6c8f70fe44bdb2fcd7fd9a977a30"
     ]
    },
    "executionInfo": {
     "elapsed": 19109,
     "status": "ok",
     "timestamp": 1754806880621,
     "user": {
      "displayName": "Mohamed Noordeen Alaudeen",
      "userId": "13097854355562551879"
     },
     "user_tz": -240
    },
    "id": "e41ggQCpDwYe",
    "outputId": "40667a16-36a1-46fb-f79d-049fab4ed26f"
   },
   "outputs": [],
   "source": [
    "model_id = \"mistralai/Mistral-7B-Instruct-v0.2\"\n",
    "\n",
    "model = AutoModelForCausalLM.from_pretrained(\n",
    "    model_id,\n",
    "    quantization_config=bnb_config,\n",
    "    device_map='auto',\n",
    ")\n",
    "\n",
    "tokenizer = AutoTokenizer.from_pretrained(model_id)"
   ]
  },
  {
   "cell_type": "code",
   "execution_count": null,
   "metadata": {
    "colab": {
     "base_uri": "https://localhost:8080/"
    },
    "executionInfo": {
     "elapsed": 136,
     "status": "ok",
     "timestamp": 1754806664951,
     "user": {
      "displayName": "Mohamed Noordeen Alaudeen",
      "userId": "13097854355562551879"
     },
     "user_tz": -240
    },
    "id": "Vg44uL4Im2G1",
    "outputId": "f6d06b1a-8c08-4a37-d519-c7d4f160a9b0"
   },
   "outputs": [],
   "source": [
    "!nvidia-smi"
   ]
  },
  {
   "cell_type": "code",
   "execution_count": null,
   "metadata": {
    "executionInfo": {
     "elapsed": 338,
     "status": "ok",
     "timestamp": 1754806779011,
     "user": {
      "displayName": "Mohamed Noordeen Alaudeen",
      "userId": "13097854355562551879"
     },
     "user_tz": -240
    },
    "id": "SnpbnJ70nidb"
   },
   "outputs": [],
   "source": [
    "#del model\n",
    "del model_without_quantization\n",
    "del tokenizer\n",
    "import gc\n",
    "gc.collect()\n",
    "torch.cuda.empty_cache()"
   ]
  },
  {
   "cell_type": "code",
   "execution_count": null,
   "metadata": {
    "colab": {
     "base_uri": "https://localhost:8080/"
    },
    "executionInfo": {
     "elapsed": 294,
     "status": "ok",
     "timestamp": 1754806764228,
     "user": {
      "displayName": "Mohamed Noordeen Alaudeen",
      "userId": "13097854355562551879"
     },
     "user_tz": -240
    },
    "id": "DsrIXtm3oUVo",
    "outputId": "596ae1a2-ceeb-41fa-b65f-af292fecf186"
   },
   "outputs": [],
   "source": [
    "!nvidia-smi"
   ]
  },
  {
   "cell_type": "code",
   "execution_count": null,
   "metadata": {
    "colab": {
     "base_uri": "https://localhost:8080/",
     "height": 49,
     "referenced_widgets": [
      "8b0b0c7d4c9d43b1830b47ccf4cdcaa5",
      "4c2621683e9b42aca35880a3d4389d9c",
      "42f3efc95c284d088b130c3af779d304",
      "ad70058954a34b5986f7ca92e17dd49a",
      "34c502ef4e5d49e0bc0555b4466ab075",
      "54ffa2d8944d48adab80b7161e68b591",
      "e4f59cd9093449098702d97d52de3926",
      "c2992f799a49447dadbb45730859f86d",
      "06aa9e4e21c24c379629b6d3955456e0",
      "891c7c049bc74111bef1fb16ee3ae84b",
      "cd51af0b46c0496aa2a6f8c0eb2f8b6e"
     ]
    },
    "executionInfo": {
     "elapsed": 6167,
     "status": "ok",
     "timestamp": 1754806791798,
     "user": {
      "displayName": "Mohamed Noordeen Alaudeen",
      "userId": "13097854355562551879"
     },
     "user_tz": -240
    },
    "id": "xQkQj92Rntsa",
    "outputId": "6ed31c80-90ad-4784-faf5-5dae3cf49c31"
   },
   "outputs": [],
   "source": [
    "model_id = \"mistralai/Mistral-7B-Instruct-v0.2\"\n",
    "\n",
    "model_without_quantization = AutoModelForCausalLM.from_pretrained(\n",
    "    model_id\n",
    ")\n",
    "\n",
    "tokenizer = AutoTokenizer.from_pretrained(model_id)"
   ]
  },
  {
   "cell_type": "code",
   "execution_count": null,
   "metadata": {
    "colab": {
     "base_uri": "https://localhost:8080/"
    },
    "executionInfo": {
     "elapsed": 130,
     "status": "ok",
     "timestamp": 1754806794966,
     "user": {
      "displayName": "Mohamed Noordeen Alaudeen",
      "userId": "13097854355562551879"
     },
     "user_tz": -240
    },
    "id": "2SeHRGGLnqc2",
    "outputId": "b4506f5b-b8f8-46ed-a70f-0d747d1fb5dc"
   },
   "outputs": [],
   "source": [
    "!nvidia-smi"
   ]
  },
  {
   "cell_type": "markdown",
   "metadata": {
    "id": "FWGDnI5yEP7G"
   },
   "source": [
    "####❓ Question:\n",
    "\n",
    "Taking a look at the [model card](https://huggingface.co/mistralai/Mistral-7B-v0.1) (and the linked resources on the card) is this an instruct-tuned model or not?"
   ]
  },
  {
   "cell_type": "markdown",
   "metadata": {
    "id": "eqfBj0tcHSa3"
   },
   "source": [
    "### Collect and Load the Eleuther AI Evaluation Harness\n",
    "\n",
    "Now that we have our baseline model loaded - we need to evaluate it.\n",
    "\n",
    "For that, we'll use a tool called [Eleuther AI's LM evaluation harness](https://github.com/EleutherAI/lm-evaluation-harness). This is a specialized tool for running benchmarks on various language tasks.\n",
    "\n",
    "Let's start by grabbing and installing it!\n",
    "\n",
    "Why Eleuther AI's Evaluation Harness? Well - it's what powers the [Open LLM Leaderboard](https://huggingface.co/spaces/HuggingFaceH4/open_llm_leaderboard)!"
   ]
  },
  {
   "cell_type": "code",
   "execution_count": null,
   "metadata": {
    "colab": {
     "base_uri": "https://localhost:8080/"
    },
    "executionInfo": {
     "elapsed": 23106,
     "status": "ok",
     "timestamp": 1754806849199,
     "user": {
      "displayName": "Mohamed Noordeen Alaudeen",
      "userId": "13097854355562551879"
     },
     "user_tz": -240
    },
    "id": "CZMp4-_rIrit",
    "outputId": "d63afd64-cfb0-4cf5-c8ad-a0140c124a93"
   },
   "outputs": [],
   "source": [
    "!git clone https://github.com/EleutherAI/lm-evaluation-harness\n",
    "%cd lm-evaluation-harness\n",
    "!pip install -e ."
   ]
  },
  {
   "cell_type": "markdown",
   "metadata": {
    "id": "96Jw_Z_zMOgd"
   },
   "source": [
    "Now, we can cast our model to the desired format."
   ]
  },
  {
   "cell_type": "code",
   "execution_count": null,
   "metadata": {
    "colab": {
     "base_uri": "https://localhost:8080/"
    },
    "executionInfo": {
     "elapsed": 546,
     "status": "ok",
     "timestamp": 1754806890398,
     "user": {
      "displayName": "Mohamed Noordeen Alaudeen",
      "userId": "13097854355562551879"
     },
     "user_tz": -240
    },
    "id": "NUGozWKFIvrL",
    "outputId": "cf1c7f8a-6cc6-45b9-a57c-567550d0755e"
   },
   "outputs": [],
   "source": [
    "import lm_eval\n",
    "from lm_eval.models.huggingface import HFLM\n",
    "eval_model = HFLM(model, batch_size=16)"
   ]
  },
  {
   "cell_type": "markdown",
   "metadata": {
    "id": "8Mkr352OMTG-"
   },
   "source": [
    "We'll set up our tasks so we can leverage them at evaluation time!"
   ]
  },
  {
   "cell_type": "markdown",
   "metadata": {
    "id": "hNuXARDAMXOv"
   },
   "source": [
    "Next, we can evaluate our base model!\n",
    "\n",
    ">NOTE: This step will take ~30-40min. to run in full on the A100 - so ensure you set aside time to run it fully if you desire!\n",
    "\n",
    "We're going to leverage two benchmarks today:\n",
    "\n",
    "- [HellaSwag](https://rowanzellers.com/hellaswag/)\n",
    "- [ARC Easy](https://leaderboard.allenai.org/arc_easy/submissions/get-started)\n",
    "- A subset of the [MMLU benchmark](https://paperswithcode.com/dataset/mmlu), focusing only on the `college_mathematics` task.\n",
    "\n",
    "These are lightweight benchmarks used to \"score\" models against eachother on the OpenLM leaderboard.\n",
    "\n",
    "We'll consider a simple average of their scores as the \"overall\" score of the baseline model.\n",
    "\n",
    "You could easily extend the number of tasks considered if you wanted to more exactly emulate the Open LLM Leaderboard."
   ]
  },
  {
   "cell_type": "code",
   "execution_count": null,
   "metadata": {
    "colab": {
     "base_uri": "https://localhost:8080/",
     "height": 615,
     "referenced_widgets": [
      "a44118cc496b4078899802f659ce37b6",
      "9e7b41a2964e45a7bbae4f1a6a1972f8",
      "809388e160094e35b60be8288d6cd1d1",
      "c09b91aed39d4f55a8e62ff5fd55771d",
      "be30bde0ecb649eeb74745bb7f7aa01c",
      "2bf8d83f98f6481494301eb3311501ed",
      "9616e7d8441543f4b51ef751c3f62af1",
      "5f74cba0384b4dd991500351ede7912c",
      "56dc1171726b418fa388b9c3d80fa60f",
      "c83f213707e9471eb5aedcc781b71cb4",
      "f2a7c3c24e2d46a38c428296c8854e4a",
      "550c63f4ece14642bef534f328a85dda",
      "daec5d86228c4c47a819b5f1f31bae6a",
      "01ce05fcec7b4baeacb4e8aeea19a234",
      "7ae7ff10817b4dad8be2b6706521b715",
      "f04ce5105bc04682846da95371ecad59",
      "3be0772d4ee0403dbac8adc0071b5890",
      "0cf39df45a1646e8ace872a33e31f97b",
      "18b884d2ec1649f39883290976015491",
      "e9b8c723b3b94f73ae70bd7b80d4af3f",
      "f7aff70acf434f0ca39fc63bb5fccf49",
      "6c2092a4f6e4493381499a8162b21c9a",
      "3b484b7b3db940179d9110591b9a0de6",
      "125c845f398341e49f39480c717775f7",
      "774532eb89b549559fc4fd12e65e0066",
      "2d5cf3a3214749c1b66e5e07768d4c74",
      "ab2c7c9d2ae4402e8fc13256507a15cf",
      "c6cf3ea0c9c94a7abc044cbad12fdfd2",
      "df0ebbad2bda441b8786278ae68535e3",
      "d62ef4f2d3944fb1add1552c86c88ca7",
      "b46c47f9c3f34588a67e72cbf36fbfd6",
      "55ffca358a084580a67b840f301fdc13",
      "c50ff2b4dc6c453d84af9bc7ca6ac10c",
      "b7fd27279e904afab6568b4eb4cc90b2",
      "37a683994485462fbb47e4d83ed82509",
      "acf80e64b0ce4bddafd29419e9f7d8f0",
      "43827a36e29d4a459063316da3dfa49a",
      "aad6dcb32d984abbafa5a772e743b192",
      "f15d3275794e485a80baa0cdc1e66c8c",
      "784e209e8afa400f9ce2dcf46a08c38a",
      "86a92c6f1cae449aaf5e008622c6a228",
      "601050db2d45466c8725336678987899",
      "5b96688af8f647f68883b9298aa88bed",
      "e4768ef6400b4e0187d5805dc24473f3",
      "e3d910579be24331b897715135b7519a",
      "7b5b6cb8905a467286c1160b01160994",
      "4c450b155868408587412c1f4240b2d8",
      "cc4f6d921afd4479a1b6e85c22e84044",
      "5c960c6d200b4deebba34e6d51f0ebf8",
      "6b5353a459334a7784c706e098161424",
      "6116f675b68e4843a680dffd737fa627",
      "8bcfbc6771ab4425b95e0166375ccd46",
      "5c3ddba95b9045c4ac9694c93ced9eb1",
      "89f29d0559644745860305f318e46cc8",
      "53f183783409455bacfb7d71c43cdd10",
      "34627e0b3b974d5f8c722cf1092399fa",
      "bdc47c54aeb74b5e8009c040388ada34",
      "9526e488472e49d1b808a7765b8fad35",
      "97e750ea0f61459c87c6880318f4abcc",
      "38af57c86f9a4f518829e91d19c22305",
      "e4afe9a335b041d38e8dbb47373e87e4",
      "910a1fe8d9304145bf5f56e786c94f33",
      "4f009d3d70b44eb4a17153c0142deb50",
      "3fc6bde48b85438e84d0c4c043966951",
      "aa776f5fb1234070834deb2ca57cf77a",
      "6965be366f3840958bbb40e4d64f6247",
      "5e539a2a77ba4973878c59935cb41b32",
      "de6c678f55854365b82d5be80b59de21",
      "68e5ca2496fe43de852a827ca36bb6ce",
      "b95017032b0847fdba307c9b89670523",
      "c06502b409cd4e4b9f428e3b99b1cfbc",
      "872118730c154184b1d1a9559e0c0ff6",
      "f4ce7c01bb70466ea853a2afaba48579",
      "8d97feba06a740f1a6989f3f2e7522c1",
      "dbd21c0304c14c389539309373d5dbc4",
      "2e4757d9d9fc421bacdd25662ffa46e6",
      "014a4d2b84d549e08cc5615afab5d8ad",
      "debcb8ecadfd46b9abf1c2b0872993c0",
      "e0c9b16bd529439faec012255a2e7f6e",
      "95908d3539d34faa9e6a936a0ac4b374",
      "c7d0aa44ce4847dda8c997cefd1fddbd",
      "3930c1226b0d455d9d7f55d8ec35c8f2",
      "14091705768e441d80e95c1adcf4d793",
      "198d6c9fa0ef46388fb0198829020d81",
      "af26cb6cc09941fa9c954368a4d5dc3d",
      "7896c474cea34d729c0a637015f9777c",
      "f339738186114fbc9dfbdd71464f4a8d",
      "dae0a8e2a0f14f5b93210bc3890cbf2e",
      "0918192b88534eb18fc1652d363e1498",
      "83d42ae392154a78a6a10a91f8bedb0f",
      "2adb90c4767c43d091bb9b663c8a66a1",
      "c1ee41dc04c346d480dffce7de0fb21b",
      "766a38baf35c4b13bc920f80df9cee3c",
      "e60eae2dab174d02912a66b147c3784d",
      "ae3801bb52e1426aabb697037c1c0f62",
      "24234455f931444a90336e8da5c89614",
      "98bff0ca79934c7d9ab408f5efafecf3",
      "2d1a42fe183240d3a4470a36752ac9fd",
      "c1460fde880346d98381401bff79e218",
      "5c8091646489432cb2e4f5acaff4f623",
      "141864e700ba42b39c93628c460444f1",
      "1a2af3186c484d2581cb4110f7c97733",
      "42508dfa40e14ec7a0d4f8d022f21e56",
      "0c176c5fd1de470fb05638901ca9676c",
      "1fada87db54a42bd9f079028e9766ee8",
      "40906e8ae72743a08331affb1a6de7d3",
      "f913f68e11dd4d5a8e551f12f9574414",
      "dbcedde419a445e597bc1fb7fcc5bc83",
      "5e3c274f17604bee8bb900002c37c418",
      "87998c77cb734ce3944df2625f9489e7",
      "b7d50b66df84475394438e3d934b3c2f",
      "f46fe81f4b894b3a9e5dd8bc7b90ce2e",
      "e91384cc8cc44ba2ad87872562d36fb2",
      "87487323e8474517a7fd904aa74da162",
      "7bd0bd03d77b4024a2b64d8ee9cc1f60",
      "d071a5d287974abfb30fbb49dd15c61a",
      "f506b9e8895a42099dde012cbe5a4300",
      "4251ecc03421484290b793e2724205c1",
      "4121c4a25aed4ddf834fa29c81ff9cb9",
      "fb35475e999a46b695c9d6a30a219cc7",
      "6942bda094d546c78779e4da07c65e64",
      "a1c3681408cb47729a463a179d218b97",
      "764e3184038d493a945030bf365b85e3",
      "041926926514439b9975b72552109708",
      "804a3d39fcab4f5e95b676fd35f42e7f",
      "062bbf8c59e3410791fa2e3ec82e4f85",
      "4febcfa419e64b989d8250a4ac6be2cd",
      "7e959f2d5f18411b9e6e952b17346435",
      "520853a783f44bc48ed4e646d0cd566f",
      "a98c6295123c401884cb9136cadb8b6d",
      "97d99320b4594472b218c2ce3d4296c4",
      "80b086a6157e458aac6abf68d887bc50",
      "d4227872ff33474da5f5f0e6eb9b8e15",
      "5b5e6a5589934d7bb19899137d086cc5",
      "40ee18f9f27b4a2b890558b66d6ef41e",
      "5c660f2335d748818d1c2e01cd4dc02b",
      "b7c157447eaf49e0b98225c1e90716b6",
      "757e40c4377d4d7c8eba996f8a801a73",
      "202fdfac9a62453b87c6fbefb22a8da6",
      "2f4847ab1e114b4c9fd4fe2f7fe613ce",
      "adef0b537d2a4b81bff0c544ae16b6d8",
      "03956535dcd34572819d620fe75c1965",
      "ac2f8aa0c6a740f2ad6ed48c5d68ac9f",
      "0fffd17812d840ba8fa05e4e81bd52b5",
      "8737e65e666845cba38e4d0c67b71058",
      "192a268c3e504d0c9386ee88a28d298a",
      "e8186a38bc704fe1b88e8fe13200c2d2",
      "49fb6b6403fa4bc18ace404b5e8c877c",
      "50b7ecd403d14780b970f68630df6ac5",
      "9f979fcd9ab54df0ae4cae2b6aa71f76",
      "2ab1240911ad45e89b9bd053cb905b63",
      "a969995580c64885b4c18aa05481df05",
      "8effa18edef24e209b4e8981c1e36167",
      "e3dba04c3acf4484b4fdab2b81d30766",
      "deed6952aeb24b349fe2638fd182225d",
      "b3c2684633fd4930922ab807a87dddd0",
      "e5c9bd892a7f43f1ac89993df8874cd4",
      "b10f72a2480b4168931149e409e4784d",
      "f9955af836b1449fa6b0d23d0f78a500",
      "ee396e8cbee64869a09d203a0811c0d5",
      "b969e71207af466eb125a4bb3d33bb41",
      "1d0b0ec8ffcc4255a57d011fcbf60eae",
      "9f9c4d10fa9e48daabc81f8b2ae8084b",
      "750299aa7095482f8c03d0e3cefe2a1d",
      "e1ed676154304c1fb67c948c53bd9cbf",
      "e1615b8f5f4843aab59b96dc76ac622c",
      "859195f82455461f898de8641bc9c7d5",
      "91220536492e4e4f82861648b3de95f6",
      "1d1f2f75f1024fb992af7c1024a53d21",
      "cb3a575d03b9426baf15850f1f7bf248",
      "d0ad34aac5eb4a22b9dbe7e312b126f9",
      "dc2a2320e07d459688eec603d38c34f9",
      "1f92acb446c642e6852fd21bcb82f372",
      "13185ae4000d42afb77a3b23460cb3cd",
      "f54144e06e9648c9ac7877230a582c76",
      "21a4956a6be84bcaa7f05d7b94638b50"
     ]
    },
    "executionInfo": {
     "elapsed": 508362,
     "status": "ok",
     "timestamp": 1754807401472,
     "user": {
      "displayName": "Mohamed Noordeen Alaudeen",
      "userId": "13097854355562551879"
     },
     "user_tz": -240
    },
    "id": "vY4cmJuqKjgf",
    "outputId": "28128b64-1b89-4683-ff2d-6f5cd823bff2"
   },
   "outputs": [],
   "source": [
    "results = lm_eval.simple_evaluate(\n",
    "    model=eval_model,\n",
    "    tasks=[\"hellaswag\", \"arc_easy\"],\n",
    "    num_fewshot=0,\n",
    "    batch_size=16,\n",
    ")"
   ]
  },
  {
   "cell_type": "code",
   "execution_count": null,
   "metadata": {
    "colab": {
     "base_uri": "https://localhost:8080/",
     "height": 206
    },
    "executionInfo": {
     "elapsed": 100,
     "status": "ok",
     "timestamp": 1754807437962,
     "user": {
      "displayName": "Mohamed Noordeen Alaudeen",
      "userId": "13097854355562551879"
     },
     "user_tz": -240
    },
    "id": "Conu8kZsQ6Es",
    "outputId": "a2ac3c6d-95ed-477d-9364-11d11336bc0c"
   },
   "outputs": [],
   "source": [
    "import pandas as pd\n",
    "\n",
    "pd.DataFrame(results[\"results\"])"
   ]
  },
  {
   "cell_type": "code",
   "execution_count": null,
   "metadata": {
    "id": "ceTbN0TlrJPp"
   },
   "outputs": [],
   "source": [
    "Temperature : Controlling the creativity\n",
    "Range : 0 - 2\n",
    "Temperature : 0 - Less Creativity\n",
    "Temperature : 2 - More Creativity\n",
    "\n",
    "Temperature in used in Formula"
   ]
  },
  {
   "cell_type": "markdown",
   "metadata": {
    "id": "M0gSRBoIq4bd"
   },
   "source": [
    "### Few-shot MMLU (Machine Learning)"
   ]
  },
  {
   "cell_type": "code",
   "execution_count": null,
   "metadata": {
    "colab": {
     "base_uri": "https://localhost:8080/",
     "height": 325,
     "referenced_widgets": [
      "a61a89346b2b460784f74df3a0ad5a7f",
      "e38ddad4124f4dea80835f2d494bc86c",
      "4a0c8f8245bb476ba7f95ae32918055f",
      "b4944ed9159b4bca86067b0853ab3eb9",
      "b9b8ca03e161456bac04bbbcb9d619ff",
      "0c6651b547384b4c8e4ae7eaf0d9a604",
      "355eb5d14990442c97dec92f5d490d7d",
      "27b5fbe4f1914893b151dc72b75e14ee",
      "15b76604aea5473bab4c09398f38d2a2",
      "0928d14081d8458cabdef60e5769782f",
      "aeec15ea389e4daea796415ef8501745",
      "0529491c90fa448f982aef47dfef35e5",
      "a7b12d9468434267b88ce2ca715e3d5a",
      "2ce3ef4eca7d4722b02a4a429fc84a15",
      "63b97e8704ce4f089b673bc45df54893",
      "3664342fc15846d7bcc5768a0ecf9319",
      "299aae7815434bbf9d665f4e65e48c4c",
      "788902da6e9d4e9e95808c0d56e3fcb8",
      "265061d93e7b433a81571576e92b5040",
      "41280c7637d745a187e3c775b378fa9f",
      "f94a411ade5e4c07938897775371ee51",
      "3f92a10e57dc49718ae856a8738720f7",
      "52c74dc7748b4d32948f5bfe96fa523d",
      "9efddc8c997d4aceb42f54bdcf6ffbd1",
      "56c3defd371940efab4e71168a106363",
      "e2d545607b834aa7a53b146ceaa2af6d",
      "24668ae953d84b57896508105ea24674",
      "17583f4c8be149a0bf1b8cdcb17f7cd6",
      "66b88b01c8724afd8f7ce973e2b93ee6",
      "e8474993d9aa4fb4b159994a4f0772c1",
      "be2843c61b124398a7666ff6ba53ab48",
      "2056a503203d4ef4a54c96d2ddf1f75b",
      "1b0e7e569b584328af95d864e5ae6c73",
      "d697b4f854984faf85e3b9afccaebc9e",
      "fe23d549caef4eeca13e54b2b2be2828",
      "44aa411bbf174958a6c9f93d65790ac5",
      "a3a9e0ba3dcc4e359182c272dbf285c3",
      "b98c0111b688486fb856a62baecd8e31",
      "2c8bd3b7472a452dbd3c29ef520f9767",
      "bca95ba319a0491b9031b7a61e35d6e1",
      "e33e72dba0da41d08ca3d353c16a6f89",
      "761688a84a424ccc81961b155eb4c3b9",
      "2012fa340c754f1ca5ded1c455af3348",
      "f741752ac7814fa1aa6b68dcb71fd1d1",
      "dd1c6e1ff71743dda648045f95a01b46",
      "94334c1cfa604502ae8593878337cf83",
      "db8c114c63de402c802f09b9aa07110a",
      "48a688e72a63485498988194fea31fa9",
      "e2dcbcc7f3464d46857f40672e2abcac",
      "0455fe08aa174086a0c70cc787738cf0",
      "afd34f441e764673826375fbc9a5256e",
      "3b4cdf4b6c4046548febe93a8694dc8e",
      "cfa77aae158d4a098e8e3c17b2e668b0",
      "3879935a03894152b174d54ec4198971",
      "3fd19a0c6e164272b810df2a9c042eff",
      "5b79fd4556244ed6880765ad2afb1b37",
      "758233eca9dd4407ba2910f4ac7ae2a0",
      "ae300cd06cd24401852dc35e08e1a550",
      "e6116353e2cc40d991a4755161380204",
      "e36d555e17294dd5b3f6993aac63e946",
      "a18dc621ba9f469f8f41951a727b231b",
      "af5dcba7fba94d7d8fea88b80b72cd03",
      "20212b6ded7849c2b2181552acca4c0e",
      "e73307b3b4dd43828994447d2023d195",
      "f88284a9c39246e3bbb3c482dce8d5d1",
      "c2ab5fdeb64f40f9872d0bc0cf79ba94",
      "ec34aa72c28d467abf7ccab77e1ed19f",
      "77003a396b5046f98a0fbf6d01ed7fd6",
      "c2749dcfd95440369fc6ca7595390b7b",
      "84cbadf08048481690acdf484fc85c80",
      "836afa9907664b4f9fd2116b57c14099",
      "49f66cc8ed2b46e08666049d052e9a1c",
      "78965835ca634a48834f17c93724c6fc",
      "5ab71a79fcc5460aba903b09397ec537",
      "c667e2b5225e41aa8ad532ee68d10faa",
      "cad30c9b051a41b992f687e9cf8a3b8e",
      "a2076f02f14745eaaac0afecb05ab250",
      "fc80315ed83146fc9eb81a1cf29dc607",
      "d45046bf8aab4b91b12db43c62ea1b3f",
      "ca70d0c4373342039961a617ce3f25f6",
      "484ba5e4e7b045a38f02cd9197081203",
      "51f7d83e769c456fade5ebb95c9c2533",
      "e8109885a032455a98d01d13f3e2400e",
      "5dda88d204034175b7ab344ea6aca815",
      "05640fb82c1849289d4e3afa40e84f9c",
      "c35d699c477d414d8965134b260f1fc2",
      "b8afb61e93564e4ea3e79354622a8ad3",
      "199f4c6232c441838c936310e8b08419"
     ]
    },
    "executionInfo": {
     "elapsed": 44469,
     "status": "ok",
     "timestamp": 1754808696626,
     "user": {
      "displayName": "Mohamed Noordeen Alaudeen",
      "userId": "13097854355562551879"
     },
     "user_tz": -240
    },
    "id": "jWiHpPLSS4V_",
    "outputId": "ad152c40-3033-4dcb-f92f-f17900f0bb89"
   },
   "outputs": [],
   "source": [
    "fs_mmlu_results = lm_eval.simple_evaluate(\n",
    "    model=eval_model,\n",
    "    tasks=[\"mmlu_flan_n_shot_loglikelihood_machine_learning\"],\n",
    "    num_fewshot=5,\n",
    "    batch_size=16,\n",
    ")"
   ]
  },
  {
   "cell_type": "code",
   "execution_count": null,
   "metadata": {
    "id": "Y1NwvNZlToFF"
   },
   "outputs": [],
   "source": [
    "import pandas as pd\n",
    "\n",
    "pd.DataFrame(fs_mmlu_results[\"results\"])"
   ]
  },
  {
   "cell_type": "markdown",
   "metadata": {
    "id": "pZVWYmewq7wT"
   },
   "source": [
    "### Zero-Shot MMLU (Machine Learning)"
   ]
  },
  {
   "cell_type": "code",
   "execution_count": null,
   "metadata": {
    "id": "pwbJvwz1dT-w"
   },
   "outputs": [],
   "source": [
    "zs_mmlu_results = lm_eval.simple_evaluate(\n",
    "    model=eval_model,\n",
    "    tasks=[\"mmlu_flan_n_shot_loglikelihood_machine_learning\"],\n",
    "    num_fewshot=0,\n",
    "    batch_size=16,\n",
    ")"
   ]
  },
  {
   "cell_type": "code",
   "execution_count": null,
   "metadata": {
    "id": "-nJQZcxvdWHF"
   },
   "outputs": [],
   "source": [
    "import pandas as pd\n",
    "\n",
    "pd.DataFrame(zs_mmlu_results[\"results\"])"
   ]
  },
  {
   "cell_type": "code",
   "execution_count": null,
   "metadata": {
    "id": "74VhIi79TlD_"
   },
   "outputs": [],
   "source": [
    "cot_mmlu_results = lm_eval.simple_evaluate(\n",
    "    model=eval_model,\n",
    "    tasks=[\"mmlu_flan_cot_zeroshot_conceptual_physics\"],\n",
    "    num_fewshot=0,\n",
    "    batch_size=16,\n",
    ")"
   ]
  },
  {
   "cell_type": "code",
   "execution_count": null,
   "metadata": {
    "id": "hDD7Av-BTqy6"
   },
   "outputs": [],
   "source": [
    "import pandas as pd\n",
    "\n",
    "pd.DataFrame(cot_mmlu_results[\"results\"])"
   ]
  },
  {
   "cell_type": "markdown",
   "metadata": {
    "id": "y0_1IVo-PUzF"
   },
   "source": [
    "####❓Question:\n",
    "\n",
    "What *exactly* are these two benchmarks measuring?"
   ]
  }
 ],
 "metadata": {
  "accelerator": "GPU",
  "colab": {
   "gpuType": "A100",
   "machine_shape": "hm",
   "provenance": []
  },
  "kernelspec": {
   "display_name": "Python 3",
   "name": "python3"
  },
  "language_info": {
   "name": "python"
  }
 },
 "nbformat": 4,
 "nbformat_minor": 0
}
