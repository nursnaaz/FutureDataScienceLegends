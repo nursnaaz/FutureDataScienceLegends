{
 "cells": [
  {
   "cell_type": "markdown",
   "metadata": {},
   "source": [
    "# Topic Modeling on Research Papers\n",
    "\n",
    "We will do an interesting exercise here—build topic models on past research papers\n",
    "from the very popular NIPS conference (now known as the NeurIPS conference). The\n",
    "late professor Sam Roweis compiled an excellent collection of NIPS Conference Papers\n",
    "from Volume 1 – 12, which you can find at https://cs.nyu.edu/~roweis/data.html.\n",
    "An interesting fact is that he obtained this by massaging the OCR’d data from NIPS\n",
    "1-12, which was actually the pre-electronic submission era. Yann LeCun made the data\n",
    "available. There is an even more updated dataset available up to NIPS 17 at http://\n",
    "ai.stanford.edu/~gal/data.html. However, that dataset is in the form of a MAT file, so\n",
    "you might need to do some additional preprocessing before working on it in Python.\n",
    "\n",
    "\n",
    "# The Main Objective\n",
    "\n",
    "Considering our discussion so far, our main objective is pretty simple. Given a whole\n",
    "bunch of conference research papers, can we identify some key themes or topics from\n",
    "these papers by leveraging unsupervised learning? We do not have the liberty of labeled\n",
    "categories telling us what the major themes of every research paper are. Besides that, we\n",
    "are dealing with text data extracted using OCR (optical character recognition). Hence,\n",
    "you can expect misspelled words, words with characters missing, and so on, which\n",
    "makes our problem even more challenging"
   ]
  },
  {
   "cell_type": "markdown",
   "metadata": {
    "colab_type": "text",
    "id": "bsTqya546U6q"
   },
   "source": [
    "# Download Data and Dependencies"
   ]
  },
  {
   "cell_type": "code",
   "execution_count": 1,
   "metadata": {
    "colab": {
     "base_uri": "https://localhost:8080/",
     "height": 204
    },
    "colab_type": "code",
    "id": "BJaNFsqQ6KGt",
    "outputId": "640bc7b3-5c41-44e5-f5ba-46a700fd311c"
   },
   "outputs": [
    {
     "name": "stdout",
     "output_type": "stream",
     "text": [
      "--2019-08-04 18:34:55--  https://cs.nyu.edu/~roweis/data/nips12raw_str602.tgz\n",
      "Resolving cs.nyu.edu (cs.nyu.edu)... 128.122.49.30\n",
      "Connecting to cs.nyu.edu (cs.nyu.edu)|128.122.49.30|:443... connected.\n",
      "HTTP request sent, awaiting response... 200 OK\n",
      "Length: 12851423 (12M) [application/x-gzip]\n",
      "Saving to: ‘nips12raw_str602.tgz’\n",
      "\n",
      "nips12raw_str602.tg 100%[===================>]  12.26M  14.4MB/s    in 0.9s    \n",
      "\n",
      "2019-08-04 18:34:56 (14.4 MB/s) - ‘nips12raw_str602.tgz’ saved [12851423/12851423]\n",
      "\n"
     ]
    }
   ],
   "source": [
    "!wget https://cs.nyu.edu/~roweis/data/nips12raw_str602.tgz\n",
    "!tar -xzf nips12raw_str602.tgz"
   ]
  },
  {
   "cell_type": "code",
   "execution_count": 8,
   "metadata": {
    "colab": {
     "base_uri": "https://localhost:8080/",
     "height": 153
    },
    "colab_type": "code",
    "id": "C36S18zo8w3b",
    "outputId": "8ef5b2e7-c0d5-483b-a61b-ad476293803d"
   },
   "outputs": [
    {
     "name": "stdout",
     "output_type": "stream",
     "text": [
      "Requirement already satisfied: tqdm in /usr/local/lib/python3.6/dist-packages (4.28.1)\n",
      "[nltk_data] Downloading package punkt to /root/nltk_data...\n",
      "[nltk_data]   Package punkt is already up-to-date!\n",
      "[nltk_data] Downloading package stopwords to /root/nltk_data...\n",
      "[nltk_data]   Package stopwords is already up-to-date!\n",
      "[nltk_data] Downloading package wordnet to /root/nltk_data...\n",
      "[nltk_data]   Unzipping corpora/wordnet.zip.\n"
     ]
    },
    {
     "data": {
      "text/plain": [
       "True"
      ]
     },
     "execution_count": 8,
     "metadata": {
      "tags": []
     },
     "output_type": "execute_result"
    }
   ],
   "source": [
    "!pip install tqdm\n",
    "import nltk\n",
    "nltk.download('punkt')\n",
    "nltk.download('stopwords')\n",
    "nltk.download('wordnet')"
   ]
  },
  {
   "cell_type": "code",
   "execution_count": 2,
   "metadata": {
    "colab": {
     "base_uri": "https://localhost:8080/",
     "height": 54
    },
    "colab_type": "code",
    "id": "oHpf-YxR6XuW",
    "outputId": "98d9aeb3-706a-484e-f682-bb6afd99df34"
   },
   "outputs": [
    {
     "name": "stdout",
     "output_type": "stream",
     "text": [
      "['nips05', 'RAW_DATA_NOTES', 'README_yann', 'nips07', 'idx', 'nips11', 'nips09', 'nips02', 'nips00', 'nips01', 'nips06', 'nips12', 'MATLAB_NOTES', 'nips08', 'nips04', 'nips10', 'nips03', 'orig']\n"
     ]
    }
   ],
   "source": [
    "import os\n",
    "import numpy as np\n",
    "import pandas as pd\n",
    "\n",
    "DATA_PATH = 'nipstxt/'\n",
    "print(os.listdir(DATA_PATH))"
   ]
  },
  {
   "cell_type": "markdown",
   "metadata": {
    "colab_type": "text",
    "id": "y20UiwtA6pAg"
   },
   "source": [
    "# Load NIPS Research Papers Data"
   ]
  },
  {
   "cell_type": "code",
   "execution_count": 3,
   "metadata": {
    "colab": {
     "base_uri": "https://localhost:8080/",
     "height": 34
    },
    "colab_type": "code",
    "id": "D3G8nUsJ6h7V",
    "outputId": "3b57a314-f599-4e4f-a4f0-a7dcbe66d615"
   },
   "outputs": [
    {
     "data": {
      "text/plain": [
       "1740"
      ]
     },
     "execution_count": 3,
     "metadata": {
      "tags": []
     },
     "output_type": "execute_result"
    }
   ],
   "source": [
    "folders = [\"nips{0:02}\".format(i) for i in range(0,13)]\n",
    "# Read all texts into a list.\n",
    "papers = []\n",
    "for folder in folders:\n",
    "    file_names = os.listdir(DATA_PATH + folder)\n",
    "    for file_name in file_names:\n",
    "        with open(DATA_PATH + folder + '/' + file_name, encoding='utf-8', errors='ignore', mode='r+') as f:\n",
    "            data = f.read()\n",
    "        papers.append(data)\n",
    "len(papers)"
   ]
  },
  {
   "cell_type": "code",
   "execution_count": 4,
   "metadata": {
    "colab": {
     "base_uri": "https://localhost:8080/",
     "height": 391
    },
    "colab_type": "code",
    "id": "JaTh1Jll6kx9",
    "outputId": "f581cd71-bbfe-4198-f49c-74fbb0cc8e63"
   },
   "outputs": [
    {
     "name": "stdout",
     "output_type": "stream",
     "text": [
      "249 \n",
      "HIERARCHICAL LEARNING CONTROL - \n",
      "AN APPROACH WITH NEURON-LIKE ASSOCIATIVE MEMORIES \n",
      "E. Ers \n",
      "ISRA Systemtechnik GmbH, Sch6fferstr. 15, D-6100 Darmstadt, FRG \n",
      "H. Tolle \n",
      "TH Darmstadt, Institut fgr Regelungstechnik, \n",
      "Schlograben 1, D-6100 Darmstadt, FRG \n",
      "ABSTRACT \n",
      "Advances in brain theory need two complementary approaches: \n",
      "Analytical investigations by in situ measurements and as well syn- \n",
      "thetic modelling supported by computer simulations to generate \n",
      "suggestive hypothesis on purposeful structures in the neural \n",
      "tissue. In this paper research of the second line is described: \n",
      "Starting from a neurophysiologically inspired model of stimulus- \n",
      "response (S-R) and/or associative memorization and a psychological- \n",
      "ly motivated ministructure for basic control tasks, pre-conditions \n",
      "and conditions are studied for cooperation of such units in a \n",
      "hierarchical organisation, as can be assumed to be the general \n",
      "layout of macrostructures in the brain. \n",
      "I. INTRODUCTION \n",
      "Theoretic modelling in b\n"
     ]
    }
   ],
   "source": [
    "print(papers[0][:1000])"
   ]
  },
  {
   "cell_type": "markdown",
   "metadata": {
    "colab_type": "text",
    "id": "NNqkh2nb8qpe"
   },
   "source": [
    "# Basic Text Pre-processing\n",
    "\n",
    "We perform some basic text wrangling or preprocessing before diving into topic\n",
    "modeling. We keep things simple here"
   ]
  },
  {
   "cell_type": "code",
   "execution_count": 9,
   "metadata": {
    "colab": {
     "base_uri": "https://localhost:8080/",
     "height": 85
    },
    "colab_type": "code",
    "id": "Jhsbee7g8lwa",
    "outputId": "7a27795c-adbe-409a-ad2a-4a9076715631"
   },
   "outputs": [
    {
     "name": "stderr",
     "output_type": "stream",
     "text": [
      "100%|██████████| 1740/1740 [00:43<00:00, 40.23it/s]"
     ]
    },
    {
     "name": "stdout",
     "output_type": "stream",
     "text": [
      "1740\n",
      "CPU times: user 41.8 s, sys: 1.25 s, total: 43.1 s\n",
      "Wall time: 43.3 s\n"
     ]
    },
    {
     "name": "stderr",
     "output_type": "stream",
     "text": [
      "\n"
     ]
    }
   ],
   "source": [
    "%%time\n",
    "import nltk\n",
    "import tqdm\n",
    "\n",
    "stop_words = nltk.corpus.stopwords.words('english')\n",
    "wtk = nltk.tokenize.RegexpTokenizer(r'\\w+')\n",
    "wnl = nltk.stem.wordnet.WordNetLemmatizer()\n",
    "\n",
    "def normalize_corpus(papers):\n",
    "    norm_papers = []\n",
    "    for paper in tqdm.tqdm(papers):\n",
    "        paper = paper.lower()\n",
    "        paper_tokens = [token.strip() for token in wtk.tokenize(paper)]\n",
    "        paper_tokens = [wnl.lemmatize(token) for token in paper_tokens if not token.isnumeric()]\n",
    "        paper_tokens = [token for token in paper_tokens if len(token) > 1]\n",
    "        paper_tokens = [token for token in paper_tokens if token not in stop_words]\n",
    "        paper_tokens = list(filter(None, paper_tokens))\n",
    "        if paper_tokens:\n",
    "            norm_papers.append(paper_tokens)\n",
    "            \n",
    "    return norm_papers\n",
    "    \n",
    "norm_papers = normalize_corpus(papers)\n",
    "print(len(norm_papers))"
   ]
  },
  {
   "cell_type": "code",
   "execution_count": 10,
   "metadata": {
    "colab": {
     "base_uri": "https://localhost:8080/",
     "height": 54
    },
    "colab_type": "code",
    "id": "Cq4EhTwP-I_U",
    "outputId": "b3a78f61-107b-4934-cd0a-a19a9271b52c"
   },
   "outputs": [
    {
     "name": "stdout",
     "output_type": "stream",
     "text": [
      "['hierarchical', 'learning', 'control', 'approach', 'neuron', 'like', 'associative', 'memory', 'er', 'isra', 'systemtechnik', 'gmbh', 'sch6fferstr', 'darmstadt', 'frg', 'tolle', 'th', 'darmstadt', 'institut', 'fgr', 'regelungstechnik', 'schlo', 'graben', 'darmstadt', 'frg', 'abstract', 'advance', 'brain', 'theory', 'need', 'two', 'complementary', 'approach', 'analytical', 'investigation', 'situ', 'measurement', 'well', 'syn', 'thetic', 'modelling', 'supported', 'computer', 'simulation', 'generate', 'suggestive', 'hypothesis', 'purposeful', 'structure', 'neural']\n"
     ]
    }
   ],
   "source": [
    "print(norm_papers[0][:50])"
   ]
  },
  {
   "cell_type": "markdown",
   "metadata": {
    "colab_type": "text",
    "id": "wFubckun_IYp"
   },
   "source": [
    "# Build a Bi-gram Phrase Model\n",
    "\n",
    "Before feature engineering and vectorization, we want to extract some useful bi-gram\n",
    "based phrases from our research papers and remove some unnecessary terms. We\n",
    "leverage the very useful gensim.models.Phrases class for this. This capability helps us\n",
    "automatically detect common phrases from a stream of sentences, which are typically\n",
    "multi-word expressions/word n-grams. \n",
    "\n",
    "This implementation draws inspiration\n",
    "from the famous paper by Mikolov, et al., “Distributed Representations of Words and\n",
    "Phrases and their Compositionality,” which you can check out at https://arxiv.org/\n",
    "abs/1310.4546. We start by extracting and generating words and bi-grams as phrases for\n",
    "each tokenized research paper. \n",
    "\n",
    "We leverage the `min_count` parameter, which tells us that our model ignores all words and bi-grams with total\n",
    "collected count lower than 20 across the corpus (of the input paper as a list of tokenized\n",
    "sentences). We also use a `threshold` of 20, which tells us that the model accepts specific\n",
    "phrases based on this threshold value so that a phrase of words a followed by b is\n",
    "accepted if the score of the phrase is greater than the threshold of 20. This threshold is\n",
    "dependent on the scoring parameter, which helps us understand how these phrases are\n",
    "scored to understand their influence.\n",
    "Typically the default scorer is used and it’s pretty straightforward to understand.\n",
    "You can check out further details in the documentation at https://radimrehurek.com/\n",
    "gensim/models/phrases.html#gensim.models.phrases.original_scorer and in the\n",
    "previously mentioned research paper."
   ]
  },
  {
   "cell_type": "code",
   "execution_count": 11,
   "metadata": {
    "colab": {
     "base_uri": "https://localhost:8080/",
     "height": 54
    },
    "colab_type": "code",
    "id": "6IX3-ZbQ-fXp",
    "outputId": "45780848-4d74-4799-dd6d-7efb85695fb2"
   },
   "outputs": [
    {
     "name": "stdout",
     "output_type": "stream",
     "text": [
      "['hierarchical', 'learning', 'control', 'approach', 'neuron', 'like', 'associative_memory', 'er', 'isra', 'systemtechnik', 'gmbh', 'sch6fferstr', 'darmstadt', 'frg', 'tolle', 'th', 'darmstadt', 'institut', 'fgr', 'regelungstechnik', 'schlo', 'graben', 'darmstadt', 'frg', 'abstract', 'advance', 'brain', 'theory', 'need', 'two', 'complementary', 'approach', 'analytical', 'investigation', 'situ', 'measurement', 'well', 'syn', 'thetic', 'modelling', 'supported', 'computer_simulation', 'generate', 'suggestive', 'hypothesis', 'purposeful', 'structure', 'neural', 'tissue', 'paper']\n"
     ]
    }
   ],
   "source": [
    "import gensim\n",
    "\n",
    "bigram = gensim.models.Phrases(norm_papers, min_count=20, threshold=20, delimiter=b'_') # higher threshold fewer phrases.\n",
    "bigram_model = gensim.models.phrases.Phraser(bigram)\n",
    "\n",
    "print(bigram_model[norm_papers[0]][:50])"
   ]
  },
  {
   "cell_type": "code",
   "execution_count": 12,
   "metadata": {
    "colab": {
     "base_uri": "https://localhost:8080/",
     "height": 71
    },
    "colab_type": "code",
    "id": "KaGCzYSU-jx1",
    "outputId": "9c3282fc-4d33-47dc-e16d-f981b66235d7"
   },
   "outputs": [
    {
     "name": "stdout",
     "output_type": "stream",
     "text": [
      "Sample word to number mappings: [(0, '1st'), (1, '2nd'), (2, '2sec'), (3, '4th'), (4, '9a'), (5, '9b'), (6, '9th'), (7, 'ability'), (8, 'abstract'), (9, 'abstraction'), (10, 'accept'), (11, 'accordingly'), (12, 'achieved'), (13, 'achieving'), (14, 'aci')]\n",
      "Total Vocabulary Size: 78892\n"
     ]
    }
   ],
   "source": [
    "norm_corpus_bigrams = [bigram_model[doc] for doc in norm_papers]\n",
    "\n",
    "# Create a dictionary representation of the documents.\n",
    "dictionary = gensim.corpora.Dictionary(norm_corpus_bigrams)\n",
    "print('Sample word to number mappings:', list(dictionary.items())[:15])\n",
    "print('Total Vocabulary Size:', len(dictionary))"
   ]
  },
  {
   "cell_type": "markdown",
   "metadata": {},
   "source": [
    "Looks like we have a lot of unique phrases in our corpus of research papers,\n",
    "based on the preceding output. Several of these terms are not very useful since they are\n",
    "specific to a paper or even a paragraph in a research paper. Hence, it is time to prune\n",
    "our vocabulary and start removing terms. Leveraging document frequency is a great way\n",
    "to achieve this. "
   ]
  },
  {
   "cell_type": "code",
   "execution_count": 13,
   "metadata": {
    "colab": {
     "base_uri": "https://localhost:8080/",
     "height": 34
    },
    "colab_type": "code",
    "id": "YTiZ2Bxe-tNK",
    "outputId": "98e194eb-416e-427f-fbc5-e4e0f7b1a668"
   },
   "outputs": [
    {
     "name": "stdout",
     "output_type": "stream",
     "text": [
      "Total Vocabulary Size: 7756\n"
     ]
    }
   ],
   "source": [
    "# Filter out words that occur less than 20 documents, or more than 60% of the documents.\n",
    "dictionary.filter_extremes(no_below=20, no_above=0.6)\n",
    "print('Total Vocabulary Size:', len(dictionary))"
   ]
  },
  {
   "cell_type": "markdown",
   "metadata": {},
   "source": [
    "We removed all terms that occur fewer than 20 times across all documents and all\n",
    "terms that occur in more than 60% of all the documents. We are interested in finding\n",
    "different themes and topics and not recurring themes. Hence, this suits our scenario\n",
    "perfectly."
   ]
  },
  {
   "cell_type": "markdown",
   "metadata": {
    "colab_type": "text",
    "id": "kj2lB4_b_eFO"
   },
   "source": [
    "# Transforming corpus into bag of words vectors\n",
    "\n",
    "We can now perform feature engineering by leveraging a simple Bag of Words\n",
    "model."
   ]
  },
  {
   "cell_type": "code",
   "execution_count": 14,
   "metadata": {
    "colab": {
     "base_uri": "https://localhost:8080/",
     "height": 54
    },
    "colab_type": "code",
    "id": "cp_fhm91-3R-",
    "outputId": "e177a889-d3e7-4b67-d822-cea455b593e8"
   },
   "outputs": [
    {
     "name": "stdout",
     "output_type": "stream",
     "text": [
      "[(4, 1), (5, 1), (15, 6), (16, 4), (27, 1), (31, 1), (32, 1), (35, 4), (39, 1), (41, 1), (43, 1), (60, 1), (75, 9), (76, 1), (78, 2), (85, 10), (87, 29), (89, 7), (90, 3), (91, 1), (93, 9), (98, 1), (109, 3), (114, 1), (115, 5), (118, 1), (120, 3), (123, 1), (125, 3), (126, 1), (128, 1), (129, 1), (132, 2), (140, 9), (141, 1), (147, 3), (153, 3), (154, 1), (155, 4), (157, 3), (164, 1), (169, 2), (170, 1), (177, 3), (178, 3), (179, 1), (180, 2), (181, 1), (186, 2), (190, 1)]\n"
     ]
    }
   ],
   "source": [
    "# Transforming corpus into bag of words vectors\n",
    "bow_corpus = [dictionary.doc2bow(text) for text in norm_corpus_bigrams]\n",
    "print(bow_corpus[1][:50])"
   ]
  },
  {
   "cell_type": "code",
   "execution_count": 15,
   "metadata": {
    "colab": {
     "base_uri": "https://localhost:8080/",
     "height": 54
    },
    "colab_type": "code",
    "id": "_oOA652d-6sI",
    "outputId": "74b82e13-3ee3-4e01-85d1-7966821da3c6"
   },
   "outputs": [
    {
     "name": "stdout",
     "output_type": "stream",
     "text": [
      "[('ability', 1), ('abstract', 1), ('activity', 6), ('actual', 4), ('allow', 1), ('american_institute', 1), ('amount', 1), ('another', 4), ('application', 1), ('argument', 1), ('aspect', 1), ('basic', 1), ('brain', 9), ('build', 1), ('built', 2), ('capability', 10), ('cell', 29), ('cerebral', 7), ('cerebral_cortex', 3), ('certain', 1), ('change', 9), ('characterized', 1), ('combination', 3), ('complete', 1), ('complex', 5), ('composed', 1), ('computer_simulation', 3), ('conference', 1), ('connected', 3), ('connection', 1), ('consideration', 1), ('considered', 1), ('control', 2), ('cortical', 9), ('could', 1), ('defined', 3), ('design', 3), ('detail', 1), ('detailed', 4), ('development', 3), ('direction', 1), ('distributed', 2), ('distribution', 1), ('dynamic', 3), ('ed', 3), ('edelman', 1), ('effect', 2), ('effective', 1), ('element', 2), ('end', 1)]\n"
     ]
    }
   ],
   "source": [
    "print([(dictionary[idx] , freq) for idx, freq in bow_corpus[1][:50]])"
   ]
  },
  {
   "cell_type": "code",
   "execution_count": 16,
   "metadata": {
    "colab": {
     "base_uri": "https://localhost:8080/",
     "height": 34
    },
    "colab_type": "code",
    "id": "aAjuxxdH--fn",
    "outputId": "dbe56299-2754-40aa-980b-40cc5876d525"
   },
   "outputs": [
    {
     "name": "stdout",
     "output_type": "stream",
     "text": [
      "Total number of papers: 1740\n"
     ]
    }
   ],
   "source": [
    "print('Total number of papers:', len(bow_corpus))"
   ]
  },
  {
   "cell_type": "markdown",
   "metadata": {
    "colab_type": "text",
    "id": "zUb8ZKJXJI-4"
   },
   "source": [
    "# Topic Models with Latent Dirichlet Allocation (LDA)\n",
    "\n",
    "The Latent Dirichlet Allocation (LDA) technique is a generative probabilistic model in\n",
    "which each document is assumed to have a combination of topics similar to a probabilistic\n",
    "Latent Semantic Indexing model. In this case, the latent topics contain a Dirichlet\n",
    "prior over them. The math behind in this technique is pretty involved, so we will try to\n",
    "summarize it since going it specific details is out of the current scope.\n",
    "\n",
    "![](https://i.imgur.com/l23JAvE.png)\n",
    "\n",
    "Simplyfying the LDA model process:\n",
    "\n",
    "![](https://i.imgur.com/0BXCaUi.png)\n",
    "\n",
    "![](https://i.imgur.com/ioiUAxX.png)"
   ]
  },
  {
   "cell_type": "code",
   "execution_count": 202,
   "metadata": {
    "colab": {
     "base_uri": "https://localhost:8080/",
     "height": 51
    },
    "colab_type": "code",
    "id": "083_UQPlJZy_",
    "outputId": "96a68895-34c0-4963-e064-5c5b5c6b5757"
   },
   "outputs": [
    {
     "name": "stdout",
     "output_type": "stream",
     "text": [
      "CPU times: user 1min 52s, sys: 1.94 s, total: 1min 54s\n",
      "Wall time: 1min 51s\n"
     ]
    }
   ],
   "source": [
    "%%time\n",
    "\n",
    "lda_model = gensim.models.LdaModel(corpus=bow_corpus, id2word=dictionary, chunksize=1740, \n",
    "                                   alpha='auto', eta='auto', random_state=42,\n",
    "                                   iterations=500, num_topics=TOTAL_TOPICS, \n",
    "                                   passes=20, eval_every=None)"
   ]
  },
  {
   "cell_type": "code",
   "execution_count": 203,
   "metadata": {
    "colab": {
     "base_uri": "https://localhost:8080/",
     "height": 547
    },
    "colab_type": "code",
    "id": "IF9KX9UARO1r",
    "outputId": "3b6b048a-0bca-48b4-80d4-4aa63b864a6f"
   },
   "outputs": [
    {
     "name": "stdout",
     "output_type": "stream",
     "text": [
      "Topic #1:\n",
      "0.022*\"image\" + 0.009*\"object\" + 0.008*\"feature\" + 0.007*\"vector\" + 0.004*\"bit\" + 0.004*\"pixel\" + 0.004*\"view\" + 0.004*\"chip\" + 0.004*\"search\" + 0.004*\"processor\" + 0.003*\"constraint\" + 0.003*\"code\" + 0.003*\"region\" + 0.003*\"parallel\" + 0.003*\"distance\" + 0.003*\"solution\" + 0.003*\"matrix\" + 0.003*\"surface\" + 0.003*\"memory\" + 0.003*\"application\"\n",
      "\n",
      "Topic #2:\n",
      "0.011*\"unit\" + 0.009*\"structure\" + 0.008*\"variable\" + 0.007*\"node\" + 0.007*\"representation\" + 0.006*\"tree\" + 0.006*\"vector\" + 0.006*\"cluster\" + 0.005*\"image\" + 0.004*\"probability\" + 0.004*\"pattern\" + 0.004*\"clustering\" + 0.004*\"level\" + 0.004*\"feature\" + 0.004*\"graph\" + 0.004*\"object\" + 0.003*\"mixture\" + 0.003*\"distribution\" + 0.003*\"layer\" + 0.003*\"local\"\n",
      "\n",
      "Topic #3:\n",
      "0.023*\"state\" + 0.012*\"action\" + 0.011*\"control\" + 0.007*\"policy\" + 0.007*\"step\" + 0.006*\"task\" + 0.006*\"reinforcement_learning\" + 0.005*\"optimal\" + 0.005*\"controller\" + 0.005*\"environment\" + 0.004*\"robot\" + 0.004*\"goal\" + 0.004*\"reward\" + 0.004*\"expert\" + 0.003*\"td\" + 0.003*\"agent\" + 0.003*\"local\" + 0.003*\"cost\" + 0.003*\"current\" + 0.003*\"probability\"\n",
      "\n",
      "Topic #4:\n",
      "0.014*\"training\" + 0.010*\"feature\" + 0.010*\"word\" + 0.009*\"classifier\" + 0.009*\"classification\" + 0.009*\"recognition\" + 0.008*\"pattern\" + 0.007*\"class\" + 0.006*\"trained\" + 0.005*\"task\" + 0.005*\"speech\" + 0.004*\"test\" + 0.004*\"unit\" + 0.004*\"training_set\" + 0.004*\"character\" + 0.004*\"experiment\" + 0.004*\"rule\" + 0.004*\"face\" + 0.004*\"representation\" + 0.003*\"layer\"\n",
      "\n",
      "Topic #5:\n",
      "0.022*\"neuron\" + 0.017*\"cell\" + 0.009*\"circuit\" + 0.007*\"response\" + 0.007*\"current\" + 0.006*\"synaptic\" + 0.006*\"spike\" + 0.006*\"voltage\" + 0.005*\"activity\" + 0.005*\"pattern\" + 0.004*\"firing\" + 0.004*\"chip\" + 0.004*\"synapsis\" + 0.004*\"connection\" + 0.004*\"signal\" + 0.004*\"neural\" + 0.004*\"stimulus\" + 0.004*\"layer\" + 0.004*\"effect\" + 0.004*\"cortical\"\n",
      "\n",
      "Topic #6:\n",
      "0.007*\"distribution\" + 0.007*\"training\" + 0.006*\"noise\" + 0.005*\"estimate\" + 0.005*\"vector\" + 0.005*\"equation\" + 0.004*\"approximation\" + 0.004*\"gaussian\" + 0.004*\"sample\" + 0.004*\"prediction\" + 0.004*\"prior\" + 0.004*\"density\" + 0.004*\"linear\" + 0.004*\"variance\" + 0.004*\"rate\" + 0.004*\"average\" + 0.004*\"matrix\" + 0.003*\"optimal\" + 0.003*\"solution\" + 0.003*\"probability\"\n",
      "\n",
      "Topic #7:\n",
      "0.010*\"class\" + 0.007*\"let\" + 0.006*\"vector\" + 0.006*\"bound\" + 0.006*\"theorem\" + 0.005*\"linear\" + 0.005*\"probability\" + 0.005*\"node\" + 0.005*\"size\" + 0.004*\"threshold\" + 0.004*\"training\" + 0.004*\"proof\" + 0.004*\"kernel\" + 0.003*\"polynomial\" + 0.003*\"complexity\" + 0.003*\"xi\" + 0.003*\"theory\" + 0.003*\"consider\" + 0.003*\"machine\" + 0.003*\"defined\"\n",
      "\n",
      "Topic #8:\n",
      "0.011*\"state\" + 0.010*\"neuron\" + 0.010*\"dynamic\" + 0.009*\"pattern\" + 0.006*\"memory\" + 0.006*\"control\" + 0.005*\"equation\" + 0.005*\"attractor\" + 0.004*\"activity\" + 0.004*\"phase\" + 0.004*\"neural\" + 0.003*\"signal\" + 0.003*\"matrix\" + 0.003*\"motor\" + 0.003*\"oscillator\" + 0.003*\"movement\" + 0.003*\"fixed_point\" + 0.003*\"behavior\" + 0.003*\"trajectory\" + 0.003*\"connection\"\n",
      "\n",
      "Topic #9:\n",
      "0.009*\"stimulus\" + 0.009*\"visual\" + 0.009*\"motion\" + 0.009*\"signal\" + 0.008*\"response\" + 0.007*\"image\" + 0.007*\"unit\" + 0.007*\"filter\" + 0.006*\"cell\" + 0.006*\"direction\" + 0.005*\"map\" + 0.005*\"spatial\" + 0.004*\"orientation\" + 0.004*\"neuron\" + 0.004*\"receptive_field\" + 0.004*\"location\" + 0.004*\"pattern\" + 0.004*\"noise\" + 0.004*\"representation\" + 0.003*\"component\"\n",
      "\n",
      "Topic #10:\n",
      "0.019*\"unit\" + 0.014*\"state\" + 0.012*\"training\" + 0.009*\"sequence\" + 0.007*\"hidden_unit\" + 0.007*\"recurrent\" + 0.006*\"architecture\" + 0.006*\"layer\" + 0.006*\"net\" + 0.006*\"task\" + 0.005*\"activation\" + 0.005*\"node\" + 0.004*\"context\" + 0.004*\"rule\" + 0.004*\"trained\" + 0.004*\"pattern\" + 0.004*\"back_propagation\" + 0.004*\"step\" + 0.003*\"symbol\" + 0.003*\"hmm\"\n",
      "\n"
     ]
    }
   ],
   "source": [
    "for topic_id, topic in lda_model.print_topics(num_topics=10, num_words=20):\n",
    "    print('Topic #'+str(topic_id+1)+':')\n",
    "    print(topic)\n",
    "    print()"
   ]
  },
  {
   "cell_type": "code",
   "execution_count": 204,
   "metadata": {
    "colab": {
     "base_uri": "https://localhost:8080/",
     "height": 34
    },
    "colab_type": "code",
    "id": "4jExj9SYRRyE",
    "outputId": "a771013f-ea53-4171-df63-2dac9bf33b02"
   },
   "outputs": [
    {
     "name": "stdout",
     "output_type": "stream",
     "text": [
      "Avg. Coherence Score: -1.0530915936779408\n"
     ]
    }
   ],
   "source": [
    "topics_coherences = lda_model.top_topics(bow_corpus, topn=20)\n",
    "avg_coherence_score = np.mean([item[1] for item in topics_coherences])\n",
    "print('Avg. Coherence Score:', avg_coherence_score)"
   ]
  },
  {
   "cell_type": "markdown",
   "metadata": {},
   "source": [
    "Topic coherence is a complex topic in its own and it can be used to measure the\n",
    "quality of topic models to some extent. Typically, a set of statements is said to be\n",
    "coherent if they support each other. Topic models are unsupervised learning based\n",
    "models that are trained on unstructured text data, making it difficult to measure the\n",
    "quality of outputs. \n",
    "\n",
    "Refer to Text Analytics with Python 2nd Edition for more detail on this."
   ]
  },
  {
   "cell_type": "code",
   "execution_count": 205,
   "metadata": {
    "colab": {
     "base_uri": "https://localhost:8080/",
     "height": 581
    },
    "colab_type": "code",
    "id": "azEdB08qRX4z",
    "outputId": "4c483402-3aa5-4892-86f5-40d548138beb"
   },
   "outputs": [
    {
     "name": "stdout",
     "output_type": "stream",
     "text": [
      "LDA Topics with Weights\n",
      "==================================================\n",
      "Topic #1:\n",
      "[('distribution', 0.007), ('training', 0.007), ('noise', 0.006), ('estimate', 0.005), ('vector', 0.005), ('equation', 0.005), ('approximation', 0.004), ('gaussian', 0.004), ('sample', 0.004), ('prediction', 0.004), ('prior', 0.004), ('density', 0.004), ('linear', 0.004), ('variance', 0.004), ('rate', 0.004), ('average', 0.004), ('matrix', 0.004), ('optimal', 0.003), ('solution', 0.003), ('probability', 0.003)]\n",
      "\n",
      "Topic #2:\n",
      "[('stimulus', 0.009), ('visual', 0.009), ('motion', 0.009), ('signal', 0.009), ('response', 0.008), ('image', 0.007), ('unit', 0.007), ('filter', 0.007), ('cell', 0.006), ('direction', 0.006), ('map', 0.005), ('spatial', 0.005), ('orientation', 0.004), ('neuron', 0.004), ('receptive_field', 0.004), ('location', 0.004), ('pattern', 0.004), ('noise', 0.004), ('representation', 0.004), ('component', 0.003)]\n",
      "\n",
      "Topic #3:\n",
      "[('neuron', 0.022), ('cell', 0.017), ('circuit', 0.009), ('response', 0.007), ('current', 0.007), ('synaptic', 0.006), ('spike', 0.006), ('voltage', 0.006), ('activity', 0.005), ('pattern', 0.005), ('firing', 0.004), ('chip', 0.004), ('synapsis', 0.004), ('connection', 0.004), ('signal', 0.004), ('neural', 0.004), ('stimulus', 0.004), ('layer', 0.004), ('effect', 0.004), ('cortical', 0.004)]\n",
      "\n",
      "Topic #4:\n",
      "[('training', 0.014), ('feature', 0.01), ('word', 0.01), ('classifier', 0.009), ('classification', 0.009), ('recognition', 0.009), ('pattern', 0.008), ('class', 0.007), ('trained', 0.006), ('task', 0.005), ('speech', 0.005), ('test', 0.004), ('unit', 0.004), ('training_set', 0.004), ('character', 0.004), ('experiment', 0.004), ('rule', 0.004), ('face', 0.004), ('representation', 0.004), ('layer', 0.003)]\n",
      "\n",
      "Topic #5:\n",
      "[('class', 0.01), ('let', 0.007), ('vector', 0.006), ('bound', 0.006), ('theorem', 0.006), ('linear', 0.005), ('probability', 0.005), ('node', 0.005), ('size', 0.005), ('threshold', 0.004), ('training', 0.004), ('proof', 0.004), ('kernel', 0.004), ('polynomial', 0.003), ('complexity', 0.003), ('xi', 0.003), ('theory', 0.003), ('consider', 0.003), ('machine', 0.003), ('defined', 0.003)]\n",
      "\n",
      "Topic #6:\n",
      "[('unit', 0.011), ('structure', 0.009), ('variable', 0.008), ('node', 0.007), ('representation', 0.007), ('tree', 0.006), ('vector', 0.006), ('cluster', 0.006), ('image', 0.005), ('probability', 0.004), ('pattern', 0.004), ('clustering', 0.004), ('level', 0.004), ('feature', 0.004), ('graph', 0.004), ('object', 0.004), ('mixture', 0.003), ('distribution', 0.003), ('layer', 0.003), ('local', 0.003)]\n",
      "\n",
      "Topic #7:\n",
      "[('image', 0.022), ('object', 0.009), ('feature', 0.008), ('vector', 0.007), ('bit', 0.004), ('pixel', 0.004), ('view', 0.004), ('chip', 0.004), ('search', 0.004), ('processor', 0.004), ('constraint', 0.003), ('code', 0.003), ('region', 0.003), ('parallel', 0.003), ('distance', 0.003), ('solution', 0.003), ('matrix', 0.003), ('surface', 0.003), ('memory', 0.003), ('application', 0.003)]\n",
      "\n",
      "Topic #8:\n",
      "[('unit', 0.019), ('state', 0.014), ('training', 0.012), ('sequence', 0.009), ('hidden_unit', 0.007), ('recurrent', 0.007), ('architecture', 0.006), ('layer', 0.006), ('net', 0.006), ('task', 0.006), ('activation', 0.005), ('node', 0.005), ('context', 0.004), ('rule', 0.004), ('trained', 0.004), ('pattern', 0.004), ('back_propagation', 0.004), ('step', 0.004), ('symbol', 0.003), ('hmm', 0.003)]\n",
      "\n",
      "Topic #9:\n",
      "[('state', 0.023), ('action', 0.012), ('control', 0.011), ('policy', 0.007), ('step', 0.007), ('task', 0.006), ('reinforcement_learning', 0.006), ('optimal', 0.005), ('controller', 0.005), ('environment', 0.005), ('robot', 0.004), ('goal', 0.004), ('reward', 0.004), ('expert', 0.004), ('td', 0.003), ('agent', 0.003), ('local', 0.003), ('cost', 0.003), ('current', 0.003), ('probability', 0.003)]\n",
      "\n",
      "Topic #10:\n",
      "[('state', 0.011), ('neuron', 0.01), ('dynamic', 0.01), ('pattern', 0.009), ('memory', 0.006), ('control', 0.006), ('equation', 0.005), ('attractor', 0.005), ('activity', 0.004), ('phase', 0.004), ('neural', 0.004), ('signal', 0.003), ('matrix', 0.003), ('motor', 0.003), ('oscillator', 0.003), ('movement', 0.003), ('fixed_point', 0.003), ('behavior', 0.003), ('trajectory', 0.003), ('connection', 0.003)]\n",
      "\n"
     ]
    }
   ],
   "source": [
    "topics_with_wts = [item[0] for item in topics_coherences]\n",
    "print('LDA Topics with Weights')\n",
    "print('='*50)\n",
    "for idx, topic in enumerate(topics_with_wts):\n",
    "    print('Topic #'+str(idx+1)+':')\n",
    "    print([(term, round(wt, 3)) for wt, term in topic])\n",
    "    print()"
   ]
  },
  {
   "cell_type": "code",
   "execution_count": 206,
   "metadata": {
    "colab": {
     "base_uri": "https://localhost:8080/",
     "height": 581
    },
    "colab_type": "code",
    "id": "EAkgJa3XRZ3m",
    "outputId": "d6216f06-71d1-463c-c7d6-9e825e6d20b1"
   },
   "outputs": [
    {
     "name": "stdout",
     "output_type": "stream",
     "text": [
      "LDA Topics without Weights\n",
      "==================================================\n",
      "Topic #1:\n",
      "['distribution', 'training', 'noise', 'estimate', 'vector', 'equation', 'approximation', 'gaussian', 'sample', 'prediction', 'prior', 'density', 'linear', 'variance', 'rate', 'average', 'matrix', 'optimal', 'solution', 'probability']\n",
      "\n",
      "Topic #2:\n",
      "['stimulus', 'visual', 'motion', 'signal', 'response', 'image', 'unit', 'filter', 'cell', 'direction', 'map', 'spatial', 'orientation', 'neuron', 'receptive_field', 'location', 'pattern', 'noise', 'representation', 'component']\n",
      "\n",
      "Topic #3:\n",
      "['neuron', 'cell', 'circuit', 'response', 'current', 'synaptic', 'spike', 'voltage', 'activity', 'pattern', 'firing', 'chip', 'synapsis', 'connection', 'signal', 'neural', 'stimulus', 'layer', 'effect', 'cortical']\n",
      "\n",
      "Topic #4:\n",
      "['training', 'feature', 'word', 'classifier', 'classification', 'recognition', 'pattern', 'class', 'trained', 'task', 'speech', 'test', 'unit', 'training_set', 'character', 'experiment', 'rule', 'face', 'representation', 'layer']\n",
      "\n",
      "Topic #5:\n",
      "['class', 'let', 'vector', 'bound', 'theorem', 'linear', 'probability', 'node', 'size', 'threshold', 'training', 'proof', 'kernel', 'polynomial', 'complexity', 'xi', 'theory', 'consider', 'machine', 'defined']\n",
      "\n",
      "Topic #6:\n",
      "['unit', 'structure', 'variable', 'node', 'representation', 'tree', 'vector', 'cluster', 'image', 'probability', 'pattern', 'clustering', 'level', 'feature', 'graph', 'object', 'mixture', 'distribution', 'layer', 'local']\n",
      "\n",
      "Topic #7:\n",
      "['image', 'object', 'feature', 'vector', 'bit', 'pixel', 'view', 'chip', 'search', 'processor', 'constraint', 'code', 'region', 'parallel', 'distance', 'solution', 'matrix', 'surface', 'memory', 'application']\n",
      "\n",
      "Topic #8:\n",
      "['unit', 'state', 'training', 'sequence', 'hidden_unit', 'recurrent', 'architecture', 'layer', 'net', 'task', 'activation', 'node', 'context', 'rule', 'trained', 'pattern', 'back_propagation', 'step', 'symbol', 'hmm']\n",
      "\n",
      "Topic #9:\n",
      "['state', 'action', 'control', 'policy', 'step', 'task', 'reinforcement_learning', 'optimal', 'controller', 'environment', 'robot', 'goal', 'reward', 'expert', 'td', 'agent', 'local', 'cost', 'current', 'probability']\n",
      "\n",
      "Topic #10:\n",
      "['state', 'neuron', 'dynamic', 'pattern', 'memory', 'control', 'equation', 'attractor', 'activity', 'phase', 'neural', 'signal', 'matrix', 'motor', 'oscillator', 'movement', 'fixed_point', 'behavior', 'trajectory', 'connection']\n",
      "\n"
     ]
    }
   ],
   "source": [
    "print('LDA Topics without Weights')\n",
    "print('='*50)\n",
    "for idx, topic in enumerate(topics_with_wts):\n",
    "    print('Topic #'+str(idx+1)+':')\n",
    "    print([term for wt, term in topic])\n",
    "    print()"
   ]
  },
  {
   "cell_type": "markdown",
   "metadata": {},
   "source": [
    "## Evaluating topic model quality\n",
    "\n",
    "We can use perplexity and coherence scores as measures to evaluate the topic\n",
    "model. Typically, lower the perplexity, the better the model. Similarly, the lower the\n",
    "UMass score and the higher the Cv score in coherence, the better the model."
   ]
  },
  {
   "cell_type": "code",
   "execution_count": 207,
   "metadata": {
    "colab": {
     "base_uri": "https://localhost:8080/",
     "height": 68
    },
    "colab_type": "code",
    "id": "WkOZQdZERbzG",
    "outputId": "8bf20ba0-8953-47d0-cc29-486cd545b93f"
   },
   "outputs": [
    {
     "name": "stdout",
     "output_type": "stream",
     "text": [
      "Avg. Coherence Score (Cv): 0.46898489232942786\n",
      "Avg. Coherence Score (UMass): -1.053091593677941\n",
      "Model Perplexity: -7.794018299254993\n"
     ]
    }
   ],
   "source": [
    "cv_coherence_model_lda = gensim.models.CoherenceModel(model=lda_model, corpus=bow_corpus, \n",
    "                                                      texts=norm_corpus_bigrams,\n",
    "                                                      dictionary=dictionary, \n",
    "                                                      coherence='c_v')\n",
    "avg_coherence_cv = cv_coherence_model_lda.get_coherence()\n",
    "\n",
    "umass_coherence_model_lda = gensim.models.CoherenceModel(model=lda_model, corpus=bow_corpus, \n",
    "                                                         texts=norm_corpus_bigrams,\n",
    "                                                         dictionary=dictionary, \n",
    "                                                         coherence='u_mass')\n",
    "avg_coherence_umass = umass_coherence_model_lda.get_coherence()\n",
    "\n",
    "perplexity = lda_model.log_perplexity(bow_corpus)\n",
    "\n",
    "print('Avg. Coherence Score (Cv):', avg_coherence_cv)\n",
    "print('Avg. Coherence Score (UMass):', avg_coherence_umass)\n",
    "print('Model Perplexity:', perplexity)"
   ]
  },
  {
   "cell_type": "markdown",
   "metadata": {},
   "source": [
    "# LDA Models with MALLET\n",
    "\n",
    "The MALLET framework is a Java-based package for statistical natural language\n",
    "processing, document classification, clustering, topic modeling, information extraction,\n",
    "and other machine learning applications to text. MALLET stands for MAchine Learning\n",
    "for LanguagE Toolkit. It was developed by Andrew McCallum along with several people\n",
    "at the University of Massachusetts Amherst. The MALLET topic modeling toolkit\n",
    "contains efficient, sampling-based implementations of Latent Dirichlet Allocation,\n",
    "Pachinko Allocation, and Hierarchical LDA. To use MALLET’s capabilities, we need to\n",
    "download the framework."
   ]
  },
  {
   "cell_type": "code",
   "execution_count": 208,
   "metadata": {
    "colab": {
     "base_uri": "https://localhost:8080/",
     "height": 204
    },
    "colab_type": "code",
    "id": "NSRYjYP7VXPz",
    "outputId": "0583e711-2ca4-4c75-e3d7-59e89b24bc13"
   },
   "outputs": [
    {
     "name": "stdout",
     "output_type": "stream",
     "text": [
      "--2019-08-04 20:34:12--  http://mallet.cs.umass.edu/dist/mallet-2.0.8.zip\n",
      "Resolving mallet.cs.umass.edu (mallet.cs.umass.edu)... 128.119.246.70\n",
      "Connecting to mallet.cs.umass.edu (mallet.cs.umass.edu)|128.119.246.70|:80... connected.\n",
      "HTTP request sent, awaiting response... 200 OK\n",
      "Length: 16184794 (15M) [application/zip]\n",
      "Saving to: ‘mallet-2.0.8.zip’\n",
      "\n",
      "mallet-2.0.8.zip    100%[===================>]  15.43M  13.6MB/s    in 1.1s    \n",
      "\n",
      "2019-08-04 20:34:14 (13.6 MB/s) - ‘mallet-2.0.8.zip’ saved [16184794/16184794]\n",
      "\n"
     ]
    }
   ],
   "source": [
    "!wget http://mallet.cs.umass.edu/dist/mallet-2.0.8.zip\n",
    "!unzip -q mallet-2.0.8.zip"
   ]
  },
  {
   "cell_type": "code",
   "execution_count": 211,
   "metadata": {
    "colab": {
     "base_uri": "https://localhost:8080/",
     "height": 71
    },
    "colab_type": "code",
    "id": "s0J3x_IcVu8z",
    "outputId": "469ca2d7-5295-4eb1-c586-7c95505ba213"
   },
   "outputs": [
    {
     "name": "stderr",
     "output_type": "stream",
     "text": [
      "/usr/local/lib/python3.6/dist-packages/smart_open/smart_open_lib.py:398: UserWarning: This function is deprecated, use smart_open.open instead. See the migration notes for details: https://github.com/RaRe-Technologies/smart_open/blob/master/README.rst#migrating-to-the-new-open-function\n",
      "  'See the migration notes for details: %s' % _MIGRATION_NOTES_URL\n"
     ]
    }
   ],
   "source": [
    "MALLET_PATH = 'mallet-2.0.8/bin/mallet'\n",
    "lda_mallet = gensim.models.wrappers.LdaMallet(mallet_path=MALLET_PATH, corpus=bow_corpus, \n",
    "                                              num_topics=TOTAL_TOPICS, id2word=dictionary,\n",
    "                                              iterations=500, workers=4)"
   ]
  },
  {
   "cell_type": "code",
   "execution_count": 212,
   "metadata": {
    "colab": {
     "base_uri": "https://localhost:8080/",
     "height": 68
    },
    "colab_type": "code",
    "id": "HQcf70_0WHDc",
    "outputId": "0cb8d94d-2581-46b3-cf87-c413a28df3a7"
   },
   "outputs": [
    {
     "name": "stdout",
     "output_type": "stream",
     "text": [
      "Avg. Coherence Score (Cv): 0.518784549363429\n",
      "Avg. Coherence Score (UMass): -1.071309554631297\n",
      "Model Perplexity: -8.50105\n"
     ]
    }
   ],
   "source": [
    "cv_coherence_model_lda_mallet = gensim.models.CoherenceModel(model=lda_mallet, corpus=bow_corpus, \n",
    "                                                             texts=norm_corpus_bigrams,\n",
    "                                                             dictionary=dictionary, \n",
    "                                                             coherence='c_v')\n",
    "avg_coherence_cv = cv_coherence_model_lda_mallet.get_coherence()\n",
    "\n",
    "umass_coherence_model_lda_mallet = gensim.models.CoherenceModel(model=lda_mallet, corpus=bow_corpus, \n",
    "                                                                texts=norm_corpus_bigrams,\n",
    "                                                                dictionary=dictionary,  \n",
    "                                                                coherence='u_mass')\n",
    "avg_coherence_umass = umass_coherence_model_lda_mallet.get_coherence()\n",
    "\n",
    "# from STDOUT: <500> LL/token: -8.50105\n",
    "perplexity = -8.50105\n",
    "print('Avg. Coherence Score (Cv):', avg_coherence_cv)\n",
    "print('Avg. Coherence Score (UMass):', avg_coherence_umass)\n",
    "print('Model Perplexity:', perplexity)"
   ]
  },
  {
   "cell_type": "markdown",
   "metadata": {},
   "source": [
    "# LDA Tuning: Finding the optimal number of topics\n",
    "\n",
    "Finding the optimal number of topics in a topic model is tough, given that it is like a\n",
    "model hyperparameter that you always have to set before training the model. We can\n",
    "use an iterative approach and build several models with differing numbers of topics and\n",
    "select the one that has the highest coherence score. "
   ]
  },
  {
   "cell_type": "code",
   "execution_count": 0,
   "metadata": {
    "colab": {},
    "colab_type": "code",
    "id": "OYeyeNmRWy4m"
   },
   "outputs": [],
   "source": [
    "def topic_model_coherence_generator(corpus, texts, dictionary, \n",
    "                                    start_topic_count=2, end_topic_count=10, step=1,\n",
    "                                    cpus=1):\n",
    "    \n",
    "    models = []\n",
    "    coherence_scores = []\n",
    "    for topic_nums in tqdm.tqdm(range(start_topic_count, end_topic_count+1, step)):\n",
    "        mallet_lda_model = gensim.models.wrappers.LdaMallet(mallet_path=MALLET_PATH, corpus=corpus,\n",
    "                                                            num_topics=topic_nums, id2word=dictionary,\n",
    "                                                            iterations=500, workers=cpus)\n",
    "        cv_coherence_model_mallet_lda = gensim.models.CoherenceModel(model=mallet_lda_model, corpus=corpus, \n",
    "                                                                     texts=texts, dictionary=dictionary, \n",
    "                                                                     coherence='c_v')\n",
    "        coherence_score = cv_coherence_model_mallet_lda.get_coherence()\n",
    "        coherence_scores.append(coherence_score)\n",
    "        models.append(mallet_lda_model)\n",
    "    \n",
    "    return models, coherence_scores"
   ]
  },
  {
   "cell_type": "code",
   "execution_count": 214,
   "metadata": {
    "colab": {
     "base_uri": "https://localhost:8080/",
     "height": 88
    },
    "colab_type": "code",
    "id": "8vgKu5RCXHrv",
    "outputId": "304f9b00-925f-496a-c375-8a1407b13f13"
   },
   "outputs": [
    {
     "name": "stderr",
     "output_type": "stream",
     "text": [
      "\r",
      "  0%|          | 0/29 [00:00<?, ?it/s]/usr/local/lib/python3.6/dist-packages/smart_open/smart_open_lib.py:398: UserWarning: This function is deprecated, use smart_open.open instead. See the migration notes for details: https://github.com/RaRe-Technologies/smart_open/blob/master/README.rst#migrating-to-the-new-open-function\n",
      "  'See the migration notes for details: %s' % _MIGRATION_NOTES_URL\n",
      "100%|██████████| 29/29 [1:39:20<00:00, 252.57s/it]\n"
     ]
    }
   ],
   "source": [
    "lda_models, coherence_scores = topic_model_coherence_generator(corpus=bow_corpus, texts=norm_corpus_bigrams,\n",
    "                                                               dictionary=dictionary, start_topic_count=2,\n",
    "                                                               end_topic_count=30, step=1, cpus=4)"
   ]
  },
  {
   "cell_type": "code",
   "execution_count": 215,
   "metadata": {
    "colab": {
     "base_uri": "https://localhost:8080/",
     "height": 359
    },
    "colab_type": "code",
    "id": "EeQIjHsOXPvY",
    "outputId": "0716e17e-5381-4b7b-b39b-b00a463c1e0b"
   },
   "outputs": [
    {
     "data": {
      "text/html": [
       "<div>\n",
       "<style scoped>\n",
       "    .dataframe tbody tr th:only-of-type {\n",
       "        vertical-align: middle;\n",
       "    }\n",
       "\n",
       "    .dataframe tbody tr th {\n",
       "        vertical-align: top;\n",
       "    }\n",
       "\n",
       "    .dataframe thead th {\n",
       "        text-align: right;\n",
       "    }\n",
       "</style>\n",
       "<table border=\"1\" class=\"dataframe\">\n",
       "  <thead>\n",
       "    <tr style=\"text-align: right;\">\n",
       "      <th></th>\n",
       "      <th>Number of Topics</th>\n",
       "      <th>Coherence Score</th>\n",
       "    </tr>\n",
       "  </thead>\n",
       "  <tbody>\n",
       "    <tr>\n",
       "      <th>19</th>\n",
       "      <td>21</td>\n",
       "      <td>0.5467</td>\n",
       "    </tr>\n",
       "    <tr>\n",
       "      <th>27</th>\n",
       "      <td>29</td>\n",
       "      <td>0.5429</td>\n",
       "    </tr>\n",
       "    <tr>\n",
       "      <th>15</th>\n",
       "      <td>17</td>\n",
       "      <td>0.5412</td>\n",
       "    </tr>\n",
       "    <tr>\n",
       "      <th>23</th>\n",
       "      <td>25</td>\n",
       "      <td>0.5409</td>\n",
       "    </tr>\n",
       "    <tr>\n",
       "      <th>25</th>\n",
       "      <td>27</td>\n",
       "      <td>0.5400</td>\n",
       "    </tr>\n",
       "    <tr>\n",
       "      <th>12</th>\n",
       "      <td>14</td>\n",
       "      <td>0.5376</td>\n",
       "    </tr>\n",
       "    <tr>\n",
       "      <th>13</th>\n",
       "      <td>15</td>\n",
       "      <td>0.5340</td>\n",
       "    </tr>\n",
       "    <tr>\n",
       "      <th>18</th>\n",
       "      <td>20</td>\n",
       "      <td>0.5331</td>\n",
       "    </tr>\n",
       "    <tr>\n",
       "      <th>20</th>\n",
       "      <td>22</td>\n",
       "      <td>0.5330</td>\n",
       "    </tr>\n",
       "    <tr>\n",
       "      <th>24</th>\n",
       "      <td>26</td>\n",
       "      <td>0.5329</td>\n",
       "    </tr>\n",
       "  </tbody>\n",
       "</table>\n",
       "</div>"
      ],
      "text/plain": [
       "    Number of Topics  Coherence Score\n",
       "19                21           0.5467\n",
       "27                29           0.5429\n",
       "15                17           0.5412\n",
       "23                25           0.5409\n",
       "25                27           0.5400\n",
       "12                14           0.5376\n",
       "13                15           0.5340\n",
       "18                20           0.5331\n",
       "20                22           0.5330\n",
       "24                26           0.5329"
      ]
     },
     "execution_count": 215,
     "metadata": {
      "tags": []
     },
     "output_type": "execute_result"
    }
   ],
   "source": [
    "coherence_df = pd.DataFrame({'Number of Topics': range(2, 31, 1),\n",
    "                             'Coherence Score': np.round(coherence_scores, 4)})\n",
    "coherence_df.sort_values(by=['Coherence Score'], ascending=False).head(10)"
   ]
  },
  {
   "cell_type": "code",
   "execution_count": 216,
   "metadata": {
    "colab": {
     "base_uri": "https://localhost:8080/",
     "height": 388
    },
    "colab_type": "code",
    "id": "UBSRO_VqYjif",
    "outputId": "064e3cf4-ab1c-4c73-b04c-4d9cf3c67cac"
   },
   "outputs": [
    {
     "data": {
      "image/png": "[encoded data removed]",
      "text/plain": [
       "<Figure size 864x432 with 1 Axes>"
      ]
     },
     "metadata": {
      "tags": []
     },
     "output_type": "display_data"
    }
   ],
   "source": [
    "import matplotlib.pyplot as plt\n",
    "plt.style.use('fivethirtyeight')\n",
    "%matplotlib inline\n",
    "\n",
    "x_ax = range(2, 31, 1)\n",
    "y_ax = coherence_scores\n",
    "plt.figure(figsize=(12, 6))\n",
    "plt.plot(x_ax, y_ax, c='r')\n",
    "plt.axhline(y=0.535, c='k', linestyle='--', linewidth=2)\n",
    "plt.rcParams['figure.facecolor'] = 'white'\n",
    "xl = plt.xlabel('Number of Topics')\n",
    "yl = plt.ylabel('Coherence Score')"
   ]
  },
  {
   "cell_type": "markdown",
   "metadata": {},
   "source": [
    "We choose the optimal number of topics as 20, based on our intuition. We can retrieve the best model now"
   ]
  },
  {
   "cell_type": "code",
   "execution_count": 220,
   "metadata": {
    "colab": {
     "base_uri": "https://localhost:8080/",
     "height": 34
    },
    "colab_type": "code",
    "id": "YtPwVFdrYlxO",
    "outputId": "f74d30a1-0161-4b1b-9578-05cd5bcfbc7b"
   },
   "outputs": [
    {
     "data": {
      "text/plain": [
       "20"
      ]
     },
     "execution_count": 220,
     "metadata": {
      "tags": []
     },
     "output_type": "execute_result"
    }
   ],
   "source": [
    "best_model_idx = coherence_df[coherence_df['Number of Topics'] == 20].index[0]\n",
    "best_lda_model = lda_models[best_model_idx]\n",
    "best_lda_model.num_topics"
   ]
  },
  {
   "cell_type": "code",
   "execution_count": 221,
   "metadata": {
    "colab": {
     "base_uri": "https://localhost:8080/",
     "height": 1000
    },
    "colab_type": "code",
    "id": "sQj6L5w4lWXa",
    "outputId": "70ae4b4e-88be-497f-c5bd-595a11b36d9d"
   },
   "outputs": [
    {
     "name": "stdout",
     "output_type": "stream",
     "text": [
      "Topic #1:\n",
      "['image', 'object', 'feature', 'pixel', 'view', 'face', 'region', 'visual', 'representation', 'surface', 'edge', 'location', 'shape', 'recognition', 'scale', 'contour', 'local', 'part', 'scene', 'vision']\n",
      "\n",
      "Topic #2:\n",
      "['equation', 'rate', 'convergence', 'gradient', 'vector', 'optimal', 'iteration', 'eq', 'update', 'constant', 'line', 'gradient_descent', 'rule', 'derivative', 'step', 'minimum', 'approximation', 'change', 'noise', 'adaptive']\n",
      "\n",
      "Topic #3:\n",
      "['state', 'action', 'step', 'policy', 'control', 'reinforcement_learning', 'environment', 'optimal', 'task', 'goal', 'reward', 'td', 'agent', 'current', 'machine', 'transition', 'cost', 'reinforcement', 'rl', 'update']\n",
      "\n",
      "Topic #4:\n",
      "['training', 'class', 'classification', 'classifier', 'training_set', 'pattern', 'feature', 'test', 'machine', 'sample', 'test_set', 'size', 'trained', 'kernel', 'ensemble', 'table', 'nearest_neighbor', 'margin', 'pruning', 'error_rate']\n",
      "\n",
      "Topic #5:\n",
      "['task', 'target', 'rate', 'test', 'curve', 'experiment', 'training', 'effect', 'random', 'trial', 'generalization', 'search', 'instance', 'size', 'subject', 'average', 'bias', 'study', 'human', 'measure']\n",
      "\n",
      "Topic #6:\n",
      "['solution', 'constraint', 'local', 'energy', 'linear', 'optimization', 'nonlinear', 'global', 'potential', 'optimal', 'find', 'minimum', 'temperature', 'criterion', 'principle', 'search', 'path', 'variable', 'design', 'maximum']\n",
      "\n",
      "Topic #7:\n",
      "['signal', 'noise', 'filter', 'source', 'frequency', 'channel', 'component', 'response', 'temporal', 'auditory', 'sound', 'detection', 'ica', 'phase', 'amplitude', 'correlation', 'light', 'eeg', 'linear', 'processing']\n",
      "\n",
      "Topic #8:\n",
      "['prediction', 'application', 'experiment', 'table', 'user', 'query', 'time_series', 'variable', 'sequence', 'type', 'block', 'predictor', 'modeling', 'future', 'technique', 'predictive', 'predict', 'series', 'predicted', 'protein']\n",
      "\n",
      "Topic #9:\n",
      "['dynamic', 'state', 'memory', 'pattern', 'equation', 'neuron', 'attractor', 'capacity', 'fixed_point', 'noise', 'phase', 'hopfield', 'teacher', 'theory', 'stable', 'student', 'matrix', 'delay', 'symmetric', 'behavior']\n",
      "\n",
      "Topic #10:\n",
      "['cell', 'response', 'stimulus', 'activity', 'visual', 'receptive_field', 'map', 'pattern', 'spatial', 'unit', 'orientation', 'cortical', 'layer', 'cortex', 'center', 'region', 'contrast', 'eye', 'area', 'neuron']\n",
      "\n",
      "Topic #11:\n",
      "['distribution', 'probability', 'prior', 'variable', 'gaussian', 'bayesian', 'log', 'density', 'approximation', 'entropy', 'posterior', 'probabilistic', 'likelihood', 'sample', 'stochastic', 'mean_field', 'hidden', 'evidence', 'exp', 'probability_distribution']\n",
      "\n",
      "Topic #12:\n",
      "['vector', 'matrix', 'distance', 'component', 'code', 'transformation', 'linear', 'dimensional', 'map', 'dimension', 'mapping', 'representation', 'basis', 'pca', 'structure', 'projection', 'coding', 'principal_component', 'direction', 'coordinate']\n",
      "\n",
      "Topic #13:\n",
      "['neuron', 'cell', 'spike', 'synaptic', 'activity', 'firing', 'response', 'synapsis', 'neural', 'current', 'threshold', 'pattern', 'et_al', 'constant', 'stimulus', 'oscillator', 'neuronal', 'firing_rate', 'level', 'effect']\n",
      "\n",
      "Topic #14:\n",
      "['word', 'recognition', 'speech', 'training', 'character', 'sequence', 'hmm', 'context', 'feature', 'frame', 'letter', 'speaker', 'state', 'trained', 'speech_recognition', 'phoneme', 'digit', 'segmentation', 'mlp', 'hybrid']\n",
      "\n",
      "Topic #15:\n",
      "['circuit', 'chip', 'current', 'analog', 'voltage', 'neuron', 'bit', 'implementation', 'processor', 'design', 'parallel', 'operation', 'device', 'neural', 'digital', 'computation', 'array', 'synapse', 'hardware', 'implemented']\n",
      "\n",
      "Topic #16:\n",
      "['estimate', 'estimation', 'mixture', 'cluster', 'regression', 'variance', 'expert', 'clustering', 'sample', 'kernel', 'step', 'estimator', 'gaussian', 'rbf', 'noise', 'estimated', 'em', 'linear', 'density', 'nonlinear']\n",
      "\n",
      "Topic #17:\n",
      "['unit', 'layer', 'training', 'hidden_unit', 'net', 'pattern', 'architecture', 'activation', 'trained', 'recurrent', 'back_propagation', 'connection', 'task', 'hidden_layer', 'module', 'hidden', 'backpropagation', 'learn', 'simulation', 'step']\n",
      "\n",
      "Topic #18:\n",
      "['bound', 'theorem', 'class', 'size', 'threshold', 'complexity', 'proof', 'loss', 'polynomial', 'linear', 'approximation', 'probability', 'assume', 'theory', 'definition', 'xi', 'defined', 'constant', 'bounded', 'define']\n",
      "\n",
      "Topic #19:\n",
      "['control', 'motion', 'position', 'trajectory', 'velocity', 'movement', 'direction', 'motor', 'target', 'controller', 'hand', 'field', 'dynamic', 'feedback', 'forward', 'robot', 'change', 'arm', 'location', 'head']\n",
      "\n",
      "Topic #20:\n",
      "['node', 'rule', 'structure', 'representation', 'tree', 'level', 'graph', 'symbol', 'sequence', 'string', 'language', 'connectionist', 'similarity', 'represented', 'part', 'role', 'category', 'note', 'machine', 'item']\n",
      "\n"
     ]
    }
   ],
   "source": [
    "topics = [[(term, round(wt, 3)) \n",
    "               for term, wt in best_lda_model.show_topic(n, topn=20)] \n",
    "                   for n in range(0, best_lda_model.num_topics)]\n",
    "\n",
    "for idx, topic in enumerate(topics):\n",
    "    print('Topic #'+str(idx+1)+':')\n",
    "    print([term for term, wt in topic])\n",
    "    print()"
   ]
  },
  {
   "cell_type": "markdown",
   "metadata": {},
   "source": [
    "# Viewing LDA Model topics"
   ]
  },
  {
   "cell_type": "code",
   "execution_count": 222,
   "metadata": {
    "colab": {
     "base_uri": "https://localhost:8080/",
     "height": 706
    },
    "colab_type": "code",
    "id": "V-SpgKYRpHsA",
    "outputId": "82a342d4-0196-41c3-c5f4-66bfe24b2459"
   },
   "outputs": [
    {
     "data": {
      "text/html": [
       "<div>\n",
       "<style scoped>\n",
       "    .dataframe tbody tr th:only-of-type {\n",
       "        vertical-align: middle;\n",
       "    }\n",
       "\n",
       "    .dataframe tbody tr th {\n",
       "        vertical-align: top;\n",
       "    }\n",
       "\n",
       "    .dataframe thead th {\n",
       "        text-align: right;\n",
       "    }\n",
       "</style>\n",
       "<table border=\"1\" class=\"dataframe\">\n",
       "  <thead>\n",
       "    <tr style=\"text-align: right;\">\n",
       "      <th></th>\n",
       "      <th>Topic 1</th>\n",
       "      <th>Topic 2</th>\n",
       "      <th>Topic 3</th>\n",
       "      <th>Topic 4</th>\n",
       "      <th>Topic 5</th>\n",
       "      <th>Topic 6</th>\n",
       "      <th>Topic 7</th>\n",
       "      <th>Topic 8</th>\n",
       "      <th>Topic 9</th>\n",
       "      <th>Topic 10</th>\n",
       "      <th>Topic 11</th>\n",
       "      <th>Topic 12</th>\n",
       "      <th>Topic 13</th>\n",
       "      <th>Topic 14</th>\n",
       "      <th>Topic 15</th>\n",
       "      <th>Topic 16</th>\n",
       "      <th>Topic 17</th>\n",
       "      <th>Topic 18</th>\n",
       "      <th>Topic 19</th>\n",
       "      <th>Topic 20</th>\n",
       "    </tr>\n",
       "  </thead>\n",
       "  <tbody>\n",
       "    <tr>\n",
       "      <th>Term1</th>\n",
       "      <td>image</td>\n",
       "      <td>equation</td>\n",
       "      <td>state</td>\n",
       "      <td>training</td>\n",
       "      <td>task</td>\n",
       "      <td>solution</td>\n",
       "      <td>signal</td>\n",
       "      <td>prediction</td>\n",
       "      <td>dynamic</td>\n",
       "      <td>cell</td>\n",
       "      <td>distribution</td>\n",
       "      <td>vector</td>\n",
       "      <td>neuron</td>\n",
       "      <td>word</td>\n",
       "      <td>circuit</td>\n",
       "      <td>estimate</td>\n",
       "      <td>unit</td>\n",
       "      <td>bound</td>\n",
       "      <td>control</td>\n",
       "      <td>node</td>\n",
       "    </tr>\n",
       "    <tr>\n",
       "      <th>Term2</th>\n",
       "      <td>object</td>\n",
       "      <td>rate</td>\n",
       "      <td>action</td>\n",
       "      <td>class</td>\n",
       "      <td>target</td>\n",
       "      <td>constraint</td>\n",
       "      <td>noise</td>\n",
       "      <td>application</td>\n",
       "      <td>state</td>\n",
       "      <td>response</td>\n",
       "      <td>probability</td>\n",
       "      <td>matrix</td>\n",
       "      <td>cell</td>\n",
       "      <td>recognition</td>\n",
       "      <td>chip</td>\n",
       "      <td>estimation</td>\n",
       "      <td>layer</td>\n",
       "      <td>theorem</td>\n",
       "      <td>motion</td>\n",
       "      <td>rule</td>\n",
       "    </tr>\n",
       "    <tr>\n",
       "      <th>Term3</th>\n",
       "      <td>feature</td>\n",
       "      <td>convergence</td>\n",
       "      <td>step</td>\n",
       "      <td>classification</td>\n",
       "      <td>rate</td>\n",
       "      <td>local</td>\n",
       "      <td>filter</td>\n",
       "      <td>experiment</td>\n",
       "      <td>memory</td>\n",
       "      <td>stimulus</td>\n",
       "      <td>prior</td>\n",
       "      <td>distance</td>\n",
       "      <td>spike</td>\n",
       "      <td>speech</td>\n",
       "      <td>current</td>\n",
       "      <td>mixture</td>\n",
       "      <td>training</td>\n",
       "      <td>class</td>\n",
       "      <td>position</td>\n",
       "      <td>structure</td>\n",
       "    </tr>\n",
       "    <tr>\n",
       "      <th>Term4</th>\n",
       "      <td>pixel</td>\n",
       "      <td>gradient</td>\n",
       "      <td>policy</td>\n",
       "      <td>classifier</td>\n",
       "      <td>test</td>\n",
       "      <td>energy</td>\n",
       "      <td>source</td>\n",
       "      <td>table</td>\n",
       "      <td>pattern</td>\n",
       "      <td>activity</td>\n",
       "      <td>variable</td>\n",
       "      <td>component</td>\n",
       "      <td>synaptic</td>\n",
       "      <td>training</td>\n",
       "      <td>analog</td>\n",
       "      <td>cluster</td>\n",
       "      <td>hidden_unit</td>\n",
       "      <td>size</td>\n",
       "      <td>trajectory</td>\n",
       "      <td>representation</td>\n",
       "    </tr>\n",
       "    <tr>\n",
       "      <th>Term5</th>\n",
       "      <td>view</td>\n",
       "      <td>vector</td>\n",
       "      <td>control</td>\n",
       "      <td>training_set</td>\n",
       "      <td>curve</td>\n",
       "      <td>linear</td>\n",
       "      <td>frequency</td>\n",
       "      <td>user</td>\n",
       "      <td>equation</td>\n",
       "      <td>visual</td>\n",
       "      <td>gaussian</td>\n",
       "      <td>code</td>\n",
       "      <td>activity</td>\n",
       "      <td>character</td>\n",
       "      <td>voltage</td>\n",
       "      <td>regression</td>\n",
       "      <td>net</td>\n",
       "      <td>threshold</td>\n",
       "      <td>velocity</td>\n",
       "      <td>tree</td>\n",
       "    </tr>\n",
       "    <tr>\n",
       "      <th>Term6</th>\n",
       "      <td>face</td>\n",
       "      <td>optimal</td>\n",
       "      <td>reinforcement_learning</td>\n",
       "      <td>pattern</td>\n",
       "      <td>experiment</td>\n",
       "      <td>optimization</td>\n",
       "      <td>channel</td>\n",
       "      <td>query</td>\n",
       "      <td>neuron</td>\n",
       "      <td>receptive_field</td>\n",
       "      <td>bayesian</td>\n",
       "      <td>transformation</td>\n",
       "      <td>firing</td>\n",
       "      <td>sequence</td>\n",
       "      <td>neuron</td>\n",
       "      <td>variance</td>\n",
       "      <td>pattern</td>\n",
       "      <td>complexity</td>\n",
       "      <td>movement</td>\n",
       "      <td>level</td>\n",
       "    </tr>\n",
       "    <tr>\n",
       "      <th>Term7</th>\n",
       "      <td>region</td>\n",
       "      <td>iteration</td>\n",
       "      <td>environment</td>\n",
       "      <td>feature</td>\n",
       "      <td>training</td>\n",
       "      <td>nonlinear</td>\n",
       "      <td>component</td>\n",
       "      <td>time_series</td>\n",
       "      <td>attractor</td>\n",
       "      <td>map</td>\n",
       "      <td>log</td>\n",
       "      <td>linear</td>\n",
       "      <td>response</td>\n",
       "      <td>hmm</td>\n",
       "      <td>bit</td>\n",
       "      <td>expert</td>\n",
       "      <td>architecture</td>\n",
       "      <td>proof</td>\n",
       "      <td>direction</td>\n",
       "      <td>graph</td>\n",
       "    </tr>\n",
       "    <tr>\n",
       "      <th>Term8</th>\n",
       "      <td>visual</td>\n",
       "      <td>eq</td>\n",
       "      <td>optimal</td>\n",
       "      <td>test</td>\n",
       "      <td>effect</td>\n",
       "      <td>global</td>\n",
       "      <td>response</td>\n",
       "      <td>variable</td>\n",
       "      <td>capacity</td>\n",
       "      <td>pattern</td>\n",
       "      <td>density</td>\n",
       "      <td>dimensional</td>\n",
       "      <td>synapsis</td>\n",
       "      <td>context</td>\n",
       "      <td>implementation</td>\n",
       "      <td>clustering</td>\n",
       "      <td>activation</td>\n",
       "      <td>loss</td>\n",
       "      <td>motor</td>\n",
       "      <td>symbol</td>\n",
       "    </tr>\n",
       "    <tr>\n",
       "      <th>Term9</th>\n",
       "      <td>representation</td>\n",
       "      <td>update</td>\n",
       "      <td>task</td>\n",
       "      <td>machine</td>\n",
       "      <td>random</td>\n",
       "      <td>potential</td>\n",
       "      <td>temporal</td>\n",
       "      <td>sequence</td>\n",
       "      <td>fixed_point</td>\n",
       "      <td>spatial</td>\n",
       "      <td>approximation</td>\n",
       "      <td>map</td>\n",
       "      <td>neural</td>\n",
       "      <td>feature</td>\n",
       "      <td>processor</td>\n",
       "      <td>sample</td>\n",
       "      <td>trained</td>\n",
       "      <td>polynomial</td>\n",
       "      <td>target</td>\n",
       "      <td>sequence</td>\n",
       "    </tr>\n",
       "    <tr>\n",
       "      <th>Term10</th>\n",
       "      <td>surface</td>\n",
       "      <td>constant</td>\n",
       "      <td>goal</td>\n",
       "      <td>sample</td>\n",
       "      <td>trial</td>\n",
       "      <td>optimal</td>\n",
       "      <td>auditory</td>\n",
       "      <td>type</td>\n",
       "      <td>noise</td>\n",
       "      <td>unit</td>\n",
       "      <td>entropy</td>\n",
       "      <td>dimension</td>\n",
       "      <td>current</td>\n",
       "      <td>frame</td>\n",
       "      <td>design</td>\n",
       "      <td>kernel</td>\n",
       "      <td>recurrent</td>\n",
       "      <td>linear</td>\n",
       "      <td>controller</td>\n",
       "      <td>string</td>\n",
       "    </tr>\n",
       "    <tr>\n",
       "      <th>Term11</th>\n",
       "      <td>edge</td>\n",
       "      <td>line</td>\n",
       "      <td>reward</td>\n",
       "      <td>test_set</td>\n",
       "      <td>generalization</td>\n",
       "      <td>find</td>\n",
       "      <td>sound</td>\n",
       "      <td>block</td>\n",
       "      <td>phase</td>\n",
       "      <td>orientation</td>\n",
       "      <td>posterior</td>\n",
       "      <td>mapping</td>\n",
       "      <td>threshold</td>\n",
       "      <td>letter</td>\n",
       "      <td>parallel</td>\n",
       "      <td>step</td>\n",
       "      <td>back_propagation</td>\n",
       "      <td>approximation</td>\n",
       "      <td>hand</td>\n",
       "      <td>language</td>\n",
       "    </tr>\n",
       "    <tr>\n",
       "      <th>Term12</th>\n",
       "      <td>location</td>\n",
       "      <td>gradient_descent</td>\n",
       "      <td>td</td>\n",
       "      <td>size</td>\n",
       "      <td>search</td>\n",
       "      <td>minimum</td>\n",
       "      <td>detection</td>\n",
       "      <td>predictor</td>\n",
       "      <td>hopfield</td>\n",
       "      <td>cortical</td>\n",
       "      <td>probabilistic</td>\n",
       "      <td>representation</td>\n",
       "      <td>pattern</td>\n",
       "      <td>speaker</td>\n",
       "      <td>operation</td>\n",
       "      <td>estimator</td>\n",
       "      <td>connection</td>\n",
       "      <td>probability</td>\n",
       "      <td>field</td>\n",
       "      <td>connectionist</td>\n",
       "    </tr>\n",
       "    <tr>\n",
       "      <th>Term13</th>\n",
       "      <td>shape</td>\n",
       "      <td>rule</td>\n",
       "      <td>agent</td>\n",
       "      <td>trained</td>\n",
       "      <td>instance</td>\n",
       "      <td>temperature</td>\n",
       "      <td>ica</td>\n",
       "      <td>modeling</td>\n",
       "      <td>teacher</td>\n",
       "      <td>layer</td>\n",
       "      <td>likelihood</td>\n",
       "      <td>basis</td>\n",
       "      <td>et_al</td>\n",
       "      <td>state</td>\n",
       "      <td>device</td>\n",
       "      <td>gaussian</td>\n",
       "      <td>task</td>\n",
       "      <td>assume</td>\n",
       "      <td>dynamic</td>\n",
       "      <td>similarity</td>\n",
       "    </tr>\n",
       "    <tr>\n",
       "      <th>Term14</th>\n",
       "      <td>recognition</td>\n",
       "      <td>derivative</td>\n",
       "      <td>current</td>\n",
       "      <td>kernel</td>\n",
       "      <td>size</td>\n",
       "      <td>criterion</td>\n",
       "      <td>phase</td>\n",
       "      <td>future</td>\n",
       "      <td>theory</td>\n",
       "      <td>cortex</td>\n",
       "      <td>sample</td>\n",
       "      <td>pca</td>\n",
       "      <td>constant</td>\n",
       "      <td>trained</td>\n",
       "      <td>neural</td>\n",
       "      <td>rbf</td>\n",
       "      <td>hidden_layer</td>\n",
       "      <td>theory</td>\n",
       "      <td>feedback</td>\n",
       "      <td>represented</td>\n",
       "    </tr>\n",
       "    <tr>\n",
       "      <th>Term15</th>\n",
       "      <td>scale</td>\n",
       "      <td>step</td>\n",
       "      <td>machine</td>\n",
       "      <td>ensemble</td>\n",
       "      <td>subject</td>\n",
       "      <td>principle</td>\n",
       "      <td>amplitude</td>\n",
       "      <td>technique</td>\n",
       "      <td>stable</td>\n",
       "      <td>center</td>\n",
       "      <td>stochastic</td>\n",
       "      <td>structure</td>\n",
       "      <td>stimulus</td>\n",
       "      <td>speech_recognition</td>\n",
       "      <td>digital</td>\n",
       "      <td>noise</td>\n",
       "      <td>module</td>\n",
       "      <td>definition</td>\n",
       "      <td>forward</td>\n",
       "      <td>part</td>\n",
       "    </tr>\n",
       "    <tr>\n",
       "      <th>Term16</th>\n",
       "      <td>contour</td>\n",
       "      <td>minimum</td>\n",
       "      <td>transition</td>\n",
       "      <td>table</td>\n",
       "      <td>average</td>\n",
       "      <td>search</td>\n",
       "      <td>correlation</td>\n",
       "      <td>predictive</td>\n",
       "      <td>student</td>\n",
       "      <td>region</td>\n",
       "      <td>mean_field</td>\n",
       "      <td>projection</td>\n",
       "      <td>oscillator</td>\n",
       "      <td>phoneme</td>\n",
       "      <td>computation</td>\n",
       "      <td>estimated</td>\n",
       "      <td>hidden</td>\n",
       "      <td>xi</td>\n",
       "      <td>robot</td>\n",
       "      <td>role</td>\n",
       "    </tr>\n",
       "    <tr>\n",
       "      <th>Term17</th>\n",
       "      <td>local</td>\n",
       "      <td>approximation</td>\n",
       "      <td>cost</td>\n",
       "      <td>nearest_neighbor</td>\n",
       "      <td>bias</td>\n",
       "      <td>path</td>\n",
       "      <td>light</td>\n",
       "      <td>predict</td>\n",
       "      <td>matrix</td>\n",
       "      <td>contrast</td>\n",
       "      <td>hidden</td>\n",
       "      <td>coding</td>\n",
       "      <td>neuronal</td>\n",
       "      <td>digit</td>\n",
       "      <td>array</td>\n",
       "      <td>em</td>\n",
       "      <td>backpropagation</td>\n",
       "      <td>defined</td>\n",
       "      <td>change</td>\n",
       "      <td>category</td>\n",
       "    </tr>\n",
       "    <tr>\n",
       "      <th>Term18</th>\n",
       "      <td>part</td>\n",
       "      <td>change</td>\n",
       "      <td>reinforcement</td>\n",
       "      <td>margin</td>\n",
       "      <td>study</td>\n",
       "      <td>variable</td>\n",
       "      <td>eeg</td>\n",
       "      <td>series</td>\n",
       "      <td>delay</td>\n",
       "      <td>eye</td>\n",
       "      <td>evidence</td>\n",
       "      <td>principal_component</td>\n",
       "      <td>firing_rate</td>\n",
       "      <td>segmentation</td>\n",
       "      <td>synapse</td>\n",
       "      <td>linear</td>\n",
       "      <td>learn</td>\n",
       "      <td>constant</td>\n",
       "      <td>arm</td>\n",
       "      <td>note</td>\n",
       "    </tr>\n",
       "    <tr>\n",
       "      <th>Term19</th>\n",
       "      <td>scene</td>\n",
       "      <td>noise</td>\n",
       "      <td>rl</td>\n",
       "      <td>pruning</td>\n",
       "      <td>human</td>\n",
       "      <td>design</td>\n",
       "      <td>linear</td>\n",
       "      <td>predicted</td>\n",
       "      <td>symmetric</td>\n",
       "      <td>area</td>\n",
       "      <td>exp</td>\n",
       "      <td>direction</td>\n",
       "      <td>level</td>\n",
       "      <td>mlp</td>\n",
       "      <td>hardware</td>\n",
       "      <td>density</td>\n",
       "      <td>simulation</td>\n",
       "      <td>bounded</td>\n",
       "      <td>location</td>\n",
       "      <td>machine</td>\n",
       "    </tr>\n",
       "    <tr>\n",
       "      <th>Term20</th>\n",
       "      <td>vision</td>\n",
       "      <td>adaptive</td>\n",
       "      <td>update</td>\n",
       "      <td>error_rate</td>\n",
       "      <td>measure</td>\n",
       "      <td>maximum</td>\n",
       "      <td>processing</td>\n",
       "      <td>protein</td>\n",
       "      <td>behavior</td>\n",
       "      <td>neuron</td>\n",
       "      <td>probability_distribution</td>\n",
       "      <td>coordinate</td>\n",
       "      <td>effect</td>\n",
       "      <td>hybrid</td>\n",
       "      <td>implemented</td>\n",
       "      <td>nonlinear</td>\n",
       "      <td>step</td>\n",
       "      <td>define</td>\n",
       "      <td>head</td>\n",
       "      <td>item</td>\n",
       "    </tr>\n",
       "  </tbody>\n",
       "</table>\n",
       "</div>"
      ],
      "text/plain": [
       "               Topic 1           Topic 2  ...    Topic 19        Topic 20\n",
       "Term1            image          equation  ...     control            node\n",
       "Term2           object              rate  ...      motion            rule\n",
       "Term3          feature       convergence  ...    position       structure\n",
       "Term4            pixel          gradient  ...  trajectory  representation\n",
       "Term5             view            vector  ...    velocity            tree\n",
       "Term6             face           optimal  ...    movement           level\n",
       "Term7           region         iteration  ...   direction           graph\n",
       "Term8           visual                eq  ...       motor          symbol\n",
       "Term9   representation            update  ...      target        sequence\n",
       "Term10         surface          constant  ...  controller          string\n",
       "Term11            edge              line  ...        hand        language\n",
       "Term12        location  gradient_descent  ...       field   connectionist\n",
       "Term13           shape              rule  ...     dynamic      similarity\n",
       "Term14     recognition        derivative  ...    feedback     represented\n",
       "Term15           scale              step  ...     forward            part\n",
       "Term16         contour           minimum  ...       robot            role\n",
       "Term17           local     approximation  ...      change        category\n",
       "Term18            part            change  ...         arm            note\n",
       "Term19           scene             noise  ...    location         machine\n",
       "Term20          vision          adaptive  ...        head            item\n",
       "\n",
       "[20 rows x 20 columns]"
      ]
     },
     "execution_count": 222,
     "metadata": {
      "tags": []
     },
     "output_type": "execute_result"
    }
   ],
   "source": [
    "topics_df = pd.DataFrame([[term for term, wt in topic] \n",
    "                              for topic in topics], \n",
    "                         columns = ['Term'+str(i) for i in range(1, 21)],\n",
    "                         index=['Topic '+str(t) for t in range(1, best_lda_model.num_topics+1)]).T\n",
    "topics_df"
   ]
  },
  {
   "cell_type": "code",
   "execution_count": 223,
   "metadata": {
    "colab": {
     "base_uri": "https://localhost:8080/",
     "height": 669
    },
    "colab_type": "code",
    "id": "MvyOKlu4p7UG",
    "outputId": "397ca3f1-3700-4518-fa10-92ac2b98a2ea"
   },
   "outputs": [
    {
     "data": {
      "text/html": [
       "<div>\n",
       "<style scoped>\n",
       "    .dataframe tbody tr th:only-of-type {\n",
       "        vertical-align: middle;\n",
       "    }\n",
       "\n",
       "    .dataframe tbody tr th {\n",
       "        vertical-align: top;\n",
       "    }\n",
       "\n",
       "    .dataframe thead th {\n",
       "        text-align: right;\n",
       "    }\n",
       "</style>\n",
       "<table border=\"1\" class=\"dataframe\">\n",
       "  <thead>\n",
       "    <tr style=\"text-align: right;\">\n",
       "      <th></th>\n",
       "      <th>Terms per Topic</th>\n",
       "    </tr>\n",
       "  </thead>\n",
       "  <tbody>\n",
       "    <tr>\n",
       "      <th>Topic1</th>\n",
       "      <td>image, object, feature, pixel, view, face, region, visual, representation, surface, edge, location, shape, recognition, scale, contour, local, part, scene, vision</td>\n",
       "    </tr>\n",
       "    <tr>\n",
       "      <th>Topic2</th>\n",
       "      <td>equation, rate, convergence, gradient, vector, optimal, iteration, eq, update, constant, line, gradient_descent, rule, derivative, step, minimum, approximation, change, noise, adaptive</td>\n",
       "    </tr>\n",
       "    <tr>\n",
       "      <th>Topic3</th>\n",
       "      <td>state, action, step, policy, control, reinforcement_learning, environment, optimal, task, goal, reward, td, agent, current, machine, transition, cost, reinforcement, rl, update</td>\n",
       "    </tr>\n",
       "    <tr>\n",
       "      <th>Topic4</th>\n",
       "      <td>training, class, classification, classifier, training_set, pattern, feature, test, machine, sample, test_set, size, trained, kernel, ensemble, table, nearest_neighbor, margin, pruning, error_rate</td>\n",
       "    </tr>\n",
       "    <tr>\n",
       "      <th>Topic5</th>\n",
       "      <td>task, target, rate, test, curve, experiment, training, effect, random, trial, generalization, search, instance, size, subject, average, bias, study, human, measure</td>\n",
       "    </tr>\n",
       "    <tr>\n",
       "      <th>Topic6</th>\n",
       "      <td>solution, constraint, local, energy, linear, optimization, nonlinear, global, potential, optimal, find, minimum, temperature, criterion, principle, search, path, variable, design, maximum</td>\n",
       "    </tr>\n",
       "    <tr>\n",
       "      <th>Topic7</th>\n",
       "      <td>signal, noise, filter, source, frequency, channel, component, response, temporal, auditory, sound, detection, ica, phase, amplitude, correlation, light, eeg, linear, processing</td>\n",
       "    </tr>\n",
       "    <tr>\n",
       "      <th>Topic8</th>\n",
       "      <td>prediction, application, experiment, table, user, query, time_series, variable, sequence, type, block, predictor, modeling, future, technique, predictive, predict, series, predicted, protein</td>\n",
       "    </tr>\n",
       "    <tr>\n",
       "      <th>Topic9</th>\n",
       "      <td>dynamic, state, memory, pattern, equation, neuron, attractor, capacity, fixed_point, noise, phase, hopfield, teacher, theory, stable, student, matrix, delay, symmetric, behavior</td>\n",
       "    </tr>\n",
       "    <tr>\n",
       "      <th>Topic10</th>\n",
       "      <td>cell, response, stimulus, activity, visual, receptive_field, map, pattern, spatial, unit, orientation, cortical, layer, cortex, center, region, contrast, eye, area, neuron</td>\n",
       "    </tr>\n",
       "    <tr>\n",
       "      <th>Topic11</th>\n",
       "      <td>distribution, probability, prior, variable, gaussian, bayesian, log, density, approximation, entropy, posterior, probabilistic, likelihood, sample, stochastic, mean_field, hidden, evidence, exp, probability_distribution</td>\n",
       "    </tr>\n",
       "    <tr>\n",
       "      <th>Topic12</th>\n",
       "      <td>vector, matrix, distance, component, code, transformation, linear, dimensional, map, dimension, mapping, representation, basis, pca, structure, projection, coding, principal_component, direction, coordinate</td>\n",
       "    </tr>\n",
       "    <tr>\n",
       "      <th>Topic13</th>\n",
       "      <td>neuron, cell, spike, synaptic, activity, firing, response, synapsis, neural, current, threshold, pattern, et_al, constant, stimulus, oscillator, neuronal, firing_rate, level, effect</td>\n",
       "    </tr>\n",
       "    <tr>\n",
       "      <th>Topic14</th>\n",
       "      <td>word, recognition, speech, training, character, sequence, hmm, context, feature, frame, letter, speaker, state, trained, speech_recognition, phoneme, digit, segmentation, mlp, hybrid</td>\n",
       "    </tr>\n",
       "    <tr>\n",
       "      <th>Topic15</th>\n",
       "      <td>circuit, chip, current, analog, voltage, neuron, bit, implementation, processor, design, parallel, operation, device, neural, digital, computation, array, synapse, hardware, implemented</td>\n",
       "    </tr>\n",
       "    <tr>\n",
       "      <th>Topic16</th>\n",
       "      <td>estimate, estimation, mixture, cluster, regression, variance, expert, clustering, sample, kernel, step, estimator, gaussian, rbf, noise, estimated, em, linear, density, nonlinear</td>\n",
       "    </tr>\n",
       "    <tr>\n",
       "      <th>Topic17</th>\n",
       "      <td>unit, layer, training, hidden_unit, net, pattern, architecture, activation, trained, recurrent, back_propagation, connection, task, hidden_layer, module, hidden, backpropagation, learn, simulation, step</td>\n",
       "    </tr>\n",
       "    <tr>\n",
       "      <th>Topic18</th>\n",
       "      <td>bound, theorem, class, size, threshold, complexity, proof, loss, polynomial, linear, approximation, probability, assume, theory, definition, xi, defined, constant, bounded, define</td>\n",
       "    </tr>\n",
       "    <tr>\n",
       "      <th>Topic19</th>\n",
       "      <td>control, motion, position, trajectory, velocity, movement, direction, motor, target, controller, hand, field, dynamic, feedback, forward, robot, change, arm, location, head</td>\n",
       "    </tr>\n",
       "    <tr>\n",
       "      <th>Topic20</th>\n",
       "      <td>node, rule, structure, representation, tree, level, graph, symbol, sequence, string, language, connectionist, similarity, represented, part, role, category, note, machine, item</td>\n",
       "    </tr>\n",
       "  </tbody>\n",
       "</table>\n",
       "</div>"
      ],
      "text/plain": [
       "                                                                                                                                                                                                                     Terms per Topic\n",
       "Topic1   image, object, feature, pixel, view, face, region, visual, representation, surface, edge, location, shape, recognition, scale, contour, local, part, scene, vision                                                         \n",
       "Topic2   equation, rate, convergence, gradient, vector, optimal, iteration, eq, update, constant, line, gradient_descent, rule, derivative, step, minimum, approximation, change, noise, adaptive                                   \n",
       "Topic3   state, action, step, policy, control, reinforcement_learning, environment, optimal, task, goal, reward, td, agent, current, machine, transition, cost, reinforcement, rl, update                                           \n",
       "Topic4   training, class, classification, classifier, training_set, pattern, feature, test, machine, sample, test_set, size, trained, kernel, ensemble, table, nearest_neighbor, margin, pruning, error_rate                        \n",
       "Topic5   task, target, rate, test, curve, experiment, training, effect, random, trial, generalization, search, instance, size, subject, average, bias, study, human, measure                                                        \n",
       "Topic6   solution, constraint, local, energy, linear, optimization, nonlinear, global, potential, optimal, find, minimum, temperature, criterion, principle, search, path, variable, design, maximum                                \n",
       "Topic7   signal, noise, filter, source, frequency, channel, component, response, temporal, auditory, sound, detection, ica, phase, amplitude, correlation, light, eeg, linear, processing                                           \n",
       "Topic8   prediction, application, experiment, table, user, query, time_series, variable, sequence, type, block, predictor, modeling, future, technique, predictive, predict, series, predicted, protein                             \n",
       "Topic9   dynamic, state, memory, pattern, equation, neuron, attractor, capacity, fixed_point, noise, phase, hopfield, teacher, theory, stable, student, matrix, delay, symmetric, behavior                                          \n",
       "Topic10  cell, response, stimulus, activity, visual, receptive_field, map, pattern, spatial, unit, orientation, cortical, layer, cortex, center, region, contrast, eye, area, neuron                                                \n",
       "Topic11  distribution, probability, prior, variable, gaussian, bayesian, log, density, approximation, entropy, posterior, probabilistic, likelihood, sample, stochastic, mean_field, hidden, evidence, exp, probability_distribution\n",
       "Topic12  vector, matrix, distance, component, code, transformation, linear, dimensional, map, dimension, mapping, representation, basis, pca, structure, projection, coding, principal_component, direction, coordinate             \n",
       "Topic13  neuron, cell, spike, synaptic, activity, firing, response, synapsis, neural, current, threshold, pattern, et_al, constant, stimulus, oscillator, neuronal, firing_rate, level, effect                                      \n",
       "Topic14  word, recognition, speech, training, character, sequence, hmm, context, feature, frame, letter, speaker, state, trained, speech_recognition, phoneme, digit, segmentation, mlp, hybrid                                     \n",
       "Topic15  circuit, chip, current, analog, voltage, neuron, bit, implementation, processor, design, parallel, operation, device, neural, digital, computation, array, synapse, hardware, implemented                                  \n",
       "Topic16  estimate, estimation, mixture, cluster, regression, variance, expert, clustering, sample, kernel, step, estimator, gaussian, rbf, noise, estimated, em, linear, density, nonlinear                                         \n",
       "Topic17  unit, layer, training, hidden_unit, net, pattern, architecture, activation, trained, recurrent, back_propagation, connection, task, hidden_layer, module, hidden, backpropagation, learn, simulation, step                 \n",
       "Topic18  bound, theorem, class, size, threshold, complexity, proof, loss, polynomial, linear, approximation, probability, assume, theory, definition, xi, defined, constant, bounded, define                                        \n",
       "Topic19  control, motion, position, trajectory, velocity, movement, direction, motor, target, controller, hand, field, dynamic, feedback, forward, robot, change, arm, location, head                                               \n",
       "Topic20  node, rule, structure, representation, tree, level, graph, symbol, sequence, string, language, connectionist, similarity, represented, part, role, category, note, machine, item                                           "
      ]
     },
     "execution_count": 223,
     "metadata": {
      "tags": []
     },
     "output_type": "execute_result"
    }
   ],
   "source": [
    "pd.set_option('display.max_colwidth', -1)\n",
    "topics_df = pd.DataFrame([', '.join([term for term, wt in topic])  \n",
    "                              for topic in topics],\n",
    "                         columns = ['Terms per Topic'],\n",
    "                         index=['Topic'+str(t) for t in range(1, best_lda_model.num_topics+1)]\n",
    "                         )\n",
    "topics_df"
   ]
  },
  {
   "cell_type": "markdown",
   "metadata": {},
   "source": [
    "# Interpreting Topic Model Results\n",
    "\n",
    "An interesting point to remember is, given a corpus of documents (in the form of\n",
    "features, e.g., Bag of Words) and a trained topic model, you can predict the distribution of\n",
    "topics in each document (research paper in this case).\n",
    "\n",
    "We can now get the most dominant topic per research paper with some intelligent\n",
    "sorting and indexing."
   ]
  },
  {
   "cell_type": "code",
   "execution_count": 224,
   "metadata": {
    "colab": {
     "base_uri": "https://localhost:8080/",
     "height": 71
    },
    "colab_type": "code",
    "id": "bXv0NRCXum-I",
    "outputId": "275a2291-ec64-4d54-8872-194f4430b254"
   },
   "outputs": [
    {
     "name": "stderr",
     "output_type": "stream",
     "text": [
      "/usr/local/lib/python3.6/dist-packages/smart_open/smart_open_lib.py:398: UserWarning: This function is deprecated, use smart_open.open instead. See the migration notes for details: https://github.com/RaRe-Technologies/smart_open/blob/master/README.rst#migrating-to-the-new-open-function\n",
      "  'See the migration notes for details: %s' % _MIGRATION_NOTES_URL\n"
     ]
    }
   ],
   "source": [
    "tm_results = best_lda_model[bow_corpus]"
   ]
  },
  {
   "cell_type": "code",
   "execution_count": 225,
   "metadata": {
    "colab": {
     "base_uri": "https://localhost:8080/",
     "height": 102
    },
    "colab_type": "code",
    "id": "WjEHWhVGuuG5",
    "outputId": "c97793ac-fa5a-49a4-b2b5-68ea75b9edf7"
   },
   "outputs": [
    {
     "data": {
      "text/plain": [
       "[(18, 0.1888297872340426),\n",
       " (12, 0.44786386676321494),\n",
       " (5, 0.24530052681992331),\n",
       " (2, 0.5155421056564298),\n",
       " (8, 0.3266178266178266)]"
      ]
     },
     "execution_count": 225,
     "metadata": {
      "tags": []
     },
     "output_type": "execute_result"
    }
   ],
   "source": [
    "corpus_topics = [sorted(topics, key=lambda record: -record[1])[0] \n",
    "                     for topics in tm_results]\n",
    "corpus_topics[:5]"
   ]
  },
  {
   "cell_type": "code",
   "execution_count": 0,
   "metadata": {
    "colab": {},
    "colab_type": "code",
    "id": "GFmddPmQuyXS"
   },
   "outputs": [],
   "source": [
    "corpus_topic_df = pd.DataFrame()\n",
    "corpus_topic_df['Document'] = range(0, len(papers))\n",
    "corpus_topic_df['Dominant Topic'] = [item[0]+1 for item in corpus_topics]\n",
    "corpus_topic_df['Contribution %'] = [round(item[1]*100, 2) for item in corpus_topics]\n",
    "corpus_topic_df['Topic Desc'] = [topics_df.iloc[t[0]]['Terms per Topic'] for t in corpus_topics]\n",
    "corpus_topic_df['Paper'] = papers"
   ]
  },
  {
   "cell_type": "markdown",
   "metadata": {},
   "source": [
    "# Dominant Topics Distribution Across Corpus\n",
    "\n",
    "The first thing we can do is look at the overall distribution of each topic across the corpus\n",
    "of research papers. Mainly we want to determine the total number of papers and the\n",
    "total percentage of papers where each of the 20 topics was the most dominant."
   ]
  },
  {
   "cell_type": "code",
   "execution_count": 227,
   "metadata": {
    "colab": {
     "base_uri": "https://localhost:8080/",
     "height": 856
    },
    "colab_type": "code",
    "id": "J95k1tvdu1yP",
    "outputId": "575dca8e-0066-48a8-c4fd-f8330b0e2064"
   },
   "outputs": [
    {
     "name": "stderr",
     "output_type": "stream",
     "text": [
      "/usr/local/lib/python3.6/dist-packages/pandas/core/groupby/generic.py:1315: FutureWarning: using a dict with renaming is deprecated and will be removed in a future version\n",
      "  return super(DataFrameGroupBy, self).aggregate(arg, *args, **kwargs)\n"
     ]
    },
    {
     "data": {
      "text/html": [
       "<div>\n",
       "<style scoped>\n",
       "    .dataframe tbody tr th:only-of-type {\n",
       "        vertical-align: middle;\n",
       "    }\n",
       "\n",
       "    .dataframe tbody tr th {\n",
       "        vertical-align: top;\n",
       "    }\n",
       "\n",
       "    .dataframe thead th {\n",
       "        text-align: right;\n",
       "    }\n",
       "</style>\n",
       "<table border=\"1\" class=\"dataframe\">\n",
       "  <thead>\n",
       "    <tr style=\"text-align: right;\">\n",
       "      <th></th>\n",
       "      <th>Dominant Topic</th>\n",
       "      <th>Doc Count</th>\n",
       "      <th>% Total Docs</th>\n",
       "      <th>Topic Desc</th>\n",
       "    </tr>\n",
       "  </thead>\n",
       "  <tbody>\n",
       "    <tr>\n",
       "      <th>0</th>\n",
       "      <td>1</td>\n",
       "      <td>120</td>\n",
       "      <td>6.90</td>\n",
       "      <td>image, object, feature, pixel, view, face, region, visual, representation, surface, edge, location, shape, recognition, scale, contour, local, part, scene, vision</td>\n",
       "    </tr>\n",
       "    <tr>\n",
       "      <th>1</th>\n",
       "      <td>2</td>\n",
       "      <td>75</td>\n",
       "      <td>4.31</td>\n",
       "      <td>equation, rate, convergence, gradient, vector, optimal, iteration, eq, update, constant, line, gradient_descent, rule, derivative, step, minimum, approximation, change, noise, adaptive</td>\n",
       "    </tr>\n",
       "    <tr>\n",
       "      <th>2</th>\n",
       "      <td>3</td>\n",
       "      <td>108</td>\n",
       "      <td>6.21</td>\n",
       "      <td>state, action, step, policy, control, reinforcement_learning, environment, optimal, task, goal, reward, td, agent, current, machine, transition, cost, reinforcement, rl, update</td>\n",
       "    </tr>\n",
       "    <tr>\n",
       "      <th>3</th>\n",
       "      <td>4</td>\n",
       "      <td>88</td>\n",
       "      <td>5.06</td>\n",
       "      <td>training, class, classification, classifier, training_set, pattern, feature, test, machine, sample, test_set, size, trained, kernel, ensemble, table, nearest_neighbor, margin, pruning, error_rate</td>\n",
       "    </tr>\n",
       "    <tr>\n",
       "      <th>4</th>\n",
       "      <td>5</td>\n",
       "      <td>60</td>\n",
       "      <td>3.45</td>\n",
       "      <td>task, target, rate, test, curve, experiment, training, effect, random, trial, generalization, search, instance, size, subject, average, bias, study, human, measure</td>\n",
       "    </tr>\n",
       "    <tr>\n",
       "      <th>5</th>\n",
       "      <td>6</td>\n",
       "      <td>36</td>\n",
       "      <td>2.07</td>\n",
       "      <td>solution, constraint, local, energy, linear, optimization, nonlinear, global, potential, optimal, find, minimum, temperature, criterion, principle, search, path, variable, design, maximum</td>\n",
       "    </tr>\n",
       "    <tr>\n",
       "      <th>6</th>\n",
       "      <td>7</td>\n",
       "      <td>74</td>\n",
       "      <td>4.25</td>\n",
       "      <td>signal, noise, filter, source, frequency, channel, component, response, temporal, auditory, sound, detection, ica, phase, amplitude, correlation, light, eeg, linear, processing</td>\n",
       "    </tr>\n",
       "    <tr>\n",
       "      <th>7</th>\n",
       "      <td>8</td>\n",
       "      <td>47</td>\n",
       "      <td>2.70</td>\n",
       "      <td>prediction, application, experiment, table, user, query, time_series, variable, sequence, type, block, predictor, modeling, future, technique, predictive, predict, series, predicted, protein</td>\n",
       "    </tr>\n",
       "    <tr>\n",
       "      <th>8</th>\n",
       "      <td>9</td>\n",
       "      <td>90</td>\n",
       "      <td>5.17</td>\n",
       "      <td>dynamic, state, memory, pattern, equation, neuron, attractor, capacity, fixed_point, noise, phase, hopfield, teacher, theory, stable, student, matrix, delay, symmetric, behavior</td>\n",
       "    </tr>\n",
       "    <tr>\n",
       "      <th>9</th>\n",
       "      <td>10</td>\n",
       "      <td>116</td>\n",
       "      <td>6.67</td>\n",
       "      <td>cell, response, stimulus, activity, visual, receptive_field, map, pattern, spatial, unit, orientation, cortical, layer, cortex, center, region, contrast, eye, area, neuron</td>\n",
       "    </tr>\n",
       "    <tr>\n",
       "      <th>10</th>\n",
       "      <td>11</td>\n",
       "      <td>114</td>\n",
       "      <td>6.55</td>\n",
       "      <td>distribution, probability, prior, variable, gaussian, bayesian, log, density, approximation, entropy, posterior, probabilistic, likelihood, sample, stochastic, mean_field, hidden, evidence, exp, p...</td>\n",
       "    </tr>\n",
       "    <tr>\n",
       "      <th>11</th>\n",
       "      <td>12</td>\n",
       "      <td>61</td>\n",
       "      <td>3.51</td>\n",
       "      <td>vector, matrix, distance, component, code, transformation, linear, dimensional, map, dimension, mapping, representation, basis, pca, structure, projection, coding, principal_component, direction, ...</td>\n",
       "    </tr>\n",
       "    <tr>\n",
       "      <th>12</th>\n",
       "      <td>13</td>\n",
       "      <td>121</td>\n",
       "      <td>6.95</td>\n",
       "      <td>neuron, cell, spike, synaptic, activity, firing, response, synapsis, neural, current, threshold, pattern, et_al, constant, stimulus, oscillator, neuronal, firing_rate, level, effect</td>\n",
       "    </tr>\n",
       "    <tr>\n",
       "      <th>13</th>\n",
       "      <td>14</td>\n",
       "      <td>89</td>\n",
       "      <td>5.11</td>\n",
       "      <td>word, recognition, speech, training, character, sequence, hmm, context, feature, frame, letter, speaker, state, trained, speech_recognition, phoneme, digit, segmentation, mlp, hybrid</td>\n",
       "    </tr>\n",
       "    <tr>\n",
       "      <th>14</th>\n",
       "      <td>15</td>\n",
       "      <td>110</td>\n",
       "      <td>6.32</td>\n",
       "      <td>circuit, chip, current, analog, voltage, neuron, bit, implementation, processor, design, parallel, operation, device, neural, digital, computation, array, synapse, hardware, implemented</td>\n",
       "    </tr>\n",
       "    <tr>\n",
       "      <th>15</th>\n",
       "      <td>16</td>\n",
       "      <td>96</td>\n",
       "      <td>5.52</td>\n",
       "      <td>estimate, estimation, mixture, cluster, regression, variance, expert, clustering, sample, kernel, step, estimator, gaussian, rbf, noise, estimated, em, linear, density, nonlinear</td>\n",
       "    </tr>\n",
       "    <tr>\n",
       "      <th>16</th>\n",
       "      <td>17</td>\n",
       "      <td>76</td>\n",
       "      <td>4.37</td>\n",
       "      <td>unit, layer, training, hidden_unit, net, pattern, architecture, activation, trained, recurrent, back_propagation, connection, task, hidden_layer, module, hidden, backpropagation, learn, simulation...</td>\n",
       "    </tr>\n",
       "    <tr>\n",
       "      <th>17</th>\n",
       "      <td>18</td>\n",
       "      <td>109</td>\n",
       "      <td>6.26</td>\n",
       "      <td>bound, theorem, class, size, threshold, complexity, proof, loss, polynomial, linear, approximation, probability, assume, theory, definition, xi, defined, constant, bounded, define</td>\n",
       "    </tr>\n",
       "    <tr>\n",
       "      <th>18</th>\n",
       "      <td>19</td>\n",
       "      <td>75</td>\n",
       "      <td>4.31</td>\n",
       "      <td>control, motion, position, trajectory, velocity, movement, direction, motor, target, controller, hand, field, dynamic, feedback, forward, robot, change, arm, location, head</td>\n",
       "    </tr>\n",
       "    <tr>\n",
       "      <th>19</th>\n",
       "      <td>20</td>\n",
       "      <td>75</td>\n",
       "      <td>4.31</td>\n",
       "      <td>node, rule, structure, representation, tree, level, graph, symbol, sequence, string, language, connectionist, similarity, represented, part, role, category, note, machine, item</td>\n",
       "    </tr>\n",
       "  </tbody>\n",
       "</table>\n",
       "</div>"
      ],
      "text/plain": [
       "    Dominant Topic  ...                                                                                                                                                                                               Topic Desc\n",
       "0                1  ...                                       image, object, feature, pixel, view, face, region, visual, representation, surface, edge, location, shape, recognition, scale, contour, local, part, scene, vision\n",
       "1                2  ...                 equation, rate, convergence, gradient, vector, optimal, iteration, eq, update, constant, line, gradient_descent, rule, derivative, step, minimum, approximation, change, noise, adaptive\n",
       "2                3  ...                         state, action, step, policy, control, reinforcement_learning, environment, optimal, task, goal, reward, td, agent, current, machine, transition, cost, reinforcement, rl, update\n",
       "3                4  ...      training, class, classification, classifier, training_set, pattern, feature, test, machine, sample, test_set, size, trained, kernel, ensemble, table, nearest_neighbor, margin, pruning, error_rate\n",
       "4                5  ...                                      task, target, rate, test, curve, experiment, training, effect, random, trial, generalization, search, instance, size, subject, average, bias, study, human, measure\n",
       "5                6  ...              solution, constraint, local, energy, linear, optimization, nonlinear, global, potential, optimal, find, minimum, temperature, criterion, principle, search, path, variable, design, maximum\n",
       "6                7  ...                         signal, noise, filter, source, frequency, channel, component, response, temporal, auditory, sound, detection, ica, phase, amplitude, correlation, light, eeg, linear, processing\n",
       "7                8  ...           prediction, application, experiment, table, user, query, time_series, variable, sequence, type, block, predictor, modeling, future, technique, predictive, predict, series, predicted, protein\n",
       "8                9  ...                        dynamic, state, memory, pattern, equation, neuron, attractor, capacity, fixed_point, noise, phase, hopfield, teacher, theory, stable, student, matrix, delay, symmetric, behavior\n",
       "9               10  ...                              cell, response, stimulus, activity, visual, receptive_field, map, pattern, spatial, unit, orientation, cortical, layer, cortex, center, region, contrast, eye, area, neuron\n",
       "10              11  ...  distribution, probability, prior, variable, gaussian, bayesian, log, density, approximation, entropy, posterior, probabilistic, likelihood, sample, stochastic, mean_field, hidden, evidence, exp, p...\n",
       "11              12  ...  vector, matrix, distance, component, code, transformation, linear, dimensional, map, dimension, mapping, representation, basis, pca, structure, projection, coding, principal_component, direction, ...\n",
       "12              13  ...                    neuron, cell, spike, synaptic, activity, firing, response, synapsis, neural, current, threshold, pattern, et_al, constant, stimulus, oscillator, neuronal, firing_rate, level, effect\n",
       "13              14  ...                   word, recognition, speech, training, character, sequence, hmm, context, feature, frame, letter, speaker, state, trained, speech_recognition, phoneme, digit, segmentation, mlp, hybrid\n",
       "14              15  ...                circuit, chip, current, analog, voltage, neuron, bit, implementation, processor, design, parallel, operation, device, neural, digital, computation, array, synapse, hardware, implemented\n",
       "15              16  ...                       estimate, estimation, mixture, cluster, regression, variance, expert, clustering, sample, kernel, step, estimator, gaussian, rbf, noise, estimated, em, linear, density, nonlinear\n",
       "16              17  ...  unit, layer, training, hidden_unit, net, pattern, architecture, activation, trained, recurrent, back_propagation, connection, task, hidden_layer, module, hidden, backpropagation, learn, simulation...\n",
       "17              18  ...                      bound, theorem, class, size, threshold, complexity, proof, loss, polynomial, linear, approximation, probability, assume, theory, definition, xi, defined, constant, bounded, define\n",
       "18              19  ...                             control, motion, position, trajectory, velocity, movement, direction, motor, target, controller, hand, field, dynamic, feedback, forward, robot, change, arm, location, head\n",
       "19              20  ...                         node, rule, structure, representation, tree, level, graph, symbol, sequence, string, language, connectionist, similarity, represented, part, role, category, note, machine, item\n",
       "\n",
       "[20 rows x 4 columns]"
      ]
     },
     "execution_count": 227,
     "metadata": {
      "tags": []
     },
     "output_type": "execute_result"
    }
   ],
   "source": [
    "pd.set_option('display.max_colwidth', 200)\n",
    "topic_stats_df = corpus_topic_df.groupby('Dominant Topic').agg({\n",
    "                                                'Dominant Topic': {\n",
    "                                                    'Doc Count': np.size,\n",
    "                                                    '% Total Docs': np.size }\n",
    "                                              })\n",
    "topic_stats_df = topic_stats_df['Dominant Topic'].reset_index()\n",
    "topic_stats_df['% Total Docs'] = topic_stats_df['% Total Docs'].apply(lambda row: round((row*100) / len(papers), 2))\n",
    "topic_stats_df['Topic Desc'] = [topics_df.iloc[t]['Terms per Topic'] for t in range(len(topic_stats_df))]\n",
    "topic_stats_df"
   ]
  },
  {
   "cell_type": "markdown",
   "metadata": {},
   "source": [
    "# Dominant Topics in Specific Research Papers\n",
    "\n",
    "Another interesting perspective is to select specific papers, view the most dominant topic\n",
    "in each of those papers, and see if that makes sense."
   ]
  },
  {
   "cell_type": "code",
   "execution_count": 228,
   "metadata": {
    "colab": {
     "base_uri": "https://localhost:8080/",
     "height": 1000
    },
    "colab_type": "code",
    "id": "pN45exiiu5sx",
    "outputId": "ff24e654-a34e-4fe2-8dae-ecc5d57c477c"
   },
   "outputs": [
    {
     "data": {
      "text/html": [
       "<div>\n",
       "<style scoped>\n",
       "    .dataframe tbody tr th:only-of-type {\n",
       "        vertical-align: middle;\n",
       "    }\n",
       "\n",
       "    .dataframe tbody tr th {\n",
       "        vertical-align: top;\n",
       "    }\n",
       "\n",
       "    .dataframe thead th {\n",
       "        text-align: right;\n",
       "    }\n",
       "</style>\n",
       "<table border=\"1\" class=\"dataframe\">\n",
       "  <thead>\n",
       "    <tr style=\"text-align: right;\">\n",
       "      <th></th>\n",
       "      <th>Document</th>\n",
       "      <th>Dominant Topic</th>\n",
       "      <th>Contribution %</th>\n",
       "      <th>Topic Desc</th>\n",
       "      <th>Paper</th>\n",
       "    </tr>\n",
       "    <tr>\n",
       "      <th>Dominant Topic</th>\n",
       "      <th></th>\n",
       "      <th></th>\n",
       "      <th></th>\n",
       "      <th></th>\n",
       "      <th></th>\n",
       "    </tr>\n",
       "  </thead>\n",
       "  <tbody>\n",
       "    <tr>\n",
       "      <th>1</th>\n",
       "      <td>108</td>\n",
       "      <td>1</td>\n",
       "      <td>55.66</td>\n",
       "      <td>image, object, feature, pixel, view, face, region, visual, representation, surface, edge, location, shape, recognition, scale, contour, local, part, scene, vision</td>\n",
       "      <td>297 \\nA NETWORK FOR IMAGE SEGMENTATION \\nUSING COLOR \\nAnya Hurlbert and Tomaso Poggio \\nCenter for Biological Information Processing at Whitaker College \\nDepartment of Brain and Cognitive Scienc...</td>\n",
       "    </tr>\n",
       "    <tr>\n",
       "      <th>2</th>\n",
       "      <td>1197</td>\n",
       "      <td>2</td>\n",
       "      <td>57.13</td>\n",
       "      <td>equation, rate, convergence, gradient, vector, optimal, iteration, eq, update, constant, line, gradient_descent, rule, derivative, step, minimum, approximation, change, noise, adaptive</td>\n",
       "      <td>Removing Noise in On-Line Search using \\nAdaptive Batch Sizes \\nGenevieve B. Orr \\nDepartment of Computer Science \\nWillamette University \\n900 State Street \\nSalem, Oregon 97301 \\ngorr)willamett...</td>\n",
       "    </tr>\n",
       "    <tr>\n",
       "      <th>3</th>\n",
       "      <td>1158</td>\n",
       "      <td>3</td>\n",
       "      <td>74.16</td>\n",
       "      <td>state, action, step, policy, control, reinforcement_learning, environment, optimal, task, goal, reward, td, agent, current, machine, transition, cost, reinforcement, rl, update</td>\n",
       "      <td>Reinforcement Learning for Mixed \\nOpen-loop and Closed-loop Control \\nEric A. Hansen, Andrew G. Barto, and Shlomo Zilbersteln \\nDepartment of Computer Science \\nUniversity of Massachusetts \\nAmhe...</td>\n",
       "    </tr>\n",
       "    <tr>\n",
       "      <th>4</th>\n",
       "      <td>1039</td>\n",
       "      <td>4</td>\n",
       "      <td>66.83</td>\n",
       "      <td>training, class, classification, classifier, training_set, pattern, feature, test, machine, sample, test_set, size, trained, kernel, ensemble, table, nearest_neighbor, margin, pruning, error_rate</td>\n",
       "      <td>Boosting Decision Trees \\nHarris Drucker \\nAT&amp;T Bell Laboratories \\nHolmdel, New Jersey 07733 \\nCorinna Cortes \\nAT&amp;T Bell Laboratories \\nMurray Hill, New Jersey 07974 \\nAbstract \\nA new boosting ...</td>\n",
       "    </tr>\n",
       "    <tr>\n",
       "      <th>5</th>\n",
       "      <td>583</td>\n",
       "      <td>5</td>\n",
       "      <td>48.27</td>\n",
       "      <td>task, target, rate, test, curve, experiment, training, effect, random, trial, generalization, search, instance, size, subject, average, bias, study, human, measure</td>\n",
       "      <td>A Knowledge-Based Model of Geometry Learning \\nGeoffrey Towell \\nSiemens Corporate Research \\n755 College Road East \\nPrinceton, NJ 08540 \\ntoweli @ learning. siemens. com \\nRichard Lehrer \\nEduca...</td>\n",
       "    </tr>\n",
       "    <tr>\n",
       "      <th>6</th>\n",
       "      <td>1003</td>\n",
       "      <td>6</td>\n",
       "      <td>50.58</td>\n",
       "      <td>solution, constraint, local, energy, linear, optimization, nonlinear, global, potential, optimal, find, minimum, temperature, criterion, principle, search, path, variable, design, maximum</td>\n",
       "      <td>Softassign versus Softmax: Benchmarks \\nin Combinatorial Optimization \\nSteven Gold \\nDepartment of Computer Science \\nYale University \\nNew Haven, CT 06520-8285 \\nAnand Rangarajan \\nDept. of Diag...</td>\n",
       "    </tr>\n",
       "    <tr>\n",
       "      <th>7</th>\n",
       "      <td>1314</td>\n",
       "      <td>7</td>\n",
       "      <td>56.34</td>\n",
       "      <td>signal, noise, filter, source, frequency, channel, component, response, temporal, auditory, sound, detection, ica, phase, amplitude, correlation, light, eeg, linear, processing</td>\n",
       "      <td>Extended ICA Removes Artifacts from \\nElectroencephalographic Recordings \\nTzyy-Ping Jung , Colin Humphries , Te-Won Lee , Scott Makeig 2'3, \\nMartin J. McKeown , Vicente Iragui 3, Terrence J....</td>\n",
       "    </tr>\n",
       "    <tr>\n",
       "      <th>8</th>\n",
       "      <td>1276</td>\n",
       "      <td>8</td>\n",
       "      <td>46.83</td>\n",
       "      <td>prediction, application, experiment, table, user, query, time_series, variable, sequence, type, block, predictor, modeling, future, technique, predictive, predict, series, predicted, protein</td>\n",
       "      <td>Predicting Lifetimes in Dynamically \\nAllocated Memory \\nDavid A. Cohn \\nAdaptive Systems Group \\nHarlequin, Inc. \\nMenlo Park, CA 94025 \\ncohnharlequin. tom \\nSatinder Singh \\nDepartment of Comp...</td>\n",
       "    </tr>\n",
       "    <tr>\n",
       "      <th>9</th>\n",
       "      <td>168</td>\n",
       "      <td>9</td>\n",
       "      <td>64.30</td>\n",
       "      <td>dynamic, state, memory, pattern, equation, neuron, attractor, capacity, fixed_point, noise, phase, hopfield, teacher, theory, stable, student, matrix, delay, symmetric, behavior</td>\n",
       "      <td>568 \\nDYNAMICS OF ANALOG NEURAL \\nNETWORKS WITH TIME DELAY \\nC.M. Marcus and R.M. Westervelt \\nDivision of Applied Sciences and Department of Physics \\nHarvard University, Cambridge Massachusetts ...</td>\n",
       "    </tr>\n",
       "    <tr>\n",
       "      <th>10</th>\n",
       "      <td>938</td>\n",
       "      <td>10</td>\n",
       "      <td>68.41</td>\n",
       "      <td>cell, response, stimulus, activity, visual, receptive_field, map, pattern, spatial, unit, orientation, cortical, layer, cortex, center, region, contrast, eye, area, neuron</td>\n",
       "      <td>Ocular Dominance and Patterned Lateral \\nConnections in a Self-Organizing Model of the \\nPrimary Visual Cortex \\nJoseph Sirosh and Risto Miikkulainen \\nDepartment of Computer Sciences \\nUniversity...</td>\n",
       "    </tr>\n",
       "    <tr>\n",
       "      <th>11</th>\n",
       "      <td>1315</td>\n",
       "      <td>11</td>\n",
       "      <td>57.10</td>\n",
       "      <td>distribution, probability, prior, variable, gaussian, bayesian, log, density, approximation, entropy, posterior, probabilistic, likelihood, sample, stochastic, mean_field, hidden, evidence, exp, p...</td>\n",
       "      <td>Approximating Posterior Distributions \\nin Belief Networks using Mixtures \\nChristopher M. Bishop \\nNeil Lawrence \\nNeural Computing Research Group \\nDept. Computer Science &amp; Applied Mathematics \\...</td>\n",
       "    </tr>\n",
       "    <tr>\n",
       "      <th>12</th>\n",
       "      <td>1403</td>\n",
       "      <td>12</td>\n",
       "      <td>41.85</td>\n",
       "      <td>vector, matrix, distance, component, code, transformation, linear, dimensional, map, dimension, mapping, representation, basis, pca, structure, projection, coding, principal_component, direction, ...</td>\n",
       "      <td>Mapping a manifold of perceptual observations \\nJoshua B. Tenenbaum \\nDepartment of Brain and Cognitive Sciences \\nMassachusetts Institute of Technology, Cambridge, MA 02139 \\nj bt @psyche. mi t. ...</td>\n",
       "    </tr>\n",
       "    <tr>\n",
       "      <th>13</th>\n",
       "      <td>242</td>\n",
       "      <td>13</td>\n",
       "      <td>75.64</td>\n",
       "      <td>neuron, cell, spike, synaptic, activity, firing, response, synapsis, neural, current, threshold, pattern, et_al, constant, stimulus, oscillator, neuronal, firing_rate, level, effect</td>\n",
       "      <td>18 Harris-Warrick \\nMECHANISMS FOR NEUROMODULATION \\nOF BIOLOGICAL NEURAL NETWORKS \\nRonald M. Harris-Warrick \\nSection of Neurobiology and Behavior \\nCornell University \\nIthaca, NY 14853 \\nABSTR...</td>\n",
       "    </tr>\n",
       "    <tr>\n",
       "      <th>14</th>\n",
       "      <td>652</td>\n",
       "      <td>14</td>\n",
       "      <td>69.10</td>\n",
       "      <td>word, recognition, speech, training, character, sequence, hmm, context, feature, frame, letter, speaker, state, trained, speech_recognition, phoneme, digit, segmentation, mlp, hybrid</td>\n",
       "      <td>Connected Letter Recognition with a \\nMulti-State Time Delay Neural Network \\nHermann Hild and Alex Waibel \\nSchool of Computer Science \\nCarnegie Mellon University \\nPittsburgh, PA 15213-3891, US...</td>\n",
       "    </tr>\n",
       "    <tr>\n",
       "      <th>15</th>\n",
       "      <td>855</td>\n",
       "      <td>15</td>\n",
       "      <td>70.54</td>\n",
       "      <td>circuit, chip, current, analog, voltage, neuron, bit, implementation, processor, design, parallel, operation, device, neural, digital, computation, array, synapse, hardware, implemented</td>\n",
       "      <td>Single Transistor Learning Synapses \\nPaul Hasler, Chris Diorio, Bradley A. Minch, Carver Mead \\nCalifornia Institute of Technology \\nPasadena, CA 91125 \\n(SlS) 95- 2S12 \\npaul@hobiecat.pcmp.calt...</td>\n",
       "    </tr>\n",
       "    <tr>\n",
       "      <th>16</th>\n",
       "      <td>791</td>\n",
       "      <td>16</td>\n",
       "      <td>51.99</td>\n",
       "      <td>estimate, estimation, mixture, cluster, regression, variance, expert, clustering, sample, kernel, step, estimator, gaussian, rbf, noise, estimated, em, linear, density, nonlinear</td>\n",
       "      <td>Supervised learning from incomplete \\ndata via an EM approach \\nZoubin Ghahramani and Michael I. Jordan \\nDepartment of Brain &amp; Cognitive Sciences \\nMassachusetts Institute of Techuology \\nCambrid...</td>\n",
       "    </tr>\n",
       "    <tr>\n",
       "      <th>17</th>\n",
       "      <td>223</td>\n",
       "      <td>17</td>\n",
       "      <td>62.92</td>\n",
       "      <td>unit, layer, training, hidden_unit, net, pattern, architecture, activation, trained, recurrent, back_propagation, connection, task, hidden_layer, module, hidden, backpropagation, learn, simulation...</td>\n",
       "      <td>524 Fahlman and Lebiere \\nThe Cascade-Correlation Learning Architecture \\nScott E. Fahlman and Christian Lebiere \\nSchool of Computer Science \\nCarnegie-Mellon University \\nPittsburgh, PA 15213 \\n...</td>\n",
       "    </tr>\n",
       "    <tr>\n",
       "      <th>18</th>\n",
       "      <td>558</td>\n",
       "      <td>18</td>\n",
       "      <td>78.91</td>\n",
       "      <td>bound, theorem, class, size, threshold, complexity, proof, loss, polynomial, linear, approximation, probability, assume, theory, definition, xi, defined, constant, bounded, define</td>\n",
       "      <td>Polynomial Uniform Convergence of \\nRelative Frequencies to Probabilities \\nAlberto Bertoni, Paola Campadelll;' Anna Morpurgo, Sandra Panlzza \\nDipartimento di Scienze dell'Informazione \\nUniversi...</td>\n",
       "    </tr>\n",
       "    <tr>\n",
       "      <th>19</th>\n",
       "      <td>378</td>\n",
       "      <td>19</td>\n",
       "      <td>72.26</td>\n",
       "      <td>control, motion, position, trajectory, velocity, movement, direction, motor, target, controller, hand, field, dynamic, feedback, forward, robot, change, arm, location, head</td>\n",
       "      <td>Learning Trajectory and Force Control \\nof an Artificial Muscle Arm \\nby Parallel-hierarchical Neural Network Model \\nMasazumi Katayama Mitsuo Kawato \\nCognitive Processes Department \\nATR Auditor...</td>\n",
       "    </tr>\n",
       "    <tr>\n",
       "      <th>20</th>\n",
       "      <td>574</td>\n",
       "      <td>20</td>\n",
       "      <td>75.90</td>\n",
       "      <td>node, rule, structure, representation, tree, level, graph, symbol, sequence, string, language, connectionist, similarity, represented, part, role, category, note, machine, item</td>\n",
       "      <td>Harmonic Grammars \\nfor Formal Languages \\nPaul Smolensky \\nDepartment of Computer Science \\nInstitute of Cognitive Science \\nUniversity of Colorado \\nBoulder, Colorado 80309-0430 \\nAbstract \\nBas...</td>\n",
       "    </tr>\n",
       "  </tbody>\n",
       "</table>\n",
       "</div>"
      ],
      "text/plain": [
       "                Document  ...                                                                                                                                                                                                    Paper\n",
       "Dominant Topic            ...                                                                                                                                                                                                         \n",
       "1                    108  ...  297 \\nA NETWORK FOR IMAGE SEGMENTATION \\nUSING COLOR \\nAnya Hurlbert and Tomaso Poggio \\nCenter for Biological Information Processing at Whitaker College \\nDepartment of Brain and Cognitive Scienc...\n",
       "2                   1197  ...  Removing Noise in On-Line Search using \\nAdaptive Batch Sizes \\nGenevieve B. Orr \\nDepartment of Computer Science \\nWillamette University \\n900 State Street \\nSalem, Oregon 97301 \\ngorr)willamett...\n",
       "3                   1158  ...  Reinforcement Learning for Mixed \\nOpen-loop and Closed-loop Control \\nEric A. Hansen, Andrew G. Barto, and Shlomo Zilbersteln \\nDepartment of Computer Science \\nUniversity of Massachusetts \\nAmhe...\n",
       "4                   1039  ...  Boosting Decision Trees \\nHarris Drucker \\nAT&T Bell Laboratories \\nHolmdel, New Jersey 07733 \\nCorinna Cortes \\nAT&T Bell Laboratories \\nMurray Hill, New Jersey 07974 \\nAbstract \\nA new boosting ...\n",
       "5                    583  ...  A Knowledge-Based Model of Geometry Learning \\nGeoffrey Towell \\nSiemens Corporate Research \\n755 College Road East \\nPrinceton, NJ 08540 \\ntoweli @ learning. siemens. com \\nRichard Lehrer \\nEduca...\n",
       "6                   1003  ...  Softassign versus Softmax: Benchmarks \\nin Combinatorial Optimization \\nSteven Gold \\nDepartment of Computer Science \\nYale University \\nNew Haven, CT 06520-8285 \\nAnand Rangarajan \\nDept. of Diag...\n",
       "7                   1314  ...  Extended ICA Removes Artifacts from \\nElectroencephalographic Recordings \\nTzyy-Ping Jung , Colin Humphries , Te-Won Lee , Scott Makeig 2'3, \\nMartin J. McKeown , Vicente Iragui 3, Terrence J....\n",
       "8                   1276  ...  Predicting Lifetimes in Dynamically \\nAllocated Memory \\nDavid A. Cohn \\nAdaptive Systems Group \\nHarlequin, Inc. \\nMenlo Park, CA 94025 \\ncohnharlequin. tom \\nSatinder Singh \\nDepartment of Comp...\n",
       "9                    168  ...  568 \\nDYNAMICS OF ANALOG NEURAL \\nNETWORKS WITH TIME DELAY \\nC.M. Marcus and R.M. Westervelt \\nDivision of Applied Sciences and Department of Physics \\nHarvard University, Cambridge Massachusetts ...\n",
       "10                   938  ...  Ocular Dominance and Patterned Lateral \\nConnections in a Self-Organizing Model of the \\nPrimary Visual Cortex \\nJoseph Sirosh and Risto Miikkulainen \\nDepartment of Computer Sciences \\nUniversity...\n",
       "11                  1315  ...  Approximating Posterior Distributions \\nin Belief Networks using Mixtures \\nChristopher M. Bishop \\nNeil Lawrence \\nNeural Computing Research Group \\nDept. Computer Science & Applied Mathematics \\...\n",
       "12                  1403  ...  Mapping a manifold of perceptual observations \\nJoshua B. Tenenbaum \\nDepartment of Brain and Cognitive Sciences \\nMassachusetts Institute of Technology, Cambridge, MA 02139 \\nj bt @psyche. mi t. ...\n",
       "13                   242  ...  18 Harris-Warrick \\nMECHANISMS FOR NEUROMODULATION \\nOF BIOLOGICAL NEURAL NETWORKS \\nRonald M. Harris-Warrick \\nSection of Neurobiology and Behavior \\nCornell University \\nIthaca, NY 14853 \\nABSTR...\n",
       "14                   652  ...  Connected Letter Recognition with a \\nMulti-State Time Delay Neural Network \\nHermann Hild and Alex Waibel \\nSchool of Computer Science \\nCarnegie Mellon University \\nPittsburgh, PA 15213-3891, US...\n",
       "15                   855  ...  Single Transistor Learning Synapses \\nPaul Hasler, Chris Diorio, Bradley A. Minch, Carver Mead \\nCalifornia Institute of Technology \\nPasadena, CA 91125 \\n(SlS) 95- 2S12 \\npaul@hobiecat.pcmp.calt...\n",
       "16                   791  ...  Supervised learning from incomplete \\ndata via an EM approach \\nZoubin Ghahramani and Michael I. Jordan \\nDepartment of Brain & Cognitive Sciences \\nMassachusetts Institute of Techuology \\nCambrid...\n",
       "17                   223  ...  524 Fahlman and Lebiere \\nThe Cascade-Correlation Learning Architecture \\nScott E. Fahlman and Christian Lebiere \\nSchool of Computer Science \\nCarnegie-Mellon University \\nPittsburgh, PA 15213 \\n...\n",
       "18                   558  ...  Polynomial Uniform Convergence of \\nRelative Frequencies to Probabilities \\nAlberto Bertoni, Paola Campadelll;' Anna Morpurgo, Sandra Panlzza \\nDipartimento di Scienze dell'Informazione \\nUniversi...\n",
       "19                   378  ...  Learning Trajectory and Force Control \\nof an Artificial Muscle Arm \\nby Parallel-hierarchical Neural Network Model \\nMasazumi Katayama Mitsuo Kawato \\nCognitive Processes Department \\nATR Auditor...\n",
       "20                   574  ...  Harmonic Grammars \\nfor Formal Languages \\nPaul Smolensky \\nDepartment of Computer Science \\nInstitute of Cognitive Science \\nUniversity of Colorado \\nBoulder, Colorado 80309-0430 \\nAbstract \\nBas...\n",
       "\n",
       "[20 rows x 5 columns]"
      ]
     },
     "execution_count": 228,
     "metadata": {
      "tags": []
     },
     "output_type": "execute_result"
    }
   ],
   "source": [
    "corpus_topic_df.groupby('Dominant Topic').apply(lambda topic_set: (topic_set.sort_values(by=['Contribution %'], \n",
    "                                                                                         ascending=False)\n",
    "                                                                             .iloc[0]))"
   ]
  },
  {
   "cell_type": "code",
   "execution_count": 229,
   "metadata": {
    "colab": {
     "base_uri": "https://localhost:8080/",
     "height": 34
    },
    "colab_type": "code",
    "id": "I0QF6K53v4zN",
    "outputId": "5533577d-0cf0-4230-8e50-c404c8feffe5"
   },
   "outputs": [
    {
     "data": {
      "text/plain": [
       "[693, 708, 460]"
      ]
     },
     "execution_count": 229,
     "metadata": {
      "tags": []
     },
     "output_type": "execute_result"
    }
   ],
   "source": [
    "sample_paper_patterns = ['Feudal Reinforcement Learning \\nPeter', 'Illumination-Invariant Face Recognition with a', 'Improved Hidden Markov Model Speech Recognition']\n",
    "sample_paper_idxs = [idx for pattern in sample_paper_patterns \n",
    "                            for idx, content in enumerate(papers) \n",
    "                                if pattern in content]\n",
    "sample_paper_idxs"
   ]
  },
  {
   "cell_type": "code",
   "execution_count": 230,
   "metadata": {
    "colab": {
     "base_uri": "https://localhost:8080/",
     "height": 261
    },
    "colab_type": "code",
    "id": "d7JrXUbsw0bt",
    "outputId": "6c72404e-0d74-4030-dd1c-02dbf372d6fd"
   },
   "outputs": [
    {
     "data": {
      "text/html": [
       "<div>\n",
       "<style scoped>\n",
       "    .dataframe tbody tr th:only-of-type {\n",
       "        vertical-align: middle;\n",
       "    }\n",
       "\n",
       "    .dataframe tbody tr th {\n",
       "        vertical-align: top;\n",
       "    }\n",
       "\n",
       "    .dataframe thead th {\n",
       "        text-align: right;\n",
       "    }\n",
       "</style>\n",
       "<table border=\"1\" class=\"dataframe\">\n",
       "  <thead>\n",
       "    <tr style=\"text-align: right;\">\n",
       "      <th></th>\n",
       "      <th>Document</th>\n",
       "      <th>Dominant Topic</th>\n",
       "      <th>Contribution %</th>\n",
       "      <th>Topic Desc</th>\n",
       "      <th>Paper</th>\n",
       "    </tr>\n",
       "  </thead>\n",
       "  <tbody>\n",
       "    <tr>\n",
       "      <th>460</th>\n",
       "      <td>460</td>\n",
       "      <td>14</td>\n",
       "      <td>49.04</td>\n",
       "      <td>word, recognition, speech, training, character, sequence, hmm, context, feature, frame, letter, speaker, state, trained, speech_recognition, phoneme, digit, segmentation, mlp, hybrid</td>\n",
       "      <td>Improved Hidden Markov Model \\nSpeech Recognition Using \\nRadial Basis Function Networks \\nElliot Singer and Richard P. Lippmann \\nLincoln Laboratory, MIT \\nLexington, MA 02173-9108, USA \\nAbstrac...</td>\n",
       "    </tr>\n",
       "    <tr>\n",
       "      <th>693</th>\n",
       "      <td>693</td>\n",
       "      <td>3</td>\n",
       "      <td>47.48</td>\n",
       "      <td>state, action, step, policy, control, reinforcement_learning, environment, optimal, task, goal, reward, td, agent, current, machine, transition, cost, reinforcement, rl, update</td>\n",
       "      <td>Feudal Reinforcement Learning \\nPeter Dayan \\nCNL \\nThe Salk Institute \\nPO Box 85800 \\nSan Diego CA 92186-5800, USA \\ndayanhelmholtz. sdsc. edu \\nGeoffrey E Hinton \\nDepartment of Computer Scien...</td>\n",
       "    </tr>\n",
       "    <tr>\n",
       "      <th>708</th>\n",
       "      <td>708</td>\n",
       "      <td>1</td>\n",
       "      <td>38.37</td>\n",
       "      <td>image, object, feature, pixel, view, face, region, visual, representation, surface, edge, location, shape, recognition, scale, contour, local, part, scene, vision</td>\n",
       "      <td>Illumination-Invariant Face Recognition with a \\nContrast Sensitive Silicon Retina \\nJoachim M. Buhmann \\nRheinische Friedrich-Wilhelms-Universitfit \\nInstitut ftir Informatik II, R6merstrage 164 ...</td>\n",
       "    </tr>\n",
       "  </tbody>\n",
       "</table>\n",
       "</div>"
      ],
      "text/plain": [
       "     Document  ...                                                                                                                                                                                                    Paper\n",
       "460       460  ...  Improved Hidden Markov Model \\nSpeech Recognition Using \\nRadial Basis Function Networks \\nElliot Singer and Richard P. Lippmann \\nLincoln Laboratory, MIT \\nLexington, MA 02173-9108, USA \\nAbstrac...\n",
       "693       693  ...  Feudal Reinforcement Learning \\nPeter Dayan \\nCNL \\nThe Salk Institute \\nPO Box 85800 \\nSan Diego CA 92186-5800, USA \\ndayanhelmholtz. sdsc. edu \\nGeoffrey E Hinton \\nDepartment of Computer Scien...\n",
       "708       708  ...  Illumination-Invariant Face Recognition with a \\nContrast Sensitive Silicon Retina \\nJoachim M. Buhmann \\nRheinische Friedrich-Wilhelms-Universitfit \\nInstitut ftir Informatik II, R6merstrage 164 ...\n",
       "\n",
       "[3 rows x 5 columns]"
      ]
     },
     "execution_count": 230,
     "metadata": {
      "tags": []
     },
     "output_type": "execute_result"
    }
   ],
   "source": [
    "pd.set_option('display.max_colwidth', 200)\n",
    "(corpus_topic_df[corpus_topic_df['Document']\n",
    "                 .isin(sample_paper_idxs)])"
   ]
  }
 ],
 "metadata": {
  "colab": {
   "name": "Topic Modeling.ipynb",
   "provenance": [],
   "version": "0.3.2"
  },
  "kernelspec": {
   "display_name": "Python 3",
   "language": "python",
   "name": "python3"
  },
  "language_info": {
   "codemirror_mode": {
    "name": "ipython",
    "version": 3
   },
   "file_extension": ".py",
   "mimetype": "text/x-python",
   "name": "python",
   "nbconvert_exporter": "python",
   "pygments_lexer": "ipython3",
   "version": "3.6.4"
  }
 },
 "nbformat": 4,
 "nbformat_minor": 1
}
