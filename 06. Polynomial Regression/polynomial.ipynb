{
 "cells": [
  {
   "cell_type": "code",
   "execution_count": 201,
   "id": "dab4388d-bf50-4e0d-a892-597d4d3078b3",
   "metadata": {},
   "outputs": [],
   "source": [
    "import pandas as pd\n",
    "import seaborn as sns\n",
    "from sklearn.linear_model import LinearRegression\n",
    "import matplotlib.pyplot as plt\n",
    "from sklearn.metrics import mean_absolute_percentage_error, r2_score\n",
    "\n",
    "from sklearn.preprocessing import PolynomialFeatures\n",
    "\n",
    "\n",
    "from sklearn.model_selection import train_test_split"
   ]
  },
  {
   "cell_type": "code",
   "execution_count": 4,
   "id": "f9ed1649-4459-4c80-9004-c20161aaab10",
   "metadata": {},
   "outputs": [],
   "source": [
    "data = pd.read_csv('https://media.githubusercontent.com/media/nursnaaz/DataScienceMasterclass/main/07%20-%20Polynomial%20Regression/data_poly.csv')"
   ]
  },
  {
   "cell_type": "code",
   "execution_count": 6,
   "id": "88b1558e-02d7-44f8-b30b-a750e5784735",
   "metadata": {},
   "outputs": [
    {
     "data": {
      "text/html": [
       "<div>\n",
       "<style scoped>\n",
       "    .dataframe tbody tr th:only-of-type {\n",
       "        vertical-align: middle;\n",
       "    }\n",
       "\n",
       "    .dataframe tbody tr th {\n",
       "        vertical-align: top;\n",
       "    }\n",
       "\n",
       "    .dataframe thead th {\n",
       "        text-align: right;\n",
       "    }\n",
       "</style>\n",
       "<table border=\"1\" class=\"dataframe\">\n",
       "  <thead>\n",
       "    <tr style=\"text-align: right;\">\n",
       "      <th></th>\n",
       "      <th>x</th>\n",
       "      <th>y</th>\n",
       "    </tr>\n",
       "  </thead>\n",
       "  <tbody>\n",
       "    <tr>\n",
       "      <th>0</th>\n",
       "      <td>0</td>\n",
       "      <td>3</td>\n",
       "    </tr>\n",
       "    <tr>\n",
       "      <th>1</th>\n",
       "      <td>1</td>\n",
       "      <td>4</td>\n",
       "    </tr>\n",
       "    <tr>\n",
       "      <th>2</th>\n",
       "      <td>2</td>\n",
       "      <td>5</td>\n",
       "    </tr>\n",
       "    <tr>\n",
       "      <th>3</th>\n",
       "      <td>3</td>\n",
       "      <td>7</td>\n",
       "    </tr>\n",
       "    <tr>\n",
       "      <th>4</th>\n",
       "      <td>4</td>\n",
       "      <td>10</td>\n",
       "    </tr>\n",
       "    <tr>\n",
       "      <th>5</th>\n",
       "      <td>5</td>\n",
       "      <td>8</td>\n",
       "    </tr>\n",
       "    <tr>\n",
       "      <th>6</th>\n",
       "      <td>6</td>\n",
       "      <td>9</td>\n",
       "    </tr>\n",
       "    <tr>\n",
       "      <th>7</th>\n",
       "      <td>7</td>\n",
       "      <td>10</td>\n",
       "    </tr>\n",
       "    <tr>\n",
       "      <th>8</th>\n",
       "      <td>8</td>\n",
       "      <td>10</td>\n",
       "    </tr>\n",
       "    <tr>\n",
       "      <th>9</th>\n",
       "      <td>9</td>\n",
       "      <td>23</td>\n",
       "    </tr>\n",
       "    <tr>\n",
       "      <th>10</th>\n",
       "      <td>10</td>\n",
       "      <td>27</td>\n",
       "    </tr>\n",
       "    <tr>\n",
       "      <th>11</th>\n",
       "      <td>11</td>\n",
       "      <td>44</td>\n",
       "    </tr>\n",
       "    <tr>\n",
       "      <th>12</th>\n",
       "      <td>12</td>\n",
       "      <td>50</td>\n",
       "    </tr>\n",
       "    <tr>\n",
       "      <th>13</th>\n",
       "      <td>13</td>\n",
       "      <td>63</td>\n",
       "    </tr>\n",
       "    <tr>\n",
       "      <th>14</th>\n",
       "      <td>14</td>\n",
       "      <td>67</td>\n",
       "    </tr>\n",
       "    <tr>\n",
       "      <th>15</th>\n",
       "      <td>15</td>\n",
       "      <td>60</td>\n",
       "    </tr>\n",
       "    <tr>\n",
       "      <th>16</th>\n",
       "      <td>16</td>\n",
       "      <td>62</td>\n",
       "    </tr>\n",
       "    <tr>\n",
       "      <th>17</th>\n",
       "      <td>17</td>\n",
       "      <td>70</td>\n",
       "    </tr>\n",
       "    <tr>\n",
       "      <th>18</th>\n",
       "      <td>18</td>\n",
       "      <td>75</td>\n",
       "    </tr>\n",
       "    <tr>\n",
       "      <th>19</th>\n",
       "      <td>19</td>\n",
       "      <td>88</td>\n",
       "    </tr>\n",
       "    <tr>\n",
       "      <th>20</th>\n",
       "      <td>20</td>\n",
       "      <td>81</td>\n",
       "    </tr>\n",
       "    <tr>\n",
       "      <th>21</th>\n",
       "      <td>21</td>\n",
       "      <td>87</td>\n",
       "    </tr>\n",
       "    <tr>\n",
       "      <th>22</th>\n",
       "      <td>22</td>\n",
       "      <td>95</td>\n",
       "    </tr>\n",
       "    <tr>\n",
       "      <th>23</th>\n",
       "      <td>23</td>\n",
       "      <td>100</td>\n",
       "    </tr>\n",
       "    <tr>\n",
       "      <th>24</th>\n",
       "      <td>24</td>\n",
       "      <td>108</td>\n",
       "    </tr>\n",
       "    <tr>\n",
       "      <th>25</th>\n",
       "      <td>25</td>\n",
       "      <td>135</td>\n",
       "    </tr>\n",
       "    <tr>\n",
       "      <th>26</th>\n",
       "      <td>26</td>\n",
       "      <td>151</td>\n",
       "    </tr>\n",
       "    <tr>\n",
       "      <th>27</th>\n",
       "      <td>27</td>\n",
       "      <td>160</td>\n",
       "    </tr>\n",
       "    <tr>\n",
       "      <th>28</th>\n",
       "      <td>28</td>\n",
       "      <td>169</td>\n",
       "    </tr>\n",
       "    <tr>\n",
       "      <th>29</th>\n",
       "      <td>29</td>\n",
       "      <td>179</td>\n",
       "    </tr>\n",
       "  </tbody>\n",
       "</table>\n",
       "</div>"
      ],
      "text/plain": [
       "     x    y\n",
       "0    0    3\n",
       "1    1    4\n",
       "2    2    5\n",
       "3    3    7\n",
       "4    4   10\n",
       "5    5    8\n",
       "6    6    9\n",
       "7    7   10\n",
       "8    8   10\n",
       "9    9   23\n",
       "10  10   27\n",
       "11  11   44\n",
       "12  12   50\n",
       "13  13   63\n",
       "14  14   67\n",
       "15  15   60\n",
       "16  16   62\n",
       "17  17   70\n",
       "18  18   75\n",
       "19  19   88\n",
       "20  20   81\n",
       "21  21   87\n",
       "22  22   95\n",
       "23  23  100\n",
       "24  24  108\n",
       "25  25  135\n",
       "26  26  151\n",
       "27  27  160\n",
       "28  28  169\n",
       "29  29  179"
      ]
     },
     "execution_count": 6,
     "metadata": {},
     "output_type": "execute_result"
    }
   ],
   "source": [
    "data"
   ]
  },
  {
   "cell_type": "code",
   "execution_count": 10,
   "id": "2b39ed7d-c6fe-4ff7-8a50-93e42731c862",
   "metadata": {},
   "outputs": [
    {
     "data": {
      "text/plain": [
       "<Axes: xlabel='x', ylabel='y'>"
      ]
     },
     "execution_count": 10,
     "metadata": {},
     "output_type": "execute_result"
    },
    {
     "data": {
      "image/png": "[encoded data removed]",
      "text/plain": [
       "<Figure size 640x480 with 1 Axes>"
      ]
     },
     "metadata": {},
     "output_type": "display_data"
    }
   ],
   "source": [
    "sns.scatterplot(x = 'x', y = 'y', data = data)"
   ]
  },
  {
   "cell_type": "code",
   "execution_count": 16,
   "id": "0f45ba0b-f0ad-414b-9c26-c4038ddb5b77",
   "metadata": {},
   "outputs": [
    {
     "data": {
      "text/html": [
       "<style>#sk-container-id-1 {color: black;background-color: white;}#sk-container-id-1 pre{padding: 0;}#sk-container-id-1 div.sk-toggleable {background-color: white;}#sk-container-id-1 label.sk-toggleable__label {cursor: pointer;display: block;width: 100%;margin-bottom: 0;padding: 0.3em;box-sizing: border-box;text-align: center;}#sk-container-id-1 label.sk-toggleable__label-arrow:before {content: \"▸\";float: left;margin-right: 0.25em;color: #696969;}#sk-container-id-1 label.sk-toggleable__label-arrow:hover:before {color: black;}#sk-container-id-1 div.sk-estimator:hover label.sk-toggleable__label-arrow:before {color: black;}#sk-container-id-1 div.sk-toggleable__content {max-height: 0;max-width: 0;overflow: hidden;text-align: left;background-color: #f0f8ff;}#sk-container-id-1 div.sk-toggleable__content pre {margin: 0.2em;color: black;border-radius: 0.25em;background-color: #f0f8ff;}#sk-container-id-1 input.sk-toggleable__control:checked~div.sk-toggleable__content {max-height: 200px;max-width: 100%;overflow: auto;}#sk-container-id-1 input.sk-toggleable__control:checked~label.sk-toggleable__label-arrow:before {content: \"▾\";}#sk-container-id-1 div.sk-estimator input.sk-toggleable__control:checked~label.sk-toggleable__label {background-color: #d4ebff;}#sk-container-id-1 div.sk-label input.sk-toggleable__control:checked~label.sk-toggleable__label {background-color: #d4ebff;}#sk-container-id-1 input.sk-hidden--visually {border: 0;clip: rect(1px 1px 1px 1px);clip: rect(1px, 1px, 1px, 1px);height: 1px;margin: -1px;overflow: hidden;padding: 0;position: absolute;width: 1px;}#sk-container-id-1 div.sk-estimator {font-family: monospace;background-color: #f0f8ff;border: 1px dotted black;border-radius: 0.25em;box-sizing: border-box;margin-bottom: 0.5em;}#sk-container-id-1 div.sk-estimator:hover {background-color: #d4ebff;}#sk-container-id-1 div.sk-parallel-item::after {content: \"\";width: 100%;border-bottom: 1px solid gray;flex-grow: 1;}#sk-container-id-1 div.sk-label:hover label.sk-toggleable__label {background-color: #d4ebff;}#sk-container-id-1 div.sk-serial::before {content: \"\";position: absolute;border-left: 1px solid gray;box-sizing: border-box;top: 0;bottom: 0;left: 50%;z-index: 0;}#sk-container-id-1 div.sk-serial {display: flex;flex-direction: column;align-items: center;background-color: white;padding-right: 0.2em;padding-left: 0.2em;position: relative;}#sk-container-id-1 div.sk-item {position: relative;z-index: 1;}#sk-container-id-1 div.sk-parallel {display: flex;align-items: stretch;justify-content: center;background-color: white;position: relative;}#sk-container-id-1 div.sk-item::before, #sk-container-id-1 div.sk-parallel-item::before {content: \"\";position: absolute;border-left: 1px solid gray;box-sizing: border-box;top: 0;bottom: 0;left: 50%;z-index: -1;}#sk-container-id-1 div.sk-parallel-item {display: flex;flex-direction: column;z-index: 1;position: relative;background-color: white;}#sk-container-id-1 div.sk-parallel-item:first-child::after {align-self: flex-end;width: 50%;}#sk-container-id-1 div.sk-parallel-item:last-child::after {align-self: flex-start;width: 50%;}#sk-container-id-1 div.sk-parallel-item:only-child::after {width: 0;}#sk-container-id-1 div.sk-dashed-wrapped {border: 1px dashed gray;margin: 0 0.4em 0.5em 0.4em;box-sizing: border-box;padding-bottom: 0.4em;background-color: white;}#sk-container-id-1 div.sk-label label {font-family: monospace;font-weight: bold;display: inline-block;line-height: 1.2em;}#sk-container-id-1 div.sk-label-container {text-align: center;}#sk-container-id-1 div.sk-container {/* jupyter's `normalize.less` sets `[hidden] { display: none; }` but bootstrap.min.css set `[hidden] { display: none !important; }` so we also need the `!important` here to be able to override the default hidden behavior on the sphinx rendered scikit-learn.org. See: https://github.com/scikit-learn/scikit-learn/issues/21755 */display: inline-block !important;position: relative;}#sk-container-id-1 div.sk-text-repr-fallback {display: none;}</style><div id=\"sk-container-id-1\" class=\"sk-top-container\"><div class=\"sk-text-repr-fallback\"><pre>LinearRegression()</pre><b>In a Jupyter environment, please rerun this cell to show the HTML representation or trust the notebook. <br />On GitHub, the HTML representation is unable to render, please try loading this page with nbviewer.org.</b></div><div class=\"sk-container\" hidden><div class=\"sk-item\"><div class=\"sk-estimator sk-toggleable\"><input class=\"sk-toggleable__control sk-hidden--visually\" id=\"sk-estimator-id-1\" type=\"checkbox\" checked><label for=\"sk-estimator-id-1\" class=\"sk-toggleable__label sk-toggleable__label-arrow\">LinearRegression</label><div class=\"sk-toggleable__content\"><pre>LinearRegression()</pre></div></div></div></div></div>"
      ],
      "text/plain": [
       "LinearRegression()"
      ]
     },
     "execution_count": 16,
     "metadata": {},
     "output_type": "execute_result"
    }
   ],
   "source": [
    "model = LinearRegression()\n",
    "model.fit(data[['x']], data['y'])"
   ]
  },
  {
   "cell_type": "code",
   "execution_count": 18,
   "id": "777bccf1-740b-4e99-b46d-e0fc5a892d13",
   "metadata": {},
   "outputs": [],
   "source": [
    "data_pred = model.predict(data[['x']])"
   ]
  },
  {
   "cell_type": "code",
   "execution_count": 22,
   "id": "06c6eda4-b56b-4951-a5eb-33642bbc925d",
   "metadata": {},
   "outputs": [
    {
     "data": {
      "text/plain": [
       "[<matplotlib.lines.Line2D at 0x2a689f9d0>]"
      ]
     },
     "execution_count": 22,
     "metadata": {},
     "output_type": "execute_result"
    },
    {
     "data": {
      "image/png": "[encoded data removed]",
      "text/plain": [
       "<Figure size 640x480 with 1 Axes>"
      ]
     },
     "metadata": {},
     "output_type": "display_data"
    }
   ],
   "source": [
    "sns.scatterplot(x = 'x', y = 'y', data = data)\n",
    "plt.plot(data_pred)"
   ]
  },
  {
   "cell_type": "code",
   "execution_count": 187,
   "id": "d7e07ab2-d4cf-4ff5-9529-921178de6a30",
   "metadata": {},
   "outputs": [
    {
     "data": {
      "text/plain": [
       "0.9316557748545744"
      ]
     },
     "execution_count": 187,
     "metadata": {},
     "output_type": "execute_result"
    }
   ],
   "source": [
    "r2_score(data['y'], data_pred)"
   ]
  },
  {
   "cell_type": "code",
   "execution_count": null,
   "id": "7bdb1969-512d-43a0-b2bc-a05a08a8e408",
   "metadata": {},
   "outputs": [],
   "source": [
    "#x , y\n",
    "\n",
    "#x^0, + x^1, x^2 \n",
    "\n",
    "\n",
    "\n",
    "x, z , y\n",
    "\n",
    "\n",
    "\n",
    "x, x^2, z, z^2, xz, xz^2, x^2z"
   ]
  },
  {
   "cell_type": "code",
   "execution_count": 165,
   "id": "64391aa6-c8ce-477c-848b-0bd53446d0b5",
   "metadata": {},
   "outputs": [],
   "source": [
    "poly = PolynomialFeatures(degree=2, include_bias=False, )\n",
    "poly1 = PolynomialFeatures(degree=3, include_bias=False,)\n",
    "poly2 = PolynomialFeatures(degree=4, include_bias=False, )\n",
    "poly3 = PolynomialFeatures(degree=5, include_bias=False, )\n",
    "\n"
   ]
  },
  {
   "cell_type": "code",
   "execution_count": 167,
   "id": "e020a9ce-eb1f-4e28-9667-db63398fcb4c",
   "metadata": {},
   "outputs": [],
   "source": [
    "poly_x = poly.fit_transform(data[['x']])\n",
    "poly_x1 = poly1.fit_transform(data[['x']])\n",
    "poly_x2= poly2.fit_transform(data[['x']])\n",
    "poly_x3 = poly3.fit_transform(data[['x']])"
   ]
  },
  {
   "cell_type": "code",
   "execution_count": 169,
   "id": "71312240-fd5c-4e1c-8bce-4254406faab6",
   "metadata": {},
   "outputs": [],
   "source": [
    "model = LinearRegression()\n",
    "model1 = LinearRegression()\n",
    "model2 = LinearRegression()\n",
    "model3 = LinearRegression()"
   ]
  },
  {
   "cell_type": "code",
   "execution_count": 171,
   "id": "35061c6c-d64d-4833-be05-31d7a2d7685b",
   "metadata": {},
   "outputs": [
    {
     "data": {
      "text/html": [
       "<style>#sk-container-id-8 {color: black;background-color: white;}#sk-container-id-8 pre{padding: 0;}#sk-container-id-8 div.sk-toggleable {background-color: white;}#sk-container-id-8 label.sk-toggleable__label {cursor: pointer;display: block;width: 100%;margin-bottom: 0;padding: 0.3em;box-sizing: border-box;text-align: center;}#sk-container-id-8 label.sk-toggleable__label-arrow:before {content: \"▸\";float: left;margin-right: 0.25em;color: #696969;}#sk-container-id-8 label.sk-toggleable__label-arrow:hover:before {color: black;}#sk-container-id-8 div.sk-estimator:hover label.sk-toggleable__label-arrow:before {color: black;}#sk-container-id-8 div.sk-toggleable__content {max-height: 0;max-width: 0;overflow: hidden;text-align: left;background-color: #f0f8ff;}#sk-container-id-8 div.sk-toggleable__content pre {margin: 0.2em;color: black;border-radius: 0.25em;background-color: #f0f8ff;}#sk-container-id-8 input.sk-toggleable__control:checked~div.sk-toggleable__content {max-height: 200px;max-width: 100%;overflow: auto;}#sk-container-id-8 input.sk-toggleable__control:checked~label.sk-toggleable__label-arrow:before {content: \"▾\";}#sk-container-id-8 div.sk-estimator input.sk-toggleable__control:checked~label.sk-toggleable__label {background-color: #d4ebff;}#sk-container-id-8 div.sk-label input.sk-toggleable__control:checked~label.sk-toggleable__label {background-color: #d4ebff;}#sk-container-id-8 input.sk-hidden--visually {border: 0;clip: rect(1px 1px 1px 1px);clip: rect(1px, 1px, 1px, 1px);height: 1px;margin: -1px;overflow: hidden;padding: 0;position: absolute;width: 1px;}#sk-container-id-8 div.sk-estimator {font-family: monospace;background-color: #f0f8ff;border: 1px dotted black;border-radius: 0.25em;box-sizing: border-box;margin-bottom: 0.5em;}#sk-container-id-8 div.sk-estimator:hover {background-color: #d4ebff;}#sk-container-id-8 div.sk-parallel-item::after {content: \"\";width: 100%;border-bottom: 1px solid gray;flex-grow: 1;}#sk-container-id-8 div.sk-label:hover label.sk-toggleable__label {background-color: #d4ebff;}#sk-container-id-8 div.sk-serial::before {content: \"\";position: absolute;border-left: 1px solid gray;box-sizing: border-box;top: 0;bottom: 0;left: 50%;z-index: 0;}#sk-container-id-8 div.sk-serial {display: flex;flex-direction: column;align-items: center;background-color: white;padding-right: 0.2em;padding-left: 0.2em;position: relative;}#sk-container-id-8 div.sk-item {position: relative;z-index: 1;}#sk-container-id-8 div.sk-parallel {display: flex;align-items: stretch;justify-content: center;background-color: white;position: relative;}#sk-container-id-8 div.sk-item::before, #sk-container-id-8 div.sk-parallel-item::before {content: \"\";position: absolute;border-left: 1px solid gray;box-sizing: border-box;top: 0;bottom: 0;left: 50%;z-index: -1;}#sk-container-id-8 div.sk-parallel-item {display: flex;flex-direction: column;z-index: 1;position: relative;background-color: white;}#sk-container-id-8 div.sk-parallel-item:first-child::after {align-self: flex-end;width: 50%;}#sk-container-id-8 div.sk-parallel-item:last-child::after {align-self: flex-start;width: 50%;}#sk-container-id-8 div.sk-parallel-item:only-child::after {width: 0;}#sk-container-id-8 div.sk-dashed-wrapped {border: 1px dashed gray;margin: 0 0.4em 0.5em 0.4em;box-sizing: border-box;padding-bottom: 0.4em;background-color: white;}#sk-container-id-8 div.sk-label label {font-family: monospace;font-weight: bold;display: inline-block;line-height: 1.2em;}#sk-container-id-8 div.sk-label-container {text-align: center;}#sk-container-id-8 div.sk-container {/* jupyter's `normalize.less` sets `[hidden] { display: none; }` but bootstrap.min.css set `[hidden] { display: none !important; }` so we also need the `!important` here to be able to override the default hidden behavior on the sphinx rendered scikit-learn.org. See: https://github.com/scikit-learn/scikit-learn/issues/21755 */display: inline-block !important;position: relative;}#sk-container-id-8 div.sk-text-repr-fallback {display: none;}</style><div id=\"sk-container-id-8\" class=\"sk-top-container\"><div class=\"sk-text-repr-fallback\"><pre>LinearRegression()</pre><b>In a Jupyter environment, please rerun this cell to show the HTML representation or trust the notebook. <br />On GitHub, the HTML representation is unable to render, please try loading this page with nbviewer.org.</b></div><div class=\"sk-container\" hidden><div class=\"sk-item\"><div class=\"sk-estimator sk-toggleable\"><input class=\"sk-toggleable__control sk-hidden--visually\" id=\"sk-estimator-id-8\" type=\"checkbox\" checked><label for=\"sk-estimator-id-8\" class=\"sk-toggleable__label sk-toggleable__label-arrow\">LinearRegression</label><div class=\"sk-toggleable__content\"><pre>LinearRegression()</pre></div></div></div></div></div>"
      ],
      "text/plain": [
       "LinearRegression()"
      ]
     },
     "execution_count": 171,
     "metadata": {},
     "output_type": "execute_result"
    }
   ],
   "source": [
    "model.fit(poly_x, data['y'])\n",
    "model1.fit(poly_x1, data['y'])\n",
    "model2.fit(poly_x2, data['y'])\n",
    "model3.fit(poly_x3, data['y'])"
   ]
  },
  {
   "cell_type": "code",
   "execution_count": 173,
   "id": "d3ff073a-add3-4b1a-9f1d-0a417acdf2f7",
   "metadata": {},
   "outputs": [],
   "source": [
    "data_pred_poly = model.predict(poly_x)\n",
    "data_pred_poly1 = model1.predict(poly_x1)\n",
    "data_pred_poly2 = model2.predict(poly_x2)\n",
    "data_pred_poly3 = model3.predict(poly_x3)"
   ]
  },
  {
   "cell_type": "code",
   "execution_count": 175,
   "id": "577540df-312b-4055-bbf1-a86e13ffe591",
   "metadata": {},
   "outputs": [
    {
     "data": {
      "image/png": "[encoded data removed]",
      "text/plain": [
       "<Figure size 640x480 with 1 Axes>"
      ]
     },
     "metadata": {},
     "output_type": "display_data"
    }
   ],
   "source": [
    "sns.scatterplot(x = 'x', y = 'y', data = data)\n",
    "plt.plot(data_pred, color = 'black')\n",
    "plt.plot(data_pred_poly, color = 'red')\n",
    "plt.plot(data_pred_poly1, color = 'purple')\n",
    "plt.plot(data_pred_poly2, color = 'blue')\n",
    "plt.plot(data_pred_poly3, color = 'green')\n",
    "plt.savefig('poly_plot_compare.png',)"
   ]
  },
  {
   "cell_type": "code",
   "execution_count": 189,
   "id": "4656c80b-027a-406d-9482-0a98abe758f2",
   "metadata": {},
   "outputs": [
    {
     "data": {
      "text/plain": [
       "0.9742355121173141"
      ]
     },
     "execution_count": 189,
     "metadata": {},
     "output_type": "execute_result"
    }
   ],
   "source": [
    "r2_score(data['y'], data_pred_poly)"
   ]
  },
  {
   "cell_type": "code",
   "execution_count": 191,
   "id": "fe4b119d-c760-44f3-acfd-f52f78fce572",
   "metadata": {},
   "outputs": [
    {
     "data": {
      "text/plain": [
       "0.9760588291456355"
      ]
     },
     "execution_count": 191,
     "metadata": {},
     "output_type": "execute_result"
    }
   ],
   "source": [
    "r2_score(data['y'], data_pred_poly1)"
   ]
  },
  {
   "cell_type": "code",
   "execution_count": 193,
   "id": "941ef7a1-9432-482b-a3c3-f132a9da45bb",
   "metadata": {},
   "outputs": [
    {
     "data": {
      "text/plain": [
       "0.9841567128747183"
      ]
     },
     "execution_count": 193,
     "metadata": {},
     "output_type": "execute_result"
    }
   ],
   "source": [
    "r2_score(data['y'], data_pred_poly2)"
   ]
  },
  {
   "cell_type": "code",
   "execution_count": 195,
   "id": "5808d047-8f69-4df2-ac34-920419ae0940",
   "metadata": {},
   "outputs": [
    {
     "data": {
      "text/plain": [
       "0.9845777073755907"
      ]
     },
     "execution_count": 195,
     "metadata": {},
     "output_type": "execute_result"
    }
   ],
   "source": [
    "r2_score(data['y'], data_pred_poly3)"
   ]
  },
  {
   "cell_type": "code",
   "execution_count": null,
   "id": "365ff4e6-bb4d-483a-92c5-2bc57c32a640",
   "metadata": {},
   "outputs": [],
   "source": [
    "R2 of Simple Linear Regression = 93%\n",
    "R2 of Polynomial with degree 2  = 97%"
   ]
  },
  {
   "cell_type": "code",
   "execution_count": 199,
   "id": "d45e2728-8230-487b-8ddc-dc6c1eef3b06",
   "metadata": {},
   "outputs": [
    {
     "data": {
      "text/plain": [
       "4.123711340206185"
      ]
     },
     "execution_count": 199,
     "metadata": {},
     "output_type": "execute_result"
    }
   ],
   "source": [
    "((97 - 93)/97)*100"
   ]
  },
  {
   "cell_type": "code",
   "execution_count": null,
   "id": "c4a2004a-e70b-497a-8ef6-61eae03ef597",
   "metadata": {},
   "outputs": [],
   "source": [
    "4% percentage improvement of R2"
   ]
  },
  {
   "cell_type": "code",
   "execution_count": null,
   "id": "a28c8f3d-81e9-4fbf-8ec0-ca744f6d9073",
   "metadata": {},
   "outputs": [],
   "source": []
  },
  {
   "cell_type": "code",
   "execution_count": null,
   "id": "86d917fd-4857-4c22-b16f-02d2227866d4",
   "metadata": {},
   "outputs": [],
   "source": []
  },
  {
   "cell_type": "code",
   "execution_count": 265,
   "id": "6b713052-5dad-4eeb-a0d4-8e46b3da25b3",
   "metadata": {},
   "outputs": [],
   "source": [
    "train_X, test_X, train_y, test_y = train_test_split(data[['x']], data['y'], test_size=0.45, random_state=12)"
   ]
  },
  {
   "cell_type": "code",
   "execution_count": 267,
   "id": "d1597aea-fa93-42ce-a2dd-b94e94d5188b",
   "metadata": {},
   "outputs": [
    {
     "data": {
      "text/plain": [
       "((16, 1), (14, 1), (16,), (14,))"
      ]
     },
     "execution_count": 267,
     "metadata": {},
     "output_type": "execute_result"
    }
   ],
   "source": [
    "train_X.shape, test_X.shape, train_y.shape, test_y.shape"
   ]
  },
  {
   "cell_type": "code",
   "execution_count": 269,
   "id": "4ea87f64-ac00-4e6a-92d6-47bf779eaa92",
   "metadata": {},
   "outputs": [],
   "source": [
    "train = pd.concat([train_X.reset_index().drop(columns = 'index'),train_y.reset_index().drop(columns = 'index')], axis = 1)\n",
    "test = pd.concat([test_X.reset_index().drop(columns = 'index'),test_y.reset_index().drop(columns = 'index')], axis = 1)"
   ]
  },
  {
   "cell_type": "code",
   "execution_count": 271,
   "id": "2d152a8f-11c6-477b-a7bd-24ea34b6ac82",
   "metadata": {},
   "outputs": [
    {
     "data": {
      "text/plain": [
       "<Axes: xlabel='x', ylabel='y'>"
      ]
     },
     "execution_count": 271,
     "metadata": {},
     "output_type": "execute_result"
    },
    {
     "data": {
      "image/png": "[encoded data removed]",
      "text/plain": [
       "<Figure size 640x480 with 1 Axes>"
      ]
     },
     "metadata": {},
     "output_type": "display_data"
    }
   ],
   "source": [
    "sns.scatterplot(x = 'x', y = 'y', data = train)\n",
    "sns.scatterplot(x = 'x', y = 'y', data = test)"
   ]
  },
  {
   "cell_type": "code",
   "execution_count": 273,
   "id": "7d497b7b-dced-4650-a3c9-8caa34deeb06",
   "metadata": {},
   "outputs": [],
   "source": [
    "def model_run(model, train_X, test_X, train_y, test_y):\n",
    "    model.fit(train_X, train_y)\n",
    "    train_pred = model.predict(train_X)\n",
    "    test_pred = model.predict(test_X)\n",
    "    r2_train = r2_score(train_pred, train_y)\n",
    "    r2_test = r2_score(test_pred, test_y)\n",
    "    return r2_train, r2_test\n",
    "    \n",
    "\n",
    "train_score = []\n",
    "test_score = []\n",
    "for i in range(1,10):\n",
    "    if i == 1:\n",
    "        model = LinearRegression()\n",
    "        r2_train, r2_test = model_run(model, train_X, test_X, train_y, test_y)\n",
    "        train_score.append(r2_train)\n",
    "        test_score.append(r2_test)\n",
    "    else:\n",
    "        poly = PolynomialFeatures(degree=i, include_bias=False)\n",
    "        poly_feature_train_x = poly.fit_transform(train_X)\n",
    "        poly_feature_test_x = poly.transform(test_X)\n",
    "        model = LinearRegression()\n",
    "        r2_train, r2_test = model_run(model, poly_feature_train_x, poly_feature_test_x, train_y, test_y)\n",
    "        train_score.append(r2_train)\n",
    "        test_score.append(r2_test)\n",
    "        "
   ]
  },
  {
   "cell_type": "code",
   "execution_count": 275,
   "id": "016e8afb-b47d-464a-b153-5f86400e40ae",
   "metadata": {},
   "outputs": [
    {
     "data": {
      "text/plain": [
       "[0.9608469647185197,\n",
       " 0.9846269322991791,\n",
       " 0.9866139462466631,\n",
       " 0.9888503610308056,\n",
       " 0.9924318191559547,\n",
       " 0.9956757729092035,\n",
       " 0.9965495299068245,\n",
       " 0.9980069515439354,\n",
       " 0.9980506963227749]"
      ]
     },
     "execution_count": 275,
     "metadata": {},
     "output_type": "execute_result"
    }
   ],
   "source": [
    "train_score"
   ]
  },
  {
   "cell_type": "code",
   "execution_count": 277,
   "id": "a2ce21e0-5b83-4b06-94fb-afa856230c5f",
   "metadata": {},
   "outputs": [
    {
     "data": {
      "text/plain": [
       "[0.8658149292743589,\n",
       " 0.9337436437600954,\n",
       " 0.9337788028661052,\n",
       " 0.9553799364415669,\n",
       " 0.8089019665693018,\n",
       " 0.9518766198100143,\n",
       " 0.7315078846264371,\n",
       " 0.5734858742175732,\n",
       " 0.7176963764308262]"
      ]
     },
     "execution_count": 277,
     "metadata": {},
     "output_type": "execute_result"
    }
   ],
   "source": [
    "test_score"
   ]
  },
  {
   "cell_type": "code",
   "execution_count": 279,
   "id": "d9f4ce84-97ca-42d4-bd45-337db4a54d66",
   "metadata": {},
   "outputs": [
    {
     "data": {
      "text/plain": [
       "<matplotlib.collections.PathCollection at 0x2d0ef3b10>"
      ]
     },
     "execution_count": 279,
     "metadata": {},
     "output_type": "execute_result"
    },
    {
     "data": {
      "image/png": "[encoded data removed]",
      "text/plain": [
       "<Figure size 640x480 with 1 Axes>"
      ]
     },
     "metadata": {},
     "output_type": "display_data"
    }
   ],
   "source": [
    "plt.scatter(x =range(1,10), y = train_score)\n",
    "plt.scatter(x =range(1,10), y = test_score)"
   ]
  },
  {
   "cell_type": "code",
   "execution_count": null,
   "id": "3ee5ec48-7a4d-453e-9524-eadcf93e956e",
   "metadata": {},
   "outputs": [],
   "source": []
  }
 ],
 "metadata": {
  "kernelspec": {
   "display_name": "Python 3 (ipykernel)",
   "language": "python",
   "name": "python3"
  },
  "language_info": {
   "codemirror_mode": {
    "name": "ipython",
    "version": 3
   },
   "file_extension": ".py",
   "mimetype": "text/x-python",
   "name": "python",
   "nbconvert_exporter": "python",
   "pygments_lexer": "ipython3",
   "version": "3.11.0"
  }
 },
 "nbformat": 4,
 "nbformat_minor": 5
}
