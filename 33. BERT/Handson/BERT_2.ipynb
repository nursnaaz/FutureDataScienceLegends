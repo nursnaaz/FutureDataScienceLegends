{
 "cells": [
  {
   "cell_type": "markdown",
   "metadata": {
    "id": "bdh6jSTo1bpC"
   },
   "source": [
    "# BERT"
   ]
  },
  {
   "cell_type": "code",
   "execution_count": null,
   "metadata": {
    "colab": {
     "base_uri": "https://localhost:8080/",
     "height": 305,
     "referenced_widgets": [
      "cf5139602ce043f89ec316b0f6b181fb",
      "e207369be0ec4efca1cbba4d48a75862",
      "8849b5723a064293804e4fb02ca2ebc5",
      "86a7ce4e48254067baf1d77949eae3ef",
      "04d46b7d4bec4470b5dc2d48c0f51d0f",
      "64f2820979e845538aa2857735b71d9a",
      "a7e12fad856e4d0db5eedc142939780a",
      "ada39ac1439348eb8e0dd8b4b726a9d0",
      "a999dc2fdc25476e9211f68f678f68fd",
      "912fe0b2495c43d7adca2f002eaffec7",
      "9867a827b6cb47f7b8288970aea2bba5",
      "ad49c69c3ae84090b5e0c442bf5c84cf",
      "0dd485854f674a398ff17369529e84bf",
      "a00299d2b4e441f38fb1c01cdb20adba",
      "7d790533278947fda43bd1c03f9c36e0",
      "f186360561d448d1bfe76e943c722beb",
      "9d36e8cacf4c4c25a02be0d190be28a7",
      "bdd75bebb7ac4ad6b70dd8c1089d143f",
      "25e8e1653d5a48c38cd6e674227cac4c",
      "a38b16de15114996be285abb9d745d63",
      "a6406d0bb6bb488a9b328fcb685f754d",
      "8dac9d9ec0804771b71a7df999949b65",
      "401c04313aaf406baccfb39cf0d0f2bf",
      "2d79150d0ce948d7b49aacecf498b634",
      "043c308584f347a48fa11d8a62bfc30c",
      "3d4ff72307aa40818998dfec4fea2a10",
      "6a96ba8a93b241179aa0cea219623e57",
      "6a48a271ddd14be8b04ecc9153dc3ebe",
      "c0d0e7ad333c489383fdb1733133991e",
      "098e08e7b9404e45bec55dd136639de6",
      "0a4451478cc34f1f9caa46ee1abbb8e1",
      "6b0aa76d41d948dea66d018c63ca4a26",
      "478b9eb9b0804a19b02072cc2bff537e",
      "812045a46e2846978f2365cbf8168fac",
      "5ca0355fa5c240c89fa1e0b19b3a8f23",
      "f3ee69b90994440187159faf8f9bcc44",
      "e372c6cd20ff41b794b8af5a807c9e69",
      "b754b4e9bdac49e5afb9e123cca3d9b9",
      "8ffea05cbb5e44a4a4d87f3c9c88cad2",
      "458a047d173c46308357abff17d3bdfa",
      "035ea05c91d1477fa4b1af5c6b4a19d1",
      "d168814a03c84f4e8c89aaf56181cb1b",
      "16df9ce702374b6ebb6022f0e0d1a764",
      "6cd59cde76a24eef949bdd172a5379c5",
      "ffeb3eca83e0466ca20a823cb1e901e7",
      "5554fe76953c4ba1ac334dba9e6f8721",
      "2d8eb1f18a13433994b1e2c51956afe8",
      "09bb04a8671342b486e8d1055f4f5f88",
      "264237f9206640bdaecb949fe7952868",
      "714a2b64072a4a81b1a68ca6f470d271",
      "b55426e65f4b4eb39c9d2c167723e7eb",
      "3da3cd24ced7458eb53a5b6c1d9f6c20",
      "36429dc9b4a44d7b8fef0a3451bcd25a",
      "d1948f3b997c420c93826b938cb99566",
      "af4980c3e33842c2a798916f0841b34d"
     ]
    },
    "id": "8tg4jlKD0snP",
    "outputId": "7d410c7b-cc22-4a4b-e356-4b169cd0cac5"
   },
   "outputs": [],
   "source": [
    "from datasets import load_dataset\n",
    "\n",
    "# load the dataset\n",
    "squad = load_dataset(\"squad\")"
   ]
  },
  {
   "cell_type": "code",
   "execution_count": null,
   "metadata": {
    "colab": {
     "base_uri": "https://localhost:8080/"
    },
    "id": "SPjOF6371wNk",
    "outputId": "e99e010c-aa75-4a68-bf74-bf38fe6d201c"
   },
   "outputs": [],
   "source": [
    "squad"
   ]
  },
  {
   "cell_type": "code",
   "execution_count": null,
   "metadata": {
    "colab": {
     "base_uri": "https://localhost:8080/"
    },
    "id": "2-I82xr_1xcK",
    "outputId": "2324373e-88e6-47ea-b738-a447ecba854b"
   },
   "outputs": [],
   "source": [
    "instance = squad[\"train\"][0]\n",
    "instance\n",
    "\n",
    "context = instance[\"context\"]\n",
    "question = instance[\"question\"]\n",
    "answer = instance[\"answers\"][\"text\"][0]\n",
    "\n",
    "print(f\"Context: {context}\")\n",
    "print(f\"Question: {question}\")\n",
    "print(f\"Answer: {answer}\")"
   ]
  },
  {
   "cell_type": "code",
   "execution_count": null,
   "metadata": {
    "colab": {
     "base_uri": "https://localhost:8080/",
     "height": 233,
     "referenced_widgets": [
      "4554bff1b91e401e8ad14d9c207000cb",
      "97c258fc3c954738a790c6d65cd3fd0a",
      "1539ece90a4c4c9b820893fc046830e0",
      "4c0798bdd4c94d8a9470c1dfc58f752f",
      "32dc88f633fa4ea49bcb976eda6bd68f",
      "472292010662481fb6951ac2ebbace24",
      "403b83331a374903bf8204be1cf1a963",
      "709bd05486c94f259b3b81f3c0931c45",
      "b0791f622eff4f51b998645cdcd1708e",
      "589c8cf14f144ddc84f1c333e0a0339b",
      "8793d54e1d4a41c7885cab94897f9090",
      "12fcd293b7184036844c7a1f789f3a6b",
      "e8374f4f2de240fe810bc6af623e2ffc",
      "1eb05bb39f824310ac86246bd73e93b1",
      "32d777d8599a4838a658510f868dba83",
      "e10b6038c0094fb2a833829c7267d6a2",
      "98b3aee63f78410ba812706933173197",
      "387502be29de402187823fff736811c6",
      "d2fcecaebae141bf80d88c97165663ce",
      "7a9e65acb9974437a5cc91f6fd52c19c",
      "4116678b39d44d18aadb3c4c81fa2732",
      "f851f74e73c64577adef6546f6c59847",
      "4a127ca4bae241989fb743c171c93e53",
      "b98c95e5ce924aa394b8c8751c0e3e9d",
      "af55ac80f48f43e1b743a67bc9bac3a4",
      "e772e00df9d4451d851ea00c61fb4d59",
      "21fdc7988ed442cc80500985d0f134f6",
      "fb456a9018054a9797ed8bdabbff4719",
      "a71b903ad76344019db05fe904acb8ba",
      "8928b1ad833a497a9ed96d1faa6115d3",
      "29445dd23dd5465994d04ca4d408edeb",
      "1182a1824f4640ba9cbe4d5894c52e6b",
      "90e55de03beb44b5963fd1024d80fe70",
      "c987553c03394d0ebdd0278ba2e4221c",
      "128bd5dacefb468ca8f46569d9442bd6",
      "9ff5fa0c67ba4c2f818bf409b2aaeca8",
      "7bdde8d44607450092b22da4ad990498",
      "74c46358c7df4a48a620e4478c541b1b",
      "b219781b10c54e698976a9cc0afb88c2",
      "ef0715b2e7464f00984f9c5cd2625f1b",
      "8837d0e9846140b69d7e78314ed2ef4a",
      "3f189bcad2924526b61d97bda71c79cd",
      "448d56b2f11142ff943ef1722012c68e",
      "084165b61373433aaf4b41ef46ac5a96",
      "5571926b8fb845aaa7fd041045a682e1",
      "c294220221bf40b68c80e936eb837114",
      "a88d5386ecc140f99d17dda883986e12",
      "3606c2cdc46046c9bdd9c0e046d7e92b",
      "b118936f4f1d4aff9f1b8f1d0cae2e5b",
      "5d9c2964c00b480da86a57fa887b0462",
      "f97b463e44dc4f53a3b50fa55502075b",
      "ab6dba08c47c43578a264c3734913f57",
      "c960f228c4ec4088b1a8d1af2e97b46a",
      "571d0c547c7f4e04a96d7f6c0dac7646",
      "ea76ebcd4aac4db3a3995f6ce0dec9ea"
     ]
    },
    "id": "_c9y_hkY1192",
    "outputId": "287f4f60-b802-4010-9f19-490d1cc4f43c"
   },
   "outputs": [],
   "source": [
    "# Load model directly\n",
    "from transformers import AutoTokenizer, AutoModelForQuestionAnswering\n",
    "\n",
    "tokenizer = AutoTokenizer.from_pretrained(\"google-bert/bert-base-uncased\")\n",
    "model = AutoModelForQuestionAnswering.from_pretrained(\"google-bert/bert-base-uncased\")"
   ]
  },
  {
   "cell_type": "code",
   "execution_count": null,
   "metadata": {
    "colab": {
     "base_uri": "https://localhost:8080/"
    },
    "id": "hbUNYG3u3VAT",
    "outputId": "cee5f0d1-75c8-4a1b-f5e5-684f7c8af719"
   },
   "outputs": [],
   "source": [
    "print(tokenizer)"
   ]
  },
  {
   "cell_type": "code",
   "execution_count": null,
   "metadata": {
    "colab": {
     "base_uri": "https://localhost:8080/"
    },
    "id": "_ZKGmVH83PHQ",
    "outputId": "a6d2d9e4-302f-47c6-8200-ca1bc715a530"
   },
   "outputs": [],
   "source": [
    "print(tokenizer.tokenize(question))"
   ]
  },
  {
   "cell_type": "code",
   "execution_count": null,
   "metadata": {
    "colab": {
     "base_uri": "https://localhost:8080/"
    },
    "id": "ORTRvRCo3Yr5",
    "outputId": "0b8c1c14-7240-4244-d253-7590ceff3c0e"
   },
   "outputs": [],
   "source": [
    "print(model)"
   ]
  },
  {
   "cell_type": "code",
   "execution_count": null,
   "metadata": {
    "id": "9ZaMaAv94hhH"
   },
   "outputs": [],
   "source": [
    "train_set = squad[\"train\"].select(range(25))\n",
    "test_set = squad[\"validation\"].select(range(10))"
   ]
  },
  {
   "cell_type": "code",
   "execution_count": null,
   "metadata": {
    "colab": {
     "base_uri": "https://localhost:8080/",
     "height": 99,
     "referenced_widgets": [
      "4fe51d37e2c241b48eb8241da57d2dda",
      "6582344af3794ea3b80a64de798a5026",
      "15bede5ee0d34414a1b30e2dea35e39c",
      "01e47c07aa964827a98190c08fa3826a",
      "9cda9b9b77ed4ea2a8d6f873e94a1ebb",
      "85d35eb0fa6c4f869329a1136be64270",
      "b4642dcce748457ab5aeae672187970f",
      "79011b40af58482d849060fc57a5ee5d",
      "adf0ad2e7edf49e6be65cefd72c089a9",
      "bf4c3f41ea0541719dae00439ae5bfac",
      "8b69b62d8bd640b9b595c3c5ba6464f4",
      "733030dcea004229a43188a827281f12",
      "a8d8dbedc7744c1ab6ad911ba2398f25",
      "b33b5a0917b64ec7b64788c5d8b66e55",
      "ca1e6bafb2a3417dbc4d76e8284ea0bf",
      "0a8a212eeba24926b399d1c219e65f8f",
      "fad61a0c13e04335bfce2e063eaff02a",
      "d45ef836f3494674904cf8f88cab909c",
      "b72fde7a90d5476b86b825455ff8070a",
      "b98148e59ae34e6593526b4956d2143e",
      "649bfbafc034436fa144b50f94c0240e",
      "ca1e0d24b4f4447f8a81e18f5951cf27"
     ]
    },
    "id": "hgIJEXUr-FWO",
    "outputId": "7df4afa1-ea72-4006-ae44-0767aeaad1f0"
   },
   "outputs": [],
   "source": [
    "train_set.to_csv(\"train.csv\")\n",
    "test_set.to_csv(\"test.csv\")"
   ]
  },
  {
   "cell_type": "code",
   "execution_count": null,
   "metadata": {
    "id": "RkUYbR1f76eW"
   },
   "outputs": [],
   "source": [
    "def preprocess_function(examples):\n",
    "    questions = [q.strip() for q in examples[\"question\"]]\n",
    "    inputs = tokenizer(\n",
    "        questions,\n",
    "        examples[\"context\"],\n",
    "        max_length=384,\n",
    "        truncation=\"only_second\",\n",
    "        return_offsets_mapping=True,\n",
    "        padding=\"max_length\",\n",
    "    )\n",
    "    offset_mapping = inputs.pop(\"offset_mapping\")\n",
    "    answers = examples[\"answers\"]\n",
    "    start_positions = []\n",
    "    end_positions = []\n",
    "\n",
    "    for i, offset in enumerate(offset_mapping):\n",
    "        answer = answers[i]\n",
    "        start_char = answer[\"answer_start\"][0]\n",
    "        end_char = start_char + len(answer[\"text\"][0])\n",
    "        sequence_ids = inputs.sequence_ids(i)\n",
    "\n",
    "        # Find the start and end of the context\n",
    "        idx = 0\n",
    "        while sequence_ids[idx] != 1:\n",
    "            idx += 1\n",
    "        context_start = idx\n",
    "        while sequence_ids[idx] == 1:\n",
    "            idx += 1\n",
    "        context_end = idx - 1\n",
    "\n",
    "        # If the answer is not fully inside the context, label it (0, 0)\n",
    "        if offset[context_start][0] > end_char or offset[context_end][1] < start_char:\n",
    "            start_positions.append(0)\n",
    "            end_positions.append(0)\n",
    "        else:\n",
    "            # Otherwise it's the start and end token positions\n",
    "            idx = context_start\n",
    "            while idx <= context_end and offset[idx][0] <= start_char:\n",
    "                idx += 1\n",
    "            start_positions.append(idx - 1)\n",
    "\n",
    "            idx = context_end\n",
    "            while idx >= context_start and offset[idx][1] >= end_char:\n",
    "                idx -= 1\n",
    "            end_positions.append(idx + 1)\n",
    "\n",
    "    inputs[\"start_positions\"] = start_positions\n",
    "    inputs[\"end_positions\"] = end_positions\n",
    "    return inputs"
   ]
  },
  {
   "cell_type": "code",
   "execution_count": null,
   "metadata": {
    "colab": {
     "base_uri": "https://localhost:8080/",
     "height": 81,
     "referenced_widgets": [
      "c15d35cd745749fd9d382c4eb7842fae",
      "1f5121028cc1428083e75504425669bc",
      "e50e9af8f41f4fa6ae59110e6349d543",
      "98b69d8be02c4f8f966f826c947d7b06",
      "1ae67832daa64a08b6848e3c5afa2476",
      "0d6eb2887e2f4ad2810a2c07d21bd54b",
      "e56b5a104a154b6396040a08e0373253",
      "9fb0583658e341eca08d28e7a607cfff",
      "9bf53ac0318d4790824c278b086f4651",
      "6596798da6ec4ebc83bd12d377b098d1",
      "30b5eeee36fb4f5bb0cfb333a286d7f3",
      "5142a7fc2c1d4f3b933ae0159b40c5ad",
      "f8235809490240a0a9cb1ab5f2021d05",
      "550d25fd495d4443818aa7f750ba94f1",
      "c1463f08ff9d4b3fa479b25d99152cd6",
      "2cb0dede21644409b9f9b1864a948e33",
      "5ad0f56fb08d4e49b248b63ff381a80a",
      "650930a6aa34437fa3d242b6f8ad7dc7",
      "da7e9a0d08d54805ae9a2840339a9675",
      "b3c9814162be417983ff4063cbbdedbf",
      "7365bd3dcf994231bc5962cbed044639",
      "4e503d35a9d74eff98f53190f7ed5eca"
     ]
    },
    "id": "WEOCqWYd8BM8",
    "outputId": "647b9641-1ac1-402a-f766-f461b65f252a"
   },
   "outputs": [],
   "source": [
    "tokenized_train = train_set.map(preprocess_function, batched=True, remove_columns=train_set.column_names)\n",
    "tokenized_test = test_set.map(preprocess_function, batched=True, remove_columns=test_set.column_names)"
   ]
  },
  {
   "cell_type": "code",
   "execution_count": null,
   "metadata": {
    "colab": {
     "base_uri": "https://localhost:8080/"
    },
    "id": "ibb2JLeJ_Ikk",
    "outputId": "a455c2e3-34f0-498e-e91d-24155ceea7ed"
   },
   "outputs": [],
   "source": [
    "tokenized_train"
   ]
  },
  {
   "cell_type": "code",
   "execution_count": null,
   "metadata": {
    "colab": {
     "base_uri": "https://localhost:8080/"
    },
    "id": "hdyLh7gc_A65",
    "outputId": "60ba0e21-4529-4754-f422-0575938d109b"
   },
   "outputs": [],
   "source": [
    "tokenized_train['input_ids'][0]"
   ]
  },
  {
   "cell_type": "code",
   "execution_count": null,
   "metadata": {
    "colab": {
     "base_uri": "https://localhost:8080/",
     "height": 162
    },
    "id": "1tYjmZGR-nNh",
    "outputId": "2adee729-86cb-4273-cab3-17473108551f"
   },
   "outputs": [],
   "source": [
    "tokenizer.decode(tokenized_train['input_ids'][0])"
   ]
  },
  {
   "cell_type": "code",
   "execution_count": null,
   "metadata": {
    "colab": {
     "base_uri": "https://localhost:8080/"
    },
    "id": "D6N0VJKZ_G-G",
    "outputId": "a40b3f91-1289-4fd1-f773-8db3a7f2bbc8"
   },
   "outputs": [],
   "source": [
    "tokenized_train['token_type_ids'][0]"
   ]
  },
  {
   "cell_type": "code",
   "execution_count": null,
   "metadata": {
    "colab": {
     "base_uri": "https://localhost:8080/",
     "height": 162
    },
    "id": "OlHJz7t4-3bK",
    "outputId": "4a18eec5-88f6-4a0b-8382-3d1989c05512"
   },
   "outputs": [],
   "source": [
    "tokenizer.decode(tokenized_train['input_ids'][0])"
   ]
  },
  {
   "cell_type": "code",
   "execution_count": null,
   "metadata": {
    "colab": {
     "base_uri": "https://localhost:8080/"
    },
    "id": "nakfRkdF_WdY",
    "outputId": "bf235982-ed2c-4e65-f648-e2555e152eb0"
   },
   "outputs": [],
   "source": [
    "tokenized_train['attention_mask'][0]"
   ]
  },
  {
   "cell_type": "code",
   "execution_count": null,
   "metadata": {
    "colab": {
     "base_uri": "https://localhost:8080/"
    },
    "id": "HYhM5wEeJ93-",
    "outputId": "9144e233-7816-49b0-9f82-6b3bcf0e3334"
   },
   "outputs": [],
   "source": [
    "t = \"\"\"Architecturally, the school has a Catholic character. Atop the Main Building's gold dome is a golden statue of the Virgin Mary. Immediately in front of the Main Building and facing it, is a copper statue of Christ with arms upraised with the legend \"Venite Ad Me Omnes\". Next to the Main Building is the Basilica of the Sacred Heart. Immediately behind the basilica is the Grotto, a Marian place of prayer and reflection. It is a replica of the grotto at Lourdes, France where the Virgin Mary reputedly appeared to Saint Bernadette Soubirous in 1858. At the end of the main drive (and in a direct line that connects through 3 statues and the Gold Dome), is a simple, modern stone statue of Mary.\"\"\"\n",
    "t.index('Saint')"
   ]
  },
  {
   "cell_type": "code",
   "execution_count": null,
   "metadata": {
    "id": "xdmt9maV3hgf"
   },
   "outputs": [],
   "source": [
    "from transformers import TrainingArguments, Trainer\n",
    "\n",
    "training_args = TrainingArguments(\n",
    "    output_dir='./results',          # output directory\n",
    "    num_train_epochs=1,              # total number of training epochs\n",
    "    per_device_train_batch_size=1,   # batch size per device during training\n",
    "    per_device_eval_batch_size=1,    # batch size for evaluation\n",
    "    logging_dir='./logs',            # directory for storing logs\n",
    "    report_to='wandb'\n",
    ")"
   ]
  },
  {
   "cell_type": "code",
   "execution_count": null,
   "metadata": {
    "id": "e1vEDQ6k8PK5"
   },
   "outputs": [],
   "source": [
    "from transformers import DefaultDataCollator\n",
    "\n",
    "data_collator = DefaultDataCollator()\n",
    "\n",
    "trainer = Trainer(\n",
    "    model=model,\n",
    "    args=training_args,\n",
    "    train_dataset=tokenized_train,\n",
    "    eval_dataset=tokenized_test,\n",
    "    data_collator=data_collator\n",
    ")"
   ]
  },
  {
   "cell_type": "code",
   "execution_count": null,
   "metadata": {
    "colab": {
     "base_uri": "https://localhost:8080/",
     "height": 399
    },
    "id": "HgfqYYnO51vZ",
    "outputId": "cc6a2cf5-2bc1-4cba-a563-722a808f0ec6"
   },
   "outputs": [],
   "source": [
    "import torch\n",
    "trainer.train()"
   ]
  },
  {
   "cell_type": "code",
   "execution_count": null,
   "metadata": {
    "colab": {
     "base_uri": "https://localhost:8080/"
    },
    "id": "IUVzZECNQMV6",
    "outputId": "f0d2beff-7428-4f51-e5ba-7b3cfa8e49de"
   },
   "outputs": [],
   "source": [
    "model.save_pretrained(\"./saved_model\")\n",
    "tokenizer.save_pretrained(\"./saved_tokenizer\")"
   ]
  },
  {
   "cell_type": "code",
   "execution_count": null,
   "metadata": {
    "id": "JeUL9LAnQcuq"
   },
   "outputs": [],
   "source": [
    "tokenizer = AutoTokenizer.from_pretrained(\"/content/saved_tokenizer\")\n",
    "model = AutoModelForQuestionAnswering.from_pretrained(\"/content/saved_model\")"
   ]
  },
  {
   "cell_type": "code",
   "execution_count": null,
   "metadata": {
    "colab": {
     "base_uri": "https://localhost:8080/"
    },
    "id": "cu6UGpKCQsVR",
    "outputId": "640df5c9-0bb8-4b9e-c2dc-d9cbf282e267"
   },
   "outputs": [],
   "source": [
    "# Load model directly\n",
    "from transformers import AutoTokenizer\n",
    "\n",
    "# tokenizer = AutoTokenizer.from_pretrained(\"google-bert/bert-large-uncased-whole-word-masking-finetuned-squad\")\n",
    "# tokenizer = AutoTokenizer.from_pretrained(\"google-bert/bert-large-uncased-whole-word-masking-finetuned-squad\")\n",
    "\n",
    "\n",
    "question = \"Where is the Eiffel Tower?\"\n",
    "context = \"The Eiffel Tower is located in Paris, France.\"\n",
    "\n",
    "inputs = tokenizer(question, context, return_tensors=\"pt\", truncation=True, padding=\"max_length\")\n",
    "print(inputs)"
   ]
  },
  {
   "cell_type": "code",
   "execution_count": null,
   "metadata": {
    "id": "JMkf3UxmR09o"
   },
   "outputs": [],
   "source": [
    "outputs = model(**inputs)"
   ]
  },
  {
   "cell_type": "code",
   "execution_count": null,
   "metadata": {
    "id": "aaBU5kOERK_U"
   },
   "outputs": [],
   "source": [
    "# inputs = tokenizer(question, context, return_tensors=\"pt\", max_length=512, truncation=True)\n",
    "# outputs = model(**inputs)"
   ]
  },
  {
   "cell_type": "code",
   "execution_count": null,
   "metadata": {
    "id": "vECrjs36RWNJ"
   },
   "outputs": [],
   "source": [
    "start_idx = torch.argmax(outputs.start_logits)\n",
    "end_idx = torch.argmax(outputs.end_logits)"
   ]
  },
  {
   "cell_type": "code",
   "execution_count": null,
   "metadata": {
    "colab": {
     "base_uri": "https://localhost:8080/"
    },
    "id": "y09jxZQASGFS",
    "outputId": "35cc1993-4d54-4f7e-fab1-3bbce67d83ce"
   },
   "outputs": [],
   "source": [
    "start_idx, end_idx"
   ]
  },
  {
   "cell_type": "code",
   "execution_count": null,
   "metadata": {
    "colab": {
     "base_uri": "https://localhost:8080/"
    },
    "id": "HDxp9XjVRjRi",
    "outputId": "49e338e1-87ac-48b5-d601-d5e0585b981f"
   },
   "outputs": [],
   "source": [
    "predicted_answer = tokenizer.convert_tokens_to_string(tokenizer.convert_ids_to_tokens(inputs.input_ids[0][start_idx:end_idx+1]))\n",
    "print(f\"Predicted answer: {predicted_answer}\")"
   ]
  },
  {
   "cell_type": "code",
   "execution_count": null,
   "metadata": {
    "colab": {
     "base_uri": "https://localhost:8080/"
    },
    "id": "rFH45JF0eEnt",
    "outputId": "93ef9a17-d8f9-4a2f-86a7-9da998888c7d"
   },
   "outputs": [],
   "source": [
    "context = \"My name is Bala, am a Gen AI engineer, and based out of chennai.\"\n",
    "question = \"Who is Bala and Where he is working?\"\n",
    "\n",
    "\n",
    "inputs = tokenizer(question, context, return_tensors=\"pt\", truncation=True, padding=\"max_length\")\n",
    "print(inputs)"
   ]
  }
 ],
 "metadata": {
  "colab": {
   "provenance": []
  },
  "kernelspec": {
   "display_name": "Python 3",
   "name": "python3"
  },
  "language_info": {
   "name": "python"
  }
 },
 "nbformat": 4,
 "nbformat_minor": 0
}
