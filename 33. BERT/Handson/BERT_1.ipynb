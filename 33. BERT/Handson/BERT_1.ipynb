{
 "cells": [
  {
   "cell_type": "markdown",
   "metadata": {
    "id": "hV62spojvasf"
   },
   "source": [
    "# BERT"
   ]
  },
  {
   "cell_type": "code",
   "execution_count": null,
   "metadata": {
    "colab": {
     "base_uri": "https://localhost:8080/",
     "height": 1000,
     "referenced_widgets": [
      "6b99b075306b4fcc8fbcfea7c1c99a99",
      "4f59029dc99643e9bd68ba000c6f75cb",
      "574da0ff13334a548f00db4f262f0624",
      "acb0ac59d4524ab787d2dd6948934f65",
      "4f81898fd0a24691916ac4bd66fcaaf5",
      "d70c68550ad04de6a633a3c315f32ced",
      "d019de3eafc74ccdad50007d378c12eb",
      "c7f1945bffc7442eb64859fe49df53d4",
      "7766e165d03d472699f3d8494c349422",
      "cc1ef3897bd34687bfcb639d0e43d484",
      "f134fd7479d941ddba04f3bd2568d3b8",
      "f10307a002994d518338bdaf85b0a2e0",
      "d1afd4997ed94cdb9961bf90ccde275f",
      "64b6958cb6ab4b39b37d73b3edc0c4ba",
      "bd7801fbb19a424cb9057a6ae83a3447",
      "60b293b12b8c411782df1bba23d15028",
      "bf4b173236fb4929a06a0507b52b9afc",
      "4eb1653d434f46aabcde4ee02770dade",
      "6f8382a29bf542afafa8b2165644e4c0",
      "7776df9ec05a47459ac47bf861d93ce4",
      "f90e5000b57443ebb4f28705f902f4e0",
      "3d0820a464a74102b29da001f538536a",
      "31f10c763d1b4e5ca28eafbab04067bd",
      "40bb5a46f01f4147937838c34aa59fc4",
      "7367a6ef2b04452298db782015568dad",
      "4f3adf6b6ff44e9dbe00930a2a30fe03",
      "c1e9cdda3cc942f887c7d5d740171aab",
      "46fac99a41a74a28a5c20b7659c049c9",
      "42e16f8543814ef4a70eb13858b9e04b",
      "c9dfdb65b4ac4f79b1d1235a89ce82c7",
      "0f5ae018dcdd4c1e95b94c9bbf6b422b",
      "885b94662acc48c3b7e6c6e088d6fbdb",
      "8dc4d88e548d421fbf01bfa9ac7a24f2",
      "85308af062ee4799b79db72b2543a85f",
      "b3cdd10964594da4ad60104ac418302a",
      "91dd2cbb5dc348598ecde25417e5b370",
      "7e0f42fd62d14deca59ec15265f83d7e",
      "87c6b1cd882044bbad96ec06a2e0ca3a",
      "ffd644817dbe427cbafd4fefbffac71d",
      "7d1a57f1596846d09e85672877ac3ac0",
      "483e347f0227474b84cd999cd62f3c7e",
      "82c976df956a48b08bbd82fc2da0570d",
      "18dc05c58f0643be87d9b89aaec85454",
      "b4787f34d2904881ad0395106cd2b32c"
     ]
    },
    "id": "t_qfzbb-vRLC",
    "outputId": "53ef2ab7-95a9-42dc-d2ae-b459d97ee3d5"
   },
   "outputs": [],
   "source": [
    "# Load model directly\n",
    "from transformers import AutoTokenizer\n",
    "\n",
    "tokenizer = AutoTokenizer.from_pretrained(\"google-bert/bert-large-uncased-whole-word-masking-finetuned-squad\")\n",
    "\n",
    "\n",
    "question = \"Where is the Eiffel Tower?\"\n",
    "context = \"The Eiffel Tower is located in Paris, France.\"\n",
    "\n",
    "inputs = tokenizer(question, context, return_tensors=\"pt\", truncation=True, padding=\"max_length\")\n",
    "print(inputs)"
   ]
  },
  {
   "cell_type": "code",
   "execution_count": null,
   "metadata": {
    "colab": {
     "base_uri": "https://localhost:8080/"
    },
    "id": "gdOnU6HevdVg",
    "outputId": "2292f721-0846-4ddb-e71d-0bcf4a75f7b9"
   },
   "outputs": [],
   "source": [
    "print(tokenizer)"
   ]
  },
  {
   "cell_type": "code",
   "execution_count": null,
   "metadata": {
    "colab": {
     "base_uri": "https://localhost:8080/"
    },
    "id": "cIxh4MbRvlKM",
    "outputId": "56499130-db93-4cd5-8c4b-c7ccba689d23"
   },
   "outputs": [],
   "source": [
    "tokenizer.vocab_size"
   ]
  },
  {
   "cell_type": "code",
   "execution_count": null,
   "metadata": {
    "colab": {
     "base_uri": "https://localhost:8080/"
    },
    "id": "xKZqDPUyvl_x",
    "outputId": "e6894acf-d14b-4764-86fd-99f1efb45645"
   },
   "outputs": [],
   "source": [
    "print(inputs['input_ids'])"
   ]
  },
  {
   "cell_type": "code",
   "execution_count": null,
   "metadata": {
    "colab": {
     "base_uri": "https://localhost:8080/",
     "height": 126
    },
    "id": "SsLL-44hvonW",
    "outputId": "f259ddec-60a1-47ac-ee89-e2e76fcb1150"
   },
   "outputs": [],
   "source": [
    "tokenizer.decode(inputs['input_ids'][0])"
   ]
  },
  {
   "cell_type": "code",
   "execution_count": null,
   "metadata": {
    "colab": {
     "base_uri": "https://localhost:8080/"
    },
    "id": "31G0wC0Qvqv8",
    "outputId": "a321b9ef-5a7a-4111-946e-e74b533de691"
   },
   "outputs": [],
   "source": [
    "len(inputs['input_ids'][0])"
   ]
  },
  {
   "cell_type": "code",
   "execution_count": null,
   "metadata": {
    "colab": {
     "base_uri": "https://localhost:8080/"
    },
    "id": "NVvUuyY8vsuT",
    "outputId": "29ce34c5-fd12-4012-de31-96e364577db2"
   },
   "outputs": [],
   "source": [
    "inputs['token_type_ids'][0]"
   ]
  },
  {
   "cell_type": "code",
   "execution_count": null,
   "metadata": {
    "colab": {
     "base_uri": "https://localhost:8080/"
    },
    "id": "4OjJ_DqqvvZU",
    "outputId": "ae33b26d-0805-4689-aa62-b9938f817b1c"
   },
   "outputs": [],
   "source": [
    "inputs['attention_mask'][0]"
   ]
  },
  {
   "cell_type": "code",
   "execution_count": null,
   "metadata": {
    "colab": {
     "base_uri": "https://localhost:8080/",
     "height": 123,
     "referenced_widgets": [
      "20a56a9e54534a0dbca97edaffb98eb2",
      "76244815343846cb929954659f49f072",
      "90368798ffb44b0d91f3f0ff884b4072",
      "8deb1c90eeee48f384b744344ebab8a1",
      "dfbdd009cd6242b89b6ab2ccd59b4e69",
      "60f0d9befe5a4d7f85a60f93002c41cd",
      "c9295ea3c0194eb585a36e8055aa9cd3",
      "7b90ddf9d8a546939a09ce41f69d0212",
      "295c20451b0142e8af6059f01a6e2f3c",
      "267d25ff7f3c47a68043e6df516142aa",
      "1ee63dc8ad2e4c2fb97d39bcc14db4c6"
     ]
    },
    "id": "jf7hBTlnvzIC",
    "outputId": "c5e4e592-4b77-4e58-f8c3-247858f39cd3"
   },
   "outputs": [],
   "source": [
    "from transformers import AutoModelForQuestionAnswering\n",
    "\n",
    "model = AutoModelForQuestionAnswering.from_pretrained(\"google-bert/bert-large-uncased-whole-word-masking-finetuned-squad\")"
   ]
  },
  {
   "cell_type": "code",
   "execution_count": null,
   "metadata": {
    "colab": {
     "base_uri": "https://localhost:8080/"
    },
    "id": "-cqw-Ut6v61G",
    "outputId": "cbd372ec-2780-4343-f6e2-023fd0da9628"
   },
   "outputs": [],
   "source": [
    "model"
   ]
  },
  {
   "cell_type": "code",
   "execution_count": null,
   "metadata": {
    "id": "jA9cGhSEv8yo"
   },
   "outputs": [],
   "source": [
    "outputs = model(**inputs)"
   ]
  },
  {
   "cell_type": "code",
   "execution_count": null,
   "metadata": {
    "id": "GBLqporOv_yx"
   },
   "outputs": [],
   "source": [
    "start_logits = outputs.start_logits\n",
    "end_logits = outputs.end_logits"
   ]
  },
  {
   "cell_type": "code",
   "execution_count": null,
   "metadata": {
    "colab": {
     "base_uri": "https://localhost:8080/"
    },
    "id": "VUBEPNFAwCD6",
    "outputId": "e128ccc8-20ab-4e0b-aac6-947f319790cc"
   },
   "outputs": [],
   "source": [
    "import torch\n",
    "\n",
    "start_index = torch.argmax(start_logits)\n",
    "end_index = torch.argmax(end_logits)\n",
    "\n",
    "print(start_index, end_index)"
   ]
  },
  {
   "cell_type": "code",
   "execution_count": null,
   "metadata": {
    "colab": {
     "base_uri": "https://localhost:8080/",
     "height": 54
    },
    "id": "UCqwyHaTwJgI",
    "outputId": "dd5d698c-3352-4f00-bb52-8dfd44ac9a3b"
   },
   "outputs": [],
   "source": [
    "predict_answer_tokens = tokenizer.convert_ids_to_tokens(inputs['input_ids'][0][start_index : end_index + 1])\n",
    "print(predict_answer_tokens)\n",
    "\n",
    "tokenizer.convert_tokens_to_string(predict_answer_tokens)"
   ]
  },
  {
   "cell_type": "code",
   "execution_count": null,
   "metadata": {
    "colab": {
     "base_uri": "https://localhost:8080/"
    },
    "id": "7B6j24p8wMm3",
    "outputId": "4020f811-3f61-425c-fec3-f1804cf82ec0"
   },
   "outputs": [],
   "source": [
    "answer_tokens = inputs['input_ids'][0][start_index : end_index + 1]\n",
    "\n",
    "answer = tokenizer.decode(answer_tokens)\n",
    "print(answer)"
   ]
  },
  {
   "cell_type": "code",
   "execution_count": null,
   "metadata": {
    "colab": {
     "base_uri": "https://localhost:8080/",
     "height": 1000
    },
    "id": "t5qfhW6UPkbS",
    "outputId": "9824dbe3-95fb-4eeb-df7b-b160ffa9b0c3"
   },
   "outputs": [],
   "source": [
    "!pip install torchview\n",
    "from torchview import draw_graph\n",
    "# Assuming 'model' is your PyTorch model and 'inputs' are sample inputs\n",
    "model_graph = draw_graph(model, input_data=inputs[\"input_ids\"])\n",
    "model_graph.visual_graph"
   ]
  },
  {
   "cell_type": "markdown",
   "metadata": {
    "id": "pfgxGDcWCLvk"
   },
   "source": [
    "# start_positions and end_positions"
   ]
  },
  {
   "cell_type": "code",
   "execution_count": null,
   "metadata": {
    "colab": {
     "base_uri": "https://localhost:8080/"
    },
    "id": "fXNdDwOoC89R",
    "outputId": "b5cd02a3-3d02-4f27-c8b0-4a3a5417530b"
   },
   "outputs": [],
   "source": [
    "context = \"ISRO is headquartered in Bangalore, India.\"\n",
    "question = \"Where is ISRO headquartered?\"\n",
    "answer = \"Bangalore\"\n",
    "\n",
    "from transformers import AutoTokenizer\n",
    "\n",
    "tokenizer = AutoTokenizer.from_pretrained(\"google-bert/bert-base-uncased\")\n",
    "\n",
    "inputs = tokenizer(question, context, return_tensors=\"pt\", truncation=True, padding=\"max_length\", return_offsets_mapping=True)\n",
    "print(inputs)"
   ]
  },
  {
   "cell_type": "code",
   "execution_count": null,
   "metadata": {
    "id": "hmE5WTNKOJMJ"
   },
   "outputs": [],
   "source": [
    "tokens = tokenizer.convert_ids_to_tokens(inputs[\"input_ids\"][0])\n",
    "offsets = inputs[\"offset_mapping\"]"
   ]
  },
  {
   "cell_type": "code",
   "execution_count": null,
   "metadata": {
    "colab": {
     "base_uri": "https://localhost:8080/"
    },
    "id": "fZ1buCP7YkY3",
    "outputId": "bde0d23c-8504-47d3-e5fa-3d9b733727e8"
   },
   "outputs": [],
   "source": [
    "offsets"
   ]
  },
  {
   "cell_type": "code",
   "execution_count": null,
   "metadata": {
    "id": "jq7DH0MwYuJC"
   },
   "outputs": [],
   "source": [
    "question = \"Where is ISRO headquartered?\""
   ]
  },
  {
   "cell_type": "code",
   "execution_count": null,
   "metadata": {
    "colab": {
     "base_uri": "https://localhost:8080/"
    },
    "id": "ig3Oe1xCOyZs",
    "outputId": "52d923d4-82ab-4edb-9a6d-81dcbb424ca6"
   },
   "outputs": [],
   "source": [
    "tokens"
   ]
  },
  {
   "cell_type": "code",
   "execution_count": null,
   "metadata": {
    "id": "lgPXg_dDDSv6"
   },
   "outputs": [],
   "source": [
    "answer_start_char = context.index(answer)\n",
    "answer_end_char = answer_start_char + len(answer)"
   ]
  },
  {
   "cell_type": "code",
   "execution_count": null,
   "metadata": {
    "colab": {
     "base_uri": "https://localhost:8080/",
     "height": 36
    },
    "id": "A52mULPMD8Hx",
    "outputId": "5937ef49-2c28-4e60-c0aa-0781ed8bf9ae"
   },
   "outputs": [],
   "source": [
    "context[answer_start_char:answer_end_char]"
   ]
  },
  {
   "cell_type": "code",
   "execution_count": null,
   "metadata": {
    "colab": {
     "base_uri": "https://localhost:8080/"
    },
    "id": "cjHiQ_94Dlne",
    "outputId": "79ce452b-3e1b-4026-b3c1-61e6af0d711a"
   },
   "outputs": [],
   "source": [
    "answer_start_char, answer_end_char"
   ]
  },
  {
   "cell_type": "code",
   "execution_count": null,
   "metadata": {
    "id": "Y5uxW56nIqtk"
   },
   "outputs": [],
   "source": [
    "# import pandas as pd\n",
    "# pd.set_option('display.max_rows', None)\n",
    "# pd.set_option('display.max_columns', None)"
   ]
  },
  {
   "cell_type": "code",
   "execution_count": null,
   "metadata": {
    "colab": {
     "base_uri": "https://localhost:8080/"
    },
    "id": "LnsTNjmcH3qu",
    "outputId": "ef6a6c78-662a-4404-8ec1-803d0885a8d3"
   },
   "outputs": [],
   "source": [
    "inputs[\"offset_mapping\"][0]"
   ]
  },
  {
   "cell_type": "code",
   "execution_count": null,
   "metadata": {
    "id": "NJk513M5HFrG"
   },
   "outputs": [],
   "source": [
    "offsets = inputs[\"offset_mapping\"][0]\n",
    "\n",
    "# Find token indices where the answer starts and ends\n",
    "start_positions = end_positions = None\n",
    "for idx, (start, end) in enumerate(offsets):\n",
    "    if start <= answer_start_char < end:\n",
    "        start_positions = idx\n",
    "\n",
    "    if start < answer_end_char <= end:\n",
    "        end_positions = idx"
   ]
  },
  {
   "cell_type": "code",
   "execution_count": null,
   "metadata": {
    "colab": {
     "base_uri": "https://localhost:8080/"
    },
    "id": "MaqT-chvHmlw",
    "outputId": "ba33e99b-76f1-4bd1-e537-9f884f373d72"
   },
   "outputs": [],
   "source": [
    "print(\"Start token index:\", start_positions)\n",
    "print(\"End token index:\", end_positions)"
   ]
  },
  {
   "cell_type": "code",
   "execution_count": null,
   "metadata": {
    "colab": {
     "base_uri": "https://localhost:8080/",
     "height": 36
    },
    "id": "FgEnEwG1O835",
    "outputId": "e2d4aae3-73ac-407a-ada1-1df9ce2024cd"
   },
   "outputs": [],
   "source": [
    "tokens[start_positions]"
   ]
  },
  {
   "cell_type": "code",
   "execution_count": null,
   "metadata": {
    "colab": {
     "base_uri": "https://localhost:8080/",
     "height": 36
    },
    "id": "jlmvT1-kPHmy",
    "outputId": "2624a5f3-fee1-47a5-9e4b-1ee4877cf23a"
   },
   "outputs": [],
   "source": [
    "tokens[end_positions]"
   ]
  },
  {
   "cell_type": "code",
   "execution_count": null,
   "metadata": {
    "colab": {
     "base_uri": "https://localhost:8080/"
    },
    "id": "yhN9ST17MaSR",
    "outputId": "33e494b1-ad71-4f88-feb4-84b387be5e5c"
   },
   "outputs": [],
   "source": [
    "index = context.find('Bangalore')\n",
    "print(index)"
   ]
  }
 ],
 "metadata": {
  "colab": {
   "provenance": []
  },
  "kernelspec": {
   "display_name": "Python 3",
   "name": "python3"
  },
  "language_info": {
   "name": "python"
  }
 },
 "nbformat": 4,
 "nbformat_minor": 0
}
