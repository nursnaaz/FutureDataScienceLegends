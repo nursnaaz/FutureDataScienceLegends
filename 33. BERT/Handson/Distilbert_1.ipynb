{
 "cells": [
  {
   "cell_type": "code",
   "execution_count": null,
   "metadata": {
    "colab": {
     "base_uri": "https://localhost:8080/"
    },
    "id": "QsK7dhbE7Wb5",
    "outputId": "a9a720d2-85b1-48c7-d246-334f045dc84d"
   },
   "outputs": [],
   "source": [
    "!pip install transformers datasets"
   ]
  },
  {
   "cell_type": "code",
   "execution_count": null,
   "metadata": {
    "colab": {
     "base_uri": "https://localhost:8080/"
    },
    "id": "Bi1e4Q_q7-WR",
    "outputId": "888f6d95-8df6-4261-fefe-b0b76c432dca"
   },
   "outputs": [],
   "source": [
    "!pip install torch"
   ]
  },
  {
   "cell_type": "code",
   "execution_count": null,
   "metadata": {
    "id": "SRuZJA3W8ZVp"
   },
   "outputs": [],
   "source": [
    "from transformers import pipeline"
   ]
  },
  {
   "cell_type": "code",
   "execution_count": null,
   "metadata": {
    "colab": {
     "base_uri": "https://localhost:8080/",
     "height": 195,
     "referenced_widgets": [
      "6bafac0258154e51a5ca0ad66a2429b7",
      "de53e52032be4138b52c98effea4ff73",
      "5cf4b3a9db124f459790e9aeb27da58f",
      "862267dac0df45108e1c04e18c5f4a35",
      "73161bf890164deeac5c3e0ba9899fbe",
      "9d65880488d541e0bd1eee21a36354c9",
      "b976f465335b4c4e9f03439212a4559e",
      "c9891febb6b744ba8d66ba31fc6a65fe",
      "ac0c3e0664c541b092a75bcdadfbf4a2",
      "c056847be44144c893e0f1c868f86a56",
      "8c00d59f1e124038a379e11c82778b83",
      "2f519604cc2141069b6bd69d14453f1b",
      "fa5b6cc32c574e4bb101236f05ff1e0f",
      "d24c8f798e8946849bec6f592db27f53",
      "0fbf2fc3071742cb8ef950951c585496",
      "30a8581ffc1f42ce92ce6b73bb1438b3",
      "f1b5cf15a9db47f9b41e510b7cfa48cc",
      "1343fe7f202a49c0a08b87a40afb7111",
      "c38abebc953449988a98f56fc3ebc6e3",
      "da7f574efcb74a828ea95bd7e0e6f311",
      "dfae23cc03c84838b120662b3608d82c",
      "18ed716922b94c9d94547214fdb3c63a",
      "12d0d7208d734b8e8169106b58b679d2",
      "fa2b837a5abc434ca26f240e129c4ce3",
      "ea1a1f4ff59f47d7bbcfe918cdcd462b",
      "986b7ef54c9f425bb0060981137ef700",
      "a1e3d2cb4477451b964a5fe4a41f57c9",
      "54f949a327904812b829be3adccc383b",
      "eacf59438a234aada2ad3464a96a2066",
      "a9a17c517caf46afb0c7c8189a4aec7e",
      "27b9837f17bf4fffb10df2da33caf916",
      "b71c10b8daa849109d7e8cc20dc897d2",
      "3c2a7131e7684fa79c7561195c7a8b15",
      "acc881512e974952a88ca054fad735c3",
      "50a5be1841a14b96b989182c8467ba99",
      "8c075bc2aa6b42369039f41311468cf0",
      "f5a8e3e91658413ba4a5d3f40974e149",
      "75974bfe73b24a6c8d9ea5bf5f8d4099",
      "9abe387c631d4094aa97ebcbc28a30ac",
      "8c95dfc430464c82801191880a51cd22",
      "2bf0325aa3824eda8e146ac37a6a6cb4",
      "e7e5863127664b12b20608d129b71d3f",
      "0edee9f0898d4ac4b5b27881ae5d6424",
      "52eaa00b51cc4abc84a9bddc1e74aff6",
      "39a7b31408d145b580620bd7424d1261",
      "56047fadb7aa4667807404d3107e6266",
      "b788378cfcd14c5394d80b50fafb3cab",
      "cf677bbf7f994f62a118e0230387faa8",
      "0cd7af5ad4ac4c67a8bc9a31ce00200f",
      "2d5bf38282b94d86829b240fc0945e34",
      "96ce3c81c6d9419880b6cc82ff403ea0",
      "9498ef7ccbe74034acbf39fc655df989",
      "091cec25b51d4aa894e28e4c064a7b07",
      "6131c09cb0de4d9d9a3e811859159811",
      "459a6553a54440019d4fb9e3c15885a5"
     ]
    },
    "id": "F9qrEPqK8i3v",
    "outputId": "064d8764-355f-4d0c-d97f-b7c53452bde0"
   },
   "outputs": [],
   "source": [
    "pipe = pipeline(\"question-answering\", model=\"distilbert/distilbert-base-uncased-distilled-squad\")"
   ]
  },
  {
   "cell_type": "code",
   "execution_count": null,
   "metadata": {
    "colab": {
     "base_uri": "https://localhost:8080/"
    },
    "id": "Brvd4xgS9OrR",
    "outputId": "b62a6557-2429-451b-88ca-85731a95ca4d"
   },
   "outputs": [],
   "source": [
    "context = \"My name is Bala, am a software engineer and I am working in the IT industry\"\n",
    "question = \"Who is Bala?\"\n",
    "\n",
    "pipe(context = context, question=question)"
   ]
  },
  {
   "cell_type": "markdown",
   "metadata": {
    "id": "VaBFZWTeLudx"
   },
   "source": [
    "Context: \"Albert Einstein was born in Germany in 1879. He developed the theory of relativity.\"\n",
    "Question: \"Where was Einstein born?\"\n",
    "BERT's Scoring Process:\n",
    "Step 1: Start Position Scores\n",
    "\n",
    "python\n",
    "# Scores for each token as potential answer start\n",
    "token_start_scores = {\n",
    "    \"Albert\": 0.02,\n",
    "    \"Einstein\": 0.05,\n",
    "    \"was\": 0.01,\n",
    "    \"born\": 0.03,\n",
    "    \"in\": 0.12,\n",
    "    \"Germany\": 0.74,    # High score - likely start\n",
    "    \"in\": 0.02,\n",
    "    \"1879\": 0.01\n",
    "}\n",
    "Step 2: End Position Scores\n",
    "\n",
    "python\n",
    "# Scores for each token as potential answer end\n",
    "token_end_scores = {\n",
    "    \"Albert\": 0.01,\n",
    "    \"Einstein\": 0.02,\n",
    "    \"was\": 0.01,\n",
    "    \"born\": 0.02,\n",
    "    \"in\": 0.03,\n",
    "    \"Germany\": 0.89,    # High score - likely end\n",
    "    \"in\": 0.01,\n",
    "    \"1879\": 0.01\n",
    "}\n",
    "Step 3: Final Answer Score\n",
    "\n",
    "python\n",
    "# Combined score for span \"Germany\"\n",
    "answer_span_score = start_score * end_score\n",
    "                  = 0.74 * 0.89\n",
    "                  = 0.66\n",
    "\n",
    "# Answer: \"Germany\" with 66% confidence"
   ]
  },
  {
   "cell_type": "code",
   "execution_count": null,
   "metadata": {
    "colab": {
     "base_uri": "https://localhost:8080/",
     "height": 36
    },
    "id": "xOfQMmgU-Wo7",
    "outputId": "9f1b67a4-3f5e-4cfe-fc85-a2029c3106aa"
   },
   "outputs": [],
   "source": [
    "context[36:51]"
   ]
  },
  {
   "cell_type": "code",
   "execution_count": null,
   "metadata": {
    "id": "HOdKRcRG-fra"
   },
   "outputs": [],
   "source": [
    "from transformers import DistilBertTokenizer, DistilBertForQuestionAnswering"
   ]
  },
  {
   "cell_type": "code",
   "execution_count": null,
   "metadata": {
    "colab": {
     "base_uri": "https://localhost:8080/",
     "height": 145,
     "referenced_widgets": [
      "e911f472713246c0b6bbdd5ecfc01bb7",
      "ab0963b19bdc4a9db8ebcff1cd483448",
      "3acb3ae056bf4433b4079aca40b03d35",
      "58f598c4e9384fa0be7e7a434a8c21de",
      "7bfc564622b5482e935eed82cd1d4f7a",
      "d25c65a0668d4041888817c0a3a77682",
      "7e3fefb035ff41ccae83a84c52ba1138",
      "3f870305cb1548ec8a031b382449d8ac",
      "6d3bfdf3974c4f1cadfc5da52f942e0c",
      "a470661463d44e2ea73228e11e6aea44",
      "795f049b82c84017876e7827ce12bf16",
      "8aff9141ef8c476e9c470f2d067a7c48",
      "9c9dbc2a7bed4839bffc9d74777bcba8",
      "5cf11aaaae354c1887dbd6c52fc673aa",
      "7fa496691c024fa9aec2181aa8c8e71c",
      "92ae00b97044443da68645144189a2fa",
      "70bb017662644e59926ea6d6b923a5b6",
      "812c47fd1c184890bcbe18388269c3d9",
      "5c3690632ba54d31b037012520aec1c3",
      "9939461c29d448578c70aa1b0eebcae9",
      "dc496c18681548e28830b09863e08d41",
      "cd7f158865ce4fdba2927f707a44cfd7",
      "fcec28c338fb40efab66eb7f90699683",
      "eb66d50ac146488d9b6948edf83a06f3",
      "8d4deb3d9a60434a9245dfe7745e1c34",
      "d35eefed95694910986c9571ee8cfa25",
      "c30842b42e9e421b8d11d2647221d180",
      "d28f3ca991b04af2a3e197e90a9dd516",
      "4fb90dcd6b884b9095b2cae1b559eb6c",
      "e3196db3822c4a5dba6cb09d1241d5df",
      "230ecc6c0162472abd29d855726269da",
      "fb7f6f9298854de4a7e133309e35387d",
      "1896ca1c838e498a80e08e6ca4db2647",
      "a75bfefd28ff40ccaf53b2840a71f934",
      "e875256fd31a4d829dced096ccc90f59",
      "921617906bb14f2c99d9845f7118ac48",
      "5a1c4604c0454d8cbd6afedc91713b30",
      "04fd3b517ec4492ba2408468ec6f536c",
      "2bc696244aad46d49a9b114b5b7e2908",
      "2dcca597b708421bb0158ce0545af7f9",
      "553f5a6d088e42bbb29fd59dff1f82f4",
      "01eda808e2014e8f8b92da2e2d3be008",
      "6434fcdda280438491a153e0a658d443",
      "8abcc4705d5b4d2c89e99ec156eb2511"
     ]
    },
    "id": "bi4KZpHR_Zhk",
    "outputId": "80edbf23-3353-4f47-d09f-cd2d37a33728"
   },
   "outputs": [],
   "source": [
    "tokenizer = DistilBertTokenizer.from_pretrained(\"distilbert-base-uncased-distilled-squad\")"
   ]
  },
  {
   "cell_type": "code",
   "execution_count": null,
   "metadata": {
    "colab": {
     "base_uri": "https://localhost:8080/"
    },
    "id": "cKiB3QUP_iqt",
    "outputId": "9a5d9c99-7d66-4444-b99a-d4e400708cac"
   },
   "outputs": [],
   "source": [
    "print(tokenizer)"
   ]
  },
  {
   "cell_type": "code",
   "execution_count": null,
   "metadata": {
    "colab": {
     "base_uri": "https://localhost:8080/"
    },
    "id": "_-5ZVEuLCJMV",
    "outputId": "2b08b30b-a9ad-409f-bda9-fb7dc49d0175"
   },
   "outputs": [],
   "source": [
    "tokenizer.vocab_size"
   ]
  },
  {
   "cell_type": "code",
   "execution_count": null,
   "metadata": {
    "id": "ozhxOs97_1Bj"
   },
   "outputs": [],
   "source": [
    "question = \"Where is the Eiffel Tower?\"\n",
    "answer = \"The Eiffel Tower is located in Paris, France\"\n",
    "\n",
    "inputs = tokenizer(question, answer, return_tensors=\"pt\", truncation=True, padding=\"max_length\")"
   ]
  },
  {
   "cell_type": "code",
   "execution_count": null,
   "metadata": {
    "colab": {
     "base_uri": "https://localhost:8080/"
    },
    "id": "d2-NPvPQAK5t",
    "outputId": "30c1340b-b129-44db-9545-86b5663371db"
   },
   "outputs": [],
   "source": [
    "inputs"
   ]
  },
  {
   "cell_type": "code",
   "execution_count": null,
   "metadata": {
    "colab": {
     "base_uri": "https://localhost:8080/",
     "height": 126
    },
    "id": "0y-ESsnuAZbO",
    "outputId": "1ea490a4-0339-432d-91b0-ae02d2afc207"
   },
   "outputs": [],
   "source": [
    "tokenizer.decode(inputs[\"input_ids\"][0])"
   ]
  },
  {
   "cell_type": "code",
   "execution_count": null,
   "metadata": {
    "colab": {
     "base_uri": "https://localhost:8080/"
    },
    "id": "NJzsHf6PAqt8",
    "outputId": "7c46fa79-a7b9-4798-db3a-732b07fd7337"
   },
   "outputs": [],
   "source": [
    "len(inputs[\"input_ids\"][0])"
   ]
  },
  {
   "cell_type": "code",
   "execution_count": null,
   "metadata": {
    "colab": {
     "base_uri": "https://localhost:8080/"
    },
    "id": "qxWnA0ioBG8A",
    "outputId": "f0ef0ec4-cd7a-482c-d99c-30ee04dc9c18"
   },
   "outputs": [],
   "source": [
    "inputs[\"attention_mask\"][0]"
   ]
  },
  {
   "cell_type": "code",
   "execution_count": null,
   "metadata": {
    "colab": {
     "base_uri": "https://localhost:8080/",
     "height": 49,
     "referenced_widgets": [
      "543db0a93c1742a6a059743736e16bbd",
      "a086754e2701470083d519d381774366",
      "6f9164795a184470978ab3dee0661784",
      "067095b0d7c54194985d7db0e5211de8",
      "be69e0070a134b36b8ddb9ff9f7a0103",
      "729c250436be42d6974c52d40ac52c2f",
      "744db4f3a95d4edcb26e0c92672efc61",
      "497c96e3f4374e3788fd0ffdd596a908",
      "407e671f935c46f398cd7cb32039ac9c",
      "a78400c6a60e49f7b8e782e8266a3e95",
      "645df29672d84d0098e34d6a41fe8105"
     ]
    },
    "id": "PQCTR2rwBcX3",
    "outputId": "8b101ec3-21ab-466b-cbc1-0dfe75e08bf8"
   },
   "outputs": [],
   "source": [
    "model = DistilBertForQuestionAnswering.from_pretrained(\"distilbert-base-uncased-distilled-squad\")"
   ]
  },
  {
   "cell_type": "code",
   "execution_count": null,
   "metadata": {
    "colab": {
     "base_uri": "https://localhost:8080/"
    },
    "id": "VuvpJWzxCoAW",
    "outputId": "592ef99a-6bf7-4447-fe59-850afa849d4d"
   },
   "outputs": [],
   "source": [
    "model"
   ]
  },
  {
   "cell_type": "code",
   "execution_count": null,
   "metadata": {
    "id": "OeWj5V5cFfBW"
   },
   "outputs": [],
   "source": [
    "output = model(**inputs)"
   ]
  },
  {
   "cell_type": "code",
   "execution_count": null,
   "metadata": {
    "colab": {
     "base_uri": "https://localhost:8080/"
    },
    "id": "agoHF40kILbM",
    "outputId": "6267032f-18e1-4083-ba8f-494843f575df"
   },
   "outputs": [],
   "source": [
    "output.start_logits"
   ]
  },
  {
   "cell_type": "code",
   "execution_count": null,
   "metadata": {
    "colab": {
     "base_uri": "https://localhost:8080/"
    },
    "id": "ZwINs7K9Hu8c",
    "outputId": "17d400b1-4f9e-4b26-9f6b-0e9dab1595ed"
   },
   "outputs": [],
   "source": [
    "import torch\n",
    "start_index = torch.argmax(output.start_logits)\n",
    "end_index = torch.argmax(output.end_logits)\n",
    "\n",
    "print(start_index, end_index)"
   ]
  },
  {
   "cell_type": "code",
   "execution_count": null,
   "metadata": {
    "colab": {
     "base_uri": "https://localhost:8080/"
    },
    "id": "scGBpjEmKF3X",
    "outputId": "1efd258d-6b33-4b84-8c6e-6ec84d3bbfcb"
   },
   "outputs": [],
   "source": [
    "import tensorflow as tf\n",
    "\n",
    "start_index = tf.argmax(output.start_logits.detach().numpy(), axis=-1)\n",
    "end_index = tf.argmax(output.end_logits.detach().numpy(), axis=-1)\n",
    "\n",
    "print(start_index, end_index)"
   ]
  },
  {
   "cell_type": "code",
   "execution_count": null,
   "metadata": {
    "colab": {
     "base_uri": "https://localhost:8080/"
    },
    "id": "d1H3obf7H_qq",
    "outputId": "a890c103-522c-441a-e4f8-206cfffea6eb"
   },
   "outputs": [],
   "source": [
    "predicted_answer = tokenizer.convert_ids_to_tokens(inputs[\"input_ids\"][0][start_index:end_index+1])\n",
    "print(predicted_answer)"
   ]
  },
  {
   "cell_type": "code",
   "execution_count": null,
   "metadata": {
    "colab": {
     "base_uri": "https://localhost:8080/"
    },
    "id": "dMugYnpbK90B",
    "outputId": "873c2d75-68db-44b9-ec2e-8a5fe9e0cf6e"
   },
   "outputs": [],
   "source": [
    "answer = inputs[\"input_ids\"][0][start_index:end_index+1]\n",
    "answer = tokenizer.decode(answer)\n",
    "\n",
    "print(answer)"
   ]
  },
  {
   "cell_type": "code",
   "execution_count": null,
   "metadata": {
    "colab": {
     "base_uri": "https://localhost:8080/",
     "height": 1000
    },
    "id": "sNlo8aj-Kj5A",
    "outputId": "9462f6c5-3d7f-4157-bc1b-eac5c0319682"
   },
   "outputs": [],
   "source": [
    "!pip install torchview\n",
    "from torchview import draw_graph\n",
    "\n",
    "# Assuming 'model' is your PyTorch model and 'inputs' are sample inputs\n",
    "model_graph = draw_graph(model, input_data=inputs[\"input_ids\"])\n",
    "model_graph.visual_graph"
   ]
  },
  {
   "cell_type": "code",
   "execution_count": null,
   "metadata": {
    "colab": {
     "base_uri": "https://localhost:8080/"
    },
    "id": "QmNNqiBZLOot",
    "outputId": "c813a135-90d5-4c62-d6c1-a7795a3db7a6"
   },
   "outputs": [],
   "source": [
    "def my_function(param1, param2, param3):\n",
    "    print(f\"Got: {param1}, {param2}, {param3}\")\n",
    "\n",
    "my_dict = {\"param1\": \"A\", \"param2\": \"B\", \"param3\": \"C\"}\n",
    "\n",
    "# Using 'my_dict' (WRONG):\n",
    "# my_function(my_dict)  # ERROR! Function expects 3 args, got 1 dict  ** wrong\n",
    "\n",
    "# Using '**my_dict' (CORRECT):\n",
    "my_function(**my_dict)  # SUCCESS! Unpacks to: param1=\"A\", param2=\"B\", param3=\"C\""
   ]
  }
 ],
 "metadata": {
  "colab": {
   "provenance": []
  },
  "kernelspec": {
   "display_name": "Python 3",
   "name": "python3"
  },
  "language_info": {
   "name": "python"
  }
 },
 "nbformat": 4,
 "nbformat_minor": 0
}
