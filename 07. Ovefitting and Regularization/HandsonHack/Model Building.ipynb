{
 "cells": [
  {
   "cell_type": "markdown",
   "id": "ea1e384e",
   "metadata": {},
   "source": [
    "### Problem Statement\n",
    "* To predict the sales from the video Games Dataset taken from MachineHack"
   ]
  },
  {
   "cell_type": "markdown",
   "id": "a9c60c38",
   "metadata": {},
   "source": [
    "### understand the data"
   ]
  },
  {
   "cell_type": "code",
   "execution_count": 3,
   "id": "0dec26f9",
   "metadata": {},
   "outputs": [],
   "source": [
    "# import necessary libraires\n",
    "import numpy as np\n",
    "import pandas as pd\n",
    "import matplotlib.pyplot as plt\n",
    "import seaborn as sns\n",
    "\n",
    "import warnings\n",
    "warnings.filterwarnings('ignore')\n",
    "\n",
    "\n",
    "from sklearn.pipeline import Pipeline\n",
    "from sklearn.preprocessing import OneHotEncoder, StandardScaler\n",
    "from sklearn.compose import ColumnTransformer\n",
    "\n",
    "from sklearn.linear_model import LinearRegression\n",
    "from sklearn.model_selection import train_test_split\n",
    "from sklearn.preprocessing import PolynomialFeatures\n",
    "\n",
    "from sklearn.linear_model import Lasso, Ridge\n",
    "from sklearn.metrics import mean_squared_error\n",
    "\n",
    "import joblib"
   ]
  },
  {
   "cell_type": "code",
   "execution_count": 4,
   "id": "b60b00b3",
   "metadata": {},
   "outputs": [],
   "source": [
    "# Load the dataset\n",
    "df = pd.read_csv('data.csv')\n"
   ]
  },
  {
   "cell_type": "markdown",
   "id": "460ce79b",
   "metadata": {},
   "source": [
    "### Descriptive Analysis "
   ]
  },
  {
   "cell_type": "code",
   "execution_count": 5,
   "id": "d7c3ce69",
   "metadata": {},
   "outputs": [
    {
     "data": {
      "text/plain": [
       "(3506, 9)"
      ]
     },
     "execution_count": 5,
     "metadata": {},
     "output_type": "execute_result"
    }
   ],
   "source": [
    "# find the length of the dataseet\n",
    "df.shape"
   ]
  },
  {
   "cell_type": "code",
   "execution_count": 6,
   "id": "a3a113e5",
   "metadata": {},
   "outputs": [
    {
     "data": {
      "text/plain": [
       "Index(['ID', 'CONSOLE', 'YEAR', 'CATEGORY', 'PUBLISHER', 'RATING',\n",
       "       'CRITICS_POINTS', 'USER_POINTS', 'SalesInMillions'],\n",
       "      dtype='object')"
      ]
     },
     "execution_count": 6,
     "metadata": {},
     "output_type": "execute_result"
    }
   ],
   "source": [
    "# columns of the dataset\n",
    "df.columns"
   ]
  },
  {
   "cell_type": "code",
   "execution_count": 7,
   "id": "2fcbbdd4",
   "metadata": {},
   "outputs": [
    {
     "name": "stdout",
     "output_type": "stream",
     "text": [
      "<class 'pandas.core.frame.DataFrame'>\n",
      "RangeIndex: 3506 entries, 0 to 3505\n",
      "Data columns (total 9 columns):\n",
      " #   Column           Non-Null Count  Dtype  \n",
      "---  ------           --------------  -----  \n",
      " 0   ID               3506 non-null   int64  \n",
      " 1   CONSOLE          3506 non-null   object \n",
      " 2   YEAR             3506 non-null   int64  \n",
      " 3   CATEGORY         3506 non-null   object \n",
      " 4   PUBLISHER        3506 non-null   object \n",
      " 5   RATING           3506 non-null   object \n",
      " 6   CRITICS_POINTS   3506 non-null   float64\n",
      " 7   USER_POINTS      3506 non-null   float64\n",
      " 8   SalesInMillions  3506 non-null   float64\n",
      "dtypes: float64(3), int64(2), object(4)\n",
      "memory usage: 246.6+ KB\n"
     ]
    }
   ],
   "source": [
    "df.info()"
   ]
  },
  {
   "cell_type": "code",
   "execution_count": 8,
   "id": "451f6bcf",
   "metadata": {},
   "outputs": [
    {
     "data": {
      "text/html": [
       "<div>\n",
       "<style scoped>\n",
       "    .dataframe tbody tr th:only-of-type {\n",
       "        vertical-align: middle;\n",
       "    }\n",
       "\n",
       "    .dataframe tbody tr th {\n",
       "        vertical-align: top;\n",
       "    }\n",
       "\n",
       "    .dataframe thead th {\n",
       "        text-align: right;\n",
       "    }\n",
       "</style>\n",
       "<table border=\"1\" class=\"dataframe\">\n",
       "  <thead>\n",
       "    <tr style=\"text-align: right;\">\n",
       "      <th></th>\n",
       "      <th>ID</th>\n",
       "      <th>CONSOLE</th>\n",
       "      <th>YEAR</th>\n",
       "      <th>CATEGORY</th>\n",
       "      <th>PUBLISHER</th>\n",
       "      <th>RATING</th>\n",
       "      <th>CRITICS_POINTS</th>\n",
       "      <th>USER_POINTS</th>\n",
       "      <th>SalesInMillions</th>\n",
       "    </tr>\n",
       "  </thead>\n",
       "  <tbody>\n",
       "    <tr>\n",
       "      <th>0</th>\n",
       "      <td>2860</td>\n",
       "      <td>ds</td>\n",
       "      <td>2008</td>\n",
       "      <td>role-playing</td>\n",
       "      <td>Nintendo</td>\n",
       "      <td>E</td>\n",
       "      <td>2.833333</td>\n",
       "      <td>0.303704</td>\n",
       "      <td>1.779257</td>\n",
       "    </tr>\n",
       "    <tr>\n",
       "      <th>1</th>\n",
       "      <td>731</td>\n",
       "      <td>wii</td>\n",
       "      <td>2012</td>\n",
       "      <td>simulation</td>\n",
       "      <td>Konami Digital Entertainment</td>\n",
       "      <td>E10+</td>\n",
       "      <td>13.200000</td>\n",
       "      <td>1.640000</td>\n",
       "      <td>0.215050</td>\n",
       "    </tr>\n",
       "    <tr>\n",
       "      <th>2</th>\n",
       "      <td>495</td>\n",
       "      <td>pc</td>\n",
       "      <td>2019</td>\n",
       "      <td>shooter</td>\n",
       "      <td>Activision</td>\n",
       "      <td>M</td>\n",
       "      <td>4.562500</td>\n",
       "      <td>0.006410</td>\n",
       "      <td>0.534402</td>\n",
       "    </tr>\n",
       "    <tr>\n",
       "      <th>3</th>\n",
       "      <td>2641</td>\n",
       "      <td>ps2</td>\n",
       "      <td>2002</td>\n",
       "      <td>sports</td>\n",
       "      <td>Electronic Arts</td>\n",
       "      <td>E</td>\n",
       "      <td>4.181818</td>\n",
       "      <td>0.326923</td>\n",
       "      <td>1.383964</td>\n",
       "    </tr>\n",
       "    <tr>\n",
       "      <th>4</th>\n",
       "      <td>811</td>\n",
       "      <td>ps3</td>\n",
       "      <td>2013</td>\n",
       "      <td>action</td>\n",
       "      <td>Activision</td>\n",
       "      <td>M</td>\n",
       "      <td>2.259259</td>\n",
       "      <td>0.032579</td>\n",
       "      <td>0.082671</td>\n",
       "    </tr>\n",
       "  </tbody>\n",
       "</table>\n",
       "</div>"
      ],
      "text/plain": [
       "     ID CONSOLE  YEAR      CATEGORY                     PUBLISHER RATING  \\\n",
       "0  2860      ds  2008  role-playing                      Nintendo      E   \n",
       "1   731     wii  2012    simulation  Konami Digital Entertainment   E10+   \n",
       "2   495      pc  2019       shooter                    Activision      M   \n",
       "3  2641     ps2  2002        sports               Electronic Arts      E   \n",
       "4   811     ps3  2013        action                    Activision      M   \n",
       "\n",
       "   CRITICS_POINTS  USER_POINTS  SalesInMillions  \n",
       "0        2.833333     0.303704         1.779257  \n",
       "1       13.200000     1.640000         0.215050  \n",
       "2        4.562500     0.006410         0.534402  \n",
       "3        4.181818     0.326923         1.383964  \n",
       "4        2.259259     0.032579         0.082671  "
      ]
     },
     "execution_count": 8,
     "metadata": {},
     "output_type": "execute_result"
    }
   ],
   "source": [
    "# show few recs\n",
    "\n",
    "df.head()"
   ]
  },
  {
   "cell_type": "code",
   "execution_count": 9,
   "id": "bb7ed469",
   "metadata": {},
   "outputs": [
    {
     "data": {
      "text/plain": [
       "ID                 2654\n",
       "CONSOLE              17\n",
       "YEAR                 23\n",
       "CATEGORY             12\n",
       "PUBLISHER           204\n",
       "RATING                6\n",
       "CRITICS_POINTS     1683\n",
       "USER_POINTS        2182\n",
       "SalesInMillions    3506\n",
       "dtype: int64"
      ]
     },
     "execution_count": 9,
     "metadata": {},
     "output_type": "execute_result"
    }
   ],
   "source": [
    "# show unique count of values in each col \n",
    "df.nunique()"
   ]
  },
  {
   "cell_type": "markdown",
   "id": "7b017d3d",
   "metadata": {},
   "source": [
    "###  Analysis on Categorical columns"
   ]
  },
  {
   "cell_type": "code",
   "execution_count": 10,
   "id": "1052d292",
   "metadata": {},
   "outputs": [
    {
     "data": {
      "text/plain": [
       "<Axes: xlabel='count', ylabel='CONSOLE'>"
      ]
     },
     "execution_count": 10,
     "metadata": {},
     "output_type": "execute_result"
    },
    {
     "data": {
      "image/png": "[encoded data removed]",
      "text/plain": [
       "<Figure size 640x480 with 1 Axes>"
      ]
     },
     "metadata": {},
     "output_type": "display_data"
    }
   ],
   "source": [
    "sns.countplot(data=df,y='CONSOLE')"
   ]
  },
  {
   "cell_type": "code",
   "execution_count": 11,
   "id": "1102a150",
   "metadata": {},
   "outputs": [
    {
     "data": {
      "text/plain": [
       "<Axes: xlabel='CONSOLE', ylabel='count'>"
      ]
     },
     "execution_count": 11,
     "metadata": {},
     "output_type": "execute_result"
    },
    {
     "data": {
      "image/png": "[encoded data removed]",
      "text/plain": [
       "<Figure size 640x480 with 1 Axes>"
      ]
     },
     "metadata": {},
     "output_type": "display_data"
    }
   ],
   "source": [
    "sns.countplot(data=df,x='CONSOLE')"
   ]
  },
  {
   "cell_type": "code",
   "execution_count": 12,
   "id": "f2415377",
   "metadata": {},
   "outputs": [
    {
     "data": {
      "image/png": "[encoded data removed]",
      "text/plain": [
       "<Figure size 640x480 with 1 Axes>"
      ]
     },
     "metadata": {},
     "output_type": "display_data"
    },
    {
     "data": {
      "image/png": "[encoded data removed]",
      "text/plain": [
       "<Figure size 640x480 with 1 Axes>"
      ]
     },
     "metadata": {},
     "output_type": "display_data"
    },
    {
     "data": {
      "image/png": "[encoded data removed]",
      "text/plain": [
       "<Figure size 640x480 with 1 Axes>"
      ]
     },
     "metadata": {},
     "output_type": "display_data"
    },
    {
     "data": {
      "image/png": "[encoded data removed]",
      "text/plain": [
       "<Figure size 640x480 with 1 Axes>"
      ]
     },
     "metadata": {},
     "output_type": "display_data"
    }
   ],
   "source": [
    "for col in df.select_dtypes(include='object').columns:\n",
    "    sns.countplot(data=df,y=col)\n",
    "    plt.show()"
   ]
  },
  {
   "cell_type": "code",
   "execution_count": 13,
   "id": "b55c5e0d",
   "metadata": {},
   "outputs": [
    {
     "name": "stdout",
     "output_type": "stream",
     "text": [
      "Python 3.11.5\n"
     ]
    }
   ],
   "source": [
    "!python --version"
   ]
  },
  {
   "cell_type": "markdown",
   "id": "77cf541d",
   "metadata": {},
   "source": [
    "### insights\n",
    "* PS2 console - top followed by Xbox360\n",
    "* action is preferred by most, least is puzzle"
   ]
  },
  {
   "cell_type": "code",
   "execution_count": 14,
   "id": "5874b6b1",
   "metadata": {},
   "outputs": [
    {
     "data": {
      "text/plain": [
       "YEAR\n",
       "1997      2\n",
       "1998      8\n",
       "1999      6\n",
       "2000     23\n",
       "2001     56\n",
       "2002     96\n",
       "2003    177\n",
       "2004    224\n",
       "2005    237\n",
       "2006    230\n",
       "2007    283\n",
       "2008    309\n",
       "2009    300\n",
       "2010    291\n",
       "2011    262\n",
       "2012    215\n",
       "2013    192\n",
       "2014    188\n",
       "2015    124\n",
       "2016    124\n",
       "2017     79\n",
       "2018     52\n",
       "2019     28\n",
       "Name: count, dtype: int64"
      ]
     },
     "execution_count": 14,
     "metadata": {},
     "output_type": "execute_result"
    }
   ],
   "source": [
    "df['YEAR'].value_counts().sort_index()"
   ]
  },
  {
   "cell_type": "code",
   "execution_count": 15,
   "id": "d75525af",
   "metadata": {},
   "outputs": [
    {
     "data": {
      "text/plain": [
       "YEAR\n",
       "2008    309\n",
       "2009    300\n",
       "2010    291\n",
       "2007    283\n",
       "2011    262\n",
       "2005    237\n",
       "2006    230\n",
       "2004    224\n",
       "2012    215\n",
       "2013    192\n",
       "2014    188\n",
       "2003    177\n",
       "2015    124\n",
       "2016    124\n",
       "2002     96\n",
       "2017     79\n",
       "2001     56\n",
       "2018     52\n",
       "2019     28\n",
       "2000     23\n",
       "1998      8\n",
       "1999      6\n",
       "1997      2\n",
       "Name: count, dtype: int64"
      ]
     },
     "execution_count": 15,
     "metadata": {},
     "output_type": "execute_result"
    }
   ],
   "source": [
    "df['YEAR'].value_counts()"
   ]
  },
  {
   "cell_type": "markdown",
   "id": "8beeba43",
   "metadata": {},
   "source": [
    "###  Analysis on Numerical columns "
   ]
  },
  {
   "cell_type": "code",
   "execution_count": 16,
   "id": "b1289b26",
   "metadata": {
    "scrolled": true
   },
   "outputs": [
    {
     "data": {
      "image/png": "[encoded data removed]",
      "text/plain": [
       "<Figure size 400x300 with 1 Axes>"
      ]
     },
     "metadata": {},
     "output_type": "display_data"
    },
    {
     "data": {
      "image/png": "[encoded data removed]",
      "text/plain": [
       "<Figure size 400x300 with 1 Axes>"
      ]
     },
     "metadata": {},
     "output_type": "display_data"
    },
    {
     "data": {
      "image/png": "[encoded data removed]",
      "text/plain": [
       "<Figure size 400x300 with 1 Axes>"
      ]
     },
     "metadata": {},
     "output_type": "display_data"
    },
    {
     "data": {
      "image/png": "[encoded data removed]",
      "text/plain": [
       "<Figure size 400x300 with 1 Axes>"
      ]
     },
     "metadata": {},
     "output_type": "display_data"
    }
   ],
   "source": [
    "for col in df.drop(columns=['ID']).select_dtypes(exclude='object').columns:\n",
    "    plt.figure(figsize=(4,3))\n",
    "    sns.histplot(data=df,x=col)\n",
    "    plt.show()"
   ]
  },
  {
   "cell_type": "code",
   "execution_count": 17,
   "id": "448cacf5",
   "metadata": {},
   "outputs": [
    {
     "data": {
      "text/plain": [
       "<Axes: xlabel='YEAR', ylabel='Count'>"
      ]
     },
     "execution_count": 17,
     "metadata": {},
     "output_type": "execute_result"
    },
    {
     "data": {
      "image/png": "[encoded data removed]",
      "text/plain": [
       "<Figure size 640x480 with 1 Axes>"
      ]
     },
     "metadata": {},
     "output_type": "display_data"
    }
   ],
   "source": [
    "sns.histplot(data=df,x='YEAR', bins=20)"
   ]
  },
  {
   "cell_type": "code",
   "execution_count": 18,
   "id": "9eb6679d",
   "metadata": {},
   "outputs": [
    {
     "data": {
      "image/png": "[encoded data removed]",
      "text/plain": [
       "<Figure size 400x300 with 1 Axes>"
      ]
     },
     "metadata": {},
     "output_type": "display_data"
    }
   ],
   "source": [
    "plt.figure(figsize=(4,3))\n",
    "sns.histplot(data=df,x='YEAR')\n",
    "plt.show()"
   ]
  },
  {
   "cell_type": "markdown",
   "id": "80e3fe72",
   "metadata": {},
   "source": [
    "* From SalesInMillions column we can see that average sales have been around 2 million and max sales have reached a mark of about 84 million and min sales were around just 1500.\n",
    "* From year column we can see that data covers sales from the year 1997 to 2019\n",
    "* Critic Points range from 0.5 to 23.25 while user points range from 0.0003 to 2.32. "
   ]
  },
  {
   "cell_type": "code",
   "execution_count": 19,
   "id": "68961237",
   "metadata": {},
   "outputs": [
    {
     "data": {
      "text/plain": [
       "ID                   int64\n",
       "CONSOLE             object\n",
       "YEAR                 int64\n",
       "CATEGORY            object\n",
       "PUBLISHER           object\n",
       "RATING              object\n",
       "CRITICS_POINTS     float64\n",
       "USER_POINTS        float64\n",
       "SalesInMillions    float64\n",
       "dtype: object"
      ]
     },
     "execution_count": 19,
     "metadata": {},
     "output_type": "execute_result"
    }
   ],
   "source": [
    "df.dtypes"
   ]
  },
  {
   "cell_type": "markdown",
   "id": "e7587468",
   "metadata": {},
   "source": [
    "### Correlation Map"
   ]
  },
  {
   "cell_type": "code",
   "execution_count": 20,
   "id": "a301023a",
   "metadata": {},
   "outputs": [
    {
     "data": {
      "text/plain": [
       "<function matplotlib.pyplot.show(close=None, block=None)>"
      ]
     },
     "execution_count": 20,
     "metadata": {},
     "output_type": "execute_result"
    },
    {
     "data": {
      "image/png": "[encoded data removed]",
      "text/plain": [
       "<Figure size 640x480 with 2 Axes>"
      ]
     },
     "metadata": {},
     "output_type": "display_data"
    }
   ],
   "source": [
    "sns.heatmap(df.drop(columns=['ID']).select_dtypes(exclude='object').corr(),annot=True)\n",
    "plt.show"
   ]
  },
  {
   "cell_type": "markdown",
   "id": "a2b6c263",
   "metadata": {},
   "source": [
    "### Preprocessing "
   ]
  },
  {
   "cell_type": "code",
   "execution_count": 69,
   "id": "2fbb78aa",
   "metadata": {},
   "outputs": [
    {
     "data": {
      "text/plain": [
       "ID                 0\n",
       "CONSOLE            0\n",
       "YEAR               0\n",
       "CATEGORY           0\n",
       "PUBLISHER          0\n",
       "RATING             0\n",
       "CRITICS_POINTS     0\n",
       "USER_POINTS        0\n",
       "SalesInMillions    0\n",
       "dtype: int64"
      ]
     },
     "execution_count": 69,
     "metadata": {},
     "output_type": "execute_result"
    }
   ],
   "source": [
    "# check for missing values\n",
    "df.isna().sum()"
   ]
  },
  {
   "cell_type": "code",
   "execution_count": 68,
   "id": "1fe8333e",
   "metadata": {},
   "outputs": [
    {
     "data": {
      "text/plain": [
       "0"
      ]
     },
     "execution_count": 68,
     "metadata": {},
     "output_type": "execute_result"
    }
   ],
   "source": [
    "# check for any duplication\n",
    "\n",
    "df.duplicated().sum()"
   ]
  },
  {
   "cell_type": "code",
   "execution_count": 21,
   "id": "bbc262f1",
   "metadata": {},
   "outputs": [
    {
     "data": {
      "text/plain": [
       "'SalesInMillions'"
      ]
     },
     "execution_count": 21,
     "metadata": {},
     "output_type": "execute_result"
    }
   ],
   "source": [
    "target_col = 'SalesInMillions'\n",
    "target_col"
   ]
  },
  {
   "cell_type": "code",
   "execution_count": 22,
   "id": "b0f4e1f3",
   "metadata": {},
   "outputs": [
    {
     "data": {
      "text/plain": [
       "Index(['CONSOLE', 'CATEGORY', 'PUBLISHER', 'RATING'], dtype='object')"
      ]
     },
     "execution_count": 22,
     "metadata": {},
     "output_type": "execute_result"
    }
   ],
   "source": [
    "cat_cols = df.select_dtypes(include='object').columns\n",
    "cat_cols"
   ]
  },
  {
   "cell_type": "code",
   "execution_count": null,
   "id": "1ba48655",
   "metadata": {},
   "outputs": [],
   "source": []
  },
  {
   "cell_type": "code",
   "execution_count": 23,
   "id": "f7856358",
   "metadata": {},
   "outputs": [
    {
     "data": {
      "text/plain": [
       "'ID'"
      ]
     },
     "execution_count": 23,
     "metadata": {},
     "output_type": "execute_result"
    }
   ],
   "source": [
    "ignore_cols = 'ID'\n",
    "ignore_cols"
   ]
  },
  {
   "cell_type": "code",
   "execution_count": 24,
   "id": "1bb0ca04",
   "metadata": {},
   "outputs": [
    {
     "data": {
      "text/plain": [
       "Index(['YEAR', 'CRITICS_POINTS', 'USER_POINTS', 'SalesInMillions'], dtype='object')"
      ]
     },
     "execution_count": 24,
     "metadata": {},
     "output_type": "execute_result"
    }
   ],
   "source": [
    "num_cols = df.drop(columns=ignore_cols).select_dtypes(exclude='object').columns\n",
    "num_cols"
   ]
  },
  {
   "cell_type": "code",
   "execution_count": 25,
   "id": "2fce7153",
   "metadata": {},
   "outputs": [
    {
     "data": {
      "text/plain": [
       "ID                 2654\n",
       "CONSOLE              17\n",
       "YEAR                 23\n",
       "CATEGORY             12\n",
       "PUBLISHER           204\n",
       "RATING                6\n",
       "CRITICS_POINTS     1683\n",
       "USER_POINTS        2182\n",
       "SalesInMillions    3506\n",
       "dtype: int64"
      ]
     },
     "execution_count": 25,
     "metadata": {},
     "output_type": "execute_result"
    }
   ],
   "source": [
    "df.nunique()"
   ]
  },
  {
   "cell_type": "markdown",
   "id": "b2fbe946",
   "metadata": {},
   "source": [
    "### find which columns to encode"
   ]
  },
  {
   "cell_type": "code",
   "execution_count": 26,
   "id": "22d1ec22",
   "metadata": {},
   "outputs": [
    {
     "name": "stdout",
     "output_type": "stream",
     "text": [
      "CONSOLE object\n",
      "YEAR int64\n",
      "CATEGORY object\n",
      "RATING object\n"
     ]
    }
   ],
   "source": [
    "ALLOWED_MAX_UNIQUE_SIZE = 25\n",
    "ucols_2_encd = []\n",
    "\n",
    "for col in df.columns:\n",
    "    ulen = df[col].nunique()\n",
    "    #print(col, '=', ulen, df[col].unique())\n",
    "    if ulen <= ALLOWED_MAX_UNIQUE_SIZE:\n",
    "        ucols_2_encd.append(col)\n",
    "        print(col, df[col].dtypes)"
   ]
  },
  {
   "cell_type": "code",
   "execution_count": 27,
   "id": "8fedcd97",
   "metadata": {},
   "outputs": [
    {
     "data": {
      "text/plain": [
       "['CONSOLE', 'YEAR', 'CATEGORY', 'RATING']"
      ]
     },
     "execution_count": 27,
     "metadata": {},
     "output_type": "execute_result"
    }
   ],
   "source": [
    "ucols_2_encd"
   ]
  },
  {
   "cell_type": "code",
   "execution_count": 28,
   "id": "970fbfda",
   "metadata": {},
   "outputs": [
    {
     "data": {
      "text/plain": [
       "['CONSOLE', 'YEAR', 'CATEGORY', 'RATING', 'PUBLISHER']"
      ]
     },
     "execution_count": 28,
     "metadata": {},
     "output_type": "execute_result"
    }
   ],
   "source": [
    "ucols_2_encd.append('PUBLISHER')\n",
    "ucols_2_encd"
   ]
  },
  {
   "cell_type": "code",
   "execution_count": 29,
   "id": "c33af204",
   "metadata": {},
   "outputs": [
    {
     "data": {
      "text/plain": [
       "['CONSOLE', 'YEAR', 'CATEGORY', 'RATING']"
      ]
     },
     "execution_count": 29,
     "metadata": {},
     "output_type": "execute_result"
    }
   ],
   "source": [
    "ucols_2_encd.pop()\n",
    "ucols_2_encd"
   ]
  },
  {
   "cell_type": "code",
   "execution_count": 30,
   "id": "88f7136f",
   "metadata": {},
   "outputs": [
    {
     "data": {
      "text/plain": [
       "['CRITICS_POINTS', 'USER_POINTS']"
      ]
     },
     "execution_count": 30,
     "metadata": {},
     "output_type": "execute_result"
    }
   ],
   "source": [
    "ucols_2_scl = ['CRITICS_POINTS', 'USER_POINTS']\n",
    "ucols_2_scl"
   ]
  },
  {
   "cell_type": "markdown",
   "id": "9fe14d3f",
   "metadata": {},
   "source": [
    "### Pipelining"
   ]
  },
  {
   "cell_type": "code",
   "execution_count": 32,
   "id": "981eb2bf",
   "metadata": {},
   "outputs": [],
   "source": [
    "cat_pipe_encode = Pipeline(\n",
    "steps=[('ohe', OneHotEncoder())])"
   ]
  },
  {
   "cell_type": "code",
   "execution_count": 33,
   "id": "2998fabb",
   "metadata": {},
   "outputs": [],
   "source": [
    "num_pipe_encode = Pipeline(\n",
    "steps=[('scale', StandardScaler())])"
   ]
  },
  {
   "cell_type": "code",
   "execution_count": 34,
   "id": "a7c5663b",
   "metadata": {},
   "outputs": [],
   "source": [
    "preprocess = ColumnTransformer(\n",
    "transformers=[\n",
    "    ('num_encode',num_pipe_encode, ucols_2_scl),\n",
    "    ('cat_encode',cat_pipe_encode, ucols_2_encd),\n",
    "])"
   ]
  },
  {
   "cell_type": "markdown",
   "id": "0aeceaf3",
   "metadata": {},
   "source": [
    "#### Linear Regression "
   ]
  },
  {
   "cell_type": "code",
   "execution_count": 35,
   "id": "10ebc23d",
   "metadata": {},
   "outputs": [],
   "source": [
    "model_pipeline = Pipeline(\n",
    "steps=[\n",
    "    ('preprocess',preprocess),\n",
    "    ('lin_reg', LinearRegression())\n",
    "])"
   ]
  },
  {
   "cell_type": "code",
   "execution_count": 36,
   "id": "3263eb59",
   "metadata": {},
   "outputs": [
    {
     "data": {
      "text/html": [
       "<div>\n",
       "<style scoped>\n",
       "    .dataframe tbody tr th:only-of-type {\n",
       "        vertical-align: middle;\n",
       "    }\n",
       "\n",
       "    .dataframe tbody tr th {\n",
       "        vertical-align: top;\n",
       "    }\n",
       "\n",
       "    .dataframe thead th {\n",
       "        text-align: right;\n",
       "    }\n",
       "</style>\n",
       "<table border=\"1\" class=\"dataframe\">\n",
       "  <thead>\n",
       "    <tr style=\"text-align: right;\">\n",
       "      <th></th>\n",
       "      <th>CONSOLE</th>\n",
       "      <th>YEAR</th>\n",
       "      <th>CATEGORY</th>\n",
       "      <th>PUBLISHER</th>\n",
       "      <th>RATING</th>\n",
       "      <th>CRITICS_POINTS</th>\n",
       "      <th>USER_POINTS</th>\n",
       "    </tr>\n",
       "  </thead>\n",
       "  <tbody>\n",
       "    <tr>\n",
       "      <th>0</th>\n",
       "      <td>ds</td>\n",
       "      <td>2008</td>\n",
       "      <td>role-playing</td>\n",
       "      <td>Nintendo</td>\n",
       "      <td>E</td>\n",
       "      <td>2.833333</td>\n",
       "      <td>0.303704</td>\n",
       "    </tr>\n",
       "    <tr>\n",
       "      <th>1</th>\n",
       "      <td>wii</td>\n",
       "      <td>2012</td>\n",
       "      <td>simulation</td>\n",
       "      <td>Konami Digital Entertainment</td>\n",
       "      <td>E10+</td>\n",
       "      <td>13.200000</td>\n",
       "      <td>1.640000</td>\n",
       "    </tr>\n",
       "    <tr>\n",
       "      <th>2</th>\n",
       "      <td>pc</td>\n",
       "      <td>2019</td>\n",
       "      <td>shooter</td>\n",
       "      <td>Activision</td>\n",
       "      <td>M</td>\n",
       "      <td>4.562500</td>\n",
       "      <td>0.006410</td>\n",
       "    </tr>\n",
       "    <tr>\n",
       "      <th>3</th>\n",
       "      <td>ps2</td>\n",
       "      <td>2002</td>\n",
       "      <td>sports</td>\n",
       "      <td>Electronic Arts</td>\n",
       "      <td>E</td>\n",
       "      <td>4.181818</td>\n",
       "      <td>0.326923</td>\n",
       "    </tr>\n",
       "    <tr>\n",
       "      <th>4</th>\n",
       "      <td>ps3</td>\n",
       "      <td>2013</td>\n",
       "      <td>action</td>\n",
       "      <td>Activision</td>\n",
       "      <td>M</td>\n",
       "      <td>2.259259</td>\n",
       "      <td>0.032579</td>\n",
       "    </tr>\n",
       "    <tr>\n",
       "      <th>...</th>\n",
       "      <td>...</td>\n",
       "      <td>...</td>\n",
       "      <td>...</td>\n",
       "      <td>...</td>\n",
       "      <td>...</td>\n",
       "      <td>...</td>\n",
       "      <td>...</td>\n",
       "    </tr>\n",
       "    <tr>\n",
       "      <th>3501</th>\n",
       "      <td>ds</td>\n",
       "      <td>2007</td>\n",
       "      <td>role-playing</td>\n",
       "      <td>Square Enix</td>\n",
       "      <td>E10+</td>\n",
       "      <td>1.702128</td>\n",
       "      <td>0.065421</td>\n",
       "    </tr>\n",
       "    <tr>\n",
       "      <th>3502</th>\n",
       "      <td>3ds</td>\n",
       "      <td>2018</td>\n",
       "      <td>action</td>\n",
       "      <td>Nintendo</td>\n",
       "      <td>E10+</td>\n",
       "      <td>3.625000</td>\n",
       "      <td>0.090000</td>\n",
       "    </tr>\n",
       "    <tr>\n",
       "      <th>3503</th>\n",
       "      <td>ps3</td>\n",
       "      <td>2012</td>\n",
       "      <td>action</td>\n",
       "      <td>Warner Bros. Interactive Entertainment</td>\n",
       "      <td>E10+</td>\n",
       "      <td>2.814815</td>\n",
       "      <td>0.172917</td>\n",
       "    </tr>\n",
       "    <tr>\n",
       "      <th>3504</th>\n",
       "      <td>3ds</td>\n",
       "      <td>2016</td>\n",
       "      <td>simulation</td>\n",
       "      <td>Marvelous Entertainment</td>\n",
       "      <td>E10+</td>\n",
       "      <td>2.571429</td>\n",
       "      <td>0.464286</td>\n",
       "    </tr>\n",
       "    <tr>\n",
       "      <th>3505</th>\n",
       "      <td>gc</td>\n",
       "      <td>2005</td>\n",
       "      <td>platform</td>\n",
       "      <td>Thq</td>\n",
       "      <td>E</td>\n",
       "      <td>4.411765</td>\n",
       "      <td>2.325000</td>\n",
       "    </tr>\n",
       "  </tbody>\n",
       "</table>\n",
       "<p>3506 rows × 7 columns</p>\n",
       "</div>"
      ],
      "text/plain": [
       "     CONSOLE  YEAR      CATEGORY                               PUBLISHER  \\\n",
       "0         ds  2008  role-playing                                Nintendo   \n",
       "1        wii  2012    simulation            Konami Digital Entertainment   \n",
       "2         pc  2019       shooter                              Activision   \n",
       "3        ps2  2002        sports                         Electronic Arts   \n",
       "4        ps3  2013        action                              Activision   \n",
       "...      ...   ...           ...                                     ...   \n",
       "3501      ds  2007  role-playing                             Square Enix   \n",
       "3502     3ds  2018        action                                Nintendo   \n",
       "3503     ps3  2012        action  Warner Bros. Interactive Entertainment   \n",
       "3504     3ds  2016    simulation                 Marvelous Entertainment   \n",
       "3505      gc  2005      platform                                     Thq   \n",
       "\n",
       "     RATING  CRITICS_POINTS  USER_POINTS  \n",
       "0         E        2.833333     0.303704  \n",
       "1      E10+       13.200000     1.640000  \n",
       "2         M        4.562500     0.006410  \n",
       "3         E        4.181818     0.326923  \n",
       "4         M        2.259259     0.032579  \n",
       "...     ...             ...          ...  \n",
       "3501   E10+        1.702128     0.065421  \n",
       "3502   E10+        3.625000     0.090000  \n",
       "3503   E10+        2.814815     0.172917  \n",
       "3504   E10+        2.571429     0.464286  \n",
       "3505      E        4.411765     2.325000  \n",
       "\n",
       "[3506 rows x 7 columns]"
      ]
     },
     "execution_count": 36,
     "metadata": {},
     "output_type": "execute_result"
    }
   ],
   "source": [
    "X = df.drop(columns=[ignore_cols, target_col],axis=1)\n",
    "#X = df.drop(columns=['ID' 'SalesInMillions'],axis=1) # axis: 0-rows, 1-cols\n",
    "X"
   ]
  },
  {
   "cell_type": "code",
   "execution_count": 37,
   "id": "a63102c6",
   "metadata": {},
   "outputs": [
    {
     "data": {
      "text/html": [
       "<div>\n",
       "<style scoped>\n",
       "    .dataframe tbody tr th:only-of-type {\n",
       "        vertical-align: middle;\n",
       "    }\n",
       "\n",
       "    .dataframe tbody tr th {\n",
       "        vertical-align: top;\n",
       "    }\n",
       "\n",
       "    .dataframe thead th {\n",
       "        text-align: right;\n",
       "    }\n",
       "</style>\n",
       "<table border=\"1\" class=\"dataframe\">\n",
       "  <thead>\n",
       "    <tr style=\"text-align: right;\">\n",
       "      <th></th>\n",
       "      <th>SalesInMillions</th>\n",
       "    </tr>\n",
       "  </thead>\n",
       "  <tbody>\n",
       "    <tr>\n",
       "      <th>0</th>\n",
       "      <td>1.779257</td>\n",
       "    </tr>\n",
       "    <tr>\n",
       "      <th>1</th>\n",
       "      <td>0.215050</td>\n",
       "    </tr>\n",
       "    <tr>\n",
       "      <th>2</th>\n",
       "      <td>0.534402</td>\n",
       "    </tr>\n",
       "    <tr>\n",
       "      <th>3</th>\n",
       "      <td>1.383964</td>\n",
       "    </tr>\n",
       "    <tr>\n",
       "      <th>4</th>\n",
       "      <td>0.082671</td>\n",
       "    </tr>\n",
       "    <tr>\n",
       "      <th>...</th>\n",
       "      <td>...</td>\n",
       "    </tr>\n",
       "    <tr>\n",
       "      <th>3501</th>\n",
       "      <td>3.584264</td>\n",
       "    </tr>\n",
       "    <tr>\n",
       "      <th>3502</th>\n",
       "      <td>2.701472</td>\n",
       "    </tr>\n",
       "    <tr>\n",
       "      <th>3503</th>\n",
       "      <td>1.631668</td>\n",
       "    </tr>\n",
       "    <tr>\n",
       "      <th>3504</th>\n",
       "      <td>2.899156</td>\n",
       "    </tr>\n",
       "    <tr>\n",
       "      <th>3505</th>\n",
       "      <td>1.221262</td>\n",
       "    </tr>\n",
       "  </tbody>\n",
       "</table>\n",
       "<p>3506 rows × 1 columns</p>\n",
       "</div>"
      ],
      "text/plain": [
       "      SalesInMillions\n",
       "0            1.779257\n",
       "1            0.215050\n",
       "2            0.534402\n",
       "3            1.383964\n",
       "4            0.082671\n",
       "...               ...\n",
       "3501         3.584264\n",
       "3502         2.701472\n",
       "3503         1.631668\n",
       "3504         2.899156\n",
       "3505         1.221262\n",
       "\n",
       "[3506 rows x 1 columns]"
      ]
     },
     "execution_count": 37,
     "metadata": {},
     "output_type": "execute_result"
    }
   ],
   "source": [
    "y = df[[target_col]]\n",
    "y"
   ]
  },
  {
   "cell_type": "markdown",
   "id": "c82af2eb",
   "metadata": {},
   "source": [
    "#### Train Test Split "
   ]
  },
  {
   "cell_type": "code",
   "execution_count": 38,
   "id": "86fed444",
   "metadata": {},
   "outputs": [
    {
     "data": {
      "text/plain": [
       "((3155, 7), (351, 7), (3155, 1), (351, 1))"
      ]
     },
     "execution_count": 38,
     "metadata": {},
     "output_type": "execute_result"
    }
   ],
   "source": [
    "train_X, val_X, train_y, val_y = train_test_split(X,y, test_size=0.1, random_state=42)\n",
    "train_X.shape , val_X.shape , train_y.shape , val_y.shape "
   ]
  },
  {
   "cell_type": "code",
   "execution_count": 39,
   "id": "d313b678",
   "metadata": {
    "scrolled": true
   },
   "outputs": [
    {
     "data": {
      "text/html": [
       "<div>\n",
       "<style scoped>\n",
       "    .dataframe tbody tr th:only-of-type {\n",
       "        vertical-align: middle;\n",
       "    }\n",
       "\n",
       "    .dataframe tbody tr th {\n",
       "        vertical-align: top;\n",
       "    }\n",
       "\n",
       "    .dataframe thead th {\n",
       "        text-align: right;\n",
       "    }\n",
       "</style>\n",
       "<table border=\"1\" class=\"dataframe\">\n",
       "  <thead>\n",
       "    <tr style=\"text-align: right;\">\n",
       "      <th></th>\n",
       "      <th>CONSOLE</th>\n",
       "      <th>YEAR</th>\n",
       "      <th>CATEGORY</th>\n",
       "      <th>PUBLISHER</th>\n",
       "      <th>RATING</th>\n",
       "      <th>CRITICS_POINTS</th>\n",
       "      <th>USER_POINTS</th>\n",
       "    </tr>\n",
       "  </thead>\n",
       "  <tbody>\n",
       "    <tr>\n",
       "      <th>557</th>\n",
       "      <td>wii</td>\n",
       "      <td>2011</td>\n",
       "      <td>action</td>\n",
       "      <td>Codemasters</td>\n",
       "      <td>T</td>\n",
       "      <td>2.266667</td>\n",
       "      <td>0.526667</td>\n",
       "    </tr>\n",
       "    <tr>\n",
       "      <th>650</th>\n",
       "      <td>ps3</td>\n",
       "      <td>2011</td>\n",
       "      <td>shooter</td>\n",
       "      <td>Lucasarts</td>\n",
       "      <td>T</td>\n",
       "      <td>1.550000</td>\n",
       "      <td>0.322222</td>\n",
       "    </tr>\n",
       "    <tr>\n",
       "      <th>3476</th>\n",
       "      <td>psv</td>\n",
       "      <td>2018</td>\n",
       "      <td>fighting</td>\n",
       "      <td>Arc System Works</td>\n",
       "      <td>T</td>\n",
       "      <td>10.857143</td>\n",
       "      <td>0.754545</td>\n",
       "    </tr>\n",
       "    <tr>\n",
       "      <th>1200</th>\n",
       "      <td>ps2</td>\n",
       "      <td>2004</td>\n",
       "      <td>adventure</td>\n",
       "      <td>Sony Computer Entertainment</td>\n",
       "      <td>E</td>\n",
       "      <td>3.466667</td>\n",
       "      <td>0.720000</td>\n",
       "    </tr>\n",
       "    <tr>\n",
       "      <th>2309</th>\n",
       "      <td>x360</td>\n",
       "      <td>2007</td>\n",
       "      <td>racing</td>\n",
       "      <td>Thq</td>\n",
       "      <td>E</td>\n",
       "      <td>1.600000</td>\n",
       "      <td>0.592308</td>\n",
       "    </tr>\n",
       "    <tr>\n",
       "      <th>...</th>\n",
       "      <td>...</td>\n",
       "      <td>...</td>\n",
       "      <td>...</td>\n",
       "      <td>...</td>\n",
       "      <td>...</td>\n",
       "      <td>...</td>\n",
       "      <td>...</td>\n",
       "    </tr>\n",
       "    <tr>\n",
       "      <th>1095</th>\n",
       "      <td>wii</td>\n",
       "      <td>2009</td>\n",
       "      <td>fighting</td>\n",
       "      <td>Tomy Corporation</td>\n",
       "      <td>T</td>\n",
       "      <td>3.217391</td>\n",
       "      <td>0.296296</td>\n",
       "    </tr>\n",
       "    <tr>\n",
       "      <th>1130</th>\n",
       "      <td>pc</td>\n",
       "      <td>2005</td>\n",
       "      <td>simulation</td>\n",
       "      <td>Electronic Arts</td>\n",
       "      <td>T</td>\n",
       "      <td>4.166667</td>\n",
       "      <td>0.354545</td>\n",
       "    </tr>\n",
       "    <tr>\n",
       "      <th>1294</th>\n",
       "      <td>pc</td>\n",
       "      <td>2018</td>\n",
       "      <td>action</td>\n",
       "      <td>Microsoft Game Studios</td>\n",
       "      <td>M</td>\n",
       "      <td>4.714286</td>\n",
       "      <td>0.007971</td>\n",
       "    </tr>\n",
       "    <tr>\n",
       "      <th>860</th>\n",
       "      <td>ps3</td>\n",
       "      <td>2015</td>\n",
       "      <td>fighting</td>\n",
       "      <td>Arc System Works</td>\n",
       "      <td>T</td>\n",
       "      <td>5.187500</td>\n",
       "      <td>0.129688</td>\n",
       "    </tr>\n",
       "    <tr>\n",
       "      <th>3174</th>\n",
       "      <td>psp</td>\n",
       "      <td>2008</td>\n",
       "      <td>platform</td>\n",
       "      <td>Sony Computer Entertainment</td>\n",
       "      <td>E10+</td>\n",
       "      <td>1.440678</td>\n",
       "      <td>0.079817</td>\n",
       "    </tr>\n",
       "  </tbody>\n",
       "</table>\n",
       "<p>3155 rows × 7 columns</p>\n",
       "</div>"
      ],
      "text/plain": [
       "     CONSOLE  YEAR    CATEGORY                    PUBLISHER RATING  \\\n",
       "557      wii  2011      action                  Codemasters      T   \n",
       "650      ps3  2011     shooter                    Lucasarts      T   \n",
       "3476     psv  2018    fighting             Arc System Works      T   \n",
       "1200     ps2  2004   adventure  Sony Computer Entertainment      E   \n",
       "2309    x360  2007      racing                          Thq      E   \n",
       "...      ...   ...         ...                          ...    ...   \n",
       "1095     wii  2009    fighting             Tomy Corporation      T   \n",
       "1130      pc  2005  simulation              Electronic Arts      T   \n",
       "1294      pc  2018      action       Microsoft Game Studios      M   \n",
       "860      ps3  2015    fighting             Arc System Works      T   \n",
       "3174     psp  2008    platform  Sony Computer Entertainment   E10+   \n",
       "\n",
       "      CRITICS_POINTS  USER_POINTS  \n",
       "557         2.266667     0.526667  \n",
       "650         1.550000     0.322222  \n",
       "3476       10.857143     0.754545  \n",
       "1200        3.466667     0.720000  \n",
       "2309        1.600000     0.592308  \n",
       "...              ...          ...  \n",
       "1095        3.217391     0.296296  \n",
       "1130        4.166667     0.354545  \n",
       "1294        4.714286     0.007971  \n",
       "860         5.187500     0.129688  \n",
       "3174        1.440678     0.079817  \n",
       "\n",
       "[3155 rows x 7 columns]"
      ]
     },
     "execution_count": 39,
     "metadata": {},
     "output_type": "execute_result"
    }
   ],
   "source": [
    "train_X"
   ]
  },
  {
   "cell_type": "code",
   "execution_count": 40,
   "id": "98026642",
   "metadata": {
    "scrolled": true
   },
   "outputs": [
    {
     "data": {
      "text/html": [
       "<div>\n",
       "<style scoped>\n",
       "    .dataframe tbody tr th:only-of-type {\n",
       "        vertical-align: middle;\n",
       "    }\n",
       "\n",
       "    .dataframe tbody tr th {\n",
       "        vertical-align: top;\n",
       "    }\n",
       "\n",
       "    .dataframe thead th {\n",
       "        text-align: right;\n",
       "    }\n",
       "</style>\n",
       "<table border=\"1\" class=\"dataframe\">\n",
       "  <thead>\n",
       "    <tr style=\"text-align: right;\">\n",
       "      <th></th>\n",
       "      <th>SalesInMillions</th>\n",
       "    </tr>\n",
       "  </thead>\n",
       "  <tbody>\n",
       "    <tr>\n",
       "      <th>557</th>\n",
       "      <td>0.673040</td>\n",
       "    </tr>\n",
       "    <tr>\n",
       "      <th>650</th>\n",
       "      <td>0.136034</td>\n",
       "    </tr>\n",
       "    <tr>\n",
       "      <th>3476</th>\n",
       "      <td>2.862417</td>\n",
       "    </tr>\n",
       "    <tr>\n",
       "      <th>1200</th>\n",
       "      <td>0.089305</td>\n",
       "    </tr>\n",
       "    <tr>\n",
       "      <th>2309</th>\n",
       "      <td>1.531430</td>\n",
       "    </tr>\n",
       "    <tr>\n",
       "      <th>...</th>\n",
       "      <td>...</td>\n",
       "    </tr>\n",
       "    <tr>\n",
       "      <th>1095</th>\n",
       "      <td>2.053919</td>\n",
       "    </tr>\n",
       "    <tr>\n",
       "      <th>1130</th>\n",
       "      <td>5.370461</td>\n",
       "    </tr>\n",
       "    <tr>\n",
       "      <th>1294</th>\n",
       "      <td>0.303964</td>\n",
       "    </tr>\n",
       "    <tr>\n",
       "      <th>860</th>\n",
       "      <td>3.146398</td>\n",
       "    </tr>\n",
       "    <tr>\n",
       "      <th>3174</th>\n",
       "      <td>4.114769</td>\n",
       "    </tr>\n",
       "  </tbody>\n",
       "</table>\n",
       "<p>3155 rows × 1 columns</p>\n",
       "</div>"
      ],
      "text/plain": [
       "      SalesInMillions\n",
       "557          0.673040\n",
       "650          0.136034\n",
       "3476         2.862417\n",
       "1200         0.089305\n",
       "2309         1.531430\n",
       "...               ...\n",
       "1095         2.053919\n",
       "1130         5.370461\n",
       "1294         0.303964\n",
       "860          3.146398\n",
       "3174         4.114769\n",
       "\n",
       "[3155 rows x 1 columns]"
      ]
     },
     "execution_count": 40,
     "metadata": {},
     "output_type": "execute_result"
    }
   ],
   "source": [
    "train_y"
   ]
  },
  {
   "cell_type": "code",
   "execution_count": 41,
   "id": "882efcb2",
   "metadata": {},
   "outputs": [
    {
     "data": {
      "text/plain": [
       "'ID'"
      ]
     },
     "execution_count": 41,
     "metadata": {},
     "output_type": "execute_result"
    }
   ],
   "source": [
    "ignore_cols"
   ]
  },
  {
   "cell_type": "code",
   "execution_count": 42,
   "id": "9ed048be",
   "metadata": {},
   "outputs": [
    {
     "data": {
      "text/html": [
       "<style>#sk-container-id-1 {color: black;}#sk-container-id-1 pre{padding: 0;}#sk-container-id-1 div.sk-toggleable {background-color: white;}#sk-container-id-1 label.sk-toggleable__label {cursor: pointer;display: block;width: 100%;margin-bottom: 0;padding: 0.3em;box-sizing: border-box;text-align: center;}#sk-container-id-1 label.sk-toggleable__label-arrow:before {content: \"▸\";float: left;margin-right: 0.25em;color: #696969;}#sk-container-id-1 label.sk-toggleable__label-arrow:hover:before {color: black;}#sk-container-id-1 div.sk-estimator:hover label.sk-toggleable__label-arrow:before {color: black;}#sk-container-id-1 div.sk-toggleable__content {max-height: 0;max-width: 0;overflow: hidden;text-align: left;background-color: #f0f8ff;}#sk-container-id-1 div.sk-toggleable__content pre {margin: 0.2em;color: black;border-radius: 0.25em;background-color: #f0f8ff;}#sk-container-id-1 input.sk-toggleable__control:checked~div.sk-toggleable__content {max-height: 200px;max-width: 100%;overflow: auto;}#sk-container-id-1 input.sk-toggleable__control:checked~label.sk-toggleable__label-arrow:before {content: \"▾\";}#sk-container-id-1 div.sk-estimator input.sk-toggleable__control:checked~label.sk-toggleable__label {background-color: #d4ebff;}#sk-container-id-1 div.sk-label input.sk-toggleable__control:checked~label.sk-toggleable__label {background-color: #d4ebff;}#sk-container-id-1 input.sk-hidden--visually {border: 0;clip: rect(1px 1px 1px 1px);clip: rect(1px, 1px, 1px, 1px);height: 1px;margin: -1px;overflow: hidden;padding: 0;position: absolute;width: 1px;}#sk-container-id-1 div.sk-estimator {font-family: monospace;background-color: #f0f8ff;border: 1px dotted black;border-radius: 0.25em;box-sizing: border-box;margin-bottom: 0.5em;}#sk-container-id-1 div.sk-estimator:hover {background-color: #d4ebff;}#sk-container-id-1 div.sk-parallel-item::after {content: \"\";width: 100%;border-bottom: 1px solid gray;flex-grow: 1;}#sk-container-id-1 div.sk-label:hover label.sk-toggleable__label {background-color: #d4ebff;}#sk-container-id-1 div.sk-serial::before {content: \"\";position: absolute;border-left: 1px solid gray;box-sizing: border-box;top: 0;bottom: 0;left: 50%;z-index: 0;}#sk-container-id-1 div.sk-serial {display: flex;flex-direction: column;align-items: center;background-color: white;padding-right: 0.2em;padding-left: 0.2em;position: relative;}#sk-container-id-1 div.sk-item {position: relative;z-index: 1;}#sk-container-id-1 div.sk-parallel {display: flex;align-items: stretch;justify-content: center;background-color: white;position: relative;}#sk-container-id-1 div.sk-item::before, #sk-container-id-1 div.sk-parallel-item::before {content: \"\";position: absolute;border-left: 1px solid gray;box-sizing: border-box;top: 0;bottom: 0;left: 50%;z-index: -1;}#sk-container-id-1 div.sk-parallel-item {display: flex;flex-direction: column;z-index: 1;position: relative;background-color: white;}#sk-container-id-1 div.sk-parallel-item:first-child::after {align-self: flex-end;width: 50%;}#sk-container-id-1 div.sk-parallel-item:last-child::after {align-self: flex-start;width: 50%;}#sk-container-id-1 div.sk-parallel-item:only-child::after {width: 0;}#sk-container-id-1 div.sk-dashed-wrapped {border: 1px dashed gray;margin: 0 0.4em 0.5em 0.4em;box-sizing: border-box;padding-bottom: 0.4em;background-color: white;}#sk-container-id-1 div.sk-label label {font-family: monospace;font-weight: bold;display: inline-block;line-height: 1.2em;}#sk-container-id-1 div.sk-label-container {text-align: center;}#sk-container-id-1 div.sk-container {/* jupyter's `normalize.less` sets `[hidden] { display: none; }` but bootstrap.min.css set `[hidden] { display: none !important; }` so we also need the `!important` here to be able to override the default hidden behavior on the sphinx rendered scikit-learn.org. See: https://github.com/scikit-learn/scikit-learn/issues/21755 */display: inline-block !important;position: relative;}#sk-container-id-1 div.sk-text-repr-fallback {display: none;}</style><div id=\"sk-container-id-1\" class=\"sk-top-container\"><div class=\"sk-text-repr-fallback\"><pre>Pipeline(steps=[(&#x27;preprocess&#x27;,\n",
       "                 ColumnTransformer(transformers=[(&#x27;num_encode&#x27;,\n",
       "                                                  Pipeline(steps=[(&#x27;scale&#x27;,\n",
       "                                                                   StandardScaler())]),\n",
       "                                                  [&#x27;CRITICS_POINTS&#x27;,\n",
       "                                                   &#x27;USER_POINTS&#x27;]),\n",
       "                                                 (&#x27;cat_encode&#x27;,\n",
       "                                                  Pipeline(steps=[(&#x27;ohe&#x27;,\n",
       "                                                                   OneHotEncoder())]),\n",
       "                                                  [&#x27;CONSOLE&#x27;, &#x27;YEAR&#x27;,\n",
       "                                                   &#x27;CATEGORY&#x27;, &#x27;RATING&#x27;])])),\n",
       "                (&#x27;lin_reg&#x27;, LinearRegression())])</pre><b>In a Jupyter environment, please rerun this cell to show the HTML representation or trust the notebook. <br />On GitHub, the HTML representation is unable to render, please try loading this page with nbviewer.org.</b></div><div class=\"sk-container\" hidden><div class=\"sk-item sk-dashed-wrapped\"><div class=\"sk-label-container\"><div class=\"sk-label sk-toggleable\"><input class=\"sk-toggleable__control sk-hidden--visually\" id=\"sk-estimator-id-1\" type=\"checkbox\" ><label for=\"sk-estimator-id-1\" class=\"sk-toggleable__label sk-toggleable__label-arrow\">Pipeline</label><div class=\"sk-toggleable__content\"><pre>Pipeline(steps=[(&#x27;preprocess&#x27;,\n",
       "                 ColumnTransformer(transformers=[(&#x27;num_encode&#x27;,\n",
       "                                                  Pipeline(steps=[(&#x27;scale&#x27;,\n",
       "                                                                   StandardScaler())]),\n",
       "                                                  [&#x27;CRITICS_POINTS&#x27;,\n",
       "                                                   &#x27;USER_POINTS&#x27;]),\n",
       "                                                 (&#x27;cat_encode&#x27;,\n",
       "                                                  Pipeline(steps=[(&#x27;ohe&#x27;,\n",
       "                                                                   OneHotEncoder())]),\n",
       "                                                  [&#x27;CONSOLE&#x27;, &#x27;YEAR&#x27;,\n",
       "                                                   &#x27;CATEGORY&#x27;, &#x27;RATING&#x27;])])),\n",
       "                (&#x27;lin_reg&#x27;, LinearRegression())])</pre></div></div></div><div class=\"sk-serial\"><div class=\"sk-item sk-dashed-wrapped\"><div class=\"sk-label-container\"><div class=\"sk-label sk-toggleable\"><input class=\"sk-toggleable__control sk-hidden--visually\" id=\"sk-estimator-id-2\" type=\"checkbox\" ><label for=\"sk-estimator-id-2\" class=\"sk-toggleable__label sk-toggleable__label-arrow\">preprocess: ColumnTransformer</label><div class=\"sk-toggleable__content\"><pre>ColumnTransformer(transformers=[(&#x27;num_encode&#x27;,\n",
       "                                 Pipeline(steps=[(&#x27;scale&#x27;, StandardScaler())]),\n",
       "                                 [&#x27;CRITICS_POINTS&#x27;, &#x27;USER_POINTS&#x27;]),\n",
       "                                (&#x27;cat_encode&#x27;,\n",
       "                                 Pipeline(steps=[(&#x27;ohe&#x27;, OneHotEncoder())]),\n",
       "                                 [&#x27;CONSOLE&#x27;, &#x27;YEAR&#x27;, &#x27;CATEGORY&#x27;, &#x27;RATING&#x27;])])</pre></div></div></div><div class=\"sk-parallel\"><div class=\"sk-parallel-item\"><div class=\"sk-item\"><div class=\"sk-label-container\"><div class=\"sk-label sk-toggleable\"><input class=\"sk-toggleable__control sk-hidden--visually\" id=\"sk-estimator-id-3\" type=\"checkbox\" ><label for=\"sk-estimator-id-3\" class=\"sk-toggleable__label sk-toggleable__label-arrow\">num_encode</label><div class=\"sk-toggleable__content\"><pre>[&#x27;CRITICS_POINTS&#x27;, &#x27;USER_POINTS&#x27;]</pre></div></div></div><div class=\"sk-serial\"><div class=\"sk-item\"><div class=\"sk-serial\"><div class=\"sk-item\"><div class=\"sk-estimator sk-toggleable\"><input class=\"sk-toggleable__control sk-hidden--visually\" id=\"sk-estimator-id-4\" type=\"checkbox\" ><label for=\"sk-estimator-id-4\" class=\"sk-toggleable__label sk-toggleable__label-arrow\">StandardScaler</label><div class=\"sk-toggleable__content\"><pre>StandardScaler()</pre></div></div></div></div></div></div></div></div><div class=\"sk-parallel-item\"><div class=\"sk-item\"><div class=\"sk-label-container\"><div class=\"sk-label sk-toggleable\"><input class=\"sk-toggleable__control sk-hidden--visually\" id=\"sk-estimator-id-5\" type=\"checkbox\" ><label for=\"sk-estimator-id-5\" class=\"sk-toggleable__label sk-toggleable__label-arrow\">cat_encode</label><div class=\"sk-toggleable__content\"><pre>[&#x27;CONSOLE&#x27;, &#x27;YEAR&#x27;, &#x27;CATEGORY&#x27;, &#x27;RATING&#x27;]</pre></div></div></div><div class=\"sk-serial\"><div class=\"sk-item\"><div class=\"sk-serial\"><div class=\"sk-item\"><div class=\"sk-estimator sk-toggleable\"><input class=\"sk-toggleable__control sk-hidden--visually\" id=\"sk-estimator-id-6\" type=\"checkbox\" ><label for=\"sk-estimator-id-6\" class=\"sk-toggleable__label sk-toggleable__label-arrow\">OneHotEncoder</label><div class=\"sk-toggleable__content\"><pre>OneHotEncoder()</pre></div></div></div></div></div></div></div></div></div></div><div class=\"sk-item\"><div class=\"sk-estimator sk-toggleable\"><input class=\"sk-toggleable__control sk-hidden--visually\" id=\"sk-estimator-id-7\" type=\"checkbox\" ><label for=\"sk-estimator-id-7\" class=\"sk-toggleable__label sk-toggleable__label-arrow\">LinearRegression</label><div class=\"sk-toggleable__content\"><pre>LinearRegression()</pre></div></div></div></div></div></div></div>"
      ],
      "text/plain": [
       "Pipeline(steps=[('preprocess',\n",
       "                 ColumnTransformer(transformers=[('num_encode',\n",
       "                                                  Pipeline(steps=[('scale',\n",
       "                                                                   StandardScaler())]),\n",
       "                                                  ['CRITICS_POINTS',\n",
       "                                                   'USER_POINTS']),\n",
       "                                                 ('cat_encode',\n",
       "                                                  Pipeline(steps=[('ohe',\n",
       "                                                                   OneHotEncoder())]),\n",
       "                                                  ['CONSOLE', 'YEAR',\n",
       "                                                   'CATEGORY', 'RATING'])])),\n",
       "                ('lin_reg', LinearRegression())])"
      ]
     },
     "execution_count": 42,
     "metadata": {},
     "output_type": "execute_result"
    }
   ],
   "source": [
    "model_pipeline.fit(train_X, train_y)"
   ]
  },
  {
   "cell_type": "markdown",
   "id": "f8883d5a",
   "metadata": {},
   "source": [
    "#### Model Evaluation "
   ]
  },
  {
   "cell_type": "code",
   "execution_count": 44,
   "id": "67857d24",
   "metadata": {},
   "outputs": [],
   "source": []
  },
  {
   "cell_type": "code",
   "execution_count": 45,
   "id": "3fc12fd1",
   "metadata": {},
   "outputs": [
    {
     "name": "stdout",
     "output_type": "stream",
     "text": [
      "Train RMSE 2.507498322288594\n"
     ]
    }
   ],
   "source": [
    "predicted_train_sales = model_pipeline.predict(train_X)\n",
    "print('Train RMSE', mean_squared_error(train_y,predicted_train_sales,squared=False))"
   ]
  },
  {
   "cell_type": "code",
   "execution_count": 46,
   "id": "fb467e3d",
   "metadata": {},
   "outputs": [
    {
     "name": "stdout",
     "output_type": "stream",
     "text": [
      "Val RMSE 1.4303604895214639\n"
     ]
    }
   ],
   "source": [
    "predicted_val_sales = model_pipeline.predict(val_X)\n",
    "print('Val RMSE', mean_squared_error(val_y,predicted_val_sales,squared=False))"
   ]
  },
  {
   "cell_type": "code",
   "execution_count": 47,
   "id": "3a3a7cc6",
   "metadata": {},
   "outputs": [
    {
     "data": {
      "text/plain": [
       "[['Plain LR', 2.5, 1.43, 1.07]]"
      ]
     },
     "execution_count": 47,
     "metadata": {},
     "output_type": "execute_result"
    }
   ],
   "source": [
    "rep = []\n",
    "rep.append(['Plain LR', 2.50, 1.43, 2.50-1.43])\n",
    "rep"
   ]
  },
  {
   "cell_type": "markdown",
   "id": "3869c483",
   "metadata": {},
   "source": [
    "### Polynomial Regression"
   ]
  },
  {
   "cell_type": "code",
   "execution_count": 48,
   "id": "c4bac99b",
   "metadata": {},
   "outputs": [],
   "source": [
    "preprocess_poly1_cat = ColumnTransformer(\n",
    "    transformers=[\n",
    "        ('cat_encode_poly', cat_pipe_encode, ucols_2_encd)\n",
    "    ])\n",
    "\n",
    "preprocess_poly1_num = ColumnTransformer(\n",
    "    transformers=[\n",
    "        ('num_encode_poly', num_pipe_encode, ucols_2_scl)\n",
    "    ])\n"
   ]
  },
  {
   "cell_type": "code",
   "execution_count": 49,
   "id": "466cfd3e",
   "metadata": {},
   "outputs": [],
   "source": []
  },
  {
   "cell_type": "code",
   "execution_count": 50,
   "id": "81cc478a",
   "metadata": {},
   "outputs": [
    {
     "name": "stdout",
     "output_type": "stream",
     "text": [
      "Train Poly-d=> 2  RMSE: 2.333965703313782\n",
      "Val Poly-d=> 2  RMSE: 1.8130849391096244\n",
      "------------------------------------------------------------\n",
      "Train Poly-d=> 3  RMSE: 1.6286974400281284\n",
      "Val Poly-d=> 3  RMSE: 2.7559054124840996\n",
      "------------------------------------------------------------\n"
     ]
    }
   ],
   "source": [
    "for i in range(2,4):\n",
    "    model_pipeline_poly1 = Pipeline(\n",
    "    steps=[\n",
    "        ('preprocessing_poly1', preprocess_poly1_cat),\n",
    "        ('poly',PolynomialFeatures(degree=i, include_bias=False)),\n",
    "        ('preprocessing_poly2', StandardScaler(with_mean=False)),\n",
    "        ('lin_reg', LinearRegression())        \n",
    "    ])\n",
    "    \n",
    "    model_pipeline_poly1.fit(train_X, train_y)\n",
    "    \n",
    "    predicted_train_poly_sales = model_pipeline_poly1.predict(train_X)\n",
    "    trmse = mean_squared_error(train_y,predicted_train_poly_sales,squared=False)\n",
    "    print('Train Poly-d=>',i, ' RMSE:', trmse)\n",
    "    \n",
    "    predicted_val_poly_sales = model_pipeline_poly1.predict(val_X)\n",
    "    vrmse = mean_squared_error(val_y,predicted_val_poly_sales,squared=False)\n",
    "    print('Val Poly-d=>',i, ' RMSE:', vrmse)\n",
    "    \n",
    "    print('-'*60)\n",
    "    \n",
    "    rep.append(['Poly-d=>'+str(i), trmse, vrmse, trmse - vrmse])"
   ]
  },
  {
   "cell_type": "code",
   "execution_count": 51,
   "id": "650e355a",
   "metadata": {},
   "outputs": [
    {
     "data": {
      "text/plain": [
       "[['Plain LR', 2.5, 1.43, 1.07],\n",
       " ['Poly-d=>2', 2.333965703313782, 1.8130849391096244, 0.5208807642041575],\n",
       " ['Poly-d=>3', 1.6286974400281284, 2.7559054124840996, -1.1272079724559712]]"
      ]
     },
     "execution_count": 51,
     "metadata": {},
     "output_type": "execute_result"
    }
   ],
   "source": [
    "rep"
   ]
  },
  {
   "cell_type": "code",
   "execution_count": 52,
   "id": "0bfa723b",
   "metadata": {},
   "outputs": [
    {
     "data": {
      "text/html": [
       "<div>\n",
       "<style scoped>\n",
       "    .dataframe tbody tr th:only-of-type {\n",
       "        vertical-align: middle;\n",
       "    }\n",
       "\n",
       "    .dataframe tbody tr th {\n",
       "        vertical-align: top;\n",
       "    }\n",
       "\n",
       "    .dataframe thead th {\n",
       "        text-align: right;\n",
       "    }\n",
       "</style>\n",
       "<table border=\"1\" class=\"dataframe\">\n",
       "  <thead>\n",
       "    <tr style=\"text-align: right;\">\n",
       "      <th></th>\n",
       "      <th>Model</th>\n",
       "      <th>Train_RMSE</th>\n",
       "      <th>Val_RMSE</th>\n",
       "      <th>Diff</th>\n",
       "    </tr>\n",
       "  </thead>\n",
       "  <tbody>\n",
       "    <tr>\n",
       "      <th>0</th>\n",
       "      <td>Plain LR</td>\n",
       "      <td>2.500000</td>\n",
       "      <td>1.430000</td>\n",
       "      <td>1.070000</td>\n",
       "    </tr>\n",
       "    <tr>\n",
       "      <th>1</th>\n",
       "      <td>Poly-d=&gt;2</td>\n",
       "      <td>2.333966</td>\n",
       "      <td>1.813085</td>\n",
       "      <td>0.520881</td>\n",
       "    </tr>\n",
       "    <tr>\n",
       "      <th>2</th>\n",
       "      <td>Poly-d=&gt;3</td>\n",
       "      <td>1.628697</td>\n",
       "      <td>2.755905</td>\n",
       "      <td>-1.127208</td>\n",
       "    </tr>\n",
       "  </tbody>\n",
       "</table>\n",
       "</div>"
      ],
      "text/plain": [
       "       Model  Train_RMSE  Val_RMSE      Diff\n",
       "0   Plain LR    2.500000  1.430000  1.070000\n",
       "1  Poly-d=>2    2.333966  1.813085  0.520881\n",
       "2  Poly-d=>3    1.628697  2.755905 -1.127208"
      ]
     },
     "execution_count": 52,
     "metadata": {},
     "output_type": "execute_result"
    }
   ],
   "source": [
    "report = pd.DataFrame(rep)\n",
    "report.columns = ['Model', 'Train_RMSE', 'Val_RMSE', 'Diff']\n",
    "report"
   ]
  },
  {
   "cell_type": "markdown",
   "id": "f4320d24",
   "metadata": {},
   "source": [
    "### Lasso Regularization on Polynomial Features "
   ]
  },
  {
   "cell_type": "code",
   "execution_count": 54,
   "id": "53492a99",
   "metadata": {
    "scrolled": true
   },
   "outputs": [
    {
     "name": "stdout",
     "output_type": "stream",
     "text": [
      "Train L1 Poly-d=> 3  RMSE: 2.5890767156774084\n",
      "Val L1 Poly-d=> 3  RMSE: 1.3895590607433654\n"
     ]
    },
    {
     "data": {
      "text/plain": [
       "[['Plain LR', 2.5, 1.43, 1.07],\n",
       " ['Poly-d=>2', 2.333965703313782, 1.8130849391096244, 0.5208807642041575],\n",
       " ['Poly-d=>3', 1.6286974400281284, 2.7559054124840996, -1.1272079724559712],\n",
       " ['L1 Poly-d=>2', 2.5890767156774084, 1.3895590607433654, 1.199517654934043]]"
      ]
     },
     "execution_count": 54,
     "metadata": {},
     "output_type": "execute_result"
    }
   ],
   "source": [
    "model_pipeline_poly_L1 = Pipeline(\n",
    "steps=[\n",
    "    ('preprocessing_poly1', preprocess_poly1_cat),\n",
    "    ('poly',PolynomialFeatures(degree=2, include_bias=False)),\n",
    "    ('preprocessing_poly2', StandardScaler(with_mean=False)),\n",
    "    ('L1', Lasso())        \n",
    "])\n",
    "\n",
    "model_pipeline_poly_L1.fit(train_X, train_y)\n",
    "\n",
    "predicted_train_poly_L1_sales = model_pipeline_poly_L1.predict(train_X)\n",
    "l1_trmse = mean_squared_error(train_y,predicted_train_poly_L1_sales,squared=False)\n",
    "print('Train L1 Poly-d=>',i, ' RMSE:', l1_trmse)\n",
    "\n",
    "predicted_val_poly_L1_sales = model_pipeline_poly_L1.predict(val_X)\n",
    "l1_vrmse = mean_squared_error(val_y,predicted_val_poly_L1_sales,squared=False)\n",
    "print('Val L1 Poly-d=>',i, ' RMSE:', l1_vrmse)\n",
    "\n",
    "rep.append(['L1 Poly-d=>2', l1_trmse, l1_vrmse, l1_trmse - l1_vrmse])\n",
    "rep"
   ]
  },
  {
   "cell_type": "markdown",
   "id": "563c5bdd",
   "metadata": {},
   "source": [
    "### Ridge Regularization "
   ]
  },
  {
   "cell_type": "code",
   "execution_count": 55,
   "id": "baf0174c",
   "metadata": {
    "scrolled": true
   },
   "outputs": [
    {
     "name": "stdout",
     "output_type": "stream",
     "text": [
      "Train L2 RMSE: 2.507614587828972\n",
      "Val L2 RMSE: 1.4267406695926168\n"
     ]
    },
    {
     "data": {
      "text/plain": [
       "[['Plain LR', 2.5, 1.43, 1.07],\n",
       " ['Poly-d=>2', 2.333965703313782, 1.8130849391096244, 0.5208807642041575],\n",
       " ['Poly-d=>3', 1.6286974400281284, 2.7559054124840996, -1.1272079724559712],\n",
       " ['L1 Poly-d=>2', 2.5890767156774084, 1.3895590607433654, 1.199517654934043],\n",
       " ['Ridge', 2.507614587828972, 1.4267406695926168, 1.0808739182363551]]"
      ]
     },
     "execution_count": 55,
     "metadata": {},
     "output_type": "execute_result"
    }
   ],
   "source": [
    "model_pipeline_L2 = Pipeline(\n",
    "steps=[\n",
    "    ('preprocess',preprocess),\n",
    "    ('Ridge', Ridge())\n",
    "])\n",
    "\n",
    "model_pipeline_L2.fit(train_X, train_y)\n",
    "\n",
    "predicted_train_L2_sales = model_pipeline_L2.predict(train_X)\n",
    "l2_trmse = mean_squared_error(train_y,predicted_train_L2_sales,squared=False)\n",
    "print('Train L2 RMSE:', l2_trmse)\n",
    "\n",
    "predicted_val_L2_sales = model_pipeline_L2.predict(val_X)\n",
    "l2_vrmse = mean_squared_error(val_y,predicted_val_L2_sales,squared=False)\n",
    "print('Val L2 RMSE:', l2_vrmse)\n",
    "\n",
    "rep.append(['Ridge', l2_trmse, l2_vrmse, l2_trmse - l2_vrmse])\n",
    "rep"
   ]
  },
  {
   "cell_type": "code",
   "execution_count": 56,
   "id": "b8fe9e42",
   "metadata": {},
   "outputs": [],
   "source": [
    "#rep.pop()"
   ]
  },
  {
   "cell_type": "markdown",
   "id": "ed99ca59",
   "metadata": {},
   "source": [
    "#### Models Analysis "
   ]
  },
  {
   "cell_type": "code",
   "execution_count": 57,
   "id": "9449315d",
   "metadata": {},
   "outputs": [
    {
     "data": {
      "text/html": [
       "<div>\n",
       "<style scoped>\n",
       "    .dataframe tbody tr th:only-of-type {\n",
       "        vertical-align: middle;\n",
       "    }\n",
       "\n",
       "    .dataframe tbody tr th {\n",
       "        vertical-align: top;\n",
       "    }\n",
       "\n",
       "    .dataframe thead th {\n",
       "        text-align: right;\n",
       "    }\n",
       "</style>\n",
       "<table border=\"1\" class=\"dataframe\">\n",
       "  <thead>\n",
       "    <tr style=\"text-align: right;\">\n",
       "      <th></th>\n",
       "      <th>Model</th>\n",
       "      <th>Train_RMSE</th>\n",
       "      <th>Val_RMSE</th>\n",
       "      <th>Diff</th>\n",
       "    </tr>\n",
       "  </thead>\n",
       "  <tbody>\n",
       "    <tr>\n",
       "      <th>0</th>\n",
       "      <td>Plain LR</td>\n",
       "      <td>2.500000</td>\n",
       "      <td>1.430000</td>\n",
       "      <td>1.070000</td>\n",
       "    </tr>\n",
       "    <tr>\n",
       "      <th>1</th>\n",
       "      <td>Poly-d=&gt;2</td>\n",
       "      <td>2.333966</td>\n",
       "      <td>1.813085</td>\n",
       "      <td>0.520881</td>\n",
       "    </tr>\n",
       "    <tr>\n",
       "      <th>2</th>\n",
       "      <td>Poly-d=&gt;3</td>\n",
       "      <td>1.628697</td>\n",
       "      <td>2.755905</td>\n",
       "      <td>-1.127208</td>\n",
       "    </tr>\n",
       "    <tr>\n",
       "      <th>3</th>\n",
       "      <td>L1 Poly-d=&gt;2</td>\n",
       "      <td>2.589077</td>\n",
       "      <td>1.389559</td>\n",
       "      <td>1.199518</td>\n",
       "    </tr>\n",
       "    <tr>\n",
       "      <th>4</th>\n",
       "      <td>Ridge</td>\n",
       "      <td>2.507615</td>\n",
       "      <td>1.426741</td>\n",
       "      <td>1.080874</td>\n",
       "    </tr>\n",
       "  </tbody>\n",
       "</table>\n",
       "</div>"
      ],
      "text/plain": [
       "          Model  Train_RMSE  Val_RMSE      Diff\n",
       "0      Plain LR    2.500000  1.430000  1.070000\n",
       "1     Poly-d=>2    2.333966  1.813085  0.520881\n",
       "2     Poly-d=>3    1.628697  2.755905 -1.127208\n",
       "3  L1 Poly-d=>2    2.589077  1.389559  1.199518\n",
       "4         Ridge    2.507615  1.426741  1.080874"
      ]
     },
     "execution_count": 57,
     "metadata": {},
     "output_type": "execute_result"
    }
   ],
   "source": [
    "report = pd.DataFrame(rep)\n",
    "report.columns = ['Model', 'Train_RMSE', 'Val_RMSE', 'Diff']\n",
    "report"
   ]
  },
  {
   "cell_type": "markdown",
   "id": "90f1fbd2",
   "metadata": {},
   "source": [
    "### Model Pickling"
   ]
  },
  {
   "cell_type": "code",
   "execution_count": 65,
   "id": "9428d028",
   "metadata": {},
   "outputs": [],
   "source": []
  },
  {
   "cell_type": "code",
   "execution_count": 66,
   "id": "4239ce5e",
   "metadata": {},
   "outputs": [
    {
     "data": {
      "text/plain": [
       "['vgsales_pipeline_model.pkl']"
      ]
     },
     "execution_count": 66,
     "metadata": {},
     "output_type": "execute_result"
    }
   ],
   "source": [
    "joblib.dump(model_pipeline_L2, 'vgsales_pipeline_model.pkl')"
   ]
  },
  {
   "cell_type": "code",
   "execution_count": 67,
   "id": "7a673f8e",
   "metadata": {},
   "outputs": [
    {
     "data": {
      "text/html": [
       "<div>\n",
       "<style scoped>\n",
       "    .dataframe tbody tr th:only-of-type {\n",
       "        vertical-align: middle;\n",
       "    }\n",
       "\n",
       "    .dataframe tbody tr th {\n",
       "        vertical-align: top;\n",
       "    }\n",
       "\n",
       "    .dataframe thead th {\n",
       "        text-align: right;\n",
       "    }\n",
       "</style>\n",
       "<table border=\"1\" class=\"dataframe\">\n",
       "  <thead>\n",
       "    <tr style=\"text-align: right;\">\n",
       "      <th></th>\n",
       "      <th>CONSOLE</th>\n",
       "      <th>YEAR</th>\n",
       "      <th>CATEGORY</th>\n",
       "      <th>PUBLISHER</th>\n",
       "      <th>RATING</th>\n",
       "      <th>CRITICS_POINTS</th>\n",
       "      <th>USER_POINTS</th>\n",
       "    </tr>\n",
       "  </thead>\n",
       "  <tbody>\n",
       "    <tr>\n",
       "      <th>557</th>\n",
       "      <td>wii</td>\n",
       "      <td>2011</td>\n",
       "      <td>action</td>\n",
       "      <td>Codemasters</td>\n",
       "      <td>T</td>\n",
       "      <td>2.266667</td>\n",
       "      <td>0.526667</td>\n",
       "    </tr>\n",
       "    <tr>\n",
       "      <th>650</th>\n",
       "      <td>ps3</td>\n",
       "      <td>2011</td>\n",
       "      <td>shooter</td>\n",
       "      <td>Lucasarts</td>\n",
       "      <td>T</td>\n",
       "      <td>1.550000</td>\n",
       "      <td>0.322222</td>\n",
       "    </tr>\n",
       "    <tr>\n",
       "      <th>3476</th>\n",
       "      <td>psv</td>\n",
       "      <td>2018</td>\n",
       "      <td>fighting</td>\n",
       "      <td>Arc System Works</td>\n",
       "      <td>T</td>\n",
       "      <td>10.857143</td>\n",
       "      <td>0.754545</td>\n",
       "    </tr>\n",
       "    <tr>\n",
       "      <th>1200</th>\n",
       "      <td>ps2</td>\n",
       "      <td>2004</td>\n",
       "      <td>adventure</td>\n",
       "      <td>Sony Computer Entertainment</td>\n",
       "      <td>E</td>\n",
       "      <td>3.466667</td>\n",
       "      <td>0.720000</td>\n",
       "    </tr>\n",
       "    <tr>\n",
       "      <th>2309</th>\n",
       "      <td>x360</td>\n",
       "      <td>2007</td>\n",
       "      <td>racing</td>\n",
       "      <td>Thq</td>\n",
       "      <td>E</td>\n",
       "      <td>1.600000</td>\n",
       "      <td>0.592308</td>\n",
       "    </tr>\n",
       "    <tr>\n",
       "      <th>...</th>\n",
       "      <td>...</td>\n",
       "      <td>...</td>\n",
       "      <td>...</td>\n",
       "      <td>...</td>\n",
       "      <td>...</td>\n",
       "      <td>...</td>\n",
       "      <td>...</td>\n",
       "    </tr>\n",
       "    <tr>\n",
       "      <th>1095</th>\n",
       "      <td>wii</td>\n",
       "      <td>2009</td>\n",
       "      <td>fighting</td>\n",
       "      <td>Tomy Corporation</td>\n",
       "      <td>T</td>\n",
       "      <td>3.217391</td>\n",
       "      <td>0.296296</td>\n",
       "    </tr>\n",
       "    <tr>\n",
       "      <th>1130</th>\n",
       "      <td>pc</td>\n",
       "      <td>2005</td>\n",
       "      <td>simulation</td>\n",
       "      <td>Electronic Arts</td>\n",
       "      <td>T</td>\n",
       "      <td>4.166667</td>\n",
       "      <td>0.354545</td>\n",
       "    </tr>\n",
       "    <tr>\n",
       "      <th>1294</th>\n",
       "      <td>pc</td>\n",
       "      <td>2018</td>\n",
       "      <td>action</td>\n",
       "      <td>Microsoft Game Studios</td>\n",
       "      <td>M</td>\n",
       "      <td>4.714286</td>\n",
       "      <td>0.007971</td>\n",
       "    </tr>\n",
       "    <tr>\n",
       "      <th>860</th>\n",
       "      <td>ps3</td>\n",
       "      <td>2015</td>\n",
       "      <td>fighting</td>\n",
       "      <td>Arc System Works</td>\n",
       "      <td>T</td>\n",
       "      <td>5.187500</td>\n",
       "      <td>0.129688</td>\n",
       "    </tr>\n",
       "    <tr>\n",
       "      <th>3174</th>\n",
       "      <td>psp</td>\n",
       "      <td>2008</td>\n",
       "      <td>platform</td>\n",
       "      <td>Sony Computer Entertainment</td>\n",
       "      <td>E10+</td>\n",
       "      <td>1.440678</td>\n",
       "      <td>0.079817</td>\n",
       "    </tr>\n",
       "  </tbody>\n",
       "</table>\n",
       "<p>3155 rows × 7 columns</p>\n",
       "</div>"
      ],
      "text/plain": [
       "     CONSOLE  YEAR    CATEGORY                    PUBLISHER RATING  \\\n",
       "557      wii  2011      action                  Codemasters      T   \n",
       "650      ps3  2011     shooter                    Lucasarts      T   \n",
       "3476     psv  2018    fighting             Arc System Works      T   \n",
       "1200     ps2  2004   adventure  Sony Computer Entertainment      E   \n",
       "2309    x360  2007      racing                          Thq      E   \n",
       "...      ...   ...         ...                          ...    ...   \n",
       "1095     wii  2009    fighting             Tomy Corporation      T   \n",
       "1130      pc  2005  simulation              Electronic Arts      T   \n",
       "1294      pc  2018      action       Microsoft Game Studios      M   \n",
       "860      ps3  2015    fighting             Arc System Works      T   \n",
       "3174     psp  2008    platform  Sony Computer Entertainment   E10+   \n",
       "\n",
       "      CRITICS_POINTS  USER_POINTS  \n",
       "557         2.266667     0.526667  \n",
       "650         1.550000     0.322222  \n",
       "3476       10.857143     0.754545  \n",
       "1200        3.466667     0.720000  \n",
       "2309        1.600000     0.592308  \n",
       "...              ...          ...  \n",
       "1095        3.217391     0.296296  \n",
       "1130        4.166667     0.354545  \n",
       "1294        4.714286     0.007971  \n",
       "860         5.187500     0.129688  \n",
       "3174        1.440678     0.079817  \n",
       "\n",
       "[3155 rows x 7 columns]"
      ]
     },
     "execution_count": 67,
     "metadata": {},
     "output_type": "execute_result"
    }
   ],
   "source": [
    "train_X"
   ]
  }
 ],
 "metadata": {
  "kernelspec": {
   "display_name": "Python 3 (ipykernel)",
   "language": "python",
   "name": "python3"
  },
  "language_info": {
   "codemirror_mode": {
    "name": "ipython",
    "version": 3
   },
   "file_extension": ".py",
   "mimetype": "text/x-python",
   "name": "python",
   "nbconvert_exporter": "python",
   "pygments_lexer": "ipython3",
   "version": "3.11.5"
  }
 },
 "nbformat": 4,
 "nbformat_minor": 5
}
